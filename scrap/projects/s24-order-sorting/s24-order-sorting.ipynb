{
 "cells": [
  {
   "cell_type": "code",
   "execution_count": 1,
   "metadata": {},
   "outputs": [
    {
     "ename": "ModuleNotFoundError",
     "evalue": "No module named 'catboost'",
     "output_type": "error",
     "traceback": [
      "\u001b[0;31m---------------------------------------------------------------------------\u001b[0m",
      "\u001b[0;31mModuleNotFoundError\u001b[0m                       Traceback (most recent call last)",
      "\u001b[0;32m<ipython-input-1-a10c6f0b99a2>\u001b[0m in \u001b[0;36m<module>\u001b[0;34m()\u001b[0m\n\u001b[1;32m      1\u001b[0m \u001b[0;32mimport\u001b[0m \u001b[0mpandas\u001b[0m \u001b[0;32mas\u001b[0m \u001b[0mpd\u001b[0m\u001b[0;34m\u001b[0m\u001b[0m\n\u001b[0;32m----> 2\u001b[0;31m \u001b[0;32mimport\u001b[0m \u001b[0mcatboost\u001b[0m\u001b[0;34m\u001b[0m\u001b[0m\n\u001b[0m",
      "\u001b[0;31mModuleNotFoundError\u001b[0m: No module named 'catboost'"
     ]
    }
   ],
   "source": [
    "import pandas as pd\n",
    "import catboost"
   ]
  },
  {
   "cell_type": "code",
   "execution_count": 2,
   "metadata": {},
   "outputs": [
    {
     "name": "stderr",
     "output_type": "stream",
     "text": [
      "/home/gionata/anaconda3/lib/python3.7/site-packages/IPython/core/interactiveshell.py:2785: DtypeWarning: Columns (8) have mixed types. Specify dtype option on import or set low_memory=False.\n",
      "  interactivity=interactivity, compiler=compiler, result=result)\n"
     ]
    },
    {
     "data": {
      "text/plain": [
       "3180576"
      ]
     },
     "execution_count": 2,
     "metadata": {},
     "output_type": "execute_result"
    }
   ],
   "source": [
    "df = pd.read_csv('train.csv')\n",
    "len(df)"
   ]
  },
  {
   "cell_type": "code",
   "execution_count": 3,
   "metadata": {},
   "outputs": [
    {
     "data": {
      "text/html": [
       "<div>\n",
       "<style scoped>\n",
       "    .dataframe tbody tr th:only-of-type {\n",
       "        vertical-align: middle;\n",
       "    }\n",
       "\n",
       "    .dataframe tbody tr th {\n",
       "        vertical-align: top;\n",
       "    }\n",
       "\n",
       "    .dataframe thead th {\n",
       "        text-align: right;\n",
       "    }\n",
       "</style>\n",
       "<table border=\"1\" class=\"dataframe\">\n",
       "  <thead>\n",
       "    <tr style=\"text-align: right;\">\n",
       "      <th></th>\n",
       "      <th>order_id</th>\n",
       "      <th>detail_id</th>\n",
       "      <th>store_id</th>\n",
       "      <th>store_name</th>\n",
       "      <th>store_area</th>\n",
       "      <th>courier_id</th>\n",
       "      <th>courier_orders</th>\n",
       "      <th>courier_days</th>\n",
       "      <th>ref_id</th>\n",
       "      <th>ean</th>\n",
       "      <th>...</th>\n",
       "      <th>category_id</th>\n",
       "      <th>category_name</th>\n",
       "      <th>type</th>\n",
       "      <th>price</th>\n",
       "      <th>variable_weight</th>\n",
       "      <th>status</th>\n",
       "      <th>touched_at</th>\n",
       "      <th>first_detail_picked_at</th>\n",
       "      <th>paid_at</th>\n",
       "      <th>delivered_at</th>\n",
       "    </tr>\n",
       "  </thead>\n",
       "  <tbody>\n",
       "    <tr>\n",
       "      <th>0</th>\n",
       "      <td>362909</td>\n",
       "      <td>5840217</td>\n",
       "      <td>342949</td>\n",
       "      <td>simply</td>\n",
       "      <td>RM3</td>\n",
       "      <td>104372</td>\n",
       "      <td>24</td>\n",
       "      <td>24</td>\n",
       "      <td>51378862</td>\n",
       "      <td>8.000430e+12</td>\n",
       "      <td>...</td>\n",
       "      <td>293.0</td>\n",
       "      <td>Gorgonzola</td>\n",
       "      <td>3</td>\n",
       "      <td>3.48</td>\n",
       "      <td>0</td>\n",
       "      <td>PURCHASED</td>\n",
       "      <td>2017-10-20 09:41:57</td>\n",
       "      <td>2017-10-20 09:41:57</td>\n",
       "      <td>2017-10-20 10:17:37</td>\n",
       "      <td>2017-10-20 10:26:36</td>\n",
       "    </tr>\n",
       "    <tr>\n",
       "      <th>1</th>\n",
       "      <td>362909</td>\n",
       "      <td>5840237</td>\n",
       "      <td>342949</td>\n",
       "      <td>simply</td>\n",
       "      <td>RM3</td>\n",
       "      <td>104372</td>\n",
       "      <td>24</td>\n",
       "      <td>24</td>\n",
       "      <td>28894705</td>\n",
       "      <td>3.073781e+12</td>\n",
       "      <td>...</td>\n",
       "      <td>291.0</td>\n",
       "      <td>Fusi/A fette</td>\n",
       "      <td>3</td>\n",
       "      <td>2.85</td>\n",
       "      <td>0</td>\n",
       "      <td>PURCHASED</td>\n",
       "      <td>2017-10-20 09:42:35</td>\n",
       "      <td>2017-10-20 09:41:57</td>\n",
       "      <td>2017-10-20 10:17:37</td>\n",
       "      <td>2017-10-20 10:26:36</td>\n",
       "    </tr>\n",
       "    <tr>\n",
       "      <th>2</th>\n",
       "      <td>362909</td>\n",
       "      <td>5840219</td>\n",
       "      <td>342949</td>\n",
       "      <td>simply</td>\n",
       "      <td>RM3</td>\n",
       "      <td>104372</td>\n",
       "      <td>24</td>\n",
       "      <td>24</td>\n",
       "      <td>62680388</td>\n",
       "      <td>8.002580e+12</td>\n",
       "      <td>...</td>\n",
       "      <td>321.0</td>\n",
       "      <td>Latte fresco</td>\n",
       "      <td>4</td>\n",
       "      <td>2.40</td>\n",
       "      <td>0</td>\n",
       "      <td>PURCHASED</td>\n",
       "      <td>2017-10-20 09:46:14</td>\n",
       "      <td>2017-10-20 09:41:57</td>\n",
       "      <td>2017-10-20 10:17:37</td>\n",
       "      <td>2017-10-20 10:26:36</td>\n",
       "    </tr>\n",
       "    <tr>\n",
       "      <th>3</th>\n",
       "      <td>362909</td>\n",
       "      <td>5840225</td>\n",
       "      <td>342949</td>\n",
       "      <td>simply</td>\n",
       "      <td>RM3</td>\n",
       "      <td>104372</td>\n",
       "      <td>24</td>\n",
       "      <td>24</td>\n",
       "      <td>28896339</td>\n",
       "      <td>8.000121e+12</td>\n",
       "      <td>...</td>\n",
       "      <td>426.0</td>\n",
       "      <td>Zucchero</td>\n",
       "      <td>3</td>\n",
       "      <td>1.77</td>\n",
       "      <td>0</td>\n",
       "      <td>PURCHASED</td>\n",
       "      <td>2017-10-20 09:53:48</td>\n",
       "      <td>2017-10-20 09:41:57</td>\n",
       "      <td>2017-10-20 10:17:37</td>\n",
       "      <td>2017-10-20 10:26:36</td>\n",
       "    </tr>\n",
       "    <tr>\n",
       "      <th>4</th>\n",
       "      <td>362909</td>\n",
       "      <td>5840215</td>\n",
       "      <td>342949</td>\n",
       "      <td>simply</td>\n",
       "      <td>RM3</td>\n",
       "      <td>104372</td>\n",
       "      <td>24</td>\n",
       "      <td>24</td>\n",
       "      <td>67787005</td>\n",
       "      <td>4.000000e+12</td>\n",
       "      <td>...</td>\n",
       "      <td>206.0</td>\n",
       "      <td>Pollo</td>\n",
       "      <td>3</td>\n",
       "      <td>5.39</td>\n",
       "      <td>1</td>\n",
       "      <td>PURCHASED</td>\n",
       "      <td>2017-10-20 09:54:49</td>\n",
       "      <td>2017-10-20 09:41:57</td>\n",
       "      <td>2017-10-20 10:17:37</td>\n",
       "      <td>2017-10-20 10:26:36</td>\n",
       "    </tr>\n",
       "  </tbody>\n",
       "</table>\n",
       "<p>5 rows × 21 columns</p>\n",
       "</div>"
      ],
      "text/plain": [
       "   order_id  detail_id  store_id store_name store_area  courier_id  \\\n",
       "0    362909    5840217    342949     simply        RM3      104372   \n",
       "1    362909    5840237    342949     simply        RM3      104372   \n",
       "2    362909    5840219    342949     simply        RM3      104372   \n",
       "3    362909    5840225    342949     simply        RM3      104372   \n",
       "4    362909    5840215    342949     simply        RM3      104372   \n",
       "\n",
       "   courier_orders  courier_days    ref_id           ean         ...           \\\n",
       "0              24            24  51378862  8.000430e+12         ...            \n",
       "1              24            24  28894705  3.073781e+12         ...            \n",
       "2              24            24  62680388  8.002580e+12         ...            \n",
       "3              24            24  28896339  8.000121e+12         ...            \n",
       "4              24            24  67787005  4.000000e+12         ...            \n",
       "\n",
       "  category_id  category_name type  price  variable_weight     status  \\\n",
       "0       293.0     Gorgonzola    3   3.48                0  PURCHASED   \n",
       "1       291.0   Fusi/A fette    3   2.85                0  PURCHASED   \n",
       "2       321.0   Latte fresco    4   2.40                0  PURCHASED   \n",
       "3       426.0       Zucchero    3   1.77                0  PURCHASED   \n",
       "4       206.0          Pollo    3   5.39                1  PURCHASED   \n",
       "\n",
       "            touched_at first_detail_picked_at              paid_at  \\\n",
       "0  2017-10-20 09:41:57    2017-10-20 09:41:57  2017-10-20 10:17:37   \n",
       "1  2017-10-20 09:42:35    2017-10-20 09:41:57  2017-10-20 10:17:37   \n",
       "2  2017-10-20 09:46:14    2017-10-20 09:41:57  2017-10-20 10:17:37   \n",
       "3  2017-10-20 09:53:48    2017-10-20 09:41:57  2017-10-20 10:17:37   \n",
       "4  2017-10-20 09:54:49    2017-10-20 09:41:57  2017-10-20 10:17:37   \n",
       "\n",
       "          delivered_at  \n",
       "0  2017-10-20 10:26:36  \n",
       "1  2017-10-20 10:26:36  \n",
       "2  2017-10-20 10:26:36  \n",
       "3  2017-10-20 10:26:36  \n",
       "4  2017-10-20 10:26:36  \n",
       "\n",
       "[5 rows x 21 columns]"
      ]
     },
     "execution_count": 3,
     "metadata": {},
     "output_type": "execute_result"
    }
   ],
   "source": [
    "df.head(5)"
   ]
  },
  {
   "cell_type": "code",
   "execution_count": 5,
   "metadata": {},
   "outputs": [],
   "source": [
    "# use fewer records to experiment\n",
    "df = df.tail(5000)"
   ]
  },
  {
   "cell_type": "code",
   "execution_count": 6,
   "metadata": {},
   "outputs": [
    {
     "data": {
      "text/plain": [
       "Index(['order_id', 'detail_id', 'store_id', 'store_name', 'store_area',\n",
       "       'courier_id', 'courier_orders', 'courier_days', 'ref_id', 'ean', 'name',\n",
       "       'category_id', 'category_name', 'type', 'price', 'variable_weight',\n",
       "       'status', 'touched_at', 'first_detail_picked_at', 'paid_at',\n",
       "       'delivered_at'],\n",
       "      dtype='object')"
      ]
     },
     "execution_count": 6,
     "metadata": {},
     "output_type": "execute_result"
    }
   ],
   "source": [
    "df.columns"
   ]
  },
  {
   "cell_type": "code",
   "execution_count": null,
   "metadata": {},
   "outputs": [],
   "source": [
    "df2 = df.copy()\n",
    "\n",
    "for index, row in df.iterrows():\n",
    "    if i > 0 and row['order_id'] == df['order_id', index-1]:\n",
    "        \n",
    "    "
   ]
  }
 ],
 "metadata": {
  "kernelspec": {
   "display_name": "Python 3",
   "language": "python",
   "name": "python3"
  },
  "language_info": {
   "codemirror_mode": {
    "name": "ipython",
    "version": 3
   },
   "file_extension": ".py",
   "mimetype": "text/x-python",
   "name": "python",
   "nbconvert_exporter": "python",
   "pygments_lexer": "ipython3",
   "version": "3.7.0"
  }
 },
 "nbformat": 4,
 "nbformat_minor": 2
}
