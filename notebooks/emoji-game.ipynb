{
  "cells": [
    {
      "cell_type": "code",
      "source": [
        "from vdom import VDOM, h1, div, p, b, createComponent\n",
        "# marquee is deprecated officially by browsers\n",
        "# we're going to create and use it anyway\n",
        "marquee = createComponent('marquee')"
      ],
      "outputs": [],
      "execution_count": 4,
      "metadata": {
        "collapsed": false,
        "inputHidden": false,
        "outputHidden": false,
        "trusted": false
      }
    },
    {
      "cell_type": "code",
      "source": [
        "from collections import Counter\n",
        "\nwinners = Counter()"
      ],
      "outputs": [],
      "execution_count": 5,
      "metadata": {
        "collapsed": false,
        "inputHidden": false,
        "outputHidden": false,
        "trusted": false
      }
    },
    {
      "cell_type": "code",
      "source": [
        "import secrets\n",
        "import time\n",
        "\n",
        "winner = \"\"\n",
        "\n",
        "# Each player should pick an emoji that you put into this array\n",
        "choices = [\"🥑\", \"🐱\", \"😻\"]\n",
        "\n",
        "game = display(h1('GAMETIME'), display_id=\"game\")\n",
        "\n",
        "for ii in range(40):\n",
        "    winner = str(secrets.choice(choices))\n",
        "    game.display(marquee(winner, style={ \"fontSize\" : '3em' }), update=True)\n",
        "    time.sleep(0.1)\n",
        "\n",
        "winners[winner] += 1\n",
        "    \n",
        "game.display(\n",
        "    div(\n",
        "        h1('WINNER ' + winner, style={ \"fontSize\" : '3em' }),\n",
        "        *list(map(lambda i: p(i + ': ' + str(winners[i])), winners))\n",
        "    ), \n",
        "    update=True\n",
        ")"
      ],
      "outputs": [
        {
          "output_type": "display_data",
          "data": {
            "application/vdom.v1+json": {
              "tagName": "div",
              "attributes": {},
              "children": [
                {
                  "tagName": "h1",
                  "attributes": {
                    "style": {
                      "fontSize": "3em"
                    }
                  },
                  "children": [
                    "WINNER 😻"
                  ]
                },
                {
                  "tagName": "p",
                  "attributes": {},
                  "children": [
                    "😻: 1"
                  ]
                }
              ]
            },
            "text/plain": [
              "<div><h1 style=\"font-size: 3em\">WINNER 😻</h1><p>😻: 1</p></div>"
            ],
            "text/html": [
              "<div><h1 style=\"font-size: 3em\">WINNER 😻</h1><p>😻: 1</p></div>"
            ]
          },
          "metadata": {}
        }
      ],
      "execution_count": 6,
      "metadata": {
        "collapsed": false,
        "inputHidden": false,
        "outputHidden": false,
        "trusted": false
      }
    },
    {
      "cell_type": "code",
      "source": [],
      "outputs": [],
      "execution_count": 7,
      "metadata": {
        "collapsed": false,
        "inputHidden": false,
        "outputHidden": false,
        "trusted": false
      }
    }
  ],
  "metadata": {
    "kernel_info": {
      "name": "python3"
    },
    "kernelspec": {
      "display_name": "Python 3",
      "language": "python",
      "name": "python3"
    },
    "language_info": {
      "name": "python",
      "version": "3.6.7",
      "mimetype": "text/x-python",
      "codemirror_mode": {
        "name": "ipython",
        "version": 3
      },
      "pygments_lexer": "ipython3",
      "nbconvert_exporter": "python",
      "file_extension": ".py"
    },
    "nteract": {
      "version": "nteract-on-jupyter@1.9.6"
    }
  },
  "nbformat": 4,
  "nbformat_minor": 4
}