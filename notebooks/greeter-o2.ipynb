{
 "cells": [
  {
   "cell_type": "code",
   "execution_count": 1,
   "metadata": {
    "papermill": {
     "duration": 0.030789,
     "end_time": "2019-03-15T17:45:37.313095",
     "exception": false,
     "start_time": "2019-03-15T17:45:37.282306",
     "status": "completed"
    },
    "tags": [
     "parameters"
    ]
   },
   "outputs": [],
   "source": [
    "greeting = \"ciao\"\n",
    "name = \"gionata\""
   ]
  },
  {
   "cell_type": "code",
   "execution_count": 2,
   "metadata": {
    "papermill": {
     "duration": 0.018702,
     "end_time": "2019-03-15T17:45:37.343386",
     "exception": false,
     "start_time": "2019-03-15T17:45:37.324684",
     "status": "completed"
    },
    "tags": [
     "injected-parameters"
    ]
   },
   "outputs": [],
   "source": [
    "# Parameters\n",
    "greeting = \"hello\"\n",
    "name = \"pippo\"\n"
   ]
  },
  {
   "cell_type": "code",
   "execution_count": 3,
   "metadata": {
    "papermill": {
     "duration": 0.029839,
     "end_time": "2019-03-15T17:45:37.386239",
     "exception": false,
     "start_time": "2019-03-15T17:45:37.356400",
     "status": "completed"
    },
    "tags": []
   },
   "outputs": [
    {
     "name": "stdout",
     "output_type": "stream",
     "text": [
      "hello pippo\n"
     ]
    }
   ],
   "source": [
    "print(greeting + \" \" + name)"
   ]
  },
  {
   "cell_type": "code",
   "execution_count": 4,
   "metadata": {
    "papermill": {
     "duration": 0.037442,
     "end_time": "2019-03-15T17:45:37.435549",
     "exception": false,
     "start_time": "2019-03-15T17:45:37.398107",
     "status": "completed"
    },
    "tags": []
   },
   "outputs": [],
   "source": [
    "import os.path\n",
    "for i in range(5):\n",
    "    with open(\"file{}.text\".format(i), \"wt\") as f:\n",
    "        f.write(greeting + \" \" + name)"
   ]
  },
  {
   "cell_type": "code",
   "execution_count": null,
   "metadata": {
    "papermill": {
     "duration": 0.014212,
     "end_time": "2019-03-15T17:45:37.465182",
     "exception": false,
     "start_time": "2019-03-15T17:45:37.450970",
     "status": "completed"
    },
    "tags": []
   },
   "outputs": [],
   "source": []
  }
 ],
 "metadata": {
  "celltoolbar": "Tags",
  "kernelspec": {
   "display_name": "Python 3",
   "language": "python",
   "name": "python3"
  },
  "language_info": {
   "codemirror_mode": {
    "name": "ipython",
    "version": 3
   },
   "file_extension": ".py",
   "mimetype": "text/x-python",
   "name": "python",
   "nbconvert_exporter": "python",
   "pygments_lexer": "ipython3",
   "version": "3.6.7"
  },
  "papermill": {
   "duration": 2.470289,
   "end_time": "2019-03-15T17:45:38.167704",
   "environment_variables": {},
   "exception": null,
   "input_path": "greeter.ipynb",
   "output_path": "greeter-o2.ipynb",
   "parameters": {
    "greeting": "hello",
    "name": "pippo"
   },
   "start_time": "2019-03-15T17:45:35.697415",
   "version": "0.19.0"
  }
 },
 "nbformat": 4,
 "nbformat_minor": 2
}