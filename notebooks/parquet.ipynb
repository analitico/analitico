{
 "cells": [
  {
   "cell_type": "code",
   "execution_count": 1,
   "metadata": {},
   "outputs": [
    {
     "name": "stdout",
     "output_type": "stream",
     "text": [
      "2019-05-31 18:59:59.412429\n"
     ]
    }
   ],
   "source": [
    "import json\n",
    "import numpy as np\n",
    "from scipy import stats\n",
    "from datetime import datetime\n",
    "import os\n",
    "import pandas as pd\n",
    "pd.options.display.max_columns = None\n",
    "\n",
    "import analitico\n",
    "import analitico.plugin\n",
    "import s24.plugin\n",
    "from analitico.pandas import *\n",
    "from analitico.schema import apply_schema\n",
    "\n",
    "# pass api token to create sdk\n",
    "sdk = analitico.authorize(\"tok_s24_579E5hOWw7k8\")\n",
    "print(datetime.utcnow())\n",
    "\n",
    "#import fastparquet\n",
    "#import snappy"
   ]
  },
  {
   "cell_type": "code",
   "execution_count": 2,
   "metadata": {},
   "outputs": [],
   "source": [
    "df = sdk.get_dataframe(\"ds_s24_order_time_pick_pay_deliver\")"
   ]
  },
  {
   "cell_type": "code",
   "execution_count": 3,
   "metadata": {},
   "outputs": [],
   "source": [
    "df.to_csv(\"test.csv\")"
   ]
  },
  {
   "cell_type": "code",
   "execution_count": 4,
   "metadata": {},
   "outputs": [
    {
     "name": "stdout",
     "output_type": "stream",
     "text": [
      "csv size: 52181 KB\n"
     ]
    }
   ],
   "source": [
    "csv_size = os.path.getsize(\"test.csv\")\n",
    "print(f\"csv size: {int(csv_size / 1024)} KB\")"
   ]
  },
  {
   "cell_type": "code",
   "execution_count": 5,
   "metadata": {},
   "outputs": [],
   "source": [
    "df.to_parquet(\"data.parquet\")"
   ]
  },
  {
   "cell_type": "code",
   "execution_count": 8,
   "metadata": {},
   "outputs": [
    {
     "name": "stdout",
     "output_type": "stream",
     "text": [
      "parquet size: 9233 KB\n"
     ]
    }
   ],
   "source": [
    "pq_size = os.path.getsize(\"data.parquet\")\n",
    "print(f\"parquet size: {int(pq_size / 1024)} KB\")"
   ]
  },
  {
   "cell_type": "code",
   "execution_count": 9,
   "metadata": {},
   "outputs": [
    {
     "name": "stdout",
     "output_type": "stream",
     "text": [
      "parquet size: 9233 KB\n"
     ]
    }
   ],
   "source": [
    "df.to_parquet(\"data2.parquet.gzip\")\n",
    "pq_size = os.path.getsize(\"data2.parquet.gzip\")\n",
    "print(f\"parquet size: {int(pq_size / 1024)} KB\")"
   ]
  }
 ],
 "metadata": {
  "kernelspec": {
   "display_name": "Python 3",
   "language": "python",
   "name": "python3"
  },
  "language_info": {
   "codemirror_mode": {
    "name": "ipython",
    "version": 3
   },
   "file_extension": ".py",
   "mimetype": "text/x-python",
   "name": "python",
   "nbconvert_exporter": "python",
   "pygments_lexer": "ipython3",
   "version": "3.7.3"
  }
 },
 "nbformat": 4,
 "nbformat_minor": 2
}
