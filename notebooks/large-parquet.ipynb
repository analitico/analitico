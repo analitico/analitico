{
 "cells": [
  {
   "cell_type": "code",
   "execution_count": 8,
   "metadata": {},
   "outputs": [
    {
     "name": "stdout",
     "output_type": "stream",
     "text": [
      "Collecting azureml.opendatasets\n",
      "  Using cached https://files.pythonhosted.org/packages/da/fb/2a6f4f513341956f8a51919ee030c962d3485cabad2eec8c9a8fb238b22c/azureml_opendatasets-1.0.48.1-py3-none-any.whl\n",
      "Requirement already satisfied: multimethods in /Users/gionata/github/analitico/venv/lib/python3.7/site-packages (from azureml.opendatasets) (1.0.0)\n",
      "Requirement already satisfied: azureml-core==1.0.48.* in /Users/gionata/github/analitico/venv/lib/python3.7/site-packages (from azureml.opendatasets) (1.0.48)\n",
      "Requirement already satisfied: pandas<=0.23.4,>=0.21.0 in /Users/gionata/github/analitico/venv/lib/python3.7/site-packages (from azureml.opendatasets) (0.23.4)\n",
      "Requirement already satisfied: pyspark in /Users/gionata/github/analitico/venv/lib/python3.7/site-packages (from azureml.opendatasets) (2.4.3)\n",
      "Requirement already satisfied: azure-storage-blob in /Users/gionata/github/analitico/venv/lib/python3.7/site-packages (from azureml.opendatasets) (2.0.1)\n",
      "Requirement already satisfied: numpy<=1.16.2,>=1.11.0 in /Users/gionata/github/analitico/venv/lib/python3.7/site-packages (from azureml.opendatasets) (1.15.4)\n",
      "Requirement already satisfied: azureml-dataprep<1.2.0a,>=1.1.3a in /Users/gionata/github/analitico/venv/lib/python3.7/site-packages (from azureml.opendatasets) (1.1.8)\n",
      "Requirement already satisfied: scipy<=1.1.0,>=1.0.0 in /Users/gionata/github/analitico/venv/lib/python3.7/site-packages (from azureml.opendatasets) (1.1.0)\n",
      "Requirement already satisfied: pyarrow<0.14.0 in /Users/gionata/github/analitico/venv/lib/python3.7/site-packages (from azureml.opendatasets) (0.13.0)\n",
      "Requirement already satisfied: azureml-telemetry==1.0.48.* in /Users/gionata/github/analitico/venv/lib/python3.7/site-packages (from azureml.opendatasets) (1.0.48)\n",
      "Requirement already satisfied: urllib3>=1.23 in /Users/gionata/github/analitico/venv/lib/python3.7/site-packages (from azureml-core==1.0.48.*->azureml.opendatasets) (1.25.3)\n",
      "Requirement already satisfied: cryptography!=1.9,!=2.0.*,!=2.1.*,!=2.2.* in /Users/gionata/github/analitico/venv/lib/python3.7/site-packages (from azureml-core==1.0.48.*->azureml.opendatasets) (2.4.2)\n",
      "Requirement already satisfied: azure-common>=1.1.12 in /Users/gionata/github/analitico/venv/lib/python3.7/site-packages (from azureml-core==1.0.48.*->azureml.opendatasets) (1.1.23)\n",
      "Requirement already satisfied: contextlib2 in /Users/gionata/github/analitico/venv/lib/python3.7/site-packages (from azureml-core==1.0.48.*->azureml.opendatasets) (0.5.5)\n",
      "Requirement already satisfied: azure-graphrbac>=0.40.0 in /Users/gionata/github/analitico/venv/lib/python3.7/site-packages (from azureml-core==1.0.48.*->azureml.opendatasets) (0.61.1)\n",
      "Requirement already satisfied: PyJWT in /Users/gionata/github/analitico/venv/lib/python3.7/site-packages (from azureml-core==1.0.48.*->azureml.opendatasets) (1.7.1)\n",
      "Requirement already satisfied: adal>=1.2.0 in /Users/gionata/github/analitico/venv/lib/python3.7/site-packages (from azureml-core==1.0.48.*->azureml.opendatasets) (1.2.2)\n",
      "Requirement already satisfied: azure-mgmt-keyvault>=0.40.0 in /Users/gionata/github/analitico/venv/lib/python3.7/site-packages (from azureml-core==1.0.48.*->azureml.opendatasets) (2.0.0)\n",
      "Requirement already satisfied: requests>=2.19.1 in /Users/gionata/github/analitico/venv/lib/python3.7/site-packages (from azureml-core==1.0.48.*->azureml.opendatasets) (2.22.0)\n",
      "Requirement already satisfied: python-dateutil>=2.7.3 in /Users/gionata/github/analitico/venv/lib/python3.7/site-packages (from azureml-core==1.0.48.*->azureml.opendatasets) (2.7.5)\n",
      "Requirement already satisfied: ndg-httpsclient in /Users/gionata/github/analitico/venv/lib/python3.7/site-packages (from azureml-core==1.0.48.*->azureml.opendatasets) (0.5.1)\n",
      "Requirement already satisfied: azure-mgmt-storage>=1.5.0 in /Users/gionata/github/analitico/venv/lib/python3.7/site-packages (from azureml-core==1.0.48.*->azureml.opendatasets) (4.0.0)\n",
      "Requirement already satisfied: azure-mgmt-resource>=1.2.1 in /Users/gionata/github/analitico/venv/lib/python3.7/site-packages (from azureml-core==1.0.48.*->azureml.opendatasets) (3.1.0)\n",
      "Requirement already satisfied: pyopenssl in /Users/gionata/github/analitico/venv/lib/python3.7/site-packages (from azureml-core==1.0.48.*->azureml.opendatasets) (18.0.0)\n",
      "Requirement already satisfied: msrestazure>=0.4.33 in /Users/gionata/github/analitico/venv/lib/python3.7/site-packages (from azureml-core==1.0.48.*->azureml.opendatasets) (0.6.1)\n",
      "Requirement already satisfied: jmespath in /Users/gionata/github/analitico/venv/lib/python3.7/site-packages (from azureml-core==1.0.48.*->azureml.opendatasets) (0.9.4)\n",
      "Requirement already satisfied: jsonpickle in /Users/gionata/github/analitico/venv/lib/python3.7/site-packages (from azureml-core==1.0.48.*->azureml.opendatasets) (1.2)\n",
      "Requirement already satisfied: azure-mgmt-authorization>=0.40.0 in /Users/gionata/github/analitico/venv/lib/python3.7/site-packages (from azureml-core==1.0.48.*->azureml.opendatasets) (0.60.0)\n",
      "Requirement already satisfied: pytz in /Users/gionata/github/analitico/venv/lib/python3.7/site-packages (from azureml-core==1.0.48.*->azureml.opendatasets) (2018.9)\n",
      "Requirement already satisfied: backports.tempfile in /Users/gionata/github/analitico/venv/lib/python3.7/site-packages (from azureml-core==1.0.48.*->azureml.opendatasets) (1.0)\n",
      "Requirement already satisfied: docker in /Users/gionata/github/analitico/venv/lib/python3.7/site-packages (from azureml-core==1.0.48.*->azureml.opendatasets) (4.0.1)\n",
      "Requirement already satisfied: SecretStorage in /Users/gionata/github/analitico/venv/lib/python3.7/site-packages (from azureml-core==1.0.48.*->azureml.opendatasets) (3.1.1)\n",
      "Requirement already satisfied: ruamel.yaml<=0.15.89,>=0.15.35 in /Users/gionata/github/analitico/venv/lib/python3.7/site-packages (from azureml-core==1.0.48.*->azureml.opendatasets) (0.15.81)\n",
      "Requirement already satisfied: pathspec in /Users/gionata/github/analitico/venv/lib/python3.7/site-packages (from azureml-core==1.0.48.*->azureml.opendatasets) (0.5.9)\n",
      "Requirement already satisfied: azure-mgmt-containerregistry>=2.0.0 in /Users/gionata/github/analitico/venv/lib/python3.7/site-packages (from azureml-core==1.0.48.*->azureml.opendatasets) (2.8.0)\n",
      "Requirement already satisfied: six>=1.11.0 in /Users/gionata/github/analitico/venv/lib/python3.7/site-packages (from azureml-core==1.0.48.*->azureml.opendatasets) (1.12.0)\n",
      "Requirement already satisfied: msrest>=0.5.1 in /Users/gionata/github/analitico/venv/lib/python3.7/site-packages (from azureml-core==1.0.48.*->azureml.opendatasets) (0.6.8)\n",
      "Requirement already satisfied: py4j==0.10.7 in /Users/gionata/github/analitico/venv/lib/python3.7/site-packages (from pyspark->azureml.opendatasets) (0.10.7)\n",
      "Requirement already satisfied: azure-storage-common~=2.0 in /Users/gionata/github/analitico/venv/lib/python3.7/site-packages (from azure-storage-blob->azureml.opendatasets) (2.0.0)\n",
      "Requirement already satisfied: azureml-dataprep-native<14.0.0,>=13.0.0 in /Users/gionata/github/analitico/venv/lib/python3.7/site-packages (from azureml-dataprep<1.2.0a,>=1.1.3a->azureml.opendatasets) (13.0.0)\n",
      "Requirement already satisfied: dotnetcore2==2.1.8 in /Users/gionata/github/analitico/venv/lib/python3.7/site-packages (from azureml-dataprep<1.2.0a,>=1.1.3a->azureml.opendatasets) (2.1.8)\n",
      "Requirement already satisfied: applicationinsights in /Users/gionata/github/analitico/venv/lib/python3.7/site-packages (from azureml-telemetry==1.0.48.*->azureml.opendatasets) (0.11.9)\n",
      "Requirement already satisfied: cffi!=1.11.3,>=1.7 in /Users/gionata/github/analitico/venv/lib/python3.7/site-packages (from cryptography!=1.9,!=2.0.*,!=2.1.*,!=2.2.*->azureml-core==1.0.48.*->azureml.opendatasets) (1.11.5)\n",
      "Requirement already satisfied: idna>=2.1 in /Users/gionata/github/analitico/venv/lib/python3.7/site-packages (from cryptography!=1.9,!=2.0.*,!=2.1.*,!=2.2.*->azureml-core==1.0.48.*->azureml.opendatasets) (2.7)\n",
      "Requirement already satisfied: asn1crypto>=0.21.0 in /Users/gionata/github/analitico/venv/lib/python3.7/site-packages (from cryptography!=1.9,!=2.0.*,!=2.1.*,!=2.2.*->azureml-core==1.0.48.*->azureml.opendatasets) (0.24.0)\n",
      "Requirement already satisfied: chardet<3.1.0,>=3.0.2 in /Users/gionata/github/analitico/venv/lib/python3.7/site-packages (from requests>=2.19.1->azureml-core==1.0.48.*->azureml.opendatasets) (3.0.4)\n",
      "Requirement already satisfied: certifi>=2017.4.17 in /Users/gionata/github/analitico/venv/lib/python3.7/site-packages (from requests>=2.19.1->azureml-core==1.0.48.*->azureml.opendatasets) (2018.8.24)\n",
      "Requirement already satisfied: pyasn1>=0.1.1 in /Users/gionata/github/analitico/venv/lib/python3.7/site-packages (from ndg-httpsclient->azureml-core==1.0.48.*->azureml.opendatasets) (0.4.4)\n",
      "Requirement already satisfied: backports.weakref in /Users/gionata/github/analitico/venv/lib/python3.7/site-packages (from backports.tempfile->azureml-core==1.0.48.*->azureml.opendatasets) (1.0.post1)\n",
      "Requirement already satisfied: websocket-client>=0.32.0 in /Users/gionata/github/analitico/venv/lib/python3.7/site-packages (from docker->azureml-core==1.0.48.*->azureml.opendatasets) (0.56.0)\n",
      "Requirement already satisfied: jeepney in /Users/gionata/github/analitico/venv/lib/python3.7/site-packages (from SecretStorage->azureml-core==1.0.48.*->azureml.opendatasets) (0.4)\n",
      "Requirement already satisfied: requests-oauthlib>=0.5.0 in /Users/gionata/github/analitico/venv/lib/python3.7/site-packages (from msrest>=0.5.1->azureml-core==1.0.48.*->azureml.opendatasets) (1.2.0)\n",
      "Requirement already satisfied: isodate>=0.6.0 in /Users/gionata/github/analitico/venv/lib/python3.7/site-packages (from msrest>=0.5.1->azureml-core==1.0.48.*->azureml.opendatasets) (0.6.0)\n",
      "Requirement already satisfied: distro>=1.2.0 in /Users/gionata/github/analitico/venv/lib/python3.7/site-packages (from dotnetcore2==2.1.8->azureml-dataprep<1.2.0a,>=1.1.3a->azureml.opendatasets) (1.4.0)\n",
      "Requirement already satisfied: pycparser in /Users/gionata/github/analitico/venv/lib/python3.7/site-packages (from cffi!=1.11.3,>=1.7->cryptography!=1.9,!=2.0.*,!=2.1.*,!=2.2.*->azureml-core==1.0.48.*->azureml.opendatasets) (2.19)\n",
      "Requirement already satisfied: oauthlib>=3.0.0 in /Users/gionata/github/analitico/venv/lib/python3.7/site-packages (from requests-oauthlib>=0.5.0->msrest>=0.5.1->azureml-core==1.0.48.*->azureml.opendatasets) (3.0.0)\n"
     ]
    },
    {
     "name": "stdout",
     "output_type": "stream",
     "text": [
      "Installing collected packages: azureml.opendatasets\n",
      "Successfully installed azureml.opendatasets\n",
      "\u001b[33mYou are using pip version 19.0.3, however version 19.2 is available.\n",
      "You should consider upgrading via the 'pip install --upgrade pip' command.\u001b[0m\n"
     ]
    }
   ],
   "source": [
    "!pip install azureml.opendatasets\n",
    "from azureml.opendatasets import ChicagoSafety"
   ]
  },
  {
   "cell_type": "code",
   "execution_count": 9,
   "metadata": {},
   "outputs": [],
   "source": [
    "from datetime import datetime\n",
    "from dateutil import parser"
   ]
  },
  {
   "cell_type": "code",
   "execution_count": 11,
   "metadata": {},
   "outputs": [
    {
     "ename": "ValueError",
     "evalue": "unknown locale: UTF-8",
     "output_type": "error",
     "traceback": [
      "\u001b[0;31m---------------------------------------------------------------------------\u001b[0m",
      "\u001b[0;31mValueError\u001b[0m                                Traceback (most recent call last)",
      "\u001b[0;32m<ipython-input-11-3ca795307aeb>\u001b[0m in \u001b[0;36m<module>\u001b[0;34m\u001b[0m\n\u001b[1;32m      1\u001b[0m \u001b[0mend_date\u001b[0m \u001b[0;34m=\u001b[0m \u001b[0mparser\u001b[0m\u001b[0;34m.\u001b[0m\u001b[0mparse\u001b[0m\u001b[0;34m(\u001b[0m\u001b[0;34m'2016-01-01'\u001b[0m\u001b[0;34m)\u001b[0m\u001b[0;34m\u001b[0m\u001b[0;34m\u001b[0m\u001b[0m\n\u001b[1;32m      2\u001b[0m \u001b[0mstart_date\u001b[0m \u001b[0;34m=\u001b[0m \u001b[0mparser\u001b[0m\u001b[0;34m.\u001b[0m\u001b[0mparse\u001b[0m\u001b[0;34m(\u001b[0m\u001b[0;34m'2015-05-01'\u001b[0m\u001b[0;34m)\u001b[0m\u001b[0;34m\u001b[0m\u001b[0;34m\u001b[0m\u001b[0m\n\u001b[0;32m----> 3\u001b[0;31m \u001b[0msafety\u001b[0m \u001b[0;34m=\u001b[0m \u001b[0mChicagoSafety\u001b[0m\u001b[0;34m(\u001b[0m\u001b[0mstart_date\u001b[0m\u001b[0;34m=\u001b[0m\u001b[0mstart_date\u001b[0m\u001b[0;34m,\u001b[0m \u001b[0mend_date\u001b[0m\u001b[0;34m=\u001b[0m\u001b[0mend_date\u001b[0m\u001b[0;34m)\u001b[0m\u001b[0;34m\u001b[0m\u001b[0;34m\u001b[0m\u001b[0m\n\u001b[0m\u001b[1;32m      4\u001b[0m \u001b[0msafety\u001b[0m \u001b[0;34m=\u001b[0m \u001b[0msafety\u001b[0m\u001b[0;34m.\u001b[0m\u001b[0mto_pandas_dataframe\u001b[0m\u001b[0;34m(\u001b[0m\u001b[0;34m)\u001b[0m\u001b[0;34m\u001b[0m\u001b[0;34m\u001b[0m\u001b[0m\n",
      "\u001b[0;32m~/github/analitico/venv/lib/python3.7/site-packages/azureml/opendatasets/_chicago_safety.py\u001b[0m in \u001b[0;36m__init__\u001b[0;34m(self, start_date, end_date, cols, dataset, enable_telemetry)\u001b[0m\n\u001b[1;32m     41\u001b[0m             \u001b[0mend_date\u001b[0m\u001b[0;34m=\u001b[0m\u001b[0mend_date\u001b[0m\u001b[0;34m,\u001b[0m\u001b[0;34m\u001b[0m\u001b[0;34m\u001b[0m\u001b[0m\n\u001b[1;32m     42\u001b[0m             \u001b[0mcols\u001b[0m\u001b[0;34m=\u001b[0m\u001b[0mcols\u001b[0m\u001b[0;34m,\u001b[0m\u001b[0;34m\u001b[0m\u001b[0;34m\u001b[0m\u001b[0m\n\u001b[0;32m---> 43\u001b[0;31m             enable_telemetry=enable_telemetry)\n\u001b[0m\u001b[1;32m     44\u001b[0m         \u001b[0;32mif\u001b[0m \u001b[0mdataset\u001b[0m \u001b[0;32mis\u001b[0m \u001b[0;32mnot\u001b[0m \u001b[0;32mNone\u001b[0m\u001b[0;34m:\u001b[0m\u001b[0;34m\u001b[0m\u001b[0;34m\u001b[0m\u001b[0m\n\u001b[1;32m     45\u001b[0m             \u001b[0;32mif\u001b[0m \u001b[0mstart_date\u001b[0m \u001b[0;34m!=\u001b[0m \u001b[0mChicagoSafetyAccessory\u001b[0m\u001b[0;34m.\u001b[0m\u001b[0mdefault_start_date\u001b[0m \u001b[0;32mand\u001b[0m\u001b[0;31m \u001b[0m\u001b[0;31m\\\u001b[0m\u001b[0;34m\u001b[0m\u001b[0;34m\u001b[0m\u001b[0m\n",
      "\u001b[0;32m~/github/analitico/venv/lib/python3.7/site-packages/azureml/opendatasets/accessories/city_safety_accessory.py\u001b[0m in \u001b[0;36m__init__\u001b[0;34m(self, start_date, end_date, cols, enable_telemetry)\u001b[0m\n\u001b[1;32m     54\u001b[0m             \u001b[0;32mif\u001b[0m \u001b[0;34m(\u001b[0m\u001b[0mself\u001b[0m\u001b[0;34m.\u001b[0m\u001b[0mdefault_end_date\u001b[0m \u001b[0;34m>\u001b[0m \u001b[0mend_date\u001b[0m\u001b[0;34m)\u001b[0m\u001b[0;31m\\\u001b[0m\u001b[0;34m\u001b[0m\u001b[0;34m\u001b[0m\u001b[0m\n\u001b[1;32m     55\u001b[0m             \u001b[0;32melse\u001b[0m \u001b[0mself\u001b[0m\u001b[0;34m.\u001b[0m\u001b[0mdefault_end_date\u001b[0m\u001b[0;34m\u001b[0m\u001b[0;34m\u001b[0m\u001b[0m\n\u001b[0;32m---> 56\u001b[0;31m         \u001b[0msuper\u001b[0m\u001b[0;34m(\u001b[0m\u001b[0mCitySafetyAccessory\u001b[0m\u001b[0;34m,\u001b[0m \u001b[0mself\u001b[0m\u001b[0;34m)\u001b[0m\u001b[0;34m.\u001b[0m\u001b[0m__init__\u001b[0m\u001b[0;34m(\u001b[0m\u001b[0mcols\u001b[0m\u001b[0;34m=\u001b[0m\u001b[0mcols\u001b[0m\u001b[0;34m,\u001b[0m \u001b[0menable_telemetry\u001b[0m\u001b[0;34m=\u001b[0m\u001b[0menable_telemetry\u001b[0m\u001b[0;34m)\u001b[0m\u001b[0;34m\u001b[0m\u001b[0;34m\u001b[0m\u001b[0m\n\u001b[0m\u001b[1;32m     57\u001b[0m         \u001b[0;32mif\u001b[0m \u001b[0menable_telemetry\u001b[0m\u001b[0;34m:\u001b[0m\u001b[0;34m\u001b[0m\u001b[0;34m\u001b[0m\u001b[0m\n\u001b[1;32m     58\u001b[0m             \u001b[0mself\u001b[0m\u001b[0;34m.\u001b[0m\u001b[0mlog_properties\u001b[0m\u001b[0;34m[\u001b[0m\u001b[0;34m'StartDate'\u001b[0m\u001b[0;34m]\u001b[0m \u001b[0;34m=\u001b[0m \u001b[0mself\u001b[0m\u001b[0;34m.\u001b[0m\u001b[0mstart_date\u001b[0m\u001b[0;34m\u001b[0m\u001b[0;34m\u001b[0m\u001b[0m\n",
      "\u001b[0;32m~/github/analitico/venv/lib/python3.7/site-packages/azureml/opendatasets/accessories/public_data.py\u001b[0m in \u001b[0;36m__init__\u001b[0;34m(self, cols, enable_telemetry)\u001b[0m\n\u001b[1;32m     69\u001b[0m         \u001b[0mself\u001b[0m\u001b[0;34m.\u001b[0m\u001b[0mcols\u001b[0m \u001b[0;34m=\u001b[0m \u001b[0mlist\u001b[0m\u001b[0;34m(\u001b[0m\u001b[0mcols\u001b[0m\u001b[0;34m)\u001b[0m \u001b[0;32mif\u001b[0m \u001b[0mcols\u001b[0m \u001b[0;32mis\u001b[0m \u001b[0;32mnot\u001b[0m \u001b[0;32mNone\u001b[0m \u001b[0;32melse\u001b[0m \u001b[0;32mNone\u001b[0m\u001b[0;34m\u001b[0m\u001b[0;34m\u001b[0m\u001b[0m\n\u001b[1;32m     70\u001b[0m         \u001b[0;32mif\u001b[0m \u001b[0mself\u001b[0m\u001b[0;34m.\u001b[0m\u001b[0menable_telemetry\u001b[0m\u001b[0;34m:\u001b[0m\u001b[0;34m\u001b[0m\u001b[0;34m\u001b[0m\u001b[0m\n\u001b[0;32m---> 71\u001b[0;31m             \u001b[0mself\u001b[0m\u001b[0;34m.\u001b[0m\u001b[0mlogger\u001b[0m \u001b[0;34m=\u001b[0m \u001b[0mget_opendatasets_logger\u001b[0m\u001b[0;34m(\u001b[0m\u001b[0m__name__\u001b[0m\u001b[0;34m)\u001b[0m\u001b[0;34m\u001b[0m\u001b[0;34m\u001b[0m\u001b[0m\n\u001b[0m\u001b[1;32m     72\u001b[0m             \u001b[0mself\u001b[0m\u001b[0;34m.\u001b[0m\u001b[0mlog_properties\u001b[0m \u001b[0;34m=\u001b[0m \u001b[0mself\u001b[0m\u001b[0;34m.\u001b[0m\u001b[0mget_common_log_properties\u001b[0m\u001b[0;34m(\u001b[0m\u001b[0;34m)\u001b[0m\u001b[0;34m\u001b[0m\u001b[0;34m\u001b[0m\u001b[0m\n\u001b[1;32m     73\u001b[0m             \u001b[0mself\u001b[0m\u001b[0;34m.\u001b[0m\u001b[0mlog_properties\u001b[0m\u001b[0;34m[\u001b[0m\u001b[0;34m'cols'\u001b[0m\u001b[0;34m]\u001b[0m \u001b[0;34m=\u001b[0m \u001b[0mself\u001b[0m\u001b[0;34m.\u001b[0m\u001b[0mcols\u001b[0m\u001b[0;34m\u001b[0m\u001b[0;34m\u001b[0m\u001b[0m\n",
      "\u001b[0;32m~/github/analitico/venv/lib/python3.7/site-packages/azureml/opendatasets/_utils/telemetry_utils.py\u001b[0m in \u001b[0;36mget_opendatasets_logger\u001b[0;34m(name, verbosity)\u001b[0m\n\u001b[1;32m     31\u001b[0m     \u001b[0mlogger\u001b[0m\u001b[0;34m.\u001b[0m\u001b[0mpropagate\u001b[0m \u001b[0;34m=\u001b[0m \u001b[0;32mFalse\u001b[0m\u001b[0;34m\u001b[0m\u001b[0;34m\u001b[0m\u001b[0m\n\u001b[1;32m     32\u001b[0m     \u001b[0mlogger\u001b[0m\u001b[0;34m.\u001b[0m\u001b[0msetLevel\u001b[0m\u001b[0;34m(\u001b[0m\u001b[0mverbosity\u001b[0m\u001b[0;34m)\u001b[0m\u001b[0;34m\u001b[0m\u001b[0;34m\u001b[0m\u001b[0m\n\u001b[0;32m---> 33\u001b[0;31m     \u001b[0madd_appinsights_log_handler\u001b[0m\u001b[0;34m(\u001b[0m\u001b[0mlogger\u001b[0m\u001b[0;34m)\u001b[0m\u001b[0;34m\u001b[0m\u001b[0;34m\u001b[0m\u001b[0m\n\u001b[0m\u001b[1;32m     34\u001b[0m     \u001b[0madd_console_log_handler\u001b[0m\u001b[0;34m(\u001b[0m\u001b[0mlogger\u001b[0m\u001b[0;34m)\u001b[0m\u001b[0;34m\u001b[0m\u001b[0;34m\u001b[0m\u001b[0m\n\u001b[1;32m     35\u001b[0m     \u001b[0;32mreturn\u001b[0m \u001b[0mlogger\u001b[0m\u001b[0;34m\u001b[0m\u001b[0;34m\u001b[0m\u001b[0m\n",
      "\u001b[0;32m~/github/analitico/venv/lib/python3.7/site-packages/azureml/opendatasets/_utils/telemetry_utils.py\u001b[0m in \u001b[0;36madd_appinsights_log_handler\u001b[0;34m(logger)\u001b[0m\n\u001b[1;32m     18\u001b[0m     handler = get_telemetry_log_handler(\n\u001b[1;32m     19\u001b[0m         \u001b[0minstrumentation_key\u001b[0m\u001b[0;34m=\u001b[0m\u001b[0mOPENDATASETS_INSTRUMENTATION_KEY\u001b[0m\u001b[0;34m,\u001b[0m\u001b[0;34m\u001b[0m\u001b[0;34m\u001b[0m\u001b[0m\n\u001b[0;32m---> 20\u001b[0;31m         component_name=OPENDATASETS_LOGGER_NAMESPACE)\n\u001b[0m\u001b[1;32m     21\u001b[0m     \u001b[0madd_handler\u001b[0m\u001b[0;34m(\u001b[0m\u001b[0mlogger\u001b[0m\u001b[0;34m,\u001b[0m \u001b[0mhandler\u001b[0m\u001b[0;34m)\u001b[0m\u001b[0;34m\u001b[0m\u001b[0;34m\u001b[0m\u001b[0m\n\u001b[1;32m     22\u001b[0m \u001b[0;34m\u001b[0m\u001b[0m\n",
      "\u001b[0;32m~/github/analitico/venv/lib/python3.7/site-packages/azureml/telemetry/__init__.py\u001b[0m in \u001b[0;36mget_telemetry_log_handler\u001b[0;34m(instrumentation_key, component_name, path)\u001b[0m\n\u001b[1;32m    155\u001b[0m             \u001b[0;32mglobal\u001b[0m \u001b[0mglobal_diagnostics_properties\u001b[0m\u001b[0;34m\u001b[0m\u001b[0;34m\u001b[0m\u001b[0m\n\u001b[1;32m    156\u001b[0m             telemetry_handler = get_appinsights_log_handler(instrumentation_key, app_insights_file_logger,\n\u001b[0;32m--> 157\u001b[0;31m                                                             properties=global_diagnostics_properties)\n\u001b[0m\u001b[1;32m    158\u001b[0m             \u001b[0mtelemetry_handler\u001b[0m\u001b[0;34m.\u001b[0m\u001b[0msetLevel\u001b[0m\u001b[0;34m(\u001b[0m\u001b[0mverbosity\u001b[0m\u001b[0;34m)\u001b[0m\u001b[0;34m\u001b[0m\u001b[0;34m\u001b[0m\u001b[0m\n\u001b[1;32m    159\u001b[0m             \u001b[0;32mreturn\u001b[0m \u001b[0mtelemetry_handler\u001b[0m\u001b[0;34m\u001b[0m\u001b[0;34m\u001b[0m\u001b[0m\n",
      "\u001b[0;32m~/github/analitico/venv/lib/python3.7/site-packages/azureml/telemetry/logging_handler.py\u001b[0m in \u001b[0;36mget_appinsights_log_handler\u001b[0;34m(instrumentation_key, logger, *args, **kwargs)\u001b[0m\n\u001b[1;32m     58\u001b[0m     \u001b[0;32mif\u001b[0m \u001b[0mlogger\u001b[0m \u001b[0;32mis\u001b[0m \u001b[0;32mNone\u001b[0m\u001b[0;34m:\u001b[0m\u001b[0;34m\u001b[0m\u001b[0;34m\u001b[0m\u001b[0m\n\u001b[1;32m     59\u001b[0m         \u001b[0mlogger\u001b[0m \u001b[0;34m=\u001b[0m \u001b[0mlogging\u001b[0m\u001b[0;34m.\u001b[0m\u001b[0mgetLogger\u001b[0m\u001b[0;34m(\u001b[0m\u001b[0;34m)\u001b[0m\u001b[0;34m\u001b[0m\u001b[0;34m\u001b[0m\u001b[0m\n\u001b[0;32m---> 60\u001b[0;31m     \u001b[0mcontext\u001b[0m \u001b[0;34m=\u001b[0m \u001b[0mTelemetryContext\u001b[0m\u001b[0;34m(\u001b[0m\u001b[0;34m)\u001b[0m\u001b[0;34m\u001b[0m\u001b[0;34m\u001b[0m\u001b[0m\n\u001b[0m\u001b[1;32m     61\u001b[0m     \u001b[0mcustom_properties\u001b[0m \u001b[0;34m=\u001b[0m \u001b[0;34m{\u001b[0m\u001b[0;34m'PythonVersion'\u001b[0m\u001b[0;34m:\u001b[0m \u001b[0mplatform\u001b[0m\u001b[0;34m.\u001b[0m\u001b[0mpython_version\u001b[0m\u001b[0;34m(\u001b[0m\u001b[0;34m)\u001b[0m\u001b[0;34m}\u001b[0m\u001b[0;34m\u001b[0m\u001b[0;34m\u001b[0m\u001b[0m\n\u001b[1;32m     62\u001b[0m     \u001b[0;32mif\u001b[0m \u001b[0;34m'properties'\u001b[0m \u001b[0;32min\u001b[0m \u001b[0mkwargs\u001b[0m\u001b[0;34m:\u001b[0m\u001b[0;34m\u001b[0m\u001b[0;34m\u001b[0m\u001b[0m\n",
      "\u001b[0;32m~/github/analitico/venv/lib/python3.7/site-packages/applicationinsights/channel/TelemetryContext.py\u001b[0m in \u001b[0;36m__init__\u001b[0;34m(self)\u001b[0m\n\u001b[1;32m     36\u001b[0m         \"\"\"\n\u001b[1;32m     37\u001b[0m         \u001b[0mself\u001b[0m\u001b[0;34m.\u001b[0m\u001b[0minstrumentation_key\u001b[0m \u001b[0;34m=\u001b[0m \u001b[0;32mNone\u001b[0m\u001b[0;34m\u001b[0m\u001b[0;34m\u001b[0m\u001b[0m\n\u001b[0;32m---> 38\u001b[0;31m         \u001b[0mself\u001b[0m\u001b[0;34m.\u001b[0m\u001b[0mdevice\u001b[0m \u001b[0;34m=\u001b[0m \u001b[0mcontracts\u001b[0m\u001b[0;34m.\u001b[0m\u001b[0mDevice\u001b[0m\u001b[0;34m(\u001b[0m\u001b[0;34m)\u001b[0m\u001b[0;34m\u001b[0m\u001b[0;34m\u001b[0m\u001b[0m\n\u001b[0m\u001b[1;32m     39\u001b[0m         \u001b[0mself\u001b[0m\u001b[0;34m.\u001b[0m\u001b[0mcloud\u001b[0m \u001b[0;34m=\u001b[0m \u001b[0mcontracts\u001b[0m\u001b[0;34m.\u001b[0m\u001b[0mCloud\u001b[0m\u001b[0;34m(\u001b[0m\u001b[0;34m)\u001b[0m\u001b[0;34m\u001b[0m\u001b[0;34m\u001b[0m\u001b[0m\n\u001b[1;32m     40\u001b[0m         \u001b[0mself\u001b[0m\u001b[0;34m.\u001b[0m\u001b[0mapplication\u001b[0m \u001b[0;34m=\u001b[0m \u001b[0mcontracts\u001b[0m\u001b[0;34m.\u001b[0m\u001b[0mApplication\u001b[0m\u001b[0;34m(\u001b[0m\u001b[0;34m)\u001b[0m\u001b[0;34m\u001b[0m\u001b[0;34m\u001b[0m\u001b[0m\n",
      "\u001b[0;32m~/github/analitico/venv/lib/python3.7/site-packages/applicationinsights/channel/contracts/Device.py\u001b[0m in \u001b[0;36m__init__\u001b[0;34m(self)\u001b[0m\n\u001b[1;32m     20\u001b[0m         self._values = {\n\u001b[1;32m     21\u001b[0m         }\n\u001b[0;32m---> 22\u001b[0;31m         \u001b[0mself\u001b[0m\u001b[0;34m.\u001b[0m\u001b[0m_initialize\u001b[0m\u001b[0;34m(\u001b[0m\u001b[0;34m)\u001b[0m\u001b[0;34m\u001b[0m\u001b[0;34m\u001b[0m\u001b[0m\n\u001b[0m\u001b[1;32m     23\u001b[0m \u001b[0;34m\u001b[0m\u001b[0m\n\u001b[1;32m     24\u001b[0m     \u001b[0;34m@\u001b[0m\u001b[0mproperty\u001b[0m\u001b[0;34m\u001b[0m\u001b[0;34m\u001b[0m\u001b[0m\n",
      "\u001b[0;32m~/github/analitico/venv/lib/python3.7/site-packages/applicationinsights/channel/TelemetryContext.py\u001b[0m in \u001b[0;36mdevice_initialize\u001b[0;34m(self)\u001b[0m\n\u001b[1;32m     12\u001b[0m     \u001b[0mself\u001b[0m\u001b[0;34m.\u001b[0m\u001b[0mid\u001b[0m \u001b[0;34m=\u001b[0m \u001b[0mplatform\u001b[0m\u001b[0;34m.\u001b[0m\u001b[0mnode\u001b[0m\u001b[0;34m(\u001b[0m\u001b[0;34m)\u001b[0m\u001b[0;34m\u001b[0m\u001b[0;34m\u001b[0m\u001b[0m\n\u001b[1;32m     13\u001b[0m     \u001b[0mself\u001b[0m\u001b[0;34m.\u001b[0m\u001b[0mos_version\u001b[0m \u001b[0;34m=\u001b[0m \u001b[0mplatform\u001b[0m\u001b[0;34m.\u001b[0m\u001b[0mversion\u001b[0m\u001b[0;34m(\u001b[0m\u001b[0;34m)\u001b[0m\u001b[0;34m\u001b[0m\u001b[0;34m\u001b[0m\u001b[0m\n\u001b[0;32m---> 14\u001b[0;31m     \u001b[0mself\u001b[0m\u001b[0;34m.\u001b[0m\u001b[0mlocale\u001b[0m \u001b[0;34m=\u001b[0m \u001b[0mlocale\u001b[0m\u001b[0;34m.\u001b[0m\u001b[0mgetdefaultlocale\u001b[0m\u001b[0;34m(\u001b[0m\u001b[0;34m)\u001b[0m\u001b[0;34m[\u001b[0m\u001b[0;36m0\u001b[0m\u001b[0;34m]\u001b[0m\u001b[0;34m\u001b[0m\u001b[0;34m\u001b[0m\u001b[0m\n\u001b[0m\u001b[1;32m     15\u001b[0m \u001b[0;34m\u001b[0m\u001b[0m\n\u001b[1;32m     16\u001b[0m \u001b[0;31m# assign the device context initializer\u001b[0m\u001b[0;34m\u001b[0m\u001b[0;34m\u001b[0m\u001b[0;34m\u001b[0m\u001b[0m\n",
      "\u001b[0;32m/Library/Frameworks/Python.framework/Versions/3.7/lib/python3.7/locale.py\u001b[0m in \u001b[0;36mgetdefaultlocale\u001b[0;34m(envvars)\u001b[0m\n\u001b[1;32m    566\u001b[0m     \u001b[0;32melse\u001b[0m\u001b[0;34m:\u001b[0m\u001b[0;34m\u001b[0m\u001b[0;34m\u001b[0m\u001b[0m\n\u001b[1;32m    567\u001b[0m         \u001b[0mlocalename\u001b[0m \u001b[0;34m=\u001b[0m \u001b[0;34m'C'\u001b[0m\u001b[0;34m\u001b[0m\u001b[0;34m\u001b[0m\u001b[0m\n\u001b[0;32m--> 568\u001b[0;31m     \u001b[0;32mreturn\u001b[0m \u001b[0m_parse_localename\u001b[0m\u001b[0;34m(\u001b[0m\u001b[0mlocalename\u001b[0m\u001b[0;34m)\u001b[0m\u001b[0;34m\u001b[0m\u001b[0;34m\u001b[0m\u001b[0m\n\u001b[0m\u001b[1;32m    569\u001b[0m \u001b[0;34m\u001b[0m\u001b[0m\n\u001b[1;32m    570\u001b[0m \u001b[0;34m\u001b[0m\u001b[0m\n",
      "\u001b[0;32m/Library/Frameworks/Python.framework/Versions/3.7/lib/python3.7/locale.py\u001b[0m in \u001b[0;36m_parse_localename\u001b[0;34m(localename)\u001b[0m\n\u001b[1;32m    493\u001b[0m     \u001b[0;32melif\u001b[0m \u001b[0mcode\u001b[0m \u001b[0;34m==\u001b[0m \u001b[0;34m'C'\u001b[0m\u001b[0;34m:\u001b[0m\u001b[0;34m\u001b[0m\u001b[0;34m\u001b[0m\u001b[0m\n\u001b[1;32m    494\u001b[0m         \u001b[0;32mreturn\u001b[0m \u001b[0;32mNone\u001b[0m\u001b[0;34m,\u001b[0m \u001b[0;32mNone\u001b[0m\u001b[0;34m\u001b[0m\u001b[0;34m\u001b[0m\u001b[0m\n\u001b[0;32m--> 495\u001b[0;31m     \u001b[0;32mraise\u001b[0m \u001b[0mValueError\u001b[0m\u001b[0;34m(\u001b[0m\u001b[0;34m'unknown locale: %s'\u001b[0m \u001b[0;34m%\u001b[0m \u001b[0mlocalename\u001b[0m\u001b[0;34m)\u001b[0m\u001b[0;34m\u001b[0m\u001b[0;34m\u001b[0m\u001b[0m\n\u001b[0m\u001b[1;32m    496\u001b[0m \u001b[0;34m\u001b[0m\u001b[0m\n\u001b[1;32m    497\u001b[0m \u001b[0;32mdef\u001b[0m \u001b[0m_build_localename\u001b[0m\u001b[0;34m(\u001b[0m\u001b[0mlocaletuple\u001b[0m\u001b[0;34m)\u001b[0m\u001b[0;34m:\u001b[0m\u001b[0;34m\u001b[0m\u001b[0;34m\u001b[0m\u001b[0m\n",
      "\u001b[0;31mValueError\u001b[0m: unknown locale: UTF-8"
     ]
    }
   ],
   "source": [
    "end_date = parser.parse('2016-01-01')\n",
    "start_date = parser.parse('2015-05-01')\n",
    "safety = ChicagoSafety(start_date=start_date, end_date=end_date)\n",
    "safety = safety.to_pandas_dataframe()"
   ]
  },
  {
   "cell_type": "code",
   "execution_count": null,
   "metadata": {},
   "outputs": [],
   "source": [
    "safety.info()"
   ]
  }
 ],
 "metadata": {
  "kernelspec": {
   "display_name": "Python 3",
   "language": "python",
   "name": "python3"
  },
  "language_info": {
   "codemirror_mode": {
    "name": "ipython",
    "version": 3
   },
   "file_extension": ".py",
   "mimetype": "text/x-python",
   "name": "python",
   "nbconvert_exporter": "python",
   "pygments_lexer": "ipython3",
   "version": "3.7.3"
  }
 },
 "nbformat": 4,
 "nbformat_minor": 2
}
