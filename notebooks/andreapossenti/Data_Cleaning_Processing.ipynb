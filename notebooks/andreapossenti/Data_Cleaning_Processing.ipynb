{
 "cells": [
  {
   "cell_type": "code",
   "execution_count": 109,
   "metadata": {},
   "outputs": [],
   "source": [
    "import pandas as pd\n",
    "import numpy as np\n",
    "import datetime as dt\n",
    "import seaborn as sns\n",
    "import matplotlib.pyplot as plt\n",
    "import progressbar\n",
    "import plotly.graph_objs as go\n",
    "import plotly.plotly as py\n",
    "from math import sin, cos, sqrt, atan2, radians, pi\n",
    "from scipy import stats\n",
    "from mpl_toolkits.mplot3d import Axes3D"
   ]
  },
  {
   "cell_type": "code",
   "execution_count": 110,
   "metadata": {},
   "outputs": [],
   "source": [
    "source_dir = \"./Data/\"\n",
    "#plt.style.use('seaborn')"
   ]
  },
  {
   "cell_type": "markdown",
   "metadata": {},
   "source": [
    "## FUNCTIONS"
   ]
  },
  {
   "cell_type": "code",
   "execution_count": 111,
   "metadata": {},
   "outputs": [],
   "source": [
    "tstamp_fmt = '%Y-%m-%d %H:%M:%S'"
   ]
  },
  {
   "cell_type": "code",
   "execution_count": 112,
   "metadata": {},
   "outputs": [],
   "source": [
    "def r2(x, y):\n",
    "    return stats.pearsonr(x, y)[0] ** 2"
   ]
  },
  {
   "cell_type": "markdown",
   "metadata": {},
   "source": [
    "##### Validate Format of Timestamps"
   ]
  },
  {
   "cell_type": "code",
   "execution_count": 113,
   "metadata": {},
   "outputs": [],
   "source": [
    "# returnes order_ids to be trashed because of invalid format\n",
    "def validate_fmt(ord_id, date_text):\n",
    "    try:\n",
    "        dt.datetime.strptime(date_text, tstamp_fmt)\n",
    "    except ValueError:\n",
    "        return ord_id\n",
    "        # print(f\"{ord_id} wrong datatype\")\n",
    "        #raise ValueError(\"Incorrect data format, should be YYYY-MM-DD hh:mm:ss\")"
   ]
  },
  {
   "cell_type": "markdown",
   "metadata": {},
   "source": [
    "##### Get Differences On Timestamps"
   ]
  },
  {
   "cell_type": "code",
   "execution_count": 114,
   "metadata": {},
   "outputs": [],
   "source": [
    "# returns the difference between two timestamps in minutes\n",
    "def elapsed_time(ord_id, t1, t2):\n",
    "    t2 = dt.datetime.strptime(t2, tstamp_fmt)\n",
    "    t1 = dt.datetime.strptime(t1, tstamp_fmt)\n",
    "    if t2>t1:\n",
    "        td = t2 - t1\n",
    "        td_mins = round(td.total_seconds() / 60, 2) \n",
    "        return [ord_id, td_mins]\n",
    "    elif t2==t1:\n",
    "        return [ord_id, 1.0] #this line is to be used for deliveries of just 1 item\n",
    "    else:\n",
    "        return [ord_id, np.NaN]"
   ]
  },
  {
   "cell_type": "markdown",
   "metadata": {},
   "source": [
    "#### Alternative Form of the Function Above"
   ]
  },
  {
   "cell_type": "code",
   "execution_count": 115,
   "metadata": {},
   "outputs": [],
   "source": [
    "# returns order_ids to be trashed because of issues with differences between timestamps\n",
    "def junk_time(ord_id, t1, t2):\n",
    "    t2 = dt.datetime.strptime(t2, tstamp_fmt)\n",
    "    t1 = dt.datetime.strptime(t1, tstamp_fmt)\n",
    "    if t2>t1: \n",
    "        pass\n",
    "    else:\n",
    "        return ord_id"
   ]
  },
  {
   "cell_type": "markdown",
   "metadata": {},
   "source": [
    "#### Compute Distances from Lat-Lng values to compare with GOOGLE API (not saying google can be wrong...)"
   ]
  },
  {
   "cell_type": "code",
   "execution_count": 116,
   "metadata": {},
   "outputs": [],
   "source": [
    "# return distance calculated from latitude and longitude\n",
    "def dist_calc(x,y):\n",
    "    if not isinstance(x, list):\n",
    "        print(f\"provide lat and lon for {x}\")\n",
    "    if not isinstance(y, list):\n",
    "        print(f\"provide lat and lon for {y}\")\n",
    "    \n",
    "    R = 6373.0\n",
    "    lat1 = radians(x[0])\n",
    "    lon1 = radians(x[1])\n",
    "    lat2 = radians(y[0])\n",
    "    lon2 = radians(y[1])\n",
    "    dlon = lon2 - lon1\n",
    "    dlat = lat2 - lat1\n",
    "\n",
    "    a = sin(dlat / 2)**2 + cos(lat1) * cos(lat2) * sin(dlon / 2)**2\n",
    "    c = 2 * atan2(sqrt(a), sqrt(1 - a))\n",
    "\n",
    "    distance = R * c * 1000\n",
    "    return distance"
   ]
  },
  {
   "cell_type": "markdown",
   "metadata": {},
   "source": [
    "# DATA LOADING & CLEANING\n"
   ]
  },
  {
   "cell_type": "markdown",
   "metadata": {},
   "source": [
    "### COURIER TABLE"
   ]
  },
  {
   "cell_type": "code",
   "execution_count": 117,
   "metadata": {},
   "outputs": [
    {
     "name": "stdout",
     "output_type": "stream",
     "text": [
      "Overview of Courier Table\n"
     ]
    },
    {
     "data": {
      "text/html": [
       "<div>\n",
       "<style scoped>\n",
       "    .dataframe tbody tr th:only-of-type {\n",
       "        vertical-align: middle;\n",
       "    }\n",
       "\n",
       "    .dataframe tbody tr th {\n",
       "        vertical-align: top;\n",
       "    }\n",
       "\n",
       "    .dataframe thead th {\n",
       "        text-align: right;\n",
       "    }\n",
       "</style>\n",
       "<table border=\"1\" class=\"dataframe\">\n",
       "  <thead>\n",
       "    <tr style=\"text-align: right;\">\n",
       "      <th></th>\n",
       "      <th>id</th>\n",
       "      <th>enabled</th>\n",
       "      <th>soldo_enabled</th>\n",
       "      <th>area</th>\n",
       "      <th>orders_taken</th>\n",
       "      <th>orders_sent</th>\n",
       "      <th>created_at</th>\n",
       "      <th>updated_at</th>\n",
       "    </tr>\n",
       "  </thead>\n",
       "  <tbody>\n",
       "    <tr>\n",
       "      <th>0</th>\n",
       "      <td>9</td>\n",
       "      <td>0</td>\n",
       "      <td>0</td>\n",
       "      <td>VR1</td>\n",
       "      <td>0</td>\n",
       "      <td>0</td>\n",
       "      <td>2014-09-03 12:40:58</td>\n",
       "      <td>2016-08-24 16:33:11</td>\n",
       "    </tr>\n",
       "    <tr>\n",
       "      <th>1</th>\n",
       "      <td>10</td>\n",
       "      <td>0</td>\n",
       "      <td>0</td>\n",
       "      <td>VR1</td>\n",
       "      <td>0</td>\n",
       "      <td>0</td>\n",
       "      <td>2014-09-03 12:40:58</td>\n",
       "      <td>2018-10-05 12:31:14</td>\n",
       "    </tr>\n",
       "    <tr>\n",
       "      <th>2</th>\n",
       "      <td>13</td>\n",
       "      <td>0</td>\n",
       "      <td>0</td>\n",
       "      <td>VR1</td>\n",
       "      <td>0</td>\n",
       "      <td>0</td>\n",
       "      <td>2014-09-03 12:40:58</td>\n",
       "      <td>2018-10-05 12:31:14</td>\n",
       "    </tr>\n",
       "    <tr>\n",
       "      <th>3</th>\n",
       "      <td>14</td>\n",
       "      <td>0</td>\n",
       "      <td>0</td>\n",
       "      <td>VR1</td>\n",
       "      <td>0</td>\n",
       "      <td>0</td>\n",
       "      <td>2014-09-03 12:40:58</td>\n",
       "      <td>2015-04-26 13:13:55</td>\n",
       "    </tr>\n",
       "    <tr>\n",
       "      <th>4</th>\n",
       "      <td>15</td>\n",
       "      <td>0</td>\n",
       "      <td>0</td>\n",
       "      <td>VR1</td>\n",
       "      <td>0</td>\n",
       "      <td>0</td>\n",
       "      <td>2014-09-03 12:40:58</td>\n",
       "      <td>2018-10-17 01:10:06</td>\n",
       "    </tr>\n",
       "  </tbody>\n",
       "</table>\n",
       "</div>"
      ],
      "text/plain": [
       "   id  enabled  soldo_enabled area  orders_taken  orders_sent  \\\n",
       "0   9        0              0  VR1             0            0   \n",
       "1  10        0              0  VR1             0            0   \n",
       "2  13        0              0  VR1             0            0   \n",
       "3  14        0              0  VR1             0            0   \n",
       "4  15        0              0  VR1             0            0   \n",
       "\n",
       "            created_at           updated_at  \n",
       "0  2014-09-03 12:40:58  2016-08-24 16:33:11  \n",
       "1  2014-09-03 12:40:58  2018-10-05 12:31:14  \n",
       "2  2014-09-03 12:40:58  2018-10-05 12:31:14  \n",
       "3  2014-09-03 12:40:58  2015-04-26 13:13:55  \n",
       "4  2014-09-03 12:40:58  2018-10-17 01:10:06  "
      ]
     },
     "execution_count": 117,
     "metadata": {},
     "output_type": "execute_result"
    }
   ],
   "source": [
    "cour_head = ['id', 'enabled', 'soldo_enabled', 'area', 'orders_taken', 'orders_sent', 'created_at', 'updated_at']\n",
    "df_cour = pd.read_csv(filepath_or_buffer=\"./Data/courier.csv\")\n",
    "df_cour.columns = cour_head\n",
    "print(\"Overview of Courier Table\")\n",
    "df_cour.head()"
   ]
  },
  {
   "cell_type": "code",
   "execution_count": 118,
   "metadata": {},
   "outputs": [
    {
     "name": "stdout",
     "output_type": "stream",
     "text": [
      "<class 'pandas.core.frame.DataFrame'>\n",
      "RangeIndex: 78883 entries, 0 to 78882\n",
      "Data columns (total 8 columns):\n",
      "id               78883 non-null int64\n",
      "enabled          78883 non-null int64\n",
      "soldo_enabled    78883 non-null int64\n",
      "area             78883 non-null object\n",
      "orders_taken     78883 non-null int64\n",
      "orders_sent      78883 non-null int64\n",
      "created_at       78883 non-null object\n",
      "updated_at       78883 non-null object\n",
      "dtypes: int64(5), object(3)\n",
      "memory usage: 4.8+ MB\n"
     ]
    }
   ],
   "source": [
    "df_cour.info()"
   ]
  },
  {
   "cell_type": "code",
   "execution_count": 119,
   "metadata": {},
   "outputs": [
    {
     "data": {
      "text/plain": [
       "{dtype('int64'): Index(['id', 'enabled', 'soldo_enabled', 'orders_taken', 'orders_sent'], dtype='object'),\n",
       " dtype('O'): Index(['area', 'created_at', 'updated_at'], dtype='object')}"
      ]
     },
     "execution_count": 119,
     "metadata": {},
     "output_type": "execute_result"
    }
   ],
   "source": [
    "types_cour = df_cour.columns.to_series().groupby(df_cour.dtypes).groups\n",
    "types_cour"
   ]
  },
  {
   "cell_type": "markdown",
   "metadata": {},
   "source": [
    "### COURIER ROLE TABLE"
   ]
  },
  {
   "cell_type": "code",
   "execution_count": 120,
   "metadata": {},
   "outputs": [
    {
     "name": "stdout",
     "output_type": "stream",
     "text": [
      "Overview of Courier Role Table\n"
     ]
    },
    {
     "data": {
      "text/html": [
       "<div>\n",
       "<style scoped>\n",
       "    .dataframe tbody tr th:only-of-type {\n",
       "        vertical-align: middle;\n",
       "    }\n",
       "\n",
       "    .dataframe tbody tr th {\n",
       "        vertical-align: top;\n",
       "    }\n",
       "\n",
       "    .dataframe thead th {\n",
       "        text-align: right;\n",
       "    }\n",
       "</style>\n",
       "<table border=\"1\" class=\"dataframe\">\n",
       "  <thead>\n",
       "    <tr style=\"text-align: right;\">\n",
       "      <th></th>\n",
       "      <th>id</th>\n",
       "      <th>courier_id</th>\n",
       "      <th>role_id</th>\n",
       "    </tr>\n",
       "  </thead>\n",
       "  <tbody>\n",
       "    <tr>\n",
       "      <th>0</th>\n",
       "      <td>205199</td>\n",
       "      <td>9</td>\n",
       "      <td>2</td>\n",
       "    </tr>\n",
       "    <tr>\n",
       "      <th>1</th>\n",
       "      <td>234</td>\n",
       "      <td>10</td>\n",
       "      <td>2</td>\n",
       "    </tr>\n",
       "    <tr>\n",
       "      <th>2</th>\n",
       "      <td>236</td>\n",
       "      <td>13</td>\n",
       "      <td>2</td>\n",
       "    </tr>\n",
       "    <tr>\n",
       "      <th>3</th>\n",
       "      <td>238</td>\n",
       "      <td>14</td>\n",
       "      <td>2</td>\n",
       "    </tr>\n",
       "    <tr>\n",
       "      <th>4</th>\n",
       "      <td>224307</td>\n",
       "      <td>15</td>\n",
       "      <td>2</td>\n",
       "    </tr>\n",
       "  </tbody>\n",
       "</table>\n",
       "</div>"
      ],
      "text/plain": [
       "       id  courier_id  role_id\n",
       "0  205199           9        2\n",
       "1     234          10        2\n",
       "2     236          13        2\n",
       "3     238          14        2\n",
       "4  224307          15        2"
      ]
     },
     "execution_count": 120,
     "metadata": {},
     "output_type": "execute_result"
    }
   ],
   "source": [
    "cour_role_head = ['id', 'courier_id', 'role_id']\n",
    "df_role = pd.read_csv(filepath_or_buffer=\"./Data/courier_role.csv\")\n",
    "df_role.columns = cour_role_head\n",
    "print(\"Overview of Courier Role Table\")\n",
    "df_role.head()"
   ]
  },
  {
   "cell_type": "code",
   "execution_count": 121,
   "metadata": {},
   "outputs": [
    {
     "data": {
      "text/plain": [
       "{dtype('int64'): Index(['id', 'courier_id', 'role_id'], dtype='object')}"
      ]
     },
     "execution_count": 121,
     "metadata": {},
     "output_type": "execute_result"
    }
   ],
   "source": [
    "types_role = df_role.columns.to_series().groupby(df_role.dtypes).groups\n",
    "types_role"
   ]
  },
  {
   "cell_type": "markdown",
   "metadata": {},
   "source": [
    "### CUSTOMER TABLE"
   ]
  },
  {
   "cell_type": "code",
   "execution_count": 122,
   "metadata": {},
   "outputs": [
    {
     "name": "stdout",
     "output_type": "stream",
     "text": [
      "(388907, 10)\n"
     ]
    },
    {
     "data": {
      "text/html": [
       "<div>\n",
       "<style scoped>\n",
       "    .dataframe tbody tr th:only-of-type {\n",
       "        vertical-align: middle;\n",
       "    }\n",
       "\n",
       "    .dataframe tbody tr th {\n",
       "        vertical-align: top;\n",
       "    }\n",
       "\n",
       "    .dataframe thead th {\n",
       "        text-align: right;\n",
       "    }\n",
       "</style>\n",
       "<table border=\"1\" class=\"dataframe\">\n",
       "  <thead>\n",
       "    <tr style=\"text-align: right;\">\n",
       "      <th></th>\n",
       "      <th>id</th>\n",
       "      <th>province</th>\n",
       "      <th>lat</th>\n",
       "      <th>lng</th>\n",
       "      <th>area</th>\n",
       "      <th>ztl</th>\n",
       "      <th>ref_id</th>\n",
       "      <th>has_subscription</th>\n",
       "      <th>created_at</th>\n",
       "      <th>updated_at</th>\n",
       "    </tr>\n",
       "  </thead>\n",
       "  <tbody>\n",
       "    <tr>\n",
       "      <th>0</th>\n",
       "      <td>52</td>\n",
       "      <td>MO</td>\n",
       "      <td>44.653089</td>\n",
       "      <td>10.953185</td>\n",
       "      <td>\\N</td>\n",
       "      <td>0</td>\n",
       "      <td>33152</td>\n",
       "      <td>0</td>\n",
       "      <td>20/05/2015 17:47</td>\n",
       "      <td>20/05/2015 17:47</td>\n",
       "    </tr>\n",
       "    <tr>\n",
       "      <th>1</th>\n",
       "      <td>58</td>\n",
       "      <td>RM</td>\n",
       "      <td>41.899597</td>\n",
       "      <td>12.431724</td>\n",
       "      <td>\\N</td>\n",
       "      <td>0</td>\n",
       "      <td>33220</td>\n",
       "      <td>0</td>\n",
       "      <td>21/05/2015 08:39</td>\n",
       "      <td>21/05/2015 08:39</td>\n",
       "    </tr>\n",
       "    <tr>\n",
       "      <th>2</th>\n",
       "      <td>60</td>\n",
       "      <td>MI</td>\n",
       "      <td>45.500228</td>\n",
       "      <td>9.237602</td>\n",
       "      <td>\\N</td>\n",
       "      <td>0</td>\n",
       "      <td>18072</td>\n",
       "      <td>0</td>\n",
       "      <td>21/05/2015 09:39</td>\n",
       "      <td>21/05/2015 09:39</td>\n",
       "    </tr>\n",
       "    <tr>\n",
       "      <th>3</th>\n",
       "      <td>62</td>\n",
       "      <td>RM</td>\n",
       "      <td>41.860709</td>\n",
       "      <td>12.482966</td>\n",
       "      <td>\\N</td>\n",
       "      <td>0</td>\n",
       "      <td>28560</td>\n",
       "      <td>0</td>\n",
       "      <td>21/05/2015 10:23</td>\n",
       "      <td>21/05/2015 10:23</td>\n",
       "    </tr>\n",
       "    <tr>\n",
       "      <th>4</th>\n",
       "      <td>74</td>\n",
       "      <td>TO</td>\n",
       "      <td>45.077591</td>\n",
       "      <td>7.633557</td>\n",
       "      <td>\\N</td>\n",
       "      <td>0</td>\n",
       "      <td>33428</td>\n",
       "      <td>0</td>\n",
       "      <td>22/05/2015 11:39</td>\n",
       "      <td>22/05/2015 11:39</td>\n",
       "    </tr>\n",
       "  </tbody>\n",
       "</table>\n",
       "</div>"
      ],
      "text/plain": [
       "   id province        lat        lng area  ztl  ref_id  has_subscription  \\\n",
       "0  52       MO  44.653089  10.953185   \\N    0   33152                 0   \n",
       "1  58       RM  41.899597  12.431724   \\N    0   33220                 0   \n",
       "2  60       MI  45.500228   9.237602   \\N    0   18072                 0   \n",
       "3  62       RM  41.860709  12.482966   \\N    0   28560                 0   \n",
       "4  74       TO  45.077591   7.633557   \\N    0   33428                 0   \n",
       "\n",
       "         created_at        updated_at  \n",
       "0  20/05/2015 17:47  20/05/2015 17:47  \n",
       "1  21/05/2015 08:39  21/05/2015 08:39  \n",
       "2  21/05/2015 09:39  21/05/2015 09:39  \n",
       "3  21/05/2015 10:23  21/05/2015 10:23  \n",
       "4  22/05/2015 11:39  22/05/2015 11:39  "
      ]
     },
     "execution_count": 122,
     "metadata": {},
     "output_type": "execute_result"
    }
   ],
   "source": [
    "customer_head = ['id', 'province', 'lat', 'lng', 'area', 'ztl', 'ref_id', 'has_subscription', 'created_at', 'updated_at']\n",
    "df_cust = pd.read_csv(filepath_or_buffer=\"./Data/customer.csv\")\n",
    "df_cust.columns = customer_head\n",
    "print(df_cust.shape)\n",
    "df_cust.head()"
   ]
  },
  {
   "cell_type": "code",
   "execution_count": 123,
   "metadata": {},
   "outputs": [
    {
     "data": {
      "text/plain": [
       "{dtype('int64'): Index(['id', 'ztl', 'ref_id', 'has_subscription'], dtype='object'),\n",
       " dtype('float64'): Index(['lat', 'lng'], dtype='object'),\n",
       " dtype('O'): Index(['province', 'area', 'created_at', 'updated_at'], dtype='object')}"
      ]
     },
     "execution_count": 123,
     "metadata": {},
     "output_type": "execute_result"
    }
   ],
   "source": [
    "types_cust = df_cust.columns.to_series().groupby(df_cust.dtypes).groups\n",
    "types_cust"
   ]
  },
  {
   "cell_type": "markdown",
   "metadata": {},
   "source": [
    "### ORDER TABLE"
   ]
  },
  {
   "cell_type": "code",
   "execution_count": 124,
   "metadata": {},
   "outputs": [
    {
     "name": "stdout",
     "output_type": "stream",
     "text": [
      "CPU times: user 2.1 s, sys: 190 ms, total: 2.29 s\n",
      "Wall time: 2.29 s\n",
      "Shape  (388907, 26)\n"
     ]
    },
    {
     "name": "stderr",
     "output_type": "stream",
     "text": [
      "<string>:2: DtypeWarning:\n",
      "\n",
      "Columns (14) have mixed types. Specify dtype option on import or set low_memory=False.\n",
      "\n"
     ]
    },
    {
     "data": {
      "text/html": [
       "<div>\n",
       "<style scoped>\n",
       "    .dataframe tbody tr th:only-of-type {\n",
       "        vertical-align: middle;\n",
       "    }\n",
       "\n",
       "    .dataframe tbody tr th {\n",
       "        vertical-align: top;\n",
       "    }\n",
       "\n",
       "    .dataframe thead th {\n",
       "        text-align: right;\n",
       "    }\n",
       "</style>\n",
       "<table border=\"1\" class=\"dataframe\">\n",
       "  <thead>\n",
       "    <tr style=\"text-align: right;\">\n",
       "      <th></th>\n",
       "      <th>id</th>\n",
       "      <th>store_id</th>\n",
       "      <th>customer_id</th>\n",
       "      <th>courier_id</th>\n",
       "      <th>picker_id</th>\n",
       "      <th>fulfillment_type</th>\n",
       "      <th>status</th>\n",
       "      <th>deliver_at_start</th>\n",
       "      <th>deliver_at_end</th>\n",
       "      <th>amount</th>\n",
       "      <th>...</th>\n",
       "      <th>deleted</th>\n",
       "      <th>gdo</th>\n",
       "      <th>vertical</th>\n",
       "      <th>created_at</th>\n",
       "      <th>updated_at</th>\n",
       "      <th>assigned_at</th>\n",
       "      <th>picked_at</th>\n",
       "      <th>paid_at</th>\n",
       "      <th>delivered_at</th>\n",
       "      <th>deleted_at</th>\n",
       "    </tr>\n",
       "  </thead>\n",
       "  <tbody>\n",
       "    <tr>\n",
       "      <th>0</th>\n",
       "      <td>20050</td>\n",
       "      <td>52</td>\n",
       "      <td>52</td>\n",
       "      <td>4393</td>\n",
       "      <td>\\N</td>\n",
       "      <td>1</td>\n",
       "      <td>600</td>\n",
       "      <td>2015-05-20 19:00:00</td>\n",
       "      <td>2015-05-20 20:00:00</td>\n",
       "      <td>19.98</td>\n",
       "      <td>...</td>\n",
       "      <td>0</td>\n",
       "      <td>0</td>\n",
       "      <td>0</td>\n",
       "      <td>2015-05-20 17:47:58</td>\n",
       "      <td>2018-10-03 15:38:03</td>\n",
       "      <td>2015-05-20 18:45:08</td>\n",
       "      <td>\\N</td>\n",
       "      <td>2015-05-20 19:38:41</td>\n",
       "      <td>2015-05-20 19:53:49</td>\n",
       "      <td>\\N</td>\n",
       "    </tr>\n",
       "    <tr>\n",
       "      <th>1</th>\n",
       "      <td>20056</td>\n",
       "      <td>58</td>\n",
       "      <td>58</td>\n",
       "      <td>4701</td>\n",
       "      <td>\\N</td>\n",
       "      <td>1</td>\n",
       "      <td>600</td>\n",
       "      <td>2015-05-22 19:00:00</td>\n",
       "      <td>2015-05-22 20:00:00</td>\n",
       "      <td>14.64</td>\n",
       "      <td>...</td>\n",
       "      <td>0</td>\n",
       "      <td>0</td>\n",
       "      <td>0</td>\n",
       "      <td>2015-05-21 08:39:31</td>\n",
       "      <td>2018-10-03 15:38:03</td>\n",
       "      <td>2015-05-21 19:52:31</td>\n",
       "      <td>\\N</td>\n",
       "      <td>2015-05-22 18:52:12</td>\n",
       "      <td>2015-05-22 19:07:51</td>\n",
       "      <td>\\N</td>\n",
       "    </tr>\n",
       "    <tr>\n",
       "      <th>2</th>\n",
       "      <td>20058</td>\n",
       "      <td>60</td>\n",
       "      <td>60</td>\n",
       "      <td>14816</td>\n",
       "      <td>\\N</td>\n",
       "      <td>1</td>\n",
       "      <td>600</td>\n",
       "      <td>2015-05-21 15:00:00</td>\n",
       "      <td>2015-05-21 16:00:00</td>\n",
       "      <td>31.09</td>\n",
       "      <td>...</td>\n",
       "      <td>0</td>\n",
       "      <td>0</td>\n",
       "      <td>0</td>\n",
       "      <td>2015-05-21 09:39:06</td>\n",
       "      <td>2018-10-03 15:38:03</td>\n",
       "      <td>2015-05-21 11:02:51</td>\n",
       "      <td>\\N</td>\n",
       "      <td>2015-05-21 15:43:21</td>\n",
       "      <td>2015-05-21 17:23:48</td>\n",
       "      <td>\\N</td>\n",
       "    </tr>\n",
       "    <tr>\n",
       "      <th>3</th>\n",
       "      <td>20060</td>\n",
       "      <td>62</td>\n",
       "      <td>62</td>\n",
       "      <td>7270</td>\n",
       "      <td>\\N</td>\n",
       "      <td>1</td>\n",
       "      <td>600</td>\n",
       "      <td>2015-05-21 18:00:00</td>\n",
       "      <td>2015-05-21 19:00:00</td>\n",
       "      <td>29.79</td>\n",
       "      <td>...</td>\n",
       "      <td>0</td>\n",
       "      <td>0</td>\n",
       "      <td>0</td>\n",
       "      <td>2015-05-21 10:23:26</td>\n",
       "      <td>2018-10-03 15:38:03</td>\n",
       "      <td>2015-05-21 12:17:45</td>\n",
       "      <td>\\N</td>\n",
       "      <td>2015-05-21 18:03:32</td>\n",
       "      <td>2015-05-21 20:19:08</td>\n",
       "      <td>\\N</td>\n",
       "    </tr>\n",
       "    <tr>\n",
       "      <th>4</th>\n",
       "      <td>20072</td>\n",
       "      <td>74</td>\n",
       "      <td>74</td>\n",
       "      <td>5267</td>\n",
       "      <td>\\N</td>\n",
       "      <td>1</td>\n",
       "      <td>600</td>\n",
       "      <td>2015-05-22 13:00:00</td>\n",
       "      <td>2015-05-22 14:00:00</td>\n",
       "      <td>16.79</td>\n",
       "      <td>...</td>\n",
       "      <td>0</td>\n",
       "      <td>0</td>\n",
       "      <td>0</td>\n",
       "      <td>2015-05-22 11:39:21</td>\n",
       "      <td>2018-10-03 15:38:03</td>\n",
       "      <td>2015-05-22 12:35:41</td>\n",
       "      <td>\\N</td>\n",
       "      <td>2015-05-22 14:37:35</td>\n",
       "      <td>2015-05-22 14:45:03</td>\n",
       "      <td>\\N</td>\n",
       "    </tr>\n",
       "  </tbody>\n",
       "</table>\n",
       "<p>5 rows × 26 columns</p>\n",
       "</div>"
      ],
      "text/plain": [
       "      id  store_id  customer_id courier_id picker_id  fulfillment_type  \\\n",
       "0  20050        52           52       4393        \\N                 1   \n",
       "1  20056        58           58       4701        \\N                 1   \n",
       "2  20058        60           60      14816        \\N                 1   \n",
       "3  20060        62           62       7270        \\N                 1   \n",
       "4  20072        74           74       5267        \\N                 1   \n",
       "\n",
       "   status     deliver_at_start       deliver_at_end  amount    ...      \\\n",
       "0     600  2015-05-20 19:00:00  2015-05-20 20:00:00   19.98    ...       \n",
       "1     600  2015-05-22 19:00:00  2015-05-22 20:00:00   14.64    ...       \n",
       "2     600  2015-05-21 15:00:00  2015-05-21 16:00:00   31.09    ...       \n",
       "3     600  2015-05-21 18:00:00  2015-05-21 19:00:00   29.79    ...       \n",
       "4     600  2015-05-22 13:00:00  2015-05-22 14:00:00   16.79    ...       \n",
       "\n",
       "   deleted  gdo  vertical           created_at           updated_at  \\\n",
       "0        0    0         0  2015-05-20 17:47:58  2018-10-03 15:38:03   \n",
       "1        0    0         0  2015-05-21 08:39:31  2018-10-03 15:38:03   \n",
       "2        0    0         0  2015-05-21 09:39:06  2018-10-03 15:38:03   \n",
       "3        0    0         0  2015-05-21 10:23:26  2018-10-03 15:38:03   \n",
       "4        0    0         0  2015-05-22 11:39:21  2018-10-03 15:38:03   \n",
       "\n",
       "           assigned_at  picked_at              paid_at         delivered_at  \\\n",
       "0  2015-05-20 18:45:08         \\N  2015-05-20 19:38:41  2015-05-20 19:53:49   \n",
       "1  2015-05-21 19:52:31         \\N  2015-05-22 18:52:12  2015-05-22 19:07:51   \n",
       "2  2015-05-21 11:02:51         \\N  2015-05-21 15:43:21  2015-05-21 17:23:48   \n",
       "3  2015-05-21 12:17:45         \\N  2015-05-21 18:03:32  2015-05-21 20:19:08   \n",
       "4  2015-05-22 12:35:41         \\N  2015-05-22 14:37:35  2015-05-22 14:45:03   \n",
       "\n",
       "  deleted_at  \n",
       "0         \\N  \n",
       "1         \\N  \n",
       "2         \\N  \n",
       "3         \\N  \n",
       "4         \\N  \n",
       "\n",
       "[5 rows x 26 columns]"
      ]
     },
     "execution_count": 124,
     "metadata": {},
     "output_type": "execute_result"
    }
   ],
   "source": [
    "order_head = ['id', 'store_id', 'customer_id', 'courier_id', 'picker_id', 'fulfillment_type', 'status', 'deliver_at_start', 'deliver_at_end', 'amount', 'volume', 'delivery_cost_fixed_original', 'delivery_cost_discount', 'store_customer_distance', 'store_customer_duration', 'delivery_moved', 'deleted', 'gdo', 'vertical', 'created_at', 'updated_at', 'assigned_at', 'picked_at', 'paid_at', 'delivered_at', 'deleted_at']\n",
    "%time df_order = pd.read_csv(filepath_or_buffer=\"./Data/order.csv\")\n",
    "df_order.columns = order_head\n",
    "print(\"Shape \", df_order.shape)\n",
    "df_order.head()"
   ]
  },
  {
   "cell_type": "code",
   "execution_count": 125,
   "metadata": {},
   "outputs": [
    {
     "data": {
      "text/plain": [
       "{dtype('int64'): Index(['id', 'store_id', 'customer_id', 'fulfillment_type', 'status',\n",
       "        'store_customer_distance', 'delivery_moved', 'deleted', 'gdo',\n",
       "        'vertical'],\n",
       "       dtype='object'),\n",
       " dtype('float64'): Index(['amount', 'volume', 'delivery_cost_fixed_original',\n",
       "        'delivery_cost_discount'],\n",
       "       dtype='object'),\n",
       " dtype('O'): Index(['courier_id', 'picker_id', 'deliver_at_start', 'deliver_at_end',\n",
       "        'store_customer_duration', 'created_at', 'updated_at', 'assigned_at',\n",
       "        'picked_at', 'paid_at', 'delivered_at', 'deleted_at'],\n",
       "       dtype='object')}"
      ]
     },
     "execution_count": 125,
     "metadata": {},
     "output_type": "execute_result"
    }
   ],
   "source": [
    "types_ord = df_order.columns.to_series().groupby(df_order.dtypes).groups\n",
    "types_ord"
   ]
  },
  {
   "cell_type": "markdown",
   "metadata": {},
   "source": [
    "#### Get subset where STORE_CUSTOMER_DURATION is not empty"
   ]
  },
  {
   "cell_type": "code",
   "execution_count": 126,
   "metadata": {},
   "outputs": [],
   "source": [
    "scd = df_order[['id','store_customer_duration']]\n",
    "scd.head()\n",
    "scd_nan = pd.to_numeric(scd['store_customer_duration'], errors='coerce')\n",
    "scd_nan = scd_nan.dropna()\n",
    "scd_nan.index\n",
    "\n",
    "## subset data with store_customer_duration estimated\n",
    "df_order_scd = df_order.iloc[scd_nan.index]"
   ]
  },
  {
   "cell_type": "markdown",
   "metadata": {},
   "source": [
    "#### Filter out DELETED orders and filter the data with STATUS>=500"
   ]
  },
  {
   "cell_type": "code",
   "execution_count": 127,
   "metadata": {},
   "outputs": [
    {
     "name": "stdout",
     "output_type": "stream",
     "text": [
      "Shape  (296631, 24)\n"
     ]
    },
    {
     "data": {
      "text/html": [
       "<div>\n",
       "<style scoped>\n",
       "    .dataframe tbody tr th:only-of-type {\n",
       "        vertical-align: middle;\n",
       "    }\n",
       "\n",
       "    .dataframe tbody tr th {\n",
       "        vertical-align: top;\n",
       "    }\n",
       "\n",
       "    .dataframe thead th {\n",
       "        text-align: right;\n",
       "    }\n",
       "</style>\n",
       "<table border=\"1\" class=\"dataframe\">\n",
       "  <thead>\n",
       "    <tr style=\"text-align: right;\">\n",
       "      <th></th>\n",
       "      <th>id</th>\n",
       "      <th>store_id</th>\n",
       "      <th>customer_id</th>\n",
       "      <th>courier_id</th>\n",
       "      <th>picker_id</th>\n",
       "      <th>fulfillment_type</th>\n",
       "      <th>status</th>\n",
       "      <th>deliver_at_start</th>\n",
       "      <th>deliver_at_end</th>\n",
       "      <th>amount</th>\n",
       "      <th>...</th>\n",
       "      <th>store_customer_duration</th>\n",
       "      <th>delivery_moved</th>\n",
       "      <th>deleted</th>\n",
       "      <th>gdo</th>\n",
       "      <th>vertical</th>\n",
       "      <th>created_at</th>\n",
       "      <th>assigned_at</th>\n",
       "      <th>picked_at</th>\n",
       "      <th>paid_at</th>\n",
       "      <th>delivered_at</th>\n",
       "    </tr>\n",
       "  </thead>\n",
       "  <tbody>\n",
       "    <tr>\n",
       "      <th>47399</th>\n",
       "      <td>120402</td>\n",
       "      <td>100438</td>\n",
       "      <td>100446</td>\n",
       "      <td>42378</td>\n",
       "      <td>\\N</td>\n",
       "      <td>1</td>\n",
       "      <td>600</td>\n",
       "      <td>2016-05-10 13:00:00</td>\n",
       "      <td>2016-05-10 14:00:00</td>\n",
       "      <td>35.51</td>\n",
       "      <td>...</td>\n",
       "      <td>198</td>\n",
       "      <td>0</td>\n",
       "      <td>0</td>\n",
       "      <td>0</td>\n",
       "      <td>0</td>\n",
       "      <td>2016-05-10 00:15:58</td>\n",
       "      <td>2016-05-10 00:16:47</td>\n",
       "      <td>\\N</td>\n",
       "      <td>2016-05-10 13:34:11</td>\n",
       "      <td>2016-05-10 13:40:33</td>\n",
       "    </tr>\n",
       "    <tr>\n",
       "      <th>47400</th>\n",
       "      <td>120404</td>\n",
       "      <td>100440</td>\n",
       "      <td>100448</td>\n",
       "      <td>51236</td>\n",
       "      <td>\\N</td>\n",
       "      <td>1</td>\n",
       "      <td>600</td>\n",
       "      <td>2016-05-12 20:00:00</td>\n",
       "      <td>2016-05-12 21:00:00</td>\n",
       "      <td>29.13</td>\n",
       "      <td>...</td>\n",
       "      <td>661</td>\n",
       "      <td>0</td>\n",
       "      <td>0</td>\n",
       "      <td>0</td>\n",
       "      <td>0</td>\n",
       "      <td>2016-05-10 00:38:32</td>\n",
       "      <td>2016-05-10 00:42:31</td>\n",
       "      <td>\\N</td>\n",
       "      <td>2016-05-12 20:07:18</td>\n",
       "      <td>2016-05-12 20:27:28</td>\n",
       "    </tr>\n",
       "    <tr>\n",
       "      <th>47401</th>\n",
       "      <td>120406</td>\n",
       "      <td>100442</td>\n",
       "      <td>100450</td>\n",
       "      <td>32934</td>\n",
       "      <td>\\N</td>\n",
       "      <td>1</td>\n",
       "      <td>600</td>\n",
       "      <td>2016-05-10 13:00:00</td>\n",
       "      <td>2016-05-10 14:00:00</td>\n",
       "      <td>21.65</td>\n",
       "      <td>...</td>\n",
       "      <td>235</td>\n",
       "      <td>0</td>\n",
       "      <td>0</td>\n",
       "      <td>0</td>\n",
       "      <td>0</td>\n",
       "      <td>2016-05-10 00:55:42</td>\n",
       "      <td>2016-05-10 00:57:00</td>\n",
       "      <td>\\N</td>\n",
       "      <td>2016-05-10 12:53:48</td>\n",
       "      <td>2016-05-10 13:06:30</td>\n",
       "    </tr>\n",
       "    <tr>\n",
       "      <th>47402</th>\n",
       "      <td>120408</td>\n",
       "      <td>100444</td>\n",
       "      <td>100452</td>\n",
       "      <td>53458</td>\n",
       "      <td>\\N</td>\n",
       "      <td>1</td>\n",
       "      <td>600</td>\n",
       "      <td>2016-05-10 10:00:00</td>\n",
       "      <td>2016-05-10 11:00:00</td>\n",
       "      <td>22.83</td>\n",
       "      <td>...</td>\n",
       "      <td>951</td>\n",
       "      <td>0</td>\n",
       "      <td>0</td>\n",
       "      <td>0</td>\n",
       "      <td>0</td>\n",
       "      <td>2016-05-10 01:03:26</td>\n",
       "      <td>2016-05-10 08:47:28</td>\n",
       "      <td>\\N</td>\n",
       "      <td>2016-05-10 10:29:41</td>\n",
       "      <td>2016-05-10 11:00:07</td>\n",
       "    </tr>\n",
       "    <tr>\n",
       "      <th>47403</th>\n",
       "      <td>120410</td>\n",
       "      <td>100446</td>\n",
       "      <td>100454</td>\n",
       "      <td>36412</td>\n",
       "      <td>\\N</td>\n",
       "      <td>1</td>\n",
       "      <td>600</td>\n",
       "      <td>2016-05-10 12:00:00</td>\n",
       "      <td>2016-05-10 13:00:00</td>\n",
       "      <td>124.03</td>\n",
       "      <td>...</td>\n",
       "      <td>686</td>\n",
       "      <td>0</td>\n",
       "      <td>0</td>\n",
       "      <td>0</td>\n",
       "      <td>0</td>\n",
       "      <td>2016-05-10 03:04:37</td>\n",
       "      <td>2016-05-10 03:17:08</td>\n",
       "      <td>\\N</td>\n",
       "      <td>2016-05-10 12:14:33</td>\n",
       "      <td>2016-05-10 12:37:22</td>\n",
       "    </tr>\n",
       "  </tbody>\n",
       "</table>\n",
       "<p>5 rows × 24 columns</p>\n",
       "</div>"
      ],
      "text/plain": [
       "           id  store_id  customer_id courier_id picker_id  fulfillment_type  \\\n",
       "47399  120402    100438       100446      42378        \\N                 1   \n",
       "47400  120404    100440       100448      51236        \\N                 1   \n",
       "47401  120406    100442       100450      32934        \\N                 1   \n",
       "47402  120408    100444       100452      53458        \\N                 1   \n",
       "47403  120410    100446       100454      36412        \\N                 1   \n",
       "\n",
       "       status     deliver_at_start       deliver_at_end  amount  \\\n",
       "47399     600  2016-05-10 13:00:00  2016-05-10 14:00:00   35.51   \n",
       "47400     600  2016-05-12 20:00:00  2016-05-12 21:00:00   29.13   \n",
       "47401     600  2016-05-10 13:00:00  2016-05-10 14:00:00   21.65   \n",
       "47402     600  2016-05-10 10:00:00  2016-05-10 11:00:00   22.83   \n",
       "47403     600  2016-05-10 12:00:00  2016-05-10 13:00:00  124.03   \n",
       "\n",
       "              ...           store_customer_duration  delivery_moved  deleted  \\\n",
       "47399         ...                               198               0        0   \n",
       "47400         ...                               661               0        0   \n",
       "47401         ...                               235               0        0   \n",
       "47402         ...                               951               0        0   \n",
       "47403         ...                               686               0        0   \n",
       "\n",
       "       gdo vertical           created_at          assigned_at  picked_at  \\\n",
       "47399    0        0  2016-05-10 00:15:58  2016-05-10 00:16:47         \\N   \n",
       "47400    0        0  2016-05-10 00:38:32  2016-05-10 00:42:31         \\N   \n",
       "47401    0        0  2016-05-10 00:55:42  2016-05-10 00:57:00         \\N   \n",
       "47402    0        0  2016-05-10 01:03:26  2016-05-10 08:47:28         \\N   \n",
       "47403    0        0  2016-05-10 03:04:37  2016-05-10 03:17:08         \\N   \n",
       "\n",
       "                   paid_at         delivered_at  \n",
       "47399  2016-05-10 13:34:11  2016-05-10 13:40:33  \n",
       "47400  2016-05-12 20:07:18  2016-05-12 20:27:28  \n",
       "47401  2016-05-10 12:53:48  2016-05-10 13:06:30  \n",
       "47402  2016-05-10 10:29:41  2016-05-10 11:00:07  \n",
       "47403  2016-05-10 12:14:33  2016-05-10 12:37:22  \n",
       "\n",
       "[5 rows x 24 columns]"
      ]
     },
     "execution_count": 127,
     "metadata": {},
     "output_type": "execute_result"
    }
   ],
   "source": [
    "## filter out deleted orders \n",
    "## deleted \"deleted_at\" column\n",
    "## filter just delivered orders\n",
    "df_order_scd = df_order_scd[df_order_scd.deleted == 0]\n",
    "df_order_scd = df_order_scd.drop(['deleted_at'], axis=1)\n",
    "df_order_scd = df_order_scd[df_order_scd.status >= 500].drop('updated_at', axis=1)\n",
    "print(\"Shape \", df_order_scd.shape)\n",
    "df_order_scd.head()"
   ]
  },
  {
   "cell_type": "markdown",
   "metadata": {},
   "source": [
    "#### Validate orders delivered_at format"
   ]
  },
  {
   "cell_type": "code",
   "execution_count": 128,
   "metadata": {},
   "outputs": [
    {
     "name": "stdout",
     "output_type": "stream",
     "text": [
      "[None None None None None None None None None None None None None None\n",
      " None None None None None None]\n",
      "Number of orders with no delivered_at keyword  0\n"
     ]
    }
   ],
   "source": [
    "junk_ord = np.array(list(map(validate_fmt,df_order_scd.id.values,df_order_scd.delivered_at.values)))\n",
    "print(junk_ord[:20])\n",
    "junk_ord = junk_ord[junk_ord != np.array(None)].astype(int)\n",
    "print(\"Number of orders with no delivered_at keyword \", len(junk_ord))"
   ]
  },
  {
   "cell_type": "markdown",
   "metadata": {},
   "source": [
    "#### Validate orders paid_at format"
   ]
  },
  {
   "cell_type": "code",
   "execution_count": 129,
   "metadata": {},
   "outputs": [
    {
     "name": "stdout",
     "output_type": "stream",
     "text": [
      "[None None None None None None None None None None None None None None\n",
      " None None None None None None]\n",
      "Number of orders with no paid_at keyword  0\n"
     ]
    }
   ],
   "source": [
    "junk_ord = np.array(list(map(validate_fmt,df_order_scd.id.values,df_order_scd.paid_at.values)))\n",
    "print(junk_ord[:20])\n",
    "junk_ord = junk_ord[junk_ord != np.array(None)].astype(int)\n",
    "print(\"Number of orders with no paid_at keyword \", len(junk_ord))"
   ]
  },
  {
   "cell_type": "markdown",
   "metadata": {},
   "source": [
    "### ORDER TIMESTAMP TABLE"
   ]
  },
  {
   "cell_type": "code",
   "execution_count": 130,
   "metadata": {},
   "outputs": [
    {
     "name": "stdout",
     "output_type": "stream",
     "text": [
      "CPU times: user 1.02 s, sys: 139 ms, total: 1.16 s\n",
      "Wall time: 1.16 s\n",
      "Shape  (388907, 8)\n"
     ]
    },
    {
     "data": {
      "text/html": [
       "<div>\n",
       "<style scoped>\n",
       "    .dataframe tbody tr th:only-of-type {\n",
       "        vertical-align: middle;\n",
       "    }\n",
       "\n",
       "    .dataframe tbody tr th {\n",
       "        vertical-align: top;\n",
       "    }\n",
       "\n",
       "    .dataframe thead th {\n",
       "        text-align: right;\n",
       "    }\n",
       "</style>\n",
       "<table border=\"1\" class=\"dataframe\">\n",
       "  <thead>\n",
       "    <tr style=\"text-align: right;\">\n",
       "      <th></th>\n",
       "      <th>order_id</th>\n",
       "      <th>opened_at</th>\n",
       "      <th>client_synced_at</th>\n",
       "      <th>synced_at</th>\n",
       "      <th>first_detail_picked_at</th>\n",
       "      <th>last_detail_picked_at</th>\n",
       "      <th>first_try_pay_at</th>\n",
       "      <th>delivered_at</th>\n",
       "    </tr>\n",
       "  </thead>\n",
       "  <tbody>\n",
       "    <tr>\n",
       "      <th>0</th>\n",
       "      <td>20050</td>\n",
       "      <td>\\N</td>\n",
       "      <td>\\N</td>\n",
       "      <td>\\N</td>\n",
       "      <td>\\N</td>\n",
       "      <td>\\N</td>\n",
       "      <td>\\N</td>\n",
       "      <td>\\N</td>\n",
       "    </tr>\n",
       "    <tr>\n",
       "      <th>1</th>\n",
       "      <td>20056</td>\n",
       "      <td>\\N</td>\n",
       "      <td>\\N</td>\n",
       "      <td>\\N</td>\n",
       "      <td>\\N</td>\n",
       "      <td>\\N</td>\n",
       "      <td>\\N</td>\n",
       "      <td>\\N</td>\n",
       "    </tr>\n",
       "    <tr>\n",
       "      <th>2</th>\n",
       "      <td>20058</td>\n",
       "      <td>\\N</td>\n",
       "      <td>\\N</td>\n",
       "      <td>\\N</td>\n",
       "      <td>\\N</td>\n",
       "      <td>\\N</td>\n",
       "      <td>\\N</td>\n",
       "      <td>\\N</td>\n",
       "    </tr>\n",
       "    <tr>\n",
       "      <th>3</th>\n",
       "      <td>20060</td>\n",
       "      <td>\\N</td>\n",
       "      <td>\\N</td>\n",
       "      <td>\\N</td>\n",
       "      <td>\\N</td>\n",
       "      <td>\\N</td>\n",
       "      <td>\\N</td>\n",
       "      <td>\\N</td>\n",
       "    </tr>\n",
       "    <tr>\n",
       "      <th>4</th>\n",
       "      <td>20072</td>\n",
       "      <td>\\N</td>\n",
       "      <td>\\N</td>\n",
       "      <td>\\N</td>\n",
       "      <td>\\N</td>\n",
       "      <td>\\N</td>\n",
       "      <td>\\N</td>\n",
       "      <td>\\N</td>\n",
       "    </tr>\n",
       "  </tbody>\n",
       "</table>\n",
       "</div>"
      ],
      "text/plain": [
       "   order_id opened_at client_synced_at synced_at first_detail_picked_at  \\\n",
       "0     20050        \\N               \\N        \\N                     \\N   \n",
       "1     20056        \\N               \\N        \\N                     \\N   \n",
       "2     20058        \\N               \\N        \\N                     \\N   \n",
       "3     20060        \\N               \\N        \\N                     \\N   \n",
       "4     20072        \\N               \\N        \\N                     \\N   \n",
       "\n",
       "  last_detail_picked_at first_try_pay_at delivered_at  \n",
       "0                    \\N               \\N           \\N  \n",
       "1                    \\N               \\N           \\N  \n",
       "2                    \\N               \\N           \\N  \n",
       "3                    \\N               \\N           \\N  \n",
       "4                    \\N               \\N           \\N  "
      ]
     },
     "execution_count": 130,
     "metadata": {},
     "output_type": "execute_result"
    }
   ],
   "source": [
    "order_time_head = ['order_id', 'opened_at', 'client_synced_at', 'synced_at', 'first_detail_picked_at', 'last_detail_picked_at', 'first_try_pay_at', 'delivered_at']\n",
    "%time df_tstamp = pd.read_csv(filepath_or_buffer=\"./Data/order_timestamps.csv\")\n",
    "df_tstamp.columns = order_time_head\n",
    "print(\"Shape \", df_tstamp.shape)\n",
    "df_tstamp.head()"
   ]
  },
  {
   "cell_type": "code",
   "execution_count": 131,
   "metadata": {},
   "outputs": [
    {
     "data": {
      "text/plain": [
       "{dtype('int64'): Index(['order_id'], dtype='object'),\n",
       " dtype('O'): Index(['opened_at', 'client_synced_at', 'synced_at', 'first_detail_picked_at',\n",
       "        'last_detail_picked_at', 'first_try_pay_at', 'delivered_at'],\n",
       "       dtype='object')}"
      ]
     },
     "execution_count": 131,
     "metadata": {},
     "output_type": "execute_result"
    }
   ],
   "source": [
    "types_tstamp = df_tstamp.columns.to_series().groupby(df_tstamp.dtypes).groups\n",
    "types_tstamp"
   ]
  },
  {
   "cell_type": "markdown",
   "metadata": {},
   "source": [
    "#### CHECK if ORDER_IDs in TIMESTAMPS and IDs in ORDERS match \n",
    "If TRUE, subset TIMESTAMPS dataset"
   ]
  },
  {
   "cell_type": "code",
   "execution_count": 132,
   "metadata": {},
   "outputs": [
    {
     "data": {
      "text/plain": [
       "True"
      ]
     },
     "execution_count": 132,
     "metadata": {},
     "output_type": "execute_result"
    }
   ],
   "source": [
    "df_order.id.equals(df_tstamp.order_id)"
   ]
  },
  {
   "cell_type": "markdown",
   "metadata": {},
   "source": [
    "#### Filter order timestamps according to main orders table"
   ]
  },
  {
   "cell_type": "code",
   "execution_count": 133,
   "metadata": {
    "scrolled": true
   },
   "outputs": [
    {
     "data": {
      "text/html": [
       "<div>\n",
       "<style scoped>\n",
       "    .dataframe tbody tr th:only-of-type {\n",
       "        vertical-align: middle;\n",
       "    }\n",
       "\n",
       "    .dataframe tbody tr th {\n",
       "        vertical-align: top;\n",
       "    }\n",
       "\n",
       "    .dataframe thead th {\n",
       "        text-align: right;\n",
       "    }\n",
       "</style>\n",
       "<table border=\"1\" class=\"dataframe\">\n",
       "  <thead>\n",
       "    <tr style=\"text-align: right;\">\n",
       "      <th></th>\n",
       "      <th>order_id</th>\n",
       "      <th>opened_at</th>\n",
       "      <th>client_synced_at</th>\n",
       "      <th>synced_at</th>\n",
       "      <th>first_detail_picked_at</th>\n",
       "      <th>last_detail_picked_at</th>\n",
       "      <th>first_try_pay_at</th>\n",
       "      <th>delivered_at</th>\n",
       "    </tr>\n",
       "  </thead>\n",
       "  <tbody>\n",
       "    <tr>\n",
       "      <th>47399</th>\n",
       "      <td>120402</td>\n",
       "      <td>2016-05-10 13:17:32</td>\n",
       "      <td>2016-05-10 13:17:31</td>\n",
       "      <td>2016-05-10 13:17:32</td>\n",
       "      <td>2016-05-10 13:18:10</td>\n",
       "      <td>2016-05-10 13:33:54</td>\n",
       "      <td>2016-05-10 13:34:10</td>\n",
       "      <td>\\N</td>\n",
       "    </tr>\n",
       "    <tr>\n",
       "      <th>47400</th>\n",
       "      <td>120404</td>\n",
       "      <td>2016-05-12 19:23:04</td>\n",
       "      <td>2016-05-12 19:23:04</td>\n",
       "      <td>2016-05-12 19:23:04</td>\n",
       "      <td>2016-05-12 19:26:02</td>\n",
       "      <td>2016-05-12 19:58:00</td>\n",
       "      <td>2016-05-12 20:07:17</td>\n",
       "      <td>\\N</td>\n",
       "    </tr>\n",
       "    <tr>\n",
       "      <th>47401</th>\n",
       "      <td>120406</td>\n",
       "      <td>\\N</td>\n",
       "      <td>\\N</td>\n",
       "      <td>\\N</td>\n",
       "      <td>\\N</td>\n",
       "      <td>\\N</td>\n",
       "      <td>\\N</td>\n",
       "      <td>\\N</td>\n",
       "    </tr>\n",
       "    <tr>\n",
       "      <th>47402</th>\n",
       "      <td>120408</td>\n",
       "      <td>2016-05-10 10:08:38</td>\n",
       "      <td>2016-05-10 10:08:37</td>\n",
       "      <td>2016-05-10 10:08:38</td>\n",
       "      <td>2016-05-10 10:09:44</td>\n",
       "      <td>2016-05-10 10:19:06</td>\n",
       "      <td>2016-05-10 10:29:39</td>\n",
       "      <td>\\N</td>\n",
       "    </tr>\n",
       "    <tr>\n",
       "      <th>47403</th>\n",
       "      <td>120410</td>\n",
       "      <td>2016-05-10 10:04:47</td>\n",
       "      <td>2016-05-10 10:04:47</td>\n",
       "      <td>2016-05-10 10:04:47</td>\n",
       "      <td>2016-05-10 10:30:48</td>\n",
       "      <td>2016-05-10 11:48:41</td>\n",
       "      <td>2016-05-10 12:14:32</td>\n",
       "      <td>\\N</td>\n",
       "    </tr>\n",
       "    <tr>\n",
       "      <th>47405</th>\n",
       "      <td>120414</td>\n",
       "      <td>2016-05-10 10:21:04</td>\n",
       "      <td>2016-05-10 10:21:03</td>\n",
       "      <td>2016-05-10 10:21:04</td>\n",
       "      <td>2016-05-10 10:23:56</td>\n",
       "      <td>2016-05-10 10:36:16</td>\n",
       "      <td>2016-05-10 10:50:05</td>\n",
       "      <td>\\N</td>\n",
       "    </tr>\n",
       "    <tr>\n",
       "      <th>47406</th>\n",
       "      <td>120416</td>\n",
       "      <td>2016-05-10 13:51:09</td>\n",
       "      <td>2016-05-10 13:51:07</td>\n",
       "      <td>2016-05-10 13:51:09</td>\n",
       "      <td>2016-05-10 13:52:40</td>\n",
       "      <td>2016-05-10 14:26:52</td>\n",
       "      <td>2016-05-10 14:38:29</td>\n",
       "      <td>\\N</td>\n",
       "    </tr>\n",
       "    <tr>\n",
       "      <th>47407</th>\n",
       "      <td>120418</td>\n",
       "      <td>2016-05-13 09:13:18</td>\n",
       "      <td>2016-05-13 09:13:19</td>\n",
       "      <td>2016-05-13 09:13:18</td>\n",
       "      <td>2016-05-13 09:27:30</td>\n",
       "      <td>2016-05-13 09:40:15</td>\n",
       "      <td>2016-05-13 09:54:15</td>\n",
       "      <td>\\N</td>\n",
       "    </tr>\n",
       "    <tr>\n",
       "      <th>47410</th>\n",
       "      <td>120424</td>\n",
       "      <td>2016-05-10 09:08:18</td>\n",
       "      <td>2016-05-10 09:08:41</td>\n",
       "      <td>2016-05-10 09:08:18</td>\n",
       "      <td>2016-05-10 09:54:04</td>\n",
       "      <td>2016-05-10 10:19:34</td>\n",
       "      <td>2016-05-10 10:30:18</td>\n",
       "      <td>\\N</td>\n",
       "    </tr>\n",
       "    <tr>\n",
       "      <th>47412</th>\n",
       "      <td>120428</td>\n",
       "      <td>2016-05-10 13:58:04</td>\n",
       "      <td>2016-05-10 13:58:04</td>\n",
       "      <td>2016-05-10 13:58:04</td>\n",
       "      <td>2016-05-10 14:16:59</td>\n",
       "      <td>2016-05-10 14:34:37</td>\n",
       "      <td>2016-05-10 14:34:56</td>\n",
       "      <td>\\N</td>\n",
       "    </tr>\n",
       "  </tbody>\n",
       "</table>\n",
       "</div>"
      ],
      "text/plain": [
       "       order_id            opened_at     client_synced_at  \\\n",
       "47399    120402  2016-05-10 13:17:32  2016-05-10 13:17:31   \n",
       "47400    120404  2016-05-12 19:23:04  2016-05-12 19:23:04   \n",
       "47401    120406                   \\N                   \\N   \n",
       "47402    120408  2016-05-10 10:08:38  2016-05-10 10:08:37   \n",
       "47403    120410  2016-05-10 10:04:47  2016-05-10 10:04:47   \n",
       "47405    120414  2016-05-10 10:21:04  2016-05-10 10:21:03   \n",
       "47406    120416  2016-05-10 13:51:09  2016-05-10 13:51:07   \n",
       "47407    120418  2016-05-13 09:13:18  2016-05-13 09:13:19   \n",
       "47410    120424  2016-05-10 09:08:18  2016-05-10 09:08:41   \n",
       "47412    120428  2016-05-10 13:58:04  2016-05-10 13:58:04   \n",
       "\n",
       "                 synced_at first_detail_picked_at last_detail_picked_at  \\\n",
       "47399  2016-05-10 13:17:32    2016-05-10 13:18:10   2016-05-10 13:33:54   \n",
       "47400  2016-05-12 19:23:04    2016-05-12 19:26:02   2016-05-12 19:58:00   \n",
       "47401                   \\N                     \\N                    \\N   \n",
       "47402  2016-05-10 10:08:38    2016-05-10 10:09:44   2016-05-10 10:19:06   \n",
       "47403  2016-05-10 10:04:47    2016-05-10 10:30:48   2016-05-10 11:48:41   \n",
       "47405  2016-05-10 10:21:04    2016-05-10 10:23:56   2016-05-10 10:36:16   \n",
       "47406  2016-05-10 13:51:09    2016-05-10 13:52:40   2016-05-10 14:26:52   \n",
       "47407  2016-05-13 09:13:18    2016-05-13 09:27:30   2016-05-13 09:40:15   \n",
       "47410  2016-05-10 09:08:18    2016-05-10 09:54:04   2016-05-10 10:19:34   \n",
       "47412  2016-05-10 13:58:04    2016-05-10 14:16:59   2016-05-10 14:34:37   \n",
       "\n",
       "          first_try_pay_at delivered_at  \n",
       "47399  2016-05-10 13:34:10           \\N  \n",
       "47400  2016-05-12 20:07:17           \\N  \n",
       "47401                   \\N           \\N  \n",
       "47402  2016-05-10 10:29:39           \\N  \n",
       "47403  2016-05-10 12:14:32           \\N  \n",
       "47405  2016-05-10 10:50:05           \\N  \n",
       "47406  2016-05-10 14:38:29           \\N  \n",
       "47407  2016-05-13 09:54:15           \\N  \n",
       "47410  2016-05-10 10:30:18           \\N  \n",
       "47412  2016-05-10 14:34:56           \\N  "
      ]
     },
     "execution_count": 133,
     "metadata": {},
     "output_type": "execute_result"
    }
   ],
   "source": [
    "df_tstamp_scd = df_tstamp.iloc[df_order_scd.index]\n",
    "df_tstamp_scd.head(10)"
   ]
  },
  {
   "cell_type": "markdown",
   "metadata": {},
   "source": [
    "#### Remove from the datasets the order_ids where there's no timestamp of the order being opened\n",
    "Those would not allow to estimate the picking time"
   ]
  },
  {
   "cell_type": "code",
   "execution_count": 134,
   "metadata": {},
   "outputs": [
    {
     "data": {
      "text/plain": [
       "array([None, None, 120406, None, None, None, None, None, None, None, None,\n",
       "       None, None, None, None, None, None, None, None, None], dtype=object)"
      ]
     },
     "execution_count": 134,
     "metadata": {},
     "output_type": "execute_result"
    }
   ],
   "source": [
    "junk_not_open = np.array(list(map(validate_fmt,df_tstamp_scd.order_id.values,df_tstamp_scd.opened_at.values)))\n",
    "junk_not_open[:20]"
   ]
  },
  {
   "cell_type": "code",
   "execution_count": 135,
   "metadata": {},
   "outputs": [
    {
     "name": "stdout",
     "output_type": "stream",
     "text": [
      "Number of orders with no opened_at keyword  5933\n"
     ]
    }
   ],
   "source": [
    "junk_not_open = junk_not_open[junk_not_open != np.array(None)].astype(int)\n",
    "print(\"Number of orders with no opened_at keyword \", len(junk_not_open))"
   ]
  },
  {
   "cell_type": "code",
   "execution_count": 136,
   "metadata": {},
   "outputs": [
    {
     "name": "stdout",
     "output_type": "stream",
     "text": [
      "Shape  (290698, 8)\n"
     ]
    },
    {
     "data": {
      "text/html": [
       "<div>\n",
       "<style scoped>\n",
       "    .dataframe tbody tr th:only-of-type {\n",
       "        vertical-align: middle;\n",
       "    }\n",
       "\n",
       "    .dataframe tbody tr th {\n",
       "        vertical-align: top;\n",
       "    }\n",
       "\n",
       "    .dataframe thead th {\n",
       "        text-align: right;\n",
       "    }\n",
       "</style>\n",
       "<table border=\"1\" class=\"dataframe\">\n",
       "  <thead>\n",
       "    <tr style=\"text-align: right;\">\n",
       "      <th></th>\n",
       "      <th>order_id</th>\n",
       "      <th>opened_at</th>\n",
       "      <th>client_synced_at</th>\n",
       "      <th>synced_at</th>\n",
       "      <th>first_detail_picked_at</th>\n",
       "      <th>last_detail_picked_at</th>\n",
       "      <th>first_try_pay_at</th>\n",
       "      <th>delivered_at</th>\n",
       "    </tr>\n",
       "  </thead>\n",
       "  <tbody>\n",
       "    <tr>\n",
       "      <th>47399</th>\n",
       "      <td>120402</td>\n",
       "      <td>2016-05-10 13:17:32</td>\n",
       "      <td>2016-05-10 13:17:31</td>\n",
       "      <td>2016-05-10 13:17:32</td>\n",
       "      <td>2016-05-10 13:18:10</td>\n",
       "      <td>2016-05-10 13:33:54</td>\n",
       "      <td>2016-05-10 13:34:10</td>\n",
       "      <td>\\N</td>\n",
       "    </tr>\n",
       "    <tr>\n",
       "      <th>47400</th>\n",
       "      <td>120404</td>\n",
       "      <td>2016-05-12 19:23:04</td>\n",
       "      <td>2016-05-12 19:23:04</td>\n",
       "      <td>2016-05-12 19:23:04</td>\n",
       "      <td>2016-05-12 19:26:02</td>\n",
       "      <td>2016-05-12 19:58:00</td>\n",
       "      <td>2016-05-12 20:07:17</td>\n",
       "      <td>\\N</td>\n",
       "    </tr>\n",
       "    <tr>\n",
       "      <th>47402</th>\n",
       "      <td>120408</td>\n",
       "      <td>2016-05-10 10:08:38</td>\n",
       "      <td>2016-05-10 10:08:37</td>\n",
       "      <td>2016-05-10 10:08:38</td>\n",
       "      <td>2016-05-10 10:09:44</td>\n",
       "      <td>2016-05-10 10:19:06</td>\n",
       "      <td>2016-05-10 10:29:39</td>\n",
       "      <td>\\N</td>\n",
       "    </tr>\n",
       "    <tr>\n",
       "      <th>47403</th>\n",
       "      <td>120410</td>\n",
       "      <td>2016-05-10 10:04:47</td>\n",
       "      <td>2016-05-10 10:04:47</td>\n",
       "      <td>2016-05-10 10:04:47</td>\n",
       "      <td>2016-05-10 10:30:48</td>\n",
       "      <td>2016-05-10 11:48:41</td>\n",
       "      <td>2016-05-10 12:14:32</td>\n",
       "      <td>\\N</td>\n",
       "    </tr>\n",
       "    <tr>\n",
       "      <th>47405</th>\n",
       "      <td>120414</td>\n",
       "      <td>2016-05-10 10:21:04</td>\n",
       "      <td>2016-05-10 10:21:03</td>\n",
       "      <td>2016-05-10 10:21:04</td>\n",
       "      <td>2016-05-10 10:23:56</td>\n",
       "      <td>2016-05-10 10:36:16</td>\n",
       "      <td>2016-05-10 10:50:05</td>\n",
       "      <td>\\N</td>\n",
       "    </tr>\n",
       "    <tr>\n",
       "      <th>47406</th>\n",
       "      <td>120416</td>\n",
       "      <td>2016-05-10 13:51:09</td>\n",
       "      <td>2016-05-10 13:51:07</td>\n",
       "      <td>2016-05-10 13:51:09</td>\n",
       "      <td>2016-05-10 13:52:40</td>\n",
       "      <td>2016-05-10 14:26:52</td>\n",
       "      <td>2016-05-10 14:38:29</td>\n",
       "      <td>\\N</td>\n",
       "    </tr>\n",
       "    <tr>\n",
       "      <th>47407</th>\n",
       "      <td>120418</td>\n",
       "      <td>2016-05-13 09:13:18</td>\n",
       "      <td>2016-05-13 09:13:19</td>\n",
       "      <td>2016-05-13 09:13:18</td>\n",
       "      <td>2016-05-13 09:27:30</td>\n",
       "      <td>2016-05-13 09:40:15</td>\n",
       "      <td>2016-05-13 09:54:15</td>\n",
       "      <td>\\N</td>\n",
       "    </tr>\n",
       "    <tr>\n",
       "      <th>47410</th>\n",
       "      <td>120424</td>\n",
       "      <td>2016-05-10 09:08:18</td>\n",
       "      <td>2016-05-10 09:08:41</td>\n",
       "      <td>2016-05-10 09:08:18</td>\n",
       "      <td>2016-05-10 09:54:04</td>\n",
       "      <td>2016-05-10 10:19:34</td>\n",
       "      <td>2016-05-10 10:30:18</td>\n",
       "      <td>\\N</td>\n",
       "    </tr>\n",
       "    <tr>\n",
       "      <th>47412</th>\n",
       "      <td>120428</td>\n",
       "      <td>2016-05-10 13:58:04</td>\n",
       "      <td>2016-05-10 13:58:04</td>\n",
       "      <td>2016-05-10 13:58:04</td>\n",
       "      <td>2016-05-10 14:16:59</td>\n",
       "      <td>2016-05-10 14:34:37</td>\n",
       "      <td>2016-05-10 14:34:56</td>\n",
       "      <td>\\N</td>\n",
       "    </tr>\n",
       "    <tr>\n",
       "      <th>47413</th>\n",
       "      <td>120430</td>\n",
       "      <td>2016-05-10 09:56:59</td>\n",
       "      <td>2016-05-10 09:57:00</td>\n",
       "      <td>2016-05-10 09:56:59</td>\n",
       "      <td>2016-05-10 10:01:42</td>\n",
       "      <td>2016-05-10 10:41:34</td>\n",
       "      <td>2016-05-10 11:03:19</td>\n",
       "      <td>\\N</td>\n",
       "    </tr>\n",
       "  </tbody>\n",
       "</table>\n",
       "</div>"
      ],
      "text/plain": [
       "       order_id            opened_at     client_synced_at  \\\n",
       "47399    120402  2016-05-10 13:17:32  2016-05-10 13:17:31   \n",
       "47400    120404  2016-05-12 19:23:04  2016-05-12 19:23:04   \n",
       "47402    120408  2016-05-10 10:08:38  2016-05-10 10:08:37   \n",
       "47403    120410  2016-05-10 10:04:47  2016-05-10 10:04:47   \n",
       "47405    120414  2016-05-10 10:21:04  2016-05-10 10:21:03   \n",
       "47406    120416  2016-05-10 13:51:09  2016-05-10 13:51:07   \n",
       "47407    120418  2016-05-13 09:13:18  2016-05-13 09:13:19   \n",
       "47410    120424  2016-05-10 09:08:18  2016-05-10 09:08:41   \n",
       "47412    120428  2016-05-10 13:58:04  2016-05-10 13:58:04   \n",
       "47413    120430  2016-05-10 09:56:59  2016-05-10 09:57:00   \n",
       "\n",
       "                 synced_at first_detail_picked_at last_detail_picked_at  \\\n",
       "47399  2016-05-10 13:17:32    2016-05-10 13:18:10   2016-05-10 13:33:54   \n",
       "47400  2016-05-12 19:23:04    2016-05-12 19:26:02   2016-05-12 19:58:00   \n",
       "47402  2016-05-10 10:08:38    2016-05-10 10:09:44   2016-05-10 10:19:06   \n",
       "47403  2016-05-10 10:04:47    2016-05-10 10:30:48   2016-05-10 11:48:41   \n",
       "47405  2016-05-10 10:21:04    2016-05-10 10:23:56   2016-05-10 10:36:16   \n",
       "47406  2016-05-10 13:51:09    2016-05-10 13:52:40   2016-05-10 14:26:52   \n",
       "47407  2016-05-13 09:13:18    2016-05-13 09:27:30   2016-05-13 09:40:15   \n",
       "47410  2016-05-10 09:08:18    2016-05-10 09:54:04   2016-05-10 10:19:34   \n",
       "47412  2016-05-10 13:58:04    2016-05-10 14:16:59   2016-05-10 14:34:37   \n",
       "47413  2016-05-10 09:56:59    2016-05-10 10:01:42   2016-05-10 10:41:34   \n",
       "\n",
       "          first_try_pay_at delivered_at  \n",
       "47399  2016-05-10 13:34:10           \\N  \n",
       "47400  2016-05-12 20:07:17           \\N  \n",
       "47402  2016-05-10 10:29:39           \\N  \n",
       "47403  2016-05-10 12:14:32           \\N  \n",
       "47405  2016-05-10 10:50:05           \\N  \n",
       "47406  2016-05-10 14:38:29           \\N  \n",
       "47407  2016-05-13 09:54:15           \\N  \n",
       "47410  2016-05-10 10:30:18           \\N  \n",
       "47412  2016-05-10 14:34:56           \\N  \n",
       "47413  2016-05-10 11:03:19           \\N  "
      ]
     },
     "execution_count": 136,
     "metadata": {},
     "output_type": "execute_result"
    }
   ],
   "source": [
    "df_tstamp_opened = df_tstamp_scd[~df_tstamp_scd.order_id.isin(junk_not_open)]\n",
    "print(\"Shape \", df_tstamp_opened.shape)\n",
    "df_tstamp_opened.head(10)"
   ]
  },
  {
   "cell_type": "code",
   "execution_count": 137,
   "metadata": {
    "scrolled": true
   },
   "outputs": [
    {
     "name": "stdout",
     "output_type": "stream",
     "text": [
      "Shape  (290698, 24)\n"
     ]
    },
    {
     "data": {
      "text/html": [
       "<div>\n",
       "<style scoped>\n",
       "    .dataframe tbody tr th:only-of-type {\n",
       "        vertical-align: middle;\n",
       "    }\n",
       "\n",
       "    .dataframe tbody tr th {\n",
       "        vertical-align: top;\n",
       "    }\n",
       "\n",
       "    .dataframe thead th {\n",
       "        text-align: right;\n",
       "    }\n",
       "</style>\n",
       "<table border=\"1\" class=\"dataframe\">\n",
       "  <thead>\n",
       "    <tr style=\"text-align: right;\">\n",
       "      <th></th>\n",
       "      <th>id</th>\n",
       "      <th>store_id</th>\n",
       "      <th>customer_id</th>\n",
       "      <th>courier_id</th>\n",
       "      <th>picker_id</th>\n",
       "      <th>fulfillment_type</th>\n",
       "      <th>status</th>\n",
       "      <th>deliver_at_start</th>\n",
       "      <th>deliver_at_end</th>\n",
       "      <th>amount</th>\n",
       "      <th>...</th>\n",
       "      <th>store_customer_duration</th>\n",
       "      <th>delivery_moved</th>\n",
       "      <th>deleted</th>\n",
       "      <th>gdo</th>\n",
       "      <th>vertical</th>\n",
       "      <th>created_at</th>\n",
       "      <th>assigned_at</th>\n",
       "      <th>picked_at</th>\n",
       "      <th>paid_at</th>\n",
       "      <th>delivered_at</th>\n",
       "    </tr>\n",
       "  </thead>\n",
       "  <tbody>\n",
       "    <tr>\n",
       "      <th>47399</th>\n",
       "      <td>120402</td>\n",
       "      <td>100438</td>\n",
       "      <td>100446</td>\n",
       "      <td>42378</td>\n",
       "      <td>\\N</td>\n",
       "      <td>1</td>\n",
       "      <td>600</td>\n",
       "      <td>2016-05-10 13:00:00</td>\n",
       "      <td>2016-05-10 14:00:00</td>\n",
       "      <td>35.51</td>\n",
       "      <td>...</td>\n",
       "      <td>198</td>\n",
       "      <td>0</td>\n",
       "      <td>0</td>\n",
       "      <td>0</td>\n",
       "      <td>0</td>\n",
       "      <td>2016-05-10 00:15:58</td>\n",
       "      <td>2016-05-10 00:16:47</td>\n",
       "      <td>\\N</td>\n",
       "      <td>2016-05-10 13:34:11</td>\n",
       "      <td>2016-05-10 13:40:33</td>\n",
       "    </tr>\n",
       "    <tr>\n",
       "      <th>47400</th>\n",
       "      <td>120404</td>\n",
       "      <td>100440</td>\n",
       "      <td>100448</td>\n",
       "      <td>51236</td>\n",
       "      <td>\\N</td>\n",
       "      <td>1</td>\n",
       "      <td>600</td>\n",
       "      <td>2016-05-12 20:00:00</td>\n",
       "      <td>2016-05-12 21:00:00</td>\n",
       "      <td>29.13</td>\n",
       "      <td>...</td>\n",
       "      <td>661</td>\n",
       "      <td>0</td>\n",
       "      <td>0</td>\n",
       "      <td>0</td>\n",
       "      <td>0</td>\n",
       "      <td>2016-05-10 00:38:32</td>\n",
       "      <td>2016-05-10 00:42:31</td>\n",
       "      <td>\\N</td>\n",
       "      <td>2016-05-12 20:07:18</td>\n",
       "      <td>2016-05-12 20:27:28</td>\n",
       "    </tr>\n",
       "    <tr>\n",
       "      <th>47402</th>\n",
       "      <td>120408</td>\n",
       "      <td>100444</td>\n",
       "      <td>100452</td>\n",
       "      <td>53458</td>\n",
       "      <td>\\N</td>\n",
       "      <td>1</td>\n",
       "      <td>600</td>\n",
       "      <td>2016-05-10 10:00:00</td>\n",
       "      <td>2016-05-10 11:00:00</td>\n",
       "      <td>22.83</td>\n",
       "      <td>...</td>\n",
       "      <td>951</td>\n",
       "      <td>0</td>\n",
       "      <td>0</td>\n",
       "      <td>0</td>\n",
       "      <td>0</td>\n",
       "      <td>2016-05-10 01:03:26</td>\n",
       "      <td>2016-05-10 08:47:28</td>\n",
       "      <td>\\N</td>\n",
       "      <td>2016-05-10 10:29:41</td>\n",
       "      <td>2016-05-10 11:00:07</td>\n",
       "    </tr>\n",
       "    <tr>\n",
       "      <th>47403</th>\n",
       "      <td>120410</td>\n",
       "      <td>100446</td>\n",
       "      <td>100454</td>\n",
       "      <td>36412</td>\n",
       "      <td>\\N</td>\n",
       "      <td>1</td>\n",
       "      <td>600</td>\n",
       "      <td>2016-05-10 12:00:00</td>\n",
       "      <td>2016-05-10 13:00:00</td>\n",
       "      <td>124.03</td>\n",
       "      <td>...</td>\n",
       "      <td>686</td>\n",
       "      <td>0</td>\n",
       "      <td>0</td>\n",
       "      <td>0</td>\n",
       "      <td>0</td>\n",
       "      <td>2016-05-10 03:04:37</td>\n",
       "      <td>2016-05-10 03:17:08</td>\n",
       "      <td>\\N</td>\n",
       "      <td>2016-05-10 12:14:33</td>\n",
       "      <td>2016-05-10 12:37:22</td>\n",
       "    </tr>\n",
       "    <tr>\n",
       "      <th>47405</th>\n",
       "      <td>120414</td>\n",
       "      <td>100450</td>\n",
       "      <td>100458</td>\n",
       "      <td>1149</td>\n",
       "      <td>\\N</td>\n",
       "      <td>1</td>\n",
       "      <td>600</td>\n",
       "      <td>2016-05-10 10:00:00</td>\n",
       "      <td>2016-05-10 11:00:00</td>\n",
       "      <td>28.30</td>\n",
       "      <td>...</td>\n",
       "      <td>741</td>\n",
       "      <td>0</td>\n",
       "      <td>0</td>\n",
       "      <td>0</td>\n",
       "      <td>0</td>\n",
       "      <td>2016-05-10 06:44:35</td>\n",
       "      <td>2016-05-10 07:05:43</td>\n",
       "      <td>\\N</td>\n",
       "      <td>2016-05-10 10:50:06</td>\n",
       "      <td>2016-05-10 11:12:35</td>\n",
       "    </tr>\n",
       "    <tr>\n",
       "      <th>47406</th>\n",
       "      <td>120416</td>\n",
       "      <td>100452</td>\n",
       "      <td>100460</td>\n",
       "      <td>48948</td>\n",
       "      <td>\\N</td>\n",
       "      <td>1</td>\n",
       "      <td>600</td>\n",
       "      <td>2016-05-10 15:00:00</td>\n",
       "      <td>2016-05-10 16:00:00</td>\n",
       "      <td>92.63</td>\n",
       "      <td>...</td>\n",
       "      <td>460</td>\n",
       "      <td>0</td>\n",
       "      <td>0</td>\n",
       "      <td>0</td>\n",
       "      <td>0</td>\n",
       "      <td>2016-05-10 06:52:50</td>\n",
       "      <td>2016-05-10 06:59:00</td>\n",
       "      <td>\\N</td>\n",
       "      <td>2016-05-10 14:38:29</td>\n",
       "      <td>2016-05-10 15:09:16</td>\n",
       "    </tr>\n",
       "    <tr>\n",
       "      <th>47407</th>\n",
       "      <td>120418</td>\n",
       "      <td>100454</td>\n",
       "      <td>100462</td>\n",
       "      <td>53176</td>\n",
       "      <td>\\N</td>\n",
       "      <td>1</td>\n",
       "      <td>600</td>\n",
       "      <td>2016-05-13 10:00:00</td>\n",
       "      <td>2016-05-13 11:00:00</td>\n",
       "      <td>12.72</td>\n",
       "      <td>...</td>\n",
       "      <td>570</td>\n",
       "      <td>0</td>\n",
       "      <td>0</td>\n",
       "      <td>0</td>\n",
       "      <td>0</td>\n",
       "      <td>2016-05-10 06:58:17</td>\n",
       "      <td>2016-05-10 07:01:28</td>\n",
       "      <td>\\N</td>\n",
       "      <td>2016-05-13 09:54:19</td>\n",
       "      <td>2016-05-13 10:09:27</td>\n",
       "    </tr>\n",
       "    <tr>\n",
       "      <th>47410</th>\n",
       "      <td>120424</td>\n",
       "      <td>100460</td>\n",
       "      <td>100468</td>\n",
       "      <td>55384</td>\n",
       "      <td>\\N</td>\n",
       "      <td>1</td>\n",
       "      <td>600</td>\n",
       "      <td>2016-05-10 10:00:00</td>\n",
       "      <td>2016-05-10 11:00:00</td>\n",
       "      <td>24.98</td>\n",
       "      <td>...</td>\n",
       "      <td>671</td>\n",
       "      <td>0</td>\n",
       "      <td>0</td>\n",
       "      <td>0</td>\n",
       "      <td>0</td>\n",
       "      <td>2016-05-10 07:41:57</td>\n",
       "      <td>2016-05-10 07:45:56</td>\n",
       "      <td>\\N</td>\n",
       "      <td>2016-05-10 10:30:18</td>\n",
       "      <td>2016-05-10 10:59:02</td>\n",
       "    </tr>\n",
       "    <tr>\n",
       "      <th>47412</th>\n",
       "      <td>120428</td>\n",
       "      <td>100464</td>\n",
       "      <td>100472</td>\n",
       "      <td>35964</td>\n",
       "      <td>\\N</td>\n",
       "      <td>1</td>\n",
       "      <td>600</td>\n",
       "      <td>2016-05-10 15:00:00</td>\n",
       "      <td>2016-05-10 16:00:00</td>\n",
       "      <td>67.69</td>\n",
       "      <td>...</td>\n",
       "      <td>275</td>\n",
       "      <td>0</td>\n",
       "      <td>0</td>\n",
       "      <td>0</td>\n",
       "      <td>0</td>\n",
       "      <td>2016-05-10 07:46:51</td>\n",
       "      <td>2016-05-10 07:47:46</td>\n",
       "      <td>\\N</td>\n",
       "      <td>2016-05-10 14:34:57</td>\n",
       "      <td>2016-05-10 15:05:02</td>\n",
       "    </tr>\n",
       "    <tr>\n",
       "      <th>47413</th>\n",
       "      <td>120430</td>\n",
       "      <td>100466</td>\n",
       "      <td>100474</td>\n",
       "      <td>42150</td>\n",
       "      <td>\\N</td>\n",
       "      <td>1</td>\n",
       "      <td>600</td>\n",
       "      <td>2016-05-10 12:00:00</td>\n",
       "      <td>2016-05-10 13:00:00</td>\n",
       "      <td>165.16</td>\n",
       "      <td>...</td>\n",
       "      <td>596</td>\n",
       "      <td>0</td>\n",
       "      <td>0</td>\n",
       "      <td>0</td>\n",
       "      <td>0</td>\n",
       "      <td>2016-05-10 07:50:07</td>\n",
       "      <td>2016-05-10 07:59:20</td>\n",
       "      <td>\\N</td>\n",
       "      <td>2016-05-10 11:03:23</td>\n",
       "      <td>2016-05-10 11:41:40</td>\n",
       "    </tr>\n",
       "  </tbody>\n",
       "</table>\n",
       "<p>10 rows × 24 columns</p>\n",
       "</div>"
      ],
      "text/plain": [
       "           id  store_id  customer_id courier_id picker_id  fulfillment_type  \\\n",
       "47399  120402    100438       100446      42378        \\N                 1   \n",
       "47400  120404    100440       100448      51236        \\N                 1   \n",
       "47402  120408    100444       100452      53458        \\N                 1   \n",
       "47403  120410    100446       100454      36412        \\N                 1   \n",
       "47405  120414    100450       100458       1149        \\N                 1   \n",
       "47406  120416    100452       100460      48948        \\N                 1   \n",
       "47407  120418    100454       100462      53176        \\N                 1   \n",
       "47410  120424    100460       100468      55384        \\N                 1   \n",
       "47412  120428    100464       100472      35964        \\N                 1   \n",
       "47413  120430    100466       100474      42150        \\N                 1   \n",
       "\n",
       "       status     deliver_at_start       deliver_at_end  amount  \\\n",
       "47399     600  2016-05-10 13:00:00  2016-05-10 14:00:00   35.51   \n",
       "47400     600  2016-05-12 20:00:00  2016-05-12 21:00:00   29.13   \n",
       "47402     600  2016-05-10 10:00:00  2016-05-10 11:00:00   22.83   \n",
       "47403     600  2016-05-10 12:00:00  2016-05-10 13:00:00  124.03   \n",
       "47405     600  2016-05-10 10:00:00  2016-05-10 11:00:00   28.30   \n",
       "47406     600  2016-05-10 15:00:00  2016-05-10 16:00:00   92.63   \n",
       "47407     600  2016-05-13 10:00:00  2016-05-13 11:00:00   12.72   \n",
       "47410     600  2016-05-10 10:00:00  2016-05-10 11:00:00   24.98   \n",
       "47412     600  2016-05-10 15:00:00  2016-05-10 16:00:00   67.69   \n",
       "47413     600  2016-05-10 12:00:00  2016-05-10 13:00:00  165.16   \n",
       "\n",
       "              ...           store_customer_duration  delivery_moved  deleted  \\\n",
       "47399         ...                               198               0        0   \n",
       "47400         ...                               661               0        0   \n",
       "47402         ...                               951               0        0   \n",
       "47403         ...                               686               0        0   \n",
       "47405         ...                               741               0        0   \n",
       "47406         ...                               460               0        0   \n",
       "47407         ...                               570               0        0   \n",
       "47410         ...                               671               0        0   \n",
       "47412         ...                               275               0        0   \n",
       "47413         ...                               596               0        0   \n",
       "\n",
       "       gdo vertical           created_at          assigned_at  picked_at  \\\n",
       "47399    0        0  2016-05-10 00:15:58  2016-05-10 00:16:47         \\N   \n",
       "47400    0        0  2016-05-10 00:38:32  2016-05-10 00:42:31         \\N   \n",
       "47402    0        0  2016-05-10 01:03:26  2016-05-10 08:47:28         \\N   \n",
       "47403    0        0  2016-05-10 03:04:37  2016-05-10 03:17:08         \\N   \n",
       "47405    0        0  2016-05-10 06:44:35  2016-05-10 07:05:43         \\N   \n",
       "47406    0        0  2016-05-10 06:52:50  2016-05-10 06:59:00         \\N   \n",
       "47407    0        0  2016-05-10 06:58:17  2016-05-10 07:01:28         \\N   \n",
       "47410    0        0  2016-05-10 07:41:57  2016-05-10 07:45:56         \\N   \n",
       "47412    0        0  2016-05-10 07:46:51  2016-05-10 07:47:46         \\N   \n",
       "47413    0        0  2016-05-10 07:50:07  2016-05-10 07:59:20         \\N   \n",
       "\n",
       "                   paid_at         delivered_at  \n",
       "47399  2016-05-10 13:34:11  2016-05-10 13:40:33  \n",
       "47400  2016-05-12 20:07:18  2016-05-12 20:27:28  \n",
       "47402  2016-05-10 10:29:41  2016-05-10 11:00:07  \n",
       "47403  2016-05-10 12:14:33  2016-05-10 12:37:22  \n",
       "47405  2016-05-10 10:50:06  2016-05-10 11:12:35  \n",
       "47406  2016-05-10 14:38:29  2016-05-10 15:09:16  \n",
       "47407  2016-05-13 09:54:19  2016-05-13 10:09:27  \n",
       "47410  2016-05-10 10:30:18  2016-05-10 10:59:02  \n",
       "47412  2016-05-10 14:34:57  2016-05-10 15:05:02  \n",
       "47413  2016-05-10 11:03:23  2016-05-10 11:41:40  \n",
       "\n",
       "[10 rows x 24 columns]"
      ]
     },
     "execution_count": 137,
     "metadata": {},
     "output_type": "execute_result"
    }
   ],
   "source": [
    "df_order_opened = df_order_scd[~df_order_scd.id.isin(junk_not_open)]\n",
    "print(\"Shape \", df_order_opened.shape)\n",
    "df_order_opened.head(10)"
   ]
  },
  {
   "cell_type": "code",
   "execution_count": 138,
   "metadata": {},
   "outputs": [
    {
     "data": {
      "text/plain": [
       "True"
      ]
     },
     "execution_count": 138,
     "metadata": {},
     "output_type": "execute_result"
    }
   ],
   "source": [
    "df_order_opened.id.equals(df_tstamp_opened.order_id)"
   ]
  },
  {
   "cell_type": "markdown",
   "metadata": {},
   "source": [
    "#### Copy the column delivered_at from orders to timestamps"
   ]
  },
  {
   "cell_type": "code",
   "execution_count": 139,
   "metadata": {
    "scrolled": false
   },
   "outputs": [
    {
     "data": {
      "text/plain": [
       "True"
      ]
     },
     "execution_count": 139,
     "metadata": {},
     "output_type": "execute_result"
    }
   ],
   "source": [
    "np.array_equal(df_tstamp_opened.order_id.values, df_order_opened.id)"
   ]
  },
  {
   "cell_type": "code",
   "execution_count": 140,
   "metadata": {},
   "outputs": [
    {
     "name": "stderr",
     "output_type": "stream",
     "text": [
      "/Users/gionata/github/analitico/venv/lib/python3.7/site-packages/pandas/core/indexing.py:543: SettingWithCopyWarning:\n",
      "\n",
      "\n",
      "A value is trying to be set on a copy of a slice from a DataFrame.\n",
      "Try using .loc[row_indexer,col_indexer] = value instead\n",
      "\n",
      "See the caveats in the documentation: http://pandas.pydata.org/pandas-docs/stable/indexing.html#indexing-view-versus-copy\n",
      "\n"
     ]
    }
   ],
   "source": [
    "df_tstamp_opened.loc[:,'delivered_at'] = df_order_opened['delivered_at'].values"
   ]
  },
  {
   "cell_type": "code",
   "execution_count": 141,
   "metadata": {},
   "outputs": [
    {
     "data": {
      "text/plain": [
       "True"
      ]
     },
     "execution_count": 141,
     "metadata": {},
     "output_type": "execute_result"
    }
   ],
   "source": [
    "df_tstamp_opened.index.equals(df_order_opened.index)"
   ]
  },
  {
   "cell_type": "code",
   "execution_count": 142,
   "metadata": {},
   "outputs": [
    {
     "data": {
      "text/html": [
       "<div>\n",
       "<style scoped>\n",
       "    .dataframe tbody tr th:only-of-type {\n",
       "        vertical-align: middle;\n",
       "    }\n",
       "\n",
       "    .dataframe tbody tr th {\n",
       "        vertical-align: top;\n",
       "    }\n",
       "\n",
       "    .dataframe thead th {\n",
       "        text-align: right;\n",
       "    }\n",
       "</style>\n",
       "<table border=\"1\" class=\"dataframe\">\n",
       "  <thead>\n",
       "    <tr style=\"text-align: right;\">\n",
       "      <th></th>\n",
       "      <th>order_id</th>\n",
       "      <th>opened_at</th>\n",
       "      <th>client_synced_at</th>\n",
       "      <th>synced_at</th>\n",
       "      <th>first_detail_picked_at</th>\n",
       "      <th>last_detail_picked_at</th>\n",
       "      <th>first_try_pay_at</th>\n",
       "      <th>delivered_at</th>\n",
       "    </tr>\n",
       "  </thead>\n",
       "  <tbody>\n",
       "    <tr>\n",
       "      <th>47399</th>\n",
       "      <td>120402</td>\n",
       "      <td>2016-05-10 13:17:32</td>\n",
       "      <td>2016-05-10 13:17:31</td>\n",
       "      <td>2016-05-10 13:17:32</td>\n",
       "      <td>2016-05-10 13:18:10</td>\n",
       "      <td>2016-05-10 13:33:54</td>\n",
       "      <td>2016-05-10 13:34:10</td>\n",
       "      <td>2016-05-10 13:40:33</td>\n",
       "    </tr>\n",
       "    <tr>\n",
       "      <th>47400</th>\n",
       "      <td>120404</td>\n",
       "      <td>2016-05-12 19:23:04</td>\n",
       "      <td>2016-05-12 19:23:04</td>\n",
       "      <td>2016-05-12 19:23:04</td>\n",
       "      <td>2016-05-12 19:26:02</td>\n",
       "      <td>2016-05-12 19:58:00</td>\n",
       "      <td>2016-05-12 20:07:17</td>\n",
       "      <td>2016-05-12 20:27:28</td>\n",
       "    </tr>\n",
       "    <tr>\n",
       "      <th>47402</th>\n",
       "      <td>120408</td>\n",
       "      <td>2016-05-10 10:08:38</td>\n",
       "      <td>2016-05-10 10:08:37</td>\n",
       "      <td>2016-05-10 10:08:38</td>\n",
       "      <td>2016-05-10 10:09:44</td>\n",
       "      <td>2016-05-10 10:19:06</td>\n",
       "      <td>2016-05-10 10:29:39</td>\n",
       "      <td>2016-05-10 11:00:07</td>\n",
       "    </tr>\n",
       "    <tr>\n",
       "      <th>47403</th>\n",
       "      <td>120410</td>\n",
       "      <td>2016-05-10 10:04:47</td>\n",
       "      <td>2016-05-10 10:04:47</td>\n",
       "      <td>2016-05-10 10:04:47</td>\n",
       "      <td>2016-05-10 10:30:48</td>\n",
       "      <td>2016-05-10 11:48:41</td>\n",
       "      <td>2016-05-10 12:14:32</td>\n",
       "      <td>2016-05-10 12:37:22</td>\n",
       "    </tr>\n",
       "    <tr>\n",
       "      <th>47405</th>\n",
       "      <td>120414</td>\n",
       "      <td>2016-05-10 10:21:04</td>\n",
       "      <td>2016-05-10 10:21:03</td>\n",
       "      <td>2016-05-10 10:21:04</td>\n",
       "      <td>2016-05-10 10:23:56</td>\n",
       "      <td>2016-05-10 10:36:16</td>\n",
       "      <td>2016-05-10 10:50:05</td>\n",
       "      <td>2016-05-10 11:12:35</td>\n",
       "    </tr>\n",
       "  </tbody>\n",
       "</table>\n",
       "</div>"
      ],
      "text/plain": [
       "       order_id            opened_at     client_synced_at  \\\n",
       "47399    120402  2016-05-10 13:17:32  2016-05-10 13:17:31   \n",
       "47400    120404  2016-05-12 19:23:04  2016-05-12 19:23:04   \n",
       "47402    120408  2016-05-10 10:08:38  2016-05-10 10:08:37   \n",
       "47403    120410  2016-05-10 10:04:47  2016-05-10 10:04:47   \n",
       "47405    120414  2016-05-10 10:21:04  2016-05-10 10:21:03   \n",
       "\n",
       "                 synced_at first_detail_picked_at last_detail_picked_at  \\\n",
       "47399  2016-05-10 13:17:32    2016-05-10 13:18:10   2016-05-10 13:33:54   \n",
       "47400  2016-05-12 19:23:04    2016-05-12 19:26:02   2016-05-12 19:58:00   \n",
       "47402  2016-05-10 10:08:38    2016-05-10 10:09:44   2016-05-10 10:19:06   \n",
       "47403  2016-05-10 10:04:47    2016-05-10 10:30:48   2016-05-10 11:48:41   \n",
       "47405  2016-05-10 10:21:04    2016-05-10 10:23:56   2016-05-10 10:36:16   \n",
       "\n",
       "          first_try_pay_at         delivered_at  \n",
       "47399  2016-05-10 13:34:10  2016-05-10 13:40:33  \n",
       "47400  2016-05-12 20:07:17  2016-05-12 20:27:28  \n",
       "47402  2016-05-10 10:29:39  2016-05-10 11:00:07  \n",
       "47403  2016-05-10 12:14:32  2016-05-10 12:37:22  \n",
       "47405  2016-05-10 10:50:05  2016-05-10 11:12:35  "
      ]
     },
     "execution_count": 142,
     "metadata": {},
     "output_type": "execute_result"
    }
   ],
   "source": [
    "df_tstamp_opened.head()"
   ]
  },
  {
   "cell_type": "markdown",
   "metadata": {},
   "source": [
    "### add columns picking_time, paying_time, delivery_time to df_order dataframe\n",
    "The aggregate time will represent ETOT for the predictions\n",
    "\n",
    "1st step: subset the dataset with the 1st_picked detail"
   ]
  },
  {
   "cell_type": "code",
   "execution_count": 143,
   "metadata": {},
   "outputs": [
    {
     "name": "stdout",
     "output_type": "stream",
     "text": [
      "Number of orders with no 1st_picked_at keyword  58331\n"
     ]
    }
   ],
   "source": [
    "junk_1stpick = np.array(list(map(validate_fmt,df_tstamp_opened.order_id.values,df_tstamp_opened.first_detail_picked_at.values)))\n",
    "junk_1stpick = junk_1stpick[junk_1stpick != np.array(None)].astype(int)\n",
    "print(\"Number of orders with no 1st_picked_at keyword \", len(junk_1stpick))"
   ]
  },
  {
   "cell_type": "code",
   "execution_count": 144,
   "metadata": {},
   "outputs": [
    {
     "name": "stdout",
     "output_type": "stream",
     "text": [
      "(232367, 8)\n"
     ]
    },
    {
     "data": {
      "text/html": [
       "<div>\n",
       "<style scoped>\n",
       "    .dataframe tbody tr th:only-of-type {\n",
       "        vertical-align: middle;\n",
       "    }\n",
       "\n",
       "    .dataframe tbody tr th {\n",
       "        vertical-align: top;\n",
       "    }\n",
       "\n",
       "    .dataframe thead th {\n",
       "        text-align: right;\n",
       "    }\n",
       "</style>\n",
       "<table border=\"1\" class=\"dataframe\">\n",
       "  <thead>\n",
       "    <tr style=\"text-align: right;\">\n",
       "      <th></th>\n",
       "      <th>order_id</th>\n",
       "      <th>opened_at</th>\n",
       "      <th>client_synced_at</th>\n",
       "      <th>synced_at</th>\n",
       "      <th>first_detail_picked_at</th>\n",
       "      <th>last_detail_picked_at</th>\n",
       "      <th>first_try_pay_at</th>\n",
       "      <th>delivered_at</th>\n",
       "    </tr>\n",
       "  </thead>\n",
       "  <tbody>\n",
       "    <tr>\n",
       "      <th>47399</th>\n",
       "      <td>120402</td>\n",
       "      <td>2016-05-10 13:17:32</td>\n",
       "      <td>2016-05-10 13:17:31</td>\n",
       "      <td>2016-05-10 13:17:32</td>\n",
       "      <td>2016-05-10 13:18:10</td>\n",
       "      <td>2016-05-10 13:33:54</td>\n",
       "      <td>2016-05-10 13:34:10</td>\n",
       "      <td>2016-05-10 13:40:33</td>\n",
       "    </tr>\n",
       "    <tr>\n",
       "      <th>47400</th>\n",
       "      <td>120404</td>\n",
       "      <td>2016-05-12 19:23:04</td>\n",
       "      <td>2016-05-12 19:23:04</td>\n",
       "      <td>2016-05-12 19:23:04</td>\n",
       "      <td>2016-05-12 19:26:02</td>\n",
       "      <td>2016-05-12 19:58:00</td>\n",
       "      <td>2016-05-12 20:07:17</td>\n",
       "      <td>2016-05-12 20:27:28</td>\n",
       "    </tr>\n",
       "    <tr>\n",
       "      <th>47402</th>\n",
       "      <td>120408</td>\n",
       "      <td>2016-05-10 10:08:38</td>\n",
       "      <td>2016-05-10 10:08:37</td>\n",
       "      <td>2016-05-10 10:08:38</td>\n",
       "      <td>2016-05-10 10:09:44</td>\n",
       "      <td>2016-05-10 10:19:06</td>\n",
       "      <td>2016-05-10 10:29:39</td>\n",
       "      <td>2016-05-10 11:00:07</td>\n",
       "    </tr>\n",
       "    <tr>\n",
       "      <th>47403</th>\n",
       "      <td>120410</td>\n",
       "      <td>2016-05-10 10:04:47</td>\n",
       "      <td>2016-05-10 10:04:47</td>\n",
       "      <td>2016-05-10 10:04:47</td>\n",
       "      <td>2016-05-10 10:30:48</td>\n",
       "      <td>2016-05-10 11:48:41</td>\n",
       "      <td>2016-05-10 12:14:32</td>\n",
       "      <td>2016-05-10 12:37:22</td>\n",
       "    </tr>\n",
       "    <tr>\n",
       "      <th>47405</th>\n",
       "      <td>120414</td>\n",
       "      <td>2016-05-10 10:21:04</td>\n",
       "      <td>2016-05-10 10:21:03</td>\n",
       "      <td>2016-05-10 10:21:04</td>\n",
       "      <td>2016-05-10 10:23:56</td>\n",
       "      <td>2016-05-10 10:36:16</td>\n",
       "      <td>2016-05-10 10:50:05</td>\n",
       "      <td>2016-05-10 11:12:35</td>\n",
       "    </tr>\n",
       "  </tbody>\n",
       "</table>\n",
       "</div>"
      ],
      "text/plain": [
       "       order_id            opened_at     client_synced_at  \\\n",
       "47399    120402  2016-05-10 13:17:32  2016-05-10 13:17:31   \n",
       "47400    120404  2016-05-12 19:23:04  2016-05-12 19:23:04   \n",
       "47402    120408  2016-05-10 10:08:38  2016-05-10 10:08:37   \n",
       "47403    120410  2016-05-10 10:04:47  2016-05-10 10:04:47   \n",
       "47405    120414  2016-05-10 10:21:04  2016-05-10 10:21:03   \n",
       "\n",
       "                 synced_at first_detail_picked_at last_detail_picked_at  \\\n",
       "47399  2016-05-10 13:17:32    2016-05-10 13:18:10   2016-05-10 13:33:54   \n",
       "47400  2016-05-12 19:23:04    2016-05-12 19:26:02   2016-05-12 19:58:00   \n",
       "47402  2016-05-10 10:08:38    2016-05-10 10:09:44   2016-05-10 10:19:06   \n",
       "47403  2016-05-10 10:04:47    2016-05-10 10:30:48   2016-05-10 11:48:41   \n",
       "47405  2016-05-10 10:21:04    2016-05-10 10:23:56   2016-05-10 10:36:16   \n",
       "\n",
       "          first_try_pay_at         delivered_at  \n",
       "47399  2016-05-10 13:34:10  2016-05-10 13:40:33  \n",
       "47400  2016-05-12 20:07:17  2016-05-12 20:27:28  \n",
       "47402  2016-05-10 10:29:39  2016-05-10 11:00:07  \n",
       "47403  2016-05-10 12:14:32  2016-05-10 12:37:22  \n",
       "47405  2016-05-10 10:50:05  2016-05-10 11:12:35  "
      ]
     },
     "execution_count": 144,
     "metadata": {},
     "output_type": "execute_result"
    }
   ],
   "source": [
    "df_just1stpicked = df_tstamp_opened[~df_tstamp_opened.order_id.isin(junk_1stpick)]\n",
    "print(df_just1stpicked.shape)\n",
    "df_just1stpicked.head()"
   ]
  },
  {
   "cell_type": "code",
   "execution_count": 145,
   "metadata": {},
   "outputs": [],
   "source": [
    "df_order_opened_1st_pickd = df_order_opened[~df_order_opened.id.isin(junk_1stpick)]"
   ]
  },
  {
   "cell_type": "markdown",
   "metadata": {},
   "source": [
    "2nd: check last_picked item - this allows to estimate the picking time"
   ]
  },
  {
   "cell_type": "code",
   "execution_count": 146,
   "metadata": {},
   "outputs": [
    {
     "name": "stdout",
     "output_type": "stream",
     "text": [
      "Number of orders with no 1st_picked_at keyword  31\n"
     ]
    }
   ],
   "source": [
    "junk_lastpick = np.array(list(map(validate_fmt,df_just1stpicked.order_id.values,df_just1stpicked.last_detail_picked_at.values)))\n",
    "junk_lastpick = junk_lastpick[junk_lastpick != np.array(None)].astype(int)\n",
    "print(\"Number of orders with no 1st_picked_at keyword \", len(junk_lastpick))"
   ]
  },
  {
   "cell_type": "code",
   "execution_count": 147,
   "metadata": {},
   "outputs": [
    {
     "name": "stdout",
     "output_type": "stream",
     "text": [
      "(232336, 8)\n"
     ]
    },
    {
     "data": {
      "text/html": [
       "<div>\n",
       "<style scoped>\n",
       "    .dataframe tbody tr th:only-of-type {\n",
       "        vertical-align: middle;\n",
       "    }\n",
       "\n",
       "    .dataframe tbody tr th {\n",
       "        vertical-align: top;\n",
       "    }\n",
       "\n",
       "    .dataframe thead th {\n",
       "        text-align: right;\n",
       "    }\n",
       "</style>\n",
       "<table border=\"1\" class=\"dataframe\">\n",
       "  <thead>\n",
       "    <tr style=\"text-align: right;\">\n",
       "      <th></th>\n",
       "      <th>order_id</th>\n",
       "      <th>opened_at</th>\n",
       "      <th>client_synced_at</th>\n",
       "      <th>synced_at</th>\n",
       "      <th>first_detail_picked_at</th>\n",
       "      <th>last_detail_picked_at</th>\n",
       "      <th>first_try_pay_at</th>\n",
       "      <th>delivered_at</th>\n",
       "    </tr>\n",
       "  </thead>\n",
       "  <tbody>\n",
       "    <tr>\n",
       "      <th>47399</th>\n",
       "      <td>120402</td>\n",
       "      <td>2016-05-10 13:17:32</td>\n",
       "      <td>2016-05-10 13:17:31</td>\n",
       "      <td>2016-05-10 13:17:32</td>\n",
       "      <td>2016-05-10 13:18:10</td>\n",
       "      <td>2016-05-10 13:33:54</td>\n",
       "      <td>2016-05-10 13:34:10</td>\n",
       "      <td>2016-05-10 13:40:33</td>\n",
       "    </tr>\n",
       "    <tr>\n",
       "      <th>47400</th>\n",
       "      <td>120404</td>\n",
       "      <td>2016-05-12 19:23:04</td>\n",
       "      <td>2016-05-12 19:23:04</td>\n",
       "      <td>2016-05-12 19:23:04</td>\n",
       "      <td>2016-05-12 19:26:02</td>\n",
       "      <td>2016-05-12 19:58:00</td>\n",
       "      <td>2016-05-12 20:07:17</td>\n",
       "      <td>2016-05-12 20:27:28</td>\n",
       "    </tr>\n",
       "    <tr>\n",
       "      <th>47402</th>\n",
       "      <td>120408</td>\n",
       "      <td>2016-05-10 10:08:38</td>\n",
       "      <td>2016-05-10 10:08:37</td>\n",
       "      <td>2016-05-10 10:08:38</td>\n",
       "      <td>2016-05-10 10:09:44</td>\n",
       "      <td>2016-05-10 10:19:06</td>\n",
       "      <td>2016-05-10 10:29:39</td>\n",
       "      <td>2016-05-10 11:00:07</td>\n",
       "    </tr>\n",
       "    <tr>\n",
       "      <th>47403</th>\n",
       "      <td>120410</td>\n",
       "      <td>2016-05-10 10:04:47</td>\n",
       "      <td>2016-05-10 10:04:47</td>\n",
       "      <td>2016-05-10 10:04:47</td>\n",
       "      <td>2016-05-10 10:30:48</td>\n",
       "      <td>2016-05-10 11:48:41</td>\n",
       "      <td>2016-05-10 12:14:32</td>\n",
       "      <td>2016-05-10 12:37:22</td>\n",
       "    </tr>\n",
       "    <tr>\n",
       "      <th>47405</th>\n",
       "      <td>120414</td>\n",
       "      <td>2016-05-10 10:21:04</td>\n",
       "      <td>2016-05-10 10:21:03</td>\n",
       "      <td>2016-05-10 10:21:04</td>\n",
       "      <td>2016-05-10 10:23:56</td>\n",
       "      <td>2016-05-10 10:36:16</td>\n",
       "      <td>2016-05-10 10:50:05</td>\n",
       "      <td>2016-05-10 11:12:35</td>\n",
       "    </tr>\n",
       "  </tbody>\n",
       "</table>\n",
       "</div>"
      ],
      "text/plain": [
       "       order_id            opened_at     client_synced_at  \\\n",
       "47399    120402  2016-05-10 13:17:32  2016-05-10 13:17:31   \n",
       "47400    120404  2016-05-12 19:23:04  2016-05-12 19:23:04   \n",
       "47402    120408  2016-05-10 10:08:38  2016-05-10 10:08:37   \n",
       "47403    120410  2016-05-10 10:04:47  2016-05-10 10:04:47   \n",
       "47405    120414  2016-05-10 10:21:04  2016-05-10 10:21:03   \n",
       "\n",
       "                 synced_at first_detail_picked_at last_detail_picked_at  \\\n",
       "47399  2016-05-10 13:17:32    2016-05-10 13:18:10   2016-05-10 13:33:54   \n",
       "47400  2016-05-12 19:23:04    2016-05-12 19:26:02   2016-05-12 19:58:00   \n",
       "47402  2016-05-10 10:08:38    2016-05-10 10:09:44   2016-05-10 10:19:06   \n",
       "47403  2016-05-10 10:04:47    2016-05-10 10:30:48   2016-05-10 11:48:41   \n",
       "47405  2016-05-10 10:21:04    2016-05-10 10:23:56   2016-05-10 10:36:16   \n",
       "\n",
       "          first_try_pay_at         delivered_at  \n",
       "47399  2016-05-10 13:34:10  2016-05-10 13:40:33  \n",
       "47400  2016-05-12 20:07:17  2016-05-12 20:27:28  \n",
       "47402  2016-05-10 10:29:39  2016-05-10 11:00:07  \n",
       "47403  2016-05-10 12:14:32  2016-05-10 12:37:22  \n",
       "47405  2016-05-10 10:50:05  2016-05-10 11:12:35  "
      ]
     },
     "execution_count": 147,
     "metadata": {},
     "output_type": "execute_result"
    }
   ],
   "source": [
    "df_tstmp_clean = df_just1stpicked[~df_just1stpicked.order_id.isin(junk_lastpick)]\n",
    "print(df_tstmp_clean.shape)\n",
    "df_tstmp_clean.head()"
   ]
  },
  {
   "cell_type": "code",
   "execution_count": 148,
   "metadata": {},
   "outputs": [
    {
     "name": "stdout",
     "output_type": "stream",
     "text": [
      "(232336, 24)\n"
     ]
    },
    {
     "data": {
      "text/html": [
       "<div>\n",
       "<style scoped>\n",
       "    .dataframe tbody tr th:only-of-type {\n",
       "        vertical-align: middle;\n",
       "    }\n",
       "\n",
       "    .dataframe tbody tr th {\n",
       "        vertical-align: top;\n",
       "    }\n",
       "\n",
       "    .dataframe thead th {\n",
       "        text-align: right;\n",
       "    }\n",
       "</style>\n",
       "<table border=\"1\" class=\"dataframe\">\n",
       "  <thead>\n",
       "    <tr style=\"text-align: right;\">\n",
       "      <th></th>\n",
       "      <th>id</th>\n",
       "      <th>store_id</th>\n",
       "      <th>customer_id</th>\n",
       "      <th>courier_id</th>\n",
       "      <th>picker_id</th>\n",
       "      <th>fulfillment_type</th>\n",
       "      <th>status</th>\n",
       "      <th>deliver_at_start</th>\n",
       "      <th>deliver_at_end</th>\n",
       "      <th>amount</th>\n",
       "      <th>...</th>\n",
       "      <th>store_customer_duration</th>\n",
       "      <th>delivery_moved</th>\n",
       "      <th>deleted</th>\n",
       "      <th>gdo</th>\n",
       "      <th>vertical</th>\n",
       "      <th>created_at</th>\n",
       "      <th>assigned_at</th>\n",
       "      <th>picked_at</th>\n",
       "      <th>paid_at</th>\n",
       "      <th>delivered_at</th>\n",
       "    </tr>\n",
       "  </thead>\n",
       "  <tbody>\n",
       "    <tr>\n",
       "      <th>47399</th>\n",
       "      <td>120402</td>\n",
       "      <td>100438</td>\n",
       "      <td>100446</td>\n",
       "      <td>42378</td>\n",
       "      <td>\\N</td>\n",
       "      <td>1</td>\n",
       "      <td>600</td>\n",
       "      <td>2016-05-10 13:00:00</td>\n",
       "      <td>2016-05-10 14:00:00</td>\n",
       "      <td>35.51</td>\n",
       "      <td>...</td>\n",
       "      <td>198</td>\n",
       "      <td>0</td>\n",
       "      <td>0</td>\n",
       "      <td>0</td>\n",
       "      <td>0</td>\n",
       "      <td>2016-05-10 00:15:58</td>\n",
       "      <td>2016-05-10 00:16:47</td>\n",
       "      <td>\\N</td>\n",
       "      <td>2016-05-10 13:34:11</td>\n",
       "      <td>2016-05-10 13:40:33</td>\n",
       "    </tr>\n",
       "    <tr>\n",
       "      <th>47400</th>\n",
       "      <td>120404</td>\n",
       "      <td>100440</td>\n",
       "      <td>100448</td>\n",
       "      <td>51236</td>\n",
       "      <td>\\N</td>\n",
       "      <td>1</td>\n",
       "      <td>600</td>\n",
       "      <td>2016-05-12 20:00:00</td>\n",
       "      <td>2016-05-12 21:00:00</td>\n",
       "      <td>29.13</td>\n",
       "      <td>...</td>\n",
       "      <td>661</td>\n",
       "      <td>0</td>\n",
       "      <td>0</td>\n",
       "      <td>0</td>\n",
       "      <td>0</td>\n",
       "      <td>2016-05-10 00:38:32</td>\n",
       "      <td>2016-05-10 00:42:31</td>\n",
       "      <td>\\N</td>\n",
       "      <td>2016-05-12 20:07:18</td>\n",
       "      <td>2016-05-12 20:27:28</td>\n",
       "    </tr>\n",
       "    <tr>\n",
       "      <th>47402</th>\n",
       "      <td>120408</td>\n",
       "      <td>100444</td>\n",
       "      <td>100452</td>\n",
       "      <td>53458</td>\n",
       "      <td>\\N</td>\n",
       "      <td>1</td>\n",
       "      <td>600</td>\n",
       "      <td>2016-05-10 10:00:00</td>\n",
       "      <td>2016-05-10 11:00:00</td>\n",
       "      <td>22.83</td>\n",
       "      <td>...</td>\n",
       "      <td>951</td>\n",
       "      <td>0</td>\n",
       "      <td>0</td>\n",
       "      <td>0</td>\n",
       "      <td>0</td>\n",
       "      <td>2016-05-10 01:03:26</td>\n",
       "      <td>2016-05-10 08:47:28</td>\n",
       "      <td>\\N</td>\n",
       "      <td>2016-05-10 10:29:41</td>\n",
       "      <td>2016-05-10 11:00:07</td>\n",
       "    </tr>\n",
       "    <tr>\n",
       "      <th>47403</th>\n",
       "      <td>120410</td>\n",
       "      <td>100446</td>\n",
       "      <td>100454</td>\n",
       "      <td>36412</td>\n",
       "      <td>\\N</td>\n",
       "      <td>1</td>\n",
       "      <td>600</td>\n",
       "      <td>2016-05-10 12:00:00</td>\n",
       "      <td>2016-05-10 13:00:00</td>\n",
       "      <td>124.03</td>\n",
       "      <td>...</td>\n",
       "      <td>686</td>\n",
       "      <td>0</td>\n",
       "      <td>0</td>\n",
       "      <td>0</td>\n",
       "      <td>0</td>\n",
       "      <td>2016-05-10 03:04:37</td>\n",
       "      <td>2016-05-10 03:17:08</td>\n",
       "      <td>\\N</td>\n",
       "      <td>2016-05-10 12:14:33</td>\n",
       "      <td>2016-05-10 12:37:22</td>\n",
       "    </tr>\n",
       "    <tr>\n",
       "      <th>47405</th>\n",
       "      <td>120414</td>\n",
       "      <td>100450</td>\n",
       "      <td>100458</td>\n",
       "      <td>1149</td>\n",
       "      <td>\\N</td>\n",
       "      <td>1</td>\n",
       "      <td>600</td>\n",
       "      <td>2016-05-10 10:00:00</td>\n",
       "      <td>2016-05-10 11:00:00</td>\n",
       "      <td>28.30</td>\n",
       "      <td>...</td>\n",
       "      <td>741</td>\n",
       "      <td>0</td>\n",
       "      <td>0</td>\n",
       "      <td>0</td>\n",
       "      <td>0</td>\n",
       "      <td>2016-05-10 06:44:35</td>\n",
       "      <td>2016-05-10 07:05:43</td>\n",
       "      <td>\\N</td>\n",
       "      <td>2016-05-10 10:50:06</td>\n",
       "      <td>2016-05-10 11:12:35</td>\n",
       "    </tr>\n",
       "  </tbody>\n",
       "</table>\n",
       "<p>5 rows × 24 columns</p>\n",
       "</div>"
      ],
      "text/plain": [
       "           id  store_id  customer_id courier_id picker_id  fulfillment_type  \\\n",
       "47399  120402    100438       100446      42378        \\N                 1   \n",
       "47400  120404    100440       100448      51236        \\N                 1   \n",
       "47402  120408    100444       100452      53458        \\N                 1   \n",
       "47403  120410    100446       100454      36412        \\N                 1   \n",
       "47405  120414    100450       100458       1149        \\N                 1   \n",
       "\n",
       "       status     deliver_at_start       deliver_at_end  amount  \\\n",
       "47399     600  2016-05-10 13:00:00  2016-05-10 14:00:00   35.51   \n",
       "47400     600  2016-05-12 20:00:00  2016-05-12 21:00:00   29.13   \n",
       "47402     600  2016-05-10 10:00:00  2016-05-10 11:00:00   22.83   \n",
       "47403     600  2016-05-10 12:00:00  2016-05-10 13:00:00  124.03   \n",
       "47405     600  2016-05-10 10:00:00  2016-05-10 11:00:00   28.30   \n",
       "\n",
       "              ...           store_customer_duration  delivery_moved  deleted  \\\n",
       "47399         ...                               198               0        0   \n",
       "47400         ...                               661               0        0   \n",
       "47402         ...                               951               0        0   \n",
       "47403         ...                               686               0        0   \n",
       "47405         ...                               741               0        0   \n",
       "\n",
       "       gdo vertical           created_at          assigned_at  picked_at  \\\n",
       "47399    0        0  2016-05-10 00:15:58  2016-05-10 00:16:47         \\N   \n",
       "47400    0        0  2016-05-10 00:38:32  2016-05-10 00:42:31         \\N   \n",
       "47402    0        0  2016-05-10 01:03:26  2016-05-10 08:47:28         \\N   \n",
       "47403    0        0  2016-05-10 03:04:37  2016-05-10 03:17:08         \\N   \n",
       "47405    0        0  2016-05-10 06:44:35  2016-05-10 07:05:43         \\N   \n",
       "\n",
       "                   paid_at         delivered_at  \n",
       "47399  2016-05-10 13:34:11  2016-05-10 13:40:33  \n",
       "47400  2016-05-12 20:07:18  2016-05-12 20:27:28  \n",
       "47402  2016-05-10 10:29:41  2016-05-10 11:00:07  \n",
       "47403  2016-05-10 12:14:33  2016-05-10 12:37:22  \n",
       "47405  2016-05-10 10:50:06  2016-05-10 11:12:35  \n",
       "\n",
       "[5 rows x 24 columns]"
      ]
     },
     "execution_count": 148,
     "metadata": {},
     "output_type": "execute_result"
    }
   ],
   "source": [
    "df_order_clean = df_order_opened_1st_pickd[~df_order_opened_1st_pickd.id.isin(junk_lastpick)]\n",
    "print(df_order_clean.shape)\n",
    "df_order_clean.head()"
   ]
  },
  {
   "cell_type": "markdown",
   "metadata": {},
   "source": [
    "2nd step: Create the 3 quantities - picking time, paying time, and delivery time respectively"
   ]
  },
  {
   "cell_type": "code",
   "execution_count": 149,
   "metadata": {},
   "outputs": [],
   "source": [
    "pick_time = list(map(elapsed_time, df_tstmp_clean.order_id, df_tstmp_clean.first_detail_picked_at, df_tstmp_clean.last_detail_picked_at))\n",
    "# pick_time"
   ]
  },
  {
   "cell_type": "code",
   "execution_count": 150,
   "metadata": {},
   "outputs": [
    {
     "data": {
      "text/plain": [
       "9"
      ]
     },
     "execution_count": 150,
     "metadata": {},
     "output_type": "execute_result"
    }
   ],
   "source": [
    "np.isnan(np.array(pick_time)).sum()"
   ]
  },
  {
   "cell_type": "code",
   "execution_count": 151,
   "metadata": {},
   "outputs": [],
   "source": [
    "pay_time = list(map(elapsed_time, df_tstmp_clean.order_id, df_tstmp_clean.last_detail_picked_at, df_order_clean.paid_at))\n",
    "# pay_time"
   ]
  },
  {
   "cell_type": "code",
   "execution_count": 152,
   "metadata": {},
   "outputs": [
    {
     "data": {
      "text/plain": [
       "39"
      ]
     },
     "execution_count": 152,
     "metadata": {},
     "output_type": "execute_result"
    }
   ],
   "source": [
    "np.isnan(np.array(pay_time)).sum()"
   ]
  },
  {
   "cell_type": "code",
   "execution_count": 153,
   "metadata": {},
   "outputs": [],
   "source": [
    "delivery_time = list(map(elapsed_time, df_order_clean.id, df_order_clean.paid_at, df_order_clean.delivered_at))\n",
    "# delivery_time"
   ]
  },
  {
   "cell_type": "code",
   "execution_count": 154,
   "metadata": {},
   "outputs": [
    {
     "data": {
      "text/plain": [
       "0"
      ]
     },
     "execution_count": 154,
     "metadata": {},
     "output_type": "execute_result"
    }
   ],
   "source": [
    "np.isnan(np.array(delivery_time)).sum()"
   ]
  },
  {
   "cell_type": "code",
   "execution_count": 155,
   "metadata": {},
   "outputs": [],
   "source": [
    "df_temp_pick = pd.DataFrame(np.column_stack([[int(item[0]) for item in pick_time],[float(item[1]) for item in pick_time]]), columns=['id', 'picking_time'])\n",
    "df_temp_pay = pd.DataFrame(np.column_stack([[int(item[0]) for item in pay_time],[float(item[1]) for item in pay_time]]), columns=['id', 'paying_time'])\n",
    "df_temp_delivery = pd.DataFrame(np.column_stack([[int(item[0]) for item in delivery_time],[float(item[1]) for item in delivery_time]]), columns=['id', 'delivery_time'])"
   ]
  },
  {
   "cell_type": "code",
   "execution_count": 156,
   "metadata": {},
   "outputs": [],
   "source": [
    "df_temp_pick.id=df_temp_pick.id.astype(int)\n",
    "df_temp_pay.id=df_temp_pay.id.astype(int)\n",
    "df_temp_delivery.id=df_temp_delivery.id.astype(int)"
   ]
  },
  {
   "cell_type": "code",
   "execution_count": 157,
   "metadata": {},
   "outputs": [
    {
     "data": {
      "text/plain": [
       "((232336, 2), (232336, 2), (232336, 2))"
      ]
     },
     "execution_count": 157,
     "metadata": {},
     "output_type": "execute_result"
    }
   ],
   "source": [
    "df_temp_delivery.shape, df_temp_pay.shape, df_temp_pick.shape"
   ]
  },
  {
   "cell_type": "markdown",
   "metadata": {},
   "source": [
    "4th step: merge those times with the main database"
   ]
  },
  {
   "cell_type": "code",
   "execution_count": 158,
   "metadata": {},
   "outputs": [],
   "source": [
    "df_final = pd.merge(df_order_clean, df_temp_pick, on='id')"
   ]
  },
  {
   "cell_type": "code",
   "execution_count": 159,
   "metadata": {},
   "outputs": [],
   "source": [
    "df_final = pd.merge(df_final, df_temp_pay, on='id')"
   ]
  },
  {
   "cell_type": "code",
   "execution_count": 160,
   "metadata": {},
   "outputs": [],
   "source": [
    "df_final = pd.merge(df_final, df_temp_delivery, on='id')"
   ]
  },
  {
   "cell_type": "code",
   "execution_count": 161,
   "metadata": {},
   "outputs": [
    {
     "data": {
      "text/html": [
       "<div>\n",
       "<style scoped>\n",
       "    .dataframe tbody tr th:only-of-type {\n",
       "        vertical-align: middle;\n",
       "    }\n",
       "\n",
       "    .dataframe tbody tr th {\n",
       "        vertical-align: top;\n",
       "    }\n",
       "\n",
       "    .dataframe thead th {\n",
       "        text-align: right;\n",
       "    }\n",
       "</style>\n",
       "<table border=\"1\" class=\"dataframe\">\n",
       "  <thead>\n",
       "    <tr style=\"text-align: right;\">\n",
       "      <th></th>\n",
       "      <th>id</th>\n",
       "      <th>store_id</th>\n",
       "      <th>customer_id</th>\n",
       "      <th>courier_id</th>\n",
       "      <th>picker_id</th>\n",
       "      <th>fulfillment_type</th>\n",
       "      <th>status</th>\n",
       "      <th>deliver_at_start</th>\n",
       "      <th>deliver_at_end</th>\n",
       "      <th>amount</th>\n",
       "      <th>...</th>\n",
       "      <th>gdo</th>\n",
       "      <th>vertical</th>\n",
       "      <th>created_at</th>\n",
       "      <th>assigned_at</th>\n",
       "      <th>picked_at</th>\n",
       "      <th>paid_at</th>\n",
       "      <th>delivered_at</th>\n",
       "      <th>picking_time</th>\n",
       "      <th>paying_time</th>\n",
       "      <th>delivery_time</th>\n",
       "    </tr>\n",
       "  </thead>\n",
       "  <tbody>\n",
       "    <tr>\n",
       "      <th>0</th>\n",
       "      <td>120402</td>\n",
       "      <td>100438</td>\n",
       "      <td>100446</td>\n",
       "      <td>42378</td>\n",
       "      <td>\\N</td>\n",
       "      <td>1</td>\n",
       "      <td>600</td>\n",
       "      <td>2016-05-10 13:00:00</td>\n",
       "      <td>2016-05-10 14:00:00</td>\n",
       "      <td>35.51</td>\n",
       "      <td>...</td>\n",
       "      <td>0</td>\n",
       "      <td>0</td>\n",
       "      <td>2016-05-10 00:15:58</td>\n",
       "      <td>2016-05-10 00:16:47</td>\n",
       "      <td>\\N</td>\n",
       "      <td>2016-05-10 13:34:11</td>\n",
       "      <td>2016-05-10 13:40:33</td>\n",
       "      <td>15.73</td>\n",
       "      <td>0.28</td>\n",
       "      <td>6.37</td>\n",
       "    </tr>\n",
       "    <tr>\n",
       "      <th>1</th>\n",
       "      <td>120404</td>\n",
       "      <td>100440</td>\n",
       "      <td>100448</td>\n",
       "      <td>51236</td>\n",
       "      <td>\\N</td>\n",
       "      <td>1</td>\n",
       "      <td>600</td>\n",
       "      <td>2016-05-12 20:00:00</td>\n",
       "      <td>2016-05-12 21:00:00</td>\n",
       "      <td>29.13</td>\n",
       "      <td>...</td>\n",
       "      <td>0</td>\n",
       "      <td>0</td>\n",
       "      <td>2016-05-10 00:38:32</td>\n",
       "      <td>2016-05-10 00:42:31</td>\n",
       "      <td>\\N</td>\n",
       "      <td>2016-05-12 20:07:18</td>\n",
       "      <td>2016-05-12 20:27:28</td>\n",
       "      <td>31.97</td>\n",
       "      <td>9.30</td>\n",
       "      <td>20.17</td>\n",
       "    </tr>\n",
       "    <tr>\n",
       "      <th>2</th>\n",
       "      <td>120408</td>\n",
       "      <td>100444</td>\n",
       "      <td>100452</td>\n",
       "      <td>53458</td>\n",
       "      <td>\\N</td>\n",
       "      <td>1</td>\n",
       "      <td>600</td>\n",
       "      <td>2016-05-10 10:00:00</td>\n",
       "      <td>2016-05-10 11:00:00</td>\n",
       "      <td>22.83</td>\n",
       "      <td>...</td>\n",
       "      <td>0</td>\n",
       "      <td>0</td>\n",
       "      <td>2016-05-10 01:03:26</td>\n",
       "      <td>2016-05-10 08:47:28</td>\n",
       "      <td>\\N</td>\n",
       "      <td>2016-05-10 10:29:41</td>\n",
       "      <td>2016-05-10 11:00:07</td>\n",
       "      <td>9.37</td>\n",
       "      <td>10.58</td>\n",
       "      <td>30.43</td>\n",
       "    </tr>\n",
       "    <tr>\n",
       "      <th>3</th>\n",
       "      <td>120410</td>\n",
       "      <td>100446</td>\n",
       "      <td>100454</td>\n",
       "      <td>36412</td>\n",
       "      <td>\\N</td>\n",
       "      <td>1</td>\n",
       "      <td>600</td>\n",
       "      <td>2016-05-10 12:00:00</td>\n",
       "      <td>2016-05-10 13:00:00</td>\n",
       "      <td>124.03</td>\n",
       "      <td>...</td>\n",
       "      <td>0</td>\n",
       "      <td>0</td>\n",
       "      <td>2016-05-10 03:04:37</td>\n",
       "      <td>2016-05-10 03:17:08</td>\n",
       "      <td>\\N</td>\n",
       "      <td>2016-05-10 12:14:33</td>\n",
       "      <td>2016-05-10 12:37:22</td>\n",
       "      <td>77.88</td>\n",
       "      <td>25.87</td>\n",
       "      <td>22.82</td>\n",
       "    </tr>\n",
       "    <tr>\n",
       "      <th>4</th>\n",
       "      <td>120414</td>\n",
       "      <td>100450</td>\n",
       "      <td>100458</td>\n",
       "      <td>1149</td>\n",
       "      <td>\\N</td>\n",
       "      <td>1</td>\n",
       "      <td>600</td>\n",
       "      <td>2016-05-10 10:00:00</td>\n",
       "      <td>2016-05-10 11:00:00</td>\n",
       "      <td>28.30</td>\n",
       "      <td>...</td>\n",
       "      <td>0</td>\n",
       "      <td>0</td>\n",
       "      <td>2016-05-10 06:44:35</td>\n",
       "      <td>2016-05-10 07:05:43</td>\n",
       "      <td>\\N</td>\n",
       "      <td>2016-05-10 10:50:06</td>\n",
       "      <td>2016-05-10 11:12:35</td>\n",
       "      <td>12.33</td>\n",
       "      <td>13.83</td>\n",
       "      <td>22.48</td>\n",
       "    </tr>\n",
       "  </tbody>\n",
       "</table>\n",
       "<p>5 rows × 27 columns</p>\n",
       "</div>"
      ],
      "text/plain": [
       "       id  store_id  customer_id courier_id picker_id  fulfillment_type  \\\n",
       "0  120402    100438       100446      42378        \\N                 1   \n",
       "1  120404    100440       100448      51236        \\N                 1   \n",
       "2  120408    100444       100452      53458        \\N                 1   \n",
       "3  120410    100446       100454      36412        \\N                 1   \n",
       "4  120414    100450       100458       1149        \\N                 1   \n",
       "\n",
       "   status     deliver_at_start       deliver_at_end  amount      ...       \\\n",
       "0     600  2016-05-10 13:00:00  2016-05-10 14:00:00   35.51      ...        \n",
       "1     600  2016-05-12 20:00:00  2016-05-12 21:00:00   29.13      ...        \n",
       "2     600  2016-05-10 10:00:00  2016-05-10 11:00:00   22.83      ...        \n",
       "3     600  2016-05-10 12:00:00  2016-05-10 13:00:00  124.03      ...        \n",
       "4     600  2016-05-10 10:00:00  2016-05-10 11:00:00   28.30      ...        \n",
       "\n",
       "   gdo  vertical           created_at          assigned_at picked_at  \\\n",
       "0    0         0  2016-05-10 00:15:58  2016-05-10 00:16:47        \\N   \n",
       "1    0         0  2016-05-10 00:38:32  2016-05-10 00:42:31        \\N   \n",
       "2    0         0  2016-05-10 01:03:26  2016-05-10 08:47:28        \\N   \n",
       "3    0         0  2016-05-10 03:04:37  2016-05-10 03:17:08        \\N   \n",
       "4    0         0  2016-05-10 06:44:35  2016-05-10 07:05:43        \\N   \n",
       "\n",
       "               paid_at         delivered_at  picking_time  paying_time  \\\n",
       "0  2016-05-10 13:34:11  2016-05-10 13:40:33         15.73         0.28   \n",
       "1  2016-05-12 20:07:18  2016-05-12 20:27:28         31.97         9.30   \n",
       "2  2016-05-10 10:29:41  2016-05-10 11:00:07          9.37        10.58   \n",
       "3  2016-05-10 12:14:33  2016-05-10 12:37:22         77.88        25.87   \n",
       "4  2016-05-10 10:50:06  2016-05-10 11:12:35         12.33        13.83   \n",
       "\n",
       "  delivery_time  \n",
       "0          6.37  \n",
       "1         20.17  \n",
       "2         30.43  \n",
       "3         22.82  \n",
       "4         22.48  \n",
       "\n",
       "[5 rows x 27 columns]"
      ]
     },
     "execution_count": 161,
     "metadata": {},
     "output_type": "execute_result"
    }
   ],
   "source": [
    "df_final.head()"
   ]
  },
  {
   "cell_type": "code",
   "execution_count": 162,
   "metadata": {},
   "outputs": [
    {
     "data": {
      "text/plain": [
       "(232336, 27)"
      ]
     },
     "execution_count": 162,
     "metadata": {},
     "output_type": "execute_result"
    }
   ],
   "source": [
    "df_final.shape"
   ]
  },
  {
   "cell_type": "code",
   "execution_count": 163,
   "metadata": {},
   "outputs": [],
   "source": [
    "df_final = df_final.dropna()"
   ]
  },
  {
   "cell_type": "markdown",
   "metadata": {},
   "source": [
    "5th step: remove the nan in the times"
   ]
  },
  {
   "cell_type": "code",
   "execution_count": 164,
   "metadata": {},
   "outputs": [
    {
     "data": {
      "text/plain": [
       "(232288, 27)"
      ]
     },
     "execution_count": 164,
     "metadata": {},
     "output_type": "execute_result"
    }
   ],
   "source": [
    "df_final.shape"
   ]
  },
  {
   "cell_type": "markdown",
   "metadata": {},
   "source": [
    "### ORDER DETAIL TABLE"
   ]
  },
  {
   "cell_type": "code",
   "execution_count": 165,
   "metadata": {},
   "outputs": [
    {
     "name": "stderr",
     "output_type": "stream",
     "text": [
      "<string>:2: DtypeWarning:\n",
      "\n",
      "Columns (8,9) have mixed types. Specify dtype option on import or set low_memory=False.\n",
      "\n"
     ]
    },
    {
     "name": "stdout",
     "output_type": "stream",
     "text": [
      "CPU times: user 14.2 s, sys: 1.41 s, total: 15.6 s\n",
      "Wall time: 15.9 s\n",
      "Shape  (7666404, 14)\n"
     ]
    },
    {
     "data": {
      "text/html": [
       "<div>\n",
       "<style scoped>\n",
       "    .dataframe tbody tr th:only-of-type {\n",
       "        vertical-align: middle;\n",
       "    }\n",
       "\n",
       "    .dataframe tbody tr th {\n",
       "        vertical-align: top;\n",
       "    }\n",
       "\n",
       "    .dataframe thead th {\n",
       "        text-align: right;\n",
       "    }\n",
       "</style>\n",
       "<table border=\"1\" class=\"dataframe\">\n",
       "  <thead>\n",
       "    <tr style=\"text-align: right;\">\n",
       "      <th></th>\n",
       "      <th>id</th>\n",
       "      <th>order_id</th>\n",
       "      <th>replaceable</th>\n",
       "      <th>status</th>\n",
       "      <th>quantity</th>\n",
       "      <th>quantity_found</th>\n",
       "      <th>variable_weight</th>\n",
       "      <th>volume</th>\n",
       "      <th>ref_id</th>\n",
       "      <th>category_id</th>\n",
       "      <th>category_name</th>\n",
       "      <th>touched_at</th>\n",
       "      <th>created_at</th>\n",
       "      <th>updated_at</th>\n",
       "    </tr>\n",
       "  </thead>\n",
       "  <tbody>\n",
       "    <tr>\n",
       "      <th>0</th>\n",
       "      <td>126</td>\n",
       "      <td>20048</td>\n",
       "      <td>2</td>\n",
       "      <td>PURCHASED</td>\n",
       "      <td>2.0</td>\n",
       "      <td>2.0</td>\n",
       "      <td>0</td>\n",
       "      <td>0.0</td>\n",
       "      <td>29240955</td>\n",
       "      <td>\\N</td>\n",
       "      <td>\\N</td>\n",
       "      <td>\\N</td>\n",
       "      <td>2015-05-20 17:13:51</td>\n",
       "      <td>2015-05-20 19:06:00</td>\n",
       "    </tr>\n",
       "    <tr>\n",
       "      <th>1</th>\n",
       "      <td>128</td>\n",
       "      <td>20048</td>\n",
       "      <td>2</td>\n",
       "      <td>PURCHASED</td>\n",
       "      <td>1.0</td>\n",
       "      <td>1.0</td>\n",
       "      <td>0</td>\n",
       "      <td>0.0</td>\n",
       "      <td>29231050</td>\n",
       "      <td>\\N</td>\n",
       "      <td>\\N</td>\n",
       "      <td>\\N</td>\n",
       "      <td>2015-05-20 17:13:51</td>\n",
       "      <td>2015-05-20 19:01:52</td>\n",
       "    </tr>\n",
       "    <tr>\n",
       "      <th>2</th>\n",
       "      <td>130</td>\n",
       "      <td>20050</td>\n",
       "      <td>2</td>\n",
       "      <td>REPLACED</td>\n",
       "      <td>1.0</td>\n",
       "      <td>1.0</td>\n",
       "      <td>0</td>\n",
       "      <td>0.0</td>\n",
       "      <td>38480329</td>\n",
       "      <td>\\N</td>\n",
       "      <td>\\N</td>\n",
       "      <td>\\N</td>\n",
       "      <td>2015-05-20 17:47:58</td>\n",
       "      <td>2015-05-20 19:34:55</td>\n",
       "    </tr>\n",
       "    <tr>\n",
       "      <th>3</th>\n",
       "      <td>132</td>\n",
       "      <td>20050</td>\n",
       "      <td>2</td>\n",
       "      <td>PURCHASED</td>\n",
       "      <td>1.0</td>\n",
       "      <td>1.0</td>\n",
       "      <td>0</td>\n",
       "      <td>0.0</td>\n",
       "      <td>38488781</td>\n",
       "      <td>\\N</td>\n",
       "      <td>\\N</td>\n",
       "      <td>\\N</td>\n",
       "      <td>2015-05-20 17:47:58</td>\n",
       "      <td>2015-05-20 19:35:07</td>\n",
       "    </tr>\n",
       "    <tr>\n",
       "      <th>4</th>\n",
       "      <td>134</td>\n",
       "      <td>20050</td>\n",
       "      <td>2</td>\n",
       "      <td>REPLACED</td>\n",
       "      <td>1.0</td>\n",
       "      <td>1.0</td>\n",
       "      <td>0</td>\n",
       "      <td>0.0</td>\n",
       "      <td>38480362</td>\n",
       "      <td>\\N</td>\n",
       "      <td>\\N</td>\n",
       "      <td>\\N</td>\n",
       "      <td>2015-05-20 17:47:58</td>\n",
       "      <td>2015-05-20 19:35:11</td>\n",
       "    </tr>\n",
       "  </tbody>\n",
       "</table>\n",
       "</div>"
      ],
      "text/plain": [
       "    id  order_id  replaceable     status  quantity  quantity_found  \\\n",
       "0  126     20048            2  PURCHASED       2.0             2.0   \n",
       "1  128     20048            2  PURCHASED       1.0             1.0   \n",
       "2  130     20050            2   REPLACED       1.0             1.0   \n",
       "3  132     20050            2  PURCHASED       1.0             1.0   \n",
       "4  134     20050            2   REPLACED       1.0             1.0   \n",
       "\n",
       "   variable_weight  volume    ref_id category_id category_name touched_at  \\\n",
       "0                0     0.0  29240955          \\N            \\N         \\N   \n",
       "1                0     0.0  29231050          \\N            \\N         \\N   \n",
       "2                0     0.0  38480329          \\N            \\N         \\N   \n",
       "3                0     0.0  38488781          \\N            \\N         \\N   \n",
       "4                0     0.0  38480362          \\N            \\N         \\N   \n",
       "\n",
       "            created_at           updated_at  \n",
       "0  2015-05-20 17:13:51  2015-05-20 19:06:00  \n",
       "1  2015-05-20 17:13:51  2015-05-20 19:01:52  \n",
       "2  2015-05-20 17:47:58  2015-05-20 19:34:55  \n",
       "3  2015-05-20 17:47:58  2015-05-20 19:35:07  \n",
       "4  2015-05-20 17:47:58  2015-05-20 19:35:11  "
      ]
     },
     "execution_count": 165,
     "metadata": {},
     "output_type": "execute_result"
    }
   ],
   "source": [
    "order_det_head = ['id','order_id', 'replaceable', 'status', 'quantity', 'quantity_found', 'variable_weight', 'volume', 'ref_id', 'category_id', 'category_name', 'touched_at', 'created_at', 'updated_at']\n",
    "%time df_detail = pd.read_csv(filepath_or_buffer=\"./Data/order_detail.csv\")\n",
    "df_detail.columns = order_det_head\n",
    "print(\"Shape \", df_detail.shape)\n",
    "df_detail.head()"
   ]
  },
  {
   "cell_type": "code",
   "execution_count": 166,
   "metadata": {},
   "outputs": [
    {
     "data": {
      "text/plain": [
       "{dtype('int64'): Index(['id', 'order_id', 'replaceable', 'variable_weight'], dtype='object'),\n",
       " dtype('float64'): Index(['quantity', 'quantity_found', 'volume'], dtype='object'),\n",
       " dtype('O'): Index(['status', 'ref_id', 'category_id', 'category_name', 'touched_at',\n",
       "        'created_at', 'updated_at'],\n",
       "       dtype='object')}"
      ]
     },
     "execution_count": 166,
     "metadata": {},
     "output_type": "execute_result"
    }
   ],
   "source": [
    "types_detord = df_detail.columns.to_series().groupby(df_detail.dtypes).groups\n",
    "types_detord"
   ]
  },
  {
   "cell_type": "markdown",
   "metadata": {},
   "source": [
    "The features related to the REPLACED/DELETED/PURCHASED item was not taken into account in the final model (possibly helpful though). One can imagine a positive correlation between the picking time and time spent on the phone with the customer to replace the item"
   ]
  },
  {
   "cell_type": "code",
   "execution_count": 167,
   "metadata": {},
   "outputs": [
    {
     "name": "stdout",
     "output_type": "stream",
     "text": [
      "Call customer to replace  4587348\n",
      "Replace with similar product  2272011\n",
      "Delete product if not present  807045\n"
     ]
    }
   ],
   "source": [
    "print(\"Call customer to replace \", (df_detail.replaceable == 3).sum()) \n",
    "print(\"Replace with similar product \",(df_detail.replaceable == 2).sum())\n",
    "print(\"Delete product if not present \", (df_detail.replaceable == 1).sum())"
   ]
  },
  {
   "cell_type": "markdown",
   "metadata": {},
   "source": [
    "#### For each order, get the aggregate quantity and the number of different items purchased \n",
    "\n",
    "Also include the total volume of the shopping \n",
    "\n",
    "**IMPORTANT** The volume of some products with 0.0 volume in the dataset was inferred using the median value of the products  belonging to the same category"
   ]
  },
  {
   "cell_type": "code",
   "execution_count": 168,
   "metadata": {},
   "outputs": [],
   "source": [
    "df_detail_fin = df_detail[df_detail.order_id.isin(df_final.id)]"
   ]
  },
  {
   "cell_type": "code",
   "execution_count": 169,
   "metadata": {},
   "outputs": [],
   "source": [
    "df_detail_fin = df_detail_fin.reset_index()"
   ]
  },
  {
   "cell_type": "code",
   "execution_count": 170,
   "metadata": {},
   "outputs": [
    {
     "data": {
      "text/plain": [
       "((721727, 15), (4155463, 15))"
      ]
     },
     "execution_count": 170,
     "metadata": {},
     "output_type": "execute_result"
    }
   ],
   "source": [
    "zero_volume_prods = df_detail_fin[df_detail_fin['volume']==0.0].index\n",
    "zvol_prod =df_detail_fin[df_detail_fin['volume']==0.0]\n",
    "non_zero_volume_prod = df_detail_fin[df_detail_fin['volume']!=0.0]\n",
    "zvol_prod.shape, non_zero_volume_prod.shape"
   ]
  },
  {
   "cell_type": "code",
   "execution_count": 171,
   "metadata": {
    "scrolled": true
   },
   "outputs": [
    {
     "data": {
      "text/plain": [
       "0                       Pane\n",
       "1    Doppio malto e speciali\n",
       "2    Doppio malto e speciali\n",
       "3               Filetti vari\n",
       "4             Misti di pesce\n",
       "Name: category_name, dtype: object"
      ]
     },
     "execution_count": 171,
     "metadata": {},
     "output_type": "execute_result"
    }
   ],
   "source": [
    "zvol_prod['category_name'].head()"
   ]
  },
  {
   "cell_type": "code",
   "execution_count": 172,
   "metadata": {},
   "outputs": [],
   "source": [
    "categories_zero_vol = df_detail_fin.iloc[zero_volume_prods]['category_name'].unique()"
   ]
  },
  {
   "cell_type": "code",
   "execution_count": 173,
   "metadata": {},
   "outputs": [
    {
     "data": {
      "text/plain": [
       "(511,)"
      ]
     },
     "execution_count": 173,
     "metadata": {},
     "output_type": "execute_result"
    }
   ],
   "source": [
    "categories_zero_vol.shape"
   ]
  },
  {
   "cell_type": "code",
   "execution_count": 174,
   "metadata": {
    "scrolled": true
   },
   "outputs": [
    {
     "name": "stdout",
     "output_type": "stream",
     "text": [
      "The median vs mean values of the products show positive correlation.\n",
      "To reduce the outliers, the median was used\n"
     ]
    },
    {
     "data": {
      "text/plain": [
       "Text(0, 0.5, 'Mean')"
      ]
     },
     "execution_count": 174,
     "metadata": {},
     "output_type": "execute_result"
    },
    {
     "data": {
      "image/png": "[encoded data removed]",
      "text/plain": [
       "<Figure size 432x288 with 1 Axes>"
      ]
     },
     "metadata": {
      "needs_background": "light"
     },
     "output_type": "display_data"
    }
   ],
   "source": [
    "print(\"The median vs mean values of the products show positive correlation.\\nTo reduce the outliers, the median was used\")\n",
    "sns.scatterplot(non_zero_volume_prod.groupby('category_name')['volume'].median(),non_zero_volume_prod.groupby('category_name')['volume'].mean())\n",
    "plt.xlabel(\"Median\", size=15)\n",
    "plt.ylabel(\"Mean\", size=15)"
   ]
  },
  {
   "cell_type": "code",
   "execution_count": 175,
   "metadata": {},
   "outputs": [],
   "source": [
    "nonzero_median_vol = non_zero_volume_prod.groupby('category_name', as_index=False)['volume'].median()"
   ]
  },
  {
   "cell_type": "code",
   "execution_count": 176,
   "metadata": {
    "scrolled": true
   },
   "outputs": [],
   "source": [
    "median_volumes = nonzero_median_vol[nonzero_median_vol['category_name'].isin(categories_zero_vol)]"
   ]
  },
  {
   "cell_type": "code",
   "execution_count": 177,
   "metadata": {},
   "outputs": [],
   "source": [
    "def update_type(t1, t2, val, dropna=False):\n",
    "    return t1.map(t2).dropna() if dropna else t1.map(t2).fillna(val)"
   ]
  },
  {
   "cell_type": "code",
   "execution_count": 178,
   "metadata": {},
   "outputs": [],
   "source": [
    "updated_vols = update_type(zvol_prod.category_name,\n",
    "            median_volumes.set_index('category_name').volume, val=7.658600e+02)"
   ]
  },
  {
   "cell_type": "code",
   "execution_count": 179,
   "metadata": {
    "scrolled": true
   },
   "outputs": [
    {
     "data": {
      "text/plain": [
       "0    1430.92\n",
       "1    1533.48\n",
       "2    1533.48\n",
       "3    1836.87\n",
       "4    1843.17\n",
       "5     982.13\n",
       "6    2882.06\n",
       "7    2663.62\n",
       "8     629.77\n",
       "9     466.79\n",
       "Name: category_name, dtype: float64"
      ]
     },
     "execution_count": 179,
     "metadata": {},
     "output_type": "execute_result"
    }
   ],
   "source": [
    "updated_vols.head(10)"
   ]
  },
  {
   "cell_type": "code",
   "execution_count": 180,
   "metadata": {},
   "outputs": [],
   "source": [
    "df_detail_fin.loc[updated_vols.index,'volume'] = updated_vols.values"
   ]
  },
  {
   "cell_type": "code",
   "execution_count": 181,
   "metadata": {},
   "outputs": [
    {
     "data": {
      "text/plain": [
       "count    4.877190e+06\n",
       "mean     1.946116e+03\n",
       "std      2.275471e+03\n",
       "min      7.000000e-02\n",
       "25%      7.850000e+02\n",
       "50%      1.430920e+03\n",
       "75%      2.342620e+03\n",
       "max      3.840040e+05\n",
       "Name: volume, dtype: float64"
      ]
     },
     "execution_count": 181,
     "metadata": {},
     "output_type": "execute_result"
    }
   ],
   "source": [
    "df_detail_fin[df_detail_fin['volume']!=0.0]['volume'].describe()"
   ]
  },
  {
   "cell_type": "code",
   "execution_count": 182,
   "metadata": {},
   "outputs": [],
   "source": [
    "df_temp_det = df_detail_fin[['order_id','replaceable', 'quantity_found', 'volume']]"
   ]
  },
  {
   "cell_type": "code",
   "execution_count": 183,
   "metadata": {},
   "outputs": [
    {
     "name": "stderr",
     "output_type": "stream",
     "text": [
      "/Users/gionata/github/analitico/venv/lib/python3.7/site-packages/ipykernel_launcher.py:1: SettingWithCopyWarning:\n",
      "\n",
      "\n",
      "A value is trying to be set on a copy of a slice from a DataFrame.\n",
      "Try using .loc[row_indexer,col_indexer] = value instead\n",
      "\n",
      "See the caveats in the documentation: http://pandas.pydata.org/pandas-docs/stable/indexing.html#indexing-view-versus-copy\n",
      "\n"
     ]
    }
   ],
   "source": [
    "df_temp_det['total_volume'] = df_temp_det.quantity_found * df_temp_det.volume"
   ]
  },
  {
   "cell_type": "code",
   "execution_count": 184,
   "metadata": {},
   "outputs": [],
   "source": [
    "df_items = df_temp_det.groupby(['order_id'])['quantity_found'].count().to_frame().reset_index()\n",
    "df_amount = df_temp_det.groupby(['order_id'])['quantity_found'].sum().to_frame().reset_index()\n",
    "df_tot_volume = df_temp_det.groupby(['order_id'])['total_volume'].sum().to_frame().reset_index()"
   ]
  },
  {
   "cell_type": "code",
   "execution_count": 185,
   "metadata": {},
   "outputs": [],
   "source": [
    "df_items = df_items.rename(index=str, columns={'order_id': 'id', 'quantity_found': 'items_found'})\n",
    "df_amount = df_amount.rename(index=str, columns={'order_id': 'id', 'quantity_found': 'total_amount'})\n",
    "df_tot_volume = df_tot_volume.rename(index=str, columns={'order_id': 'id', 'quantity_found': 'total_volume'})"
   ]
  },
  {
   "cell_type": "code",
   "execution_count": 186,
   "metadata": {},
   "outputs": [
    {
     "data": {
      "text/plain": [
       "Index(['id', 'total_volume'], dtype='object')"
      ]
     },
     "execution_count": 186,
     "metadata": {},
     "output_type": "execute_result"
    }
   ],
   "source": [
    "df_tot_volume.columns"
   ]
  },
  {
   "cell_type": "code",
   "execution_count": 187,
   "metadata": {},
   "outputs": [],
   "source": [
    "df_final = pd.merge(df_final, df_items, on='id')"
   ]
  },
  {
   "cell_type": "code",
   "execution_count": 188,
   "metadata": {},
   "outputs": [],
   "source": [
    "df_final = pd.merge(df_final, df_amount, on='id')"
   ]
  },
  {
   "cell_type": "code",
   "execution_count": 189,
   "metadata": {},
   "outputs": [],
   "source": [
    "df_final = pd.merge(df_final, df_tot_volume, on='id')"
   ]
  },
  {
   "cell_type": "code",
   "execution_count": 190,
   "metadata": {},
   "outputs": [
    {
     "data": {
      "text/html": [
       "<div>\n",
       "<style scoped>\n",
       "    .dataframe tbody tr th:only-of-type {\n",
       "        vertical-align: middle;\n",
       "    }\n",
       "\n",
       "    .dataframe tbody tr th {\n",
       "        vertical-align: top;\n",
       "    }\n",
       "\n",
       "    .dataframe thead th {\n",
       "        text-align: right;\n",
       "    }\n",
       "</style>\n",
       "<table border=\"1\" class=\"dataframe\">\n",
       "  <thead>\n",
       "    <tr style=\"text-align: right;\">\n",
       "      <th></th>\n",
       "      <th>id</th>\n",
       "      <th>store_id</th>\n",
       "      <th>customer_id</th>\n",
       "      <th>courier_id</th>\n",
       "      <th>picker_id</th>\n",
       "      <th>fulfillment_type</th>\n",
       "      <th>status</th>\n",
       "      <th>deliver_at_start</th>\n",
       "      <th>deliver_at_end</th>\n",
       "      <th>amount</th>\n",
       "      <th>...</th>\n",
       "      <th>assigned_at</th>\n",
       "      <th>picked_at</th>\n",
       "      <th>paid_at</th>\n",
       "      <th>delivered_at</th>\n",
       "      <th>picking_time</th>\n",
       "      <th>paying_time</th>\n",
       "      <th>delivery_time</th>\n",
       "      <th>items_found</th>\n",
       "      <th>total_amount</th>\n",
       "      <th>total_volume</th>\n",
       "    </tr>\n",
       "  </thead>\n",
       "  <tbody>\n",
       "    <tr>\n",
       "      <th>0</th>\n",
       "      <td>120402</td>\n",
       "      <td>100438</td>\n",
       "      <td>100446</td>\n",
       "      <td>42378</td>\n",
       "      <td>\\N</td>\n",
       "      <td>1</td>\n",
       "      <td>600</td>\n",
       "      <td>2016-05-10 13:00:00</td>\n",
       "      <td>2016-05-10 14:00:00</td>\n",
       "      <td>35.51</td>\n",
       "      <td>...</td>\n",
       "      <td>2016-05-10 00:16:47</td>\n",
       "      <td>\\N</td>\n",
       "      <td>2016-05-10 13:34:11</td>\n",
       "      <td>2016-05-10 13:40:33</td>\n",
       "      <td>15.73</td>\n",
       "      <td>0.28</td>\n",
       "      <td>6.37</td>\n",
       "      <td>11</td>\n",
       "      <td>21.000</td>\n",
       "      <td>31857.30000</td>\n",
       "    </tr>\n",
       "    <tr>\n",
       "      <th>1</th>\n",
       "      <td>120404</td>\n",
       "      <td>100440</td>\n",
       "      <td>100448</td>\n",
       "      <td>51236</td>\n",
       "      <td>\\N</td>\n",
       "      <td>1</td>\n",
       "      <td>600</td>\n",
       "      <td>2016-05-12 20:00:00</td>\n",
       "      <td>2016-05-12 21:00:00</td>\n",
       "      <td>29.13</td>\n",
       "      <td>...</td>\n",
       "      <td>2016-05-10 00:42:31</td>\n",
       "      <td>\\N</td>\n",
       "      <td>2016-05-12 20:07:18</td>\n",
       "      <td>2016-05-12 20:27:28</td>\n",
       "      <td>31.97</td>\n",
       "      <td>9.30</td>\n",
       "      <td>20.17</td>\n",
       "      <td>16</td>\n",
       "      <td>18.000</td>\n",
       "      <td>37498.11000</td>\n",
       "    </tr>\n",
       "    <tr>\n",
       "      <th>2</th>\n",
       "      <td>120408</td>\n",
       "      <td>100444</td>\n",
       "      <td>100452</td>\n",
       "      <td>53458</td>\n",
       "      <td>\\N</td>\n",
       "      <td>1</td>\n",
       "      <td>600</td>\n",
       "      <td>2016-05-10 10:00:00</td>\n",
       "      <td>2016-05-10 11:00:00</td>\n",
       "      <td>22.83</td>\n",
       "      <td>...</td>\n",
       "      <td>2016-05-10 08:47:28</td>\n",
       "      <td>\\N</td>\n",
       "      <td>2016-05-10 10:29:41</td>\n",
       "      <td>2016-05-10 11:00:07</td>\n",
       "      <td>9.37</td>\n",
       "      <td>10.58</td>\n",
       "      <td>30.43</td>\n",
       "      <td>11</td>\n",
       "      <td>12.000</td>\n",
       "      <td>23429.19000</td>\n",
       "    </tr>\n",
       "    <tr>\n",
       "      <th>3</th>\n",
       "      <td>120410</td>\n",
       "      <td>100446</td>\n",
       "      <td>100454</td>\n",
       "      <td>36412</td>\n",
       "      <td>\\N</td>\n",
       "      <td>1</td>\n",
       "      <td>600</td>\n",
       "      <td>2016-05-10 12:00:00</td>\n",
       "      <td>2016-05-10 13:00:00</td>\n",
       "      <td>124.03</td>\n",
       "      <td>...</td>\n",
       "      <td>2016-05-10 03:17:08</td>\n",
       "      <td>\\N</td>\n",
       "      <td>2016-05-10 12:14:33</td>\n",
       "      <td>2016-05-10 12:37:22</td>\n",
       "      <td>77.88</td>\n",
       "      <td>25.87</td>\n",
       "      <td>22.82</td>\n",
       "      <td>46</td>\n",
       "      <td>52.000</td>\n",
       "      <td>63217.34000</td>\n",
       "    </tr>\n",
       "    <tr>\n",
       "      <th>4</th>\n",
       "      <td>120414</td>\n",
       "      <td>100450</td>\n",
       "      <td>100458</td>\n",
       "      <td>1149</td>\n",
       "      <td>\\N</td>\n",
       "      <td>1</td>\n",
       "      <td>600</td>\n",
       "      <td>2016-05-10 10:00:00</td>\n",
       "      <td>2016-05-10 11:00:00</td>\n",
       "      <td>28.30</td>\n",
       "      <td>...</td>\n",
       "      <td>2016-05-10 07:05:43</td>\n",
       "      <td>\\N</td>\n",
       "      <td>2016-05-10 10:50:06</td>\n",
       "      <td>2016-05-10 11:12:35</td>\n",
       "      <td>12.33</td>\n",
       "      <td>13.83</td>\n",
       "      <td>22.48</td>\n",
       "      <td>9</td>\n",
       "      <td>12.000</td>\n",
       "      <td>23313.72000</td>\n",
       "    </tr>\n",
       "    <tr>\n",
       "      <th>5</th>\n",
       "      <td>120416</td>\n",
       "      <td>100452</td>\n",
       "      <td>100460</td>\n",
       "      <td>48948</td>\n",
       "      <td>\\N</td>\n",
       "      <td>1</td>\n",
       "      <td>600</td>\n",
       "      <td>2016-05-10 15:00:00</td>\n",
       "      <td>2016-05-10 16:00:00</td>\n",
       "      <td>92.63</td>\n",
       "      <td>...</td>\n",
       "      <td>2016-05-10 06:59:00</td>\n",
       "      <td>\\N</td>\n",
       "      <td>2016-05-10 14:38:29</td>\n",
       "      <td>2016-05-10 15:09:16</td>\n",
       "      <td>34.20</td>\n",
       "      <td>11.62</td>\n",
       "      <td>30.78</td>\n",
       "      <td>20</td>\n",
       "      <td>38.000</td>\n",
       "      <td>54803.07000</td>\n",
       "    </tr>\n",
       "    <tr>\n",
       "      <th>6</th>\n",
       "      <td>120418</td>\n",
       "      <td>100454</td>\n",
       "      <td>100462</td>\n",
       "      <td>53176</td>\n",
       "      <td>\\N</td>\n",
       "      <td>1</td>\n",
       "      <td>600</td>\n",
       "      <td>2016-05-13 10:00:00</td>\n",
       "      <td>2016-05-13 11:00:00</td>\n",
       "      <td>12.72</td>\n",
       "      <td>...</td>\n",
       "      <td>2016-05-10 07:01:28</td>\n",
       "      <td>\\N</td>\n",
       "      <td>2016-05-13 09:54:19</td>\n",
       "      <td>2016-05-13 10:09:27</td>\n",
       "      <td>12.75</td>\n",
       "      <td>14.07</td>\n",
       "      <td>15.13</td>\n",
       "      <td>8</td>\n",
       "      <td>7.000</td>\n",
       "      <td>14120.60000</td>\n",
       "    </tr>\n",
       "    <tr>\n",
       "      <th>7</th>\n",
       "      <td>120424</td>\n",
       "      <td>100460</td>\n",
       "      <td>100468</td>\n",
       "      <td>55384</td>\n",
       "      <td>\\N</td>\n",
       "      <td>1</td>\n",
       "      <td>600</td>\n",
       "      <td>2016-05-10 10:00:00</td>\n",
       "      <td>2016-05-10 11:00:00</td>\n",
       "      <td>24.98</td>\n",
       "      <td>...</td>\n",
       "      <td>2016-05-10 07:45:56</td>\n",
       "      <td>\\N</td>\n",
       "      <td>2016-05-10 10:30:18</td>\n",
       "      <td>2016-05-10 10:59:02</td>\n",
       "      <td>25.50</td>\n",
       "      <td>10.73</td>\n",
       "      <td>28.73</td>\n",
       "      <td>11</td>\n",
       "      <td>11.000</td>\n",
       "      <td>17849.92000</td>\n",
       "    </tr>\n",
       "    <tr>\n",
       "      <th>8</th>\n",
       "      <td>120428</td>\n",
       "      <td>100464</td>\n",
       "      <td>100472</td>\n",
       "      <td>35964</td>\n",
       "      <td>\\N</td>\n",
       "      <td>1</td>\n",
       "      <td>600</td>\n",
       "      <td>2016-05-10 15:00:00</td>\n",
       "      <td>2016-05-10 16:00:00</td>\n",
       "      <td>67.69</td>\n",
       "      <td>...</td>\n",
       "      <td>2016-05-10 07:47:46</td>\n",
       "      <td>\\N</td>\n",
       "      <td>2016-05-10 14:34:57</td>\n",
       "      <td>2016-05-10 15:05:02</td>\n",
       "      <td>17.63</td>\n",
       "      <td>0.33</td>\n",
       "      <td>30.08</td>\n",
       "      <td>24</td>\n",
       "      <td>31.000</td>\n",
       "      <td>52929.54000</td>\n",
       "    </tr>\n",
       "    <tr>\n",
       "      <th>9</th>\n",
       "      <td>120430</td>\n",
       "      <td>100466</td>\n",
       "      <td>100474</td>\n",
       "      <td>42150</td>\n",
       "      <td>\\N</td>\n",
       "      <td>1</td>\n",
       "      <td>600</td>\n",
       "      <td>2016-05-10 12:00:00</td>\n",
       "      <td>2016-05-10 13:00:00</td>\n",
       "      <td>165.16</td>\n",
       "      <td>...</td>\n",
       "      <td>2016-05-10 07:59:20</td>\n",
       "      <td>\\N</td>\n",
       "      <td>2016-05-10 11:03:23</td>\n",
       "      <td>2016-05-10 11:41:40</td>\n",
       "      <td>39.87</td>\n",
       "      <td>21.82</td>\n",
       "      <td>38.28</td>\n",
       "      <td>24</td>\n",
       "      <td>40.000</td>\n",
       "      <td>61520.37000</td>\n",
       "    </tr>\n",
       "    <tr>\n",
       "      <th>10</th>\n",
       "      <td>120432</td>\n",
       "      <td>100468</td>\n",
       "      <td>100476</td>\n",
       "      <td>4592</td>\n",
       "      <td>\\N</td>\n",
       "      <td>1</td>\n",
       "      <td>600</td>\n",
       "      <td>2016-05-10 11:00:00</td>\n",
       "      <td>2016-05-10 12:00:00</td>\n",
       "      <td>116.86</td>\n",
       "      <td>...</td>\n",
       "      <td>2016-05-10 08:26:20</td>\n",
       "      <td>\\N</td>\n",
       "      <td>2016-05-10 11:45:45</td>\n",
       "      <td>2016-05-10 11:59:06</td>\n",
       "      <td>68.22</td>\n",
       "      <td>1.47</td>\n",
       "      <td>13.35</td>\n",
       "      <td>34</td>\n",
       "      <td>60.000</td>\n",
       "      <td>125419.31000</td>\n",
       "    </tr>\n",
       "    <tr>\n",
       "      <th>11</th>\n",
       "      <td>120434</td>\n",
       "      <td>100470</td>\n",
       "      <td>100478</td>\n",
       "      <td>40488</td>\n",
       "      <td>\\N</td>\n",
       "      <td>1</td>\n",
       "      <td>600</td>\n",
       "      <td>2016-05-10 13:00:00</td>\n",
       "      <td>2016-05-10 14:00:00</td>\n",
       "      <td>27.47</td>\n",
       "      <td>...</td>\n",
       "      <td>2016-05-10 08:42:03</td>\n",
       "      <td>\\N</td>\n",
       "      <td>2016-05-10 12:57:56</td>\n",
       "      <td>2016-05-10 13:27:01</td>\n",
       "      <td>21.00</td>\n",
       "      <td>9.18</td>\n",
       "      <td>29.08</td>\n",
       "      <td>17</td>\n",
       "      <td>19.000</td>\n",
       "      <td>31023.61000</td>\n",
       "    </tr>\n",
       "    <tr>\n",
       "      <th>12</th>\n",
       "      <td>120436</td>\n",
       "      <td>100472</td>\n",
       "      <td>100480</td>\n",
       "      <td>48662</td>\n",
       "      <td>\\N</td>\n",
       "      <td>1</td>\n",
       "      <td>600</td>\n",
       "      <td>2016-05-10 11:00:00</td>\n",
       "      <td>2016-05-10 12:00:00</td>\n",
       "      <td>65.01</td>\n",
       "      <td>...</td>\n",
       "      <td>2016-05-10 10:22:27</td>\n",
       "      <td>\\N</td>\n",
       "      <td>2016-05-10 11:31:10</td>\n",
       "      <td>2016-05-10 12:00:39</td>\n",
       "      <td>37.90</td>\n",
       "      <td>12.83</td>\n",
       "      <td>29.48</td>\n",
       "      <td>25</td>\n",
       "      <td>34.000</td>\n",
       "      <td>63300.03000</td>\n",
       "    </tr>\n",
       "    <tr>\n",
       "      <th>13</th>\n",
       "      <td>120438</td>\n",
       "      <td>100474</td>\n",
       "      <td>100482</td>\n",
       "      <td>51234</td>\n",
       "      <td>\\N</td>\n",
       "      <td>1</td>\n",
       "      <td>600</td>\n",
       "      <td>2016-05-11 09:00:00</td>\n",
       "      <td>2016-05-11 10:00:00</td>\n",
       "      <td>12.27</td>\n",
       "      <td>...</td>\n",
       "      <td>2016-05-10 08:52:55</td>\n",
       "      <td>\\N</td>\n",
       "      <td>2016-05-11 09:43:53</td>\n",
       "      <td>2016-05-11 09:54:41</td>\n",
       "      <td>38.35</td>\n",
       "      <td>1.80</td>\n",
       "      <td>10.80</td>\n",
       "      <td>7</td>\n",
       "      <td>7.000</td>\n",
       "      <td>12321.86000</td>\n",
       "    </tr>\n",
       "    <tr>\n",
       "      <th>14</th>\n",
       "      <td>120440</td>\n",
       "      <td>100476</td>\n",
       "      <td>100484</td>\n",
       "      <td>49420</td>\n",
       "      <td>\\N</td>\n",
       "      <td>1</td>\n",
       "      <td>600</td>\n",
       "      <td>2016-05-10 12:00:00</td>\n",
       "      <td>2016-05-10 13:00:00</td>\n",
       "      <td>31.51</td>\n",
       "      <td>...</td>\n",
       "      <td>2016-05-10 09:06:26</td>\n",
       "      <td>\\N</td>\n",
       "      <td>2016-05-10 12:34:24</td>\n",
       "      <td>2016-05-10 13:06:20</td>\n",
       "      <td>13.88</td>\n",
       "      <td>8.97</td>\n",
       "      <td>31.93</td>\n",
       "      <td>5</td>\n",
       "      <td>10.000</td>\n",
       "      <td>16179.13000</td>\n",
       "    </tr>\n",
       "    <tr>\n",
       "      <th>15</th>\n",
       "      <td>120442</td>\n",
       "      <td>100478</td>\n",
       "      <td>100486</td>\n",
       "      <td>55288</td>\n",
       "      <td>\\N</td>\n",
       "      <td>1</td>\n",
       "      <td>600</td>\n",
       "      <td>2016-05-10 11:00:00</td>\n",
       "      <td>2016-05-10 12:00:00</td>\n",
       "      <td>30.94</td>\n",
       "      <td>...</td>\n",
       "      <td>2016-05-10 10:42:24</td>\n",
       "      <td>\\N</td>\n",
       "      <td>2016-05-10 11:25:15</td>\n",
       "      <td>2016-05-10 11:46:35</td>\n",
       "      <td>12.40</td>\n",
       "      <td>7.63</td>\n",
       "      <td>21.33</td>\n",
       "      <td>12</td>\n",
       "      <td>17.000</td>\n",
       "      <td>29506.66000</td>\n",
       "    </tr>\n",
       "    <tr>\n",
       "      <th>16</th>\n",
       "      <td>120444</td>\n",
       "      <td>100480</td>\n",
       "      <td>100488</td>\n",
       "      <td>54860</td>\n",
       "      <td>\\N</td>\n",
       "      <td>1</td>\n",
       "      <td>600</td>\n",
       "      <td>2016-05-10 11:00:00</td>\n",
       "      <td>2016-05-10 12:00:00</td>\n",
       "      <td>25.00</td>\n",
       "      <td>...</td>\n",
       "      <td>2016-05-10 08:59:45</td>\n",
       "      <td>\\N</td>\n",
       "      <td>2016-05-10 10:31:19</td>\n",
       "      <td>2016-05-10 10:46:19</td>\n",
       "      <td>10.62</td>\n",
       "      <td>18.32</td>\n",
       "      <td>15.00</td>\n",
       "      <td>9</td>\n",
       "      <td>9.000</td>\n",
       "      <td>10763.44500</td>\n",
       "    </tr>\n",
       "    <tr>\n",
       "      <th>17</th>\n",
       "      <td>120446</td>\n",
       "      <td>100482</td>\n",
       "      <td>100490</td>\n",
       "      <td>35964</td>\n",
       "      <td>\\N</td>\n",
       "      <td>1</td>\n",
       "      <td>600</td>\n",
       "      <td>2016-05-10 19:00:00</td>\n",
       "      <td>2016-05-10 20:00:00</td>\n",
       "      <td>105.10</td>\n",
       "      <td>...</td>\n",
       "      <td>2016-05-10 09:10:46</td>\n",
       "      <td>\\N</td>\n",
       "      <td>2016-05-10 18:07:20</td>\n",
       "      <td>2016-05-10 18:37:19</td>\n",
       "      <td>39.70</td>\n",
       "      <td>1.18</td>\n",
       "      <td>29.98</td>\n",
       "      <td>32</td>\n",
       "      <td>47.000</td>\n",
       "      <td>69546.22500</td>\n",
       "    </tr>\n",
       "    <tr>\n",
       "      <th>18</th>\n",
       "      <td>120448</td>\n",
       "      <td>100484</td>\n",
       "      <td>100492</td>\n",
       "      <td>40488</td>\n",
       "      <td>\\N</td>\n",
       "      <td>1</td>\n",
       "      <td>600</td>\n",
       "      <td>2016-05-10 10:00:00</td>\n",
       "      <td>2016-05-10 11:00:00</td>\n",
       "      <td>18.74</td>\n",
       "      <td>...</td>\n",
       "      <td>2016-05-10 09:13:54</td>\n",
       "      <td>\\N</td>\n",
       "      <td>2016-05-10 10:34:34</td>\n",
       "      <td>2016-05-10 10:47:51</td>\n",
       "      <td>1.33</td>\n",
       "      <td>8.95</td>\n",
       "      <td>13.28</td>\n",
       "      <td>3</td>\n",
       "      <td>8.000</td>\n",
       "      <td>16605.48000</td>\n",
       "    </tr>\n",
       "    <tr>\n",
       "      <th>19</th>\n",
       "      <td>120450</td>\n",
       "      <td>100486</td>\n",
       "      <td>100494</td>\n",
       "      <td>41496</td>\n",
       "      <td>\\N</td>\n",
       "      <td>1</td>\n",
       "      <td>600</td>\n",
       "      <td>2016-05-10 17:00:00</td>\n",
       "      <td>2016-05-10 18:00:00</td>\n",
       "      <td>33.68</td>\n",
       "      <td>...</td>\n",
       "      <td>2016-05-10 09:13:20</td>\n",
       "      <td>\\N</td>\n",
       "      <td>2016-05-10 16:40:00</td>\n",
       "      <td>2016-05-10 16:56:10</td>\n",
       "      <td>13.55</td>\n",
       "      <td>7.73</td>\n",
       "      <td>16.17</td>\n",
       "      <td>13</td>\n",
       "      <td>27.000</td>\n",
       "      <td>45395.36000</td>\n",
       "    </tr>\n",
       "    <tr>\n",
       "      <th>20</th>\n",
       "      <td>120452</td>\n",
       "      <td>100488</td>\n",
       "      <td>100496</td>\n",
       "      <td>42378</td>\n",
       "      <td>\\N</td>\n",
       "      <td>1</td>\n",
       "      <td>600</td>\n",
       "      <td>2016-05-10 19:00:00</td>\n",
       "      <td>2016-05-10 20:00:00</td>\n",
       "      <td>24.13</td>\n",
       "      <td>...</td>\n",
       "      <td>2016-05-10 09:28:59</td>\n",
       "      <td>\\N</td>\n",
       "      <td>2016-05-10 19:21:38</td>\n",
       "      <td>2016-05-10 19:50:01</td>\n",
       "      <td>11.05</td>\n",
       "      <td>6.00</td>\n",
       "      <td>28.38</td>\n",
       "      <td>8</td>\n",
       "      <td>10.000</td>\n",
       "      <td>19773.47000</td>\n",
       "    </tr>\n",
       "    <tr>\n",
       "      <th>21</th>\n",
       "      <td>120454</td>\n",
       "      <td>100490</td>\n",
       "      <td>100498</td>\n",
       "      <td>40488</td>\n",
       "      <td>\\N</td>\n",
       "      <td>1</td>\n",
       "      <td>600</td>\n",
       "      <td>2016-05-10 14:00:00</td>\n",
       "      <td>2016-05-10 15:00:00</td>\n",
       "      <td>44.98</td>\n",
       "      <td>...</td>\n",
       "      <td>2016-05-10 09:29:18</td>\n",
       "      <td>\\N</td>\n",
       "      <td>2016-05-10 14:14:13</td>\n",
       "      <td>2016-05-10 14:31:55</td>\n",
       "      <td>10.30</td>\n",
       "      <td>14.37</td>\n",
       "      <td>17.70</td>\n",
       "      <td>13</td>\n",
       "      <td>23.000</td>\n",
       "      <td>46948.21000</td>\n",
       "    </tr>\n",
       "    <tr>\n",
       "      <th>22</th>\n",
       "      <td>120456</td>\n",
       "      <td>100492</td>\n",
       "      <td>100500</td>\n",
       "      <td>53458</td>\n",
       "      <td>\\N</td>\n",
       "      <td>1</td>\n",
       "      <td>600</td>\n",
       "      <td>2016-05-16 13:00:00</td>\n",
       "      <td>2016-05-16 14:00:00</td>\n",
       "      <td>11.28</td>\n",
       "      <td>...</td>\n",
       "      <td>2016-05-10 09:35:57</td>\n",
       "      <td>\\N</td>\n",
       "      <td>2016-05-16 14:05:35</td>\n",
       "      <td>2016-05-16 14:32:27</td>\n",
       "      <td>11.03</td>\n",
       "      <td>4.65</td>\n",
       "      <td>26.87</td>\n",
       "      <td>5</td>\n",
       "      <td>4.000</td>\n",
       "      <td>12335.04000</td>\n",
       "    </tr>\n",
       "    <tr>\n",
       "      <th>23</th>\n",
       "      <td>120458</td>\n",
       "      <td>100494</td>\n",
       "      <td>100502</td>\n",
       "      <td>54486</td>\n",
       "      <td>\\N</td>\n",
       "      <td>1</td>\n",
       "      <td>600</td>\n",
       "      <td>2016-05-11 10:00:00</td>\n",
       "      <td>2016-05-11 11:00:00</td>\n",
       "      <td>30.55</td>\n",
       "      <td>...</td>\n",
       "      <td>2016-05-10 09:48:03</td>\n",
       "      <td>\\N</td>\n",
       "      <td>2016-05-11 09:51:14</td>\n",
       "      <td>2016-05-11 10:18:14</td>\n",
       "      <td>33.87</td>\n",
       "      <td>11.77</td>\n",
       "      <td>27.00</td>\n",
       "      <td>15</td>\n",
       "      <td>17.000</td>\n",
       "      <td>30956.99000</td>\n",
       "    </tr>\n",
       "    <tr>\n",
       "      <th>24</th>\n",
       "      <td>120466</td>\n",
       "      <td>100502</td>\n",
       "      <td>100510</td>\n",
       "      <td>43932</td>\n",
       "      <td>\\N</td>\n",
       "      <td>1</td>\n",
       "      <td>600</td>\n",
       "      <td>2016-05-10 12:00:00</td>\n",
       "      <td>2016-05-10 13:00:00</td>\n",
       "      <td>34.76</td>\n",
       "      <td>...</td>\n",
       "      <td>2016-05-10 10:00:40</td>\n",
       "      <td>\\N</td>\n",
       "      <td>2016-05-10 11:57:16</td>\n",
       "      <td>2016-05-10 12:18:26</td>\n",
       "      <td>43.58</td>\n",
       "      <td>11.60</td>\n",
       "      <td>21.17</td>\n",
       "      <td>23</td>\n",
       "      <td>28.000</td>\n",
       "      <td>54400.00000</td>\n",
       "    </tr>\n",
       "    <tr>\n",
       "      <th>25</th>\n",
       "      <td>120468</td>\n",
       "      <td>100504</td>\n",
       "      <td>100512</td>\n",
       "      <td>56464</td>\n",
       "      <td>\\N</td>\n",
       "      <td>1</td>\n",
       "      <td>600</td>\n",
       "      <td>2016-05-10 12:00:00</td>\n",
       "      <td>2016-05-10 13:00:00</td>\n",
       "      <td>20.44</td>\n",
       "      <td>...</td>\n",
       "      <td>2016-05-10 11:05:31</td>\n",
       "      <td>\\N</td>\n",
       "      <td>2016-05-10 12:07:00</td>\n",
       "      <td>2016-05-10 12:16:53</td>\n",
       "      <td>23.05</td>\n",
       "      <td>16.87</td>\n",
       "      <td>9.88</td>\n",
       "      <td>13</td>\n",
       "      <td>18.000</td>\n",
       "      <td>27732.47000</td>\n",
       "    </tr>\n",
       "    <tr>\n",
       "      <th>26</th>\n",
       "      <td>120470</td>\n",
       "      <td>100506</td>\n",
       "      <td>100514</td>\n",
       "      <td>4592</td>\n",
       "      <td>\\N</td>\n",
       "      <td>1</td>\n",
       "      <td>600</td>\n",
       "      <td>2016-05-10 13:00:00</td>\n",
       "      <td>2016-05-10 14:00:00</td>\n",
       "      <td>39.33</td>\n",
       "      <td>...</td>\n",
       "      <td>2016-05-10 10:12:03</td>\n",
       "      <td>\\N</td>\n",
       "      <td>2016-05-10 13:06:26</td>\n",
       "      <td>2016-05-10 13:50:03</td>\n",
       "      <td>33.58</td>\n",
       "      <td>16.72</td>\n",
       "      <td>43.62</td>\n",
       "      <td>20</td>\n",
       "      <td>21.000</td>\n",
       "      <td>32327.94000</td>\n",
       "    </tr>\n",
       "    <tr>\n",
       "      <th>27</th>\n",
       "      <td>120472</td>\n",
       "      <td>100508</td>\n",
       "      <td>100516</td>\n",
       "      <td>42644</td>\n",
       "      <td>\\N</td>\n",
       "      <td>1</td>\n",
       "      <td>600</td>\n",
       "      <td>2016-05-10 20:00:00</td>\n",
       "      <td>2016-05-10 21:00:00</td>\n",
       "      <td>34.96</td>\n",
       "      <td>...</td>\n",
       "      <td>2016-05-10 10:15:32</td>\n",
       "      <td>\\N</td>\n",
       "      <td>2016-05-10 19:57:13</td>\n",
       "      <td>2016-05-10 20:23:17</td>\n",
       "      <td>42.38</td>\n",
       "      <td>11.17</td>\n",
       "      <td>26.07</td>\n",
       "      <td>16</td>\n",
       "      <td>14.000</td>\n",
       "      <td>20704.83000</td>\n",
       "    </tr>\n",
       "    <tr>\n",
       "      <th>28</th>\n",
       "      <td>120474</td>\n",
       "      <td>100510</td>\n",
       "      <td>100518</td>\n",
       "      <td>49546</td>\n",
       "      <td>\\N</td>\n",
       "      <td>1</td>\n",
       "      <td>600</td>\n",
       "      <td>2016-05-11 10:00:00</td>\n",
       "      <td>2016-05-11 11:00:00</td>\n",
       "      <td>87.93</td>\n",
       "      <td>...</td>\n",
       "      <td>2016-05-10 10:15:11</td>\n",
       "      <td>\\N</td>\n",
       "      <td>2016-05-11 09:45:25</td>\n",
       "      <td>2016-05-11 10:17:43</td>\n",
       "      <td>70.18</td>\n",
       "      <td>3.05</td>\n",
       "      <td>32.30</td>\n",
       "      <td>34</td>\n",
       "      <td>51.000</td>\n",
       "      <td>98737.47000</td>\n",
       "    </tr>\n",
       "    <tr>\n",
       "      <th>29</th>\n",
       "      <td>120476</td>\n",
       "      <td>100512</td>\n",
       "      <td>100520</td>\n",
       "      <td>42378</td>\n",
       "      <td>\\N</td>\n",
       "      <td>1</td>\n",
       "      <td>600</td>\n",
       "      <td>2016-05-10 11:00:00</td>\n",
       "      <td>2016-05-10 12:00:00</td>\n",
       "      <td>7.90</td>\n",
       "      <td>...</td>\n",
       "      <td>2016-05-10 10:19:50</td>\n",
       "      <td>\\N</td>\n",
       "      <td>2016-05-10 11:59:14</td>\n",
       "      <td>2016-05-10 12:39:21</td>\n",
       "      <td>1.00</td>\n",
       "      <td>1.45</td>\n",
       "      <td>40.12</td>\n",
       "      <td>1</td>\n",
       "      <td>1.000</td>\n",
       "      <td>1989.34000</td>\n",
       "    </tr>\n",
       "    <tr>\n",
       "      <th>...</th>\n",
       "      <td>...</td>\n",
       "      <td>...</td>\n",
       "      <td>...</td>\n",
       "      <td>...</td>\n",
       "      <td>...</td>\n",
       "      <td>...</td>\n",
       "      <td>...</td>\n",
       "      <td>...</td>\n",
       "      <td>...</td>\n",
       "      <td>...</td>\n",
       "      <td>...</td>\n",
       "      <td>...</td>\n",
       "      <td>...</td>\n",
       "      <td>...</td>\n",
       "      <td>...</td>\n",
       "      <td>...</td>\n",
       "      <td>...</td>\n",
       "      <td>...</td>\n",
       "      <td>...</td>\n",
       "      <td>...</td>\n",
       "      <td>...</td>\n",
       "    </tr>\n",
       "    <tr>\n",
       "      <th>232258</th>\n",
       "      <td>804409</td>\n",
       "      <td>786073</td>\n",
       "      <td>786109</td>\n",
       "      <td>98558</td>\n",
       "      <td>\\N</td>\n",
       "      <td>1</td>\n",
       "      <td>600</td>\n",
       "      <td>2018-10-24 19:00:00</td>\n",
       "      <td>2018-10-24 20:00:00</td>\n",
       "      <td>11.04</td>\n",
       "      <td>...</td>\n",
       "      <td>2018-10-24 17:28:58</td>\n",
       "      <td>\\N</td>\n",
       "      <td>2018-10-24 18:49:52</td>\n",
       "      <td>2018-10-24 20:51:51</td>\n",
       "      <td>25.87</td>\n",
       "      <td>18.17</td>\n",
       "      <td>121.98</td>\n",
       "      <td>3</td>\n",
       "      <td>26.000</td>\n",
       "      <td>82625.27000</td>\n",
       "    </tr>\n",
       "    <tr>\n",
       "      <th>232259</th>\n",
       "      <td>804413</td>\n",
       "      <td>786077</td>\n",
       "      <td>786113</td>\n",
       "      <td>102496</td>\n",
       "      <td>\\N</td>\n",
       "      <td>1</td>\n",
       "      <td>600</td>\n",
       "      <td>2018-10-24 20:00:00</td>\n",
       "      <td>2018-10-24 21:00:00</td>\n",
       "      <td>47.45</td>\n",
       "      <td>...</td>\n",
       "      <td>2018-10-24 17:51:37</td>\n",
       "      <td>\\N</td>\n",
       "      <td>2018-10-24 20:21:43</td>\n",
       "      <td>2018-10-24 20:34:28</td>\n",
       "      <td>12.47</td>\n",
       "      <td>5.53</td>\n",
       "      <td>12.75</td>\n",
       "      <td>22</td>\n",
       "      <td>58.260</td>\n",
       "      <td>214862.06550</td>\n",
       "    </tr>\n",
       "    <tr>\n",
       "      <th>232260</th>\n",
       "      <td>804417</td>\n",
       "      <td>786081</td>\n",
       "      <td>786117</td>\n",
       "      <td>81839</td>\n",
       "      <td>\\N</td>\n",
       "      <td>1</td>\n",
       "      <td>600</td>\n",
       "      <td>2018-10-24 18:00:00</td>\n",
       "      <td>2018-10-24 19:00:00</td>\n",
       "      <td>91.50</td>\n",
       "      <td>...</td>\n",
       "      <td>2018-10-24 16:52:36</td>\n",
       "      <td>\\N</td>\n",
       "      <td>2018-10-24 17:27:24</td>\n",
       "      <td>2018-10-24 17:40:43</td>\n",
       "      <td>1.08</td>\n",
       "      <td>8.58</td>\n",
       "      <td>13.32</td>\n",
       "      <td>4</td>\n",
       "      <td>8.000</td>\n",
       "      <td>13965.49000</td>\n",
       "    </tr>\n",
       "    <tr>\n",
       "      <th>232261</th>\n",
       "      <td>804421</td>\n",
       "      <td>786085</td>\n",
       "      <td>786121</td>\n",
       "      <td>144827</td>\n",
       "      <td>\\N</td>\n",
       "      <td>1</td>\n",
       "      <td>600</td>\n",
       "      <td>2018-10-24 18:00:00</td>\n",
       "      <td>2018-10-24 19:00:00</td>\n",
       "      <td>45.74</td>\n",
       "      <td>...</td>\n",
       "      <td>2018-10-24 16:51:16</td>\n",
       "      <td>\\N</td>\n",
       "      <td>2018-10-24 17:51:29</td>\n",
       "      <td>2018-10-24 18:16:00</td>\n",
       "      <td>13.17</td>\n",
       "      <td>10.03</td>\n",
       "      <td>24.52</td>\n",
       "      <td>18</td>\n",
       "      <td>35.260</td>\n",
       "      <td>56492.77340</td>\n",
       "    </tr>\n",
       "    <tr>\n",
       "      <th>232262</th>\n",
       "      <td>804425</td>\n",
       "      <td>786089</td>\n",
       "      <td>786125</td>\n",
       "      <td>121751</td>\n",
       "      <td>\\N</td>\n",
       "      <td>1</td>\n",
       "      <td>600</td>\n",
       "      <td>2018-10-24 19:00:00</td>\n",
       "      <td>2018-10-24 20:00:00</td>\n",
       "      <td>41.39</td>\n",
       "      <td>...</td>\n",
       "      <td>2018-10-24 17:10:51</td>\n",
       "      <td>\\N</td>\n",
       "      <td>2018-10-24 20:07:11</td>\n",
       "      <td>2018-10-24 20:17:00</td>\n",
       "      <td>18.75</td>\n",
       "      <td>14.82</td>\n",
       "      <td>9.82</td>\n",
       "      <td>24</td>\n",
       "      <td>30.000</td>\n",
       "      <td>75841.76000</td>\n",
       "    </tr>\n",
       "    <tr>\n",
       "      <th>232263</th>\n",
       "      <td>804429</td>\n",
       "      <td>786093</td>\n",
       "      <td>786129</td>\n",
       "      <td>16287</td>\n",
       "      <td>\\N</td>\n",
       "      <td>1</td>\n",
       "      <td>600</td>\n",
       "      <td>2018-10-24 19:00:00</td>\n",
       "      <td>2018-10-24 20:00:00</td>\n",
       "      <td>60.16</td>\n",
       "      <td>...</td>\n",
       "      <td>2018-10-24 17:03:15</td>\n",
       "      <td>\\N</td>\n",
       "      <td>2018-10-24 19:17:51</td>\n",
       "      <td>2018-10-24 19:42:25</td>\n",
       "      <td>27.83</td>\n",
       "      <td>12.98</td>\n",
       "      <td>24.57</td>\n",
       "      <td>28</td>\n",
       "      <td>37.000</td>\n",
       "      <td>55768.72000</td>\n",
       "    </tr>\n",
       "    <tr>\n",
       "      <th>232264</th>\n",
       "      <td>804433</td>\n",
       "      <td>786097</td>\n",
       "      <td>786133</td>\n",
       "      <td>146403</td>\n",
       "      <td>\\N</td>\n",
       "      <td>1</td>\n",
       "      <td>600</td>\n",
       "      <td>2018-10-24 19:00:00</td>\n",
       "      <td>2018-10-24 20:00:00</td>\n",
       "      <td>35.90</td>\n",
       "      <td>...</td>\n",
       "      <td>2018-10-24 17:03:23</td>\n",
       "      <td>\\N</td>\n",
       "      <td>2018-10-24 18:35:15</td>\n",
       "      <td>2018-10-24 18:53:29</td>\n",
       "      <td>18.80</td>\n",
       "      <td>10.18</td>\n",
       "      <td>18.23</td>\n",
       "      <td>18</td>\n",
       "      <td>27.400</td>\n",
       "      <td>70224.73000</td>\n",
       "    </tr>\n",
       "    <tr>\n",
       "      <th>232265</th>\n",
       "      <td>804443</td>\n",
       "      <td>786107</td>\n",
       "      <td>786143</td>\n",
       "      <td>82693</td>\n",
       "      <td>\\N</td>\n",
       "      <td>1</td>\n",
       "      <td>600</td>\n",
       "      <td>2018-10-24 21:00:00</td>\n",
       "      <td>2018-10-24 22:00:00</td>\n",
       "      <td>31.54</td>\n",
       "      <td>...</td>\n",
       "      <td>2018-10-24 18:50:23</td>\n",
       "      <td>\\N</td>\n",
       "      <td>2018-10-24 20:56:39</td>\n",
       "      <td>2018-10-24 21:25:18</td>\n",
       "      <td>5.45</td>\n",
       "      <td>12.65</td>\n",
       "      <td>28.65</td>\n",
       "      <td>8</td>\n",
       "      <td>41.000</td>\n",
       "      <td>269848.76000</td>\n",
       "    </tr>\n",
       "    <tr>\n",
       "      <th>232266</th>\n",
       "      <td>804445</td>\n",
       "      <td>786109</td>\n",
       "      <td>786145</td>\n",
       "      <td>108963</td>\n",
       "      <td>\\N</td>\n",
       "      <td>1</td>\n",
       "      <td>600</td>\n",
       "      <td>2018-10-24 19:00:00</td>\n",
       "      <td>2018-10-24 20:00:00</td>\n",
       "      <td>28.24</td>\n",
       "      <td>...</td>\n",
       "      <td>2018-10-24 17:08:09</td>\n",
       "      <td>\\N</td>\n",
       "      <td>2018-10-24 18:31:27</td>\n",
       "      <td>2018-10-24 18:54:26</td>\n",
       "      <td>33.53</td>\n",
       "      <td>11.02</td>\n",
       "      <td>22.98</td>\n",
       "      <td>17</td>\n",
       "      <td>13.292</td>\n",
       "      <td>27164.83384</td>\n",
       "    </tr>\n",
       "    <tr>\n",
       "      <th>232267</th>\n",
       "      <td>804447</td>\n",
       "      <td>786111</td>\n",
       "      <td>786147</td>\n",
       "      <td>144581</td>\n",
       "      <td>\\N</td>\n",
       "      <td>1</td>\n",
       "      <td>600</td>\n",
       "      <td>2018-10-24 19:00:00</td>\n",
       "      <td>2018-10-24 20:00:00</td>\n",
       "      <td>80.03</td>\n",
       "      <td>...</td>\n",
       "      <td>2018-10-24 17:05:03</td>\n",
       "      <td>\\N</td>\n",
       "      <td>2018-10-24 18:33:00</td>\n",
       "      <td>2018-10-24 19:18:22</td>\n",
       "      <td>15.65</td>\n",
       "      <td>16.28</td>\n",
       "      <td>45.37</td>\n",
       "      <td>38</td>\n",
       "      <td>72.000</td>\n",
       "      <td>119104.07000</td>\n",
       "    </tr>\n",
       "    <tr>\n",
       "      <th>232268</th>\n",
       "      <td>804449</td>\n",
       "      <td>786113</td>\n",
       "      <td>786149</td>\n",
       "      <td>13657</td>\n",
       "      <td>\\N</td>\n",
       "      <td>1</td>\n",
       "      <td>600</td>\n",
       "      <td>2018-10-24 19:00:00</td>\n",
       "      <td>2018-10-24 20:00:00</td>\n",
       "      <td>37.97</td>\n",
       "      <td>...</td>\n",
       "      <td>2018-10-24 17:08:34</td>\n",
       "      <td>\\N</td>\n",
       "      <td>2018-10-24 17:42:39</td>\n",
       "      <td>2018-10-24 18:51:42</td>\n",
       "      <td>14.88</td>\n",
       "      <td>9.33</td>\n",
       "      <td>69.05</td>\n",
       "      <td>12</td>\n",
       "      <td>19.785</td>\n",
       "      <td>50591.00878</td>\n",
       "    </tr>\n",
       "    <tr>\n",
       "      <th>232269</th>\n",
       "      <td>804453</td>\n",
       "      <td>786117</td>\n",
       "      <td>786153</td>\n",
       "      <td>65072</td>\n",
       "      <td>\\N</td>\n",
       "      <td>1</td>\n",
       "      <td>600</td>\n",
       "      <td>2018-10-24 20:00:00</td>\n",
       "      <td>2018-10-24 21:00:00</td>\n",
       "      <td>46.89</td>\n",
       "      <td>...</td>\n",
       "      <td>2018-10-24 17:51:33</td>\n",
       "      <td>\\N</td>\n",
       "      <td>2018-10-24 19:59:01</td>\n",
       "      <td>2018-10-24 20:11:05</td>\n",
       "      <td>17.62</td>\n",
       "      <td>11.03</td>\n",
       "      <td>12.07</td>\n",
       "      <td>14</td>\n",
       "      <td>16.428</td>\n",
       "      <td>29385.77134</td>\n",
       "    </tr>\n",
       "    <tr>\n",
       "      <th>232270</th>\n",
       "      <td>804459</td>\n",
       "      <td>786123</td>\n",
       "      <td>786159</td>\n",
       "      <td>82693</td>\n",
       "      <td>\\N</td>\n",
       "      <td>1</td>\n",
       "      <td>600</td>\n",
       "      <td>2018-10-24 20:00:00</td>\n",
       "      <td>2018-10-24 21:00:00</td>\n",
       "      <td>14.12</td>\n",
       "      <td>...</td>\n",
       "      <td>2018-10-24 17:50:41</td>\n",
       "      <td>\\N</td>\n",
       "      <td>2018-10-24 20:56:05</td>\n",
       "      <td>2018-10-24 21:04:46</td>\n",
       "      <td>5.02</td>\n",
       "      <td>18.37</td>\n",
       "      <td>8.68</td>\n",
       "      <td>10</td>\n",
       "      <td>17.342</td>\n",
       "      <td>61387.43704</td>\n",
       "    </tr>\n",
       "    <tr>\n",
       "      <th>232271</th>\n",
       "      <td>804475</td>\n",
       "      <td>786139</td>\n",
       "      <td>786175</td>\n",
       "      <td>81839</td>\n",
       "      <td>\\N</td>\n",
       "      <td>1</td>\n",
       "      <td>600</td>\n",
       "      <td>2018-10-24 20:00:00</td>\n",
       "      <td>2018-10-24 21:00:00</td>\n",
       "      <td>61.11</td>\n",
       "      <td>...</td>\n",
       "      <td>2018-10-24 17:50:58</td>\n",
       "      <td>\\N</td>\n",
       "      <td>2018-10-24 18:55:52</td>\n",
       "      <td>2018-10-24 19:15:10</td>\n",
       "      <td>10.75</td>\n",
       "      <td>19.95</td>\n",
       "      <td>19.30</td>\n",
       "      <td>17</td>\n",
       "      <td>23.000</td>\n",
       "      <td>21308.33000</td>\n",
       "    </tr>\n",
       "    <tr>\n",
       "      <th>232272</th>\n",
       "      <td>804477</td>\n",
       "      <td>786141</td>\n",
       "      <td>786177</td>\n",
       "      <td>133931</td>\n",
       "      <td>\\N</td>\n",
       "      <td>1</td>\n",
       "      <td>600</td>\n",
       "      <td>2018-10-24 20:00:00</td>\n",
       "      <td>2018-10-24 21:00:00</td>\n",
       "      <td>34.64</td>\n",
       "      <td>...</td>\n",
       "      <td>2018-10-24 17:51:06</td>\n",
       "      <td>\\N</td>\n",
       "      <td>2018-10-24 19:49:33</td>\n",
       "      <td>2018-10-24 20:19:44</td>\n",
       "      <td>14.58</td>\n",
       "      <td>16.15</td>\n",
       "      <td>30.18</td>\n",
       "      <td>17</td>\n",
       "      <td>23.000</td>\n",
       "      <td>31672.69000</td>\n",
       "    </tr>\n",
       "    <tr>\n",
       "      <th>232273</th>\n",
       "      <td>804479</td>\n",
       "      <td>786143</td>\n",
       "      <td>786179</td>\n",
       "      <td>76756</td>\n",
       "      <td>\\N</td>\n",
       "      <td>1</td>\n",
       "      <td>600</td>\n",
       "      <td>2018-10-24 19:00:00</td>\n",
       "      <td>2018-10-24 20:00:00</td>\n",
       "      <td>32.35</td>\n",
       "      <td>...</td>\n",
       "      <td>2018-10-24 17:27:04</td>\n",
       "      <td>\\N</td>\n",
       "      <td>2018-10-24 19:19:00</td>\n",
       "      <td>2018-10-24 19:50:18</td>\n",
       "      <td>12.78</td>\n",
       "      <td>10.37</td>\n",
       "      <td>31.30</td>\n",
       "      <td>8</td>\n",
       "      <td>13.000</td>\n",
       "      <td>75302.21000</td>\n",
       "    </tr>\n",
       "    <tr>\n",
       "      <th>232274</th>\n",
       "      <td>804483</td>\n",
       "      <td>786147</td>\n",
       "      <td>786183</td>\n",
       "      <td>137493</td>\n",
       "      <td>\\N</td>\n",
       "      <td>1</td>\n",
       "      <td>600</td>\n",
       "      <td>2018-10-24 19:00:00</td>\n",
       "      <td>2018-10-24 20:00:00</td>\n",
       "      <td>32.90</td>\n",
       "      <td>...</td>\n",
       "      <td>2018-10-24 17:24:03</td>\n",
       "      <td>\\N</td>\n",
       "      <td>2018-10-24 18:54:36</td>\n",
       "      <td>2018-10-24 19:19:17</td>\n",
       "      <td>37.95</td>\n",
       "      <td>14.85</td>\n",
       "      <td>24.68</td>\n",
       "      <td>19</td>\n",
       "      <td>15.500</td>\n",
       "      <td>60983.80500</td>\n",
       "    </tr>\n",
       "    <tr>\n",
       "      <th>232275</th>\n",
       "      <td>804491</td>\n",
       "      <td>786155</td>\n",
       "      <td>786191</td>\n",
       "      <td>101498</td>\n",
       "      <td>\\N</td>\n",
       "      <td>1</td>\n",
       "      <td>600</td>\n",
       "      <td>2018-10-24 19:00:00</td>\n",
       "      <td>2018-10-24 20:00:00</td>\n",
       "      <td>28.98</td>\n",
       "      <td>...</td>\n",
       "      <td>2018-10-24 17:27:55</td>\n",
       "      <td>\\N</td>\n",
       "      <td>2018-10-24 20:00:08</td>\n",
       "      <td>2018-10-24 20:15:21</td>\n",
       "      <td>45.03</td>\n",
       "      <td>20.75</td>\n",
       "      <td>15.22</td>\n",
       "      <td>15</td>\n",
       "      <td>14.588</td>\n",
       "      <td>19168.85600</td>\n",
       "    </tr>\n",
       "    <tr>\n",
       "      <th>232276</th>\n",
       "      <td>804495</td>\n",
       "      <td>786159</td>\n",
       "      <td>786195</td>\n",
       "      <td>150281</td>\n",
       "      <td>\\N</td>\n",
       "      <td>1</td>\n",
       "      <td>600</td>\n",
       "      <td>2018-10-24 20:00:00</td>\n",
       "      <td>2018-10-24 21:00:00</td>\n",
       "      <td>26.49</td>\n",
       "      <td>...</td>\n",
       "      <td>2018-10-24 17:50:25</td>\n",
       "      <td>\\N</td>\n",
       "      <td>2018-10-24 20:52:19</td>\n",
       "      <td>2018-10-24 21:01:59</td>\n",
       "      <td>26.85</td>\n",
       "      <td>8.85</td>\n",
       "      <td>9.67</td>\n",
       "      <td>10</td>\n",
       "      <td>11.590</td>\n",
       "      <td>26269.93640</td>\n",
       "    </tr>\n",
       "    <tr>\n",
       "      <th>232277</th>\n",
       "      <td>804499</td>\n",
       "      <td>786163</td>\n",
       "      <td>786199</td>\n",
       "      <td>100654</td>\n",
       "      <td>\\N</td>\n",
       "      <td>1</td>\n",
       "      <td>600</td>\n",
       "      <td>2018-10-24 20:00:00</td>\n",
       "      <td>2018-10-24 21:00:00</td>\n",
       "      <td>25.79</td>\n",
       "      <td>...</td>\n",
       "      <td>2018-10-24 17:50:51</td>\n",
       "      <td>\\N</td>\n",
       "      <td>2018-10-24 20:26:16</td>\n",
       "      <td>2018-10-24 20:43:52</td>\n",
       "      <td>19.05</td>\n",
       "      <td>7.52</td>\n",
       "      <td>17.60</td>\n",
       "      <td>9</td>\n",
       "      <td>24.550</td>\n",
       "      <td>142376.04000</td>\n",
       "    </tr>\n",
       "    <tr>\n",
       "      <th>232278</th>\n",
       "      <td>804517</td>\n",
       "      <td>786181</td>\n",
       "      <td>786217</td>\n",
       "      <td>136603</td>\n",
       "      <td>\\N</td>\n",
       "      <td>1</td>\n",
       "      <td>600</td>\n",
       "      <td>2018-10-24 19:00:00</td>\n",
       "      <td>2018-10-24 20:00:00</td>\n",
       "      <td>7.81</td>\n",
       "      <td>...</td>\n",
       "      <td>2018-10-24 17:44:30</td>\n",
       "      <td>\\N</td>\n",
       "      <td>2018-10-24 18:42:12</td>\n",
       "      <td>2018-10-24 18:53:49</td>\n",
       "      <td>4.97</td>\n",
       "      <td>5.52</td>\n",
       "      <td>11.62</td>\n",
       "      <td>4</td>\n",
       "      <td>4.000</td>\n",
       "      <td>16103.01000</td>\n",
       "    </tr>\n",
       "    <tr>\n",
       "      <th>232279</th>\n",
       "      <td>804521</td>\n",
       "      <td>786185</td>\n",
       "      <td>786221</td>\n",
       "      <td>111295</td>\n",
       "      <td>\\N</td>\n",
       "      <td>1</td>\n",
       "      <td>600</td>\n",
       "      <td>2018-10-24 20:00:00</td>\n",
       "      <td>2018-10-24 21:00:00</td>\n",
       "      <td>64.24</td>\n",
       "      <td>...</td>\n",
       "      <td>2018-10-24 17:50:37</td>\n",
       "      <td>\\N</td>\n",
       "      <td>2018-10-24 19:11:36</td>\n",
       "      <td>2018-10-24 19:44:02</td>\n",
       "      <td>17.22</td>\n",
       "      <td>16.17</td>\n",
       "      <td>32.43</td>\n",
       "      <td>27</td>\n",
       "      <td>48.528</td>\n",
       "      <td>105019.19686</td>\n",
       "    </tr>\n",
       "    <tr>\n",
       "      <th>232280</th>\n",
       "      <td>804525</td>\n",
       "      <td>786189</td>\n",
       "      <td>786225</td>\n",
       "      <td>80325</td>\n",
       "      <td>\\N</td>\n",
       "      <td>1</td>\n",
       "      <td>600</td>\n",
       "      <td>2018-10-24 20:00:00</td>\n",
       "      <td>2018-10-24 21:00:00</td>\n",
       "      <td>23.47</td>\n",
       "      <td>...</td>\n",
       "      <td>2018-10-24 18:03:12</td>\n",
       "      <td>\\N</td>\n",
       "      <td>2018-10-24 20:42:27</td>\n",
       "      <td>2018-10-24 20:59:50</td>\n",
       "      <td>7.13</td>\n",
       "      <td>6.13</td>\n",
       "      <td>17.38</td>\n",
       "      <td>10</td>\n",
       "      <td>14.000</td>\n",
       "      <td>42573.39000</td>\n",
       "    </tr>\n",
       "    <tr>\n",
       "      <th>232281</th>\n",
       "      <td>804527</td>\n",
       "      <td>786191</td>\n",
       "      <td>786227</td>\n",
       "      <td>142677</td>\n",
       "      <td>\\N</td>\n",
       "      <td>1</td>\n",
       "      <td>600</td>\n",
       "      <td>2018-10-24 19:00:00</td>\n",
       "      <td>2018-10-24 20:00:00</td>\n",
       "      <td>23.86</td>\n",
       "      <td>...</td>\n",
       "      <td>2018-10-24 17:49:01</td>\n",
       "      <td>\\N</td>\n",
       "      <td>2018-10-24 18:59:55</td>\n",
       "      <td>2018-10-24 19:17:54</td>\n",
       "      <td>11.57</td>\n",
       "      <td>9.37</td>\n",
       "      <td>17.98</td>\n",
       "      <td>7</td>\n",
       "      <td>6.200</td>\n",
       "      <td>13690.62000</td>\n",
       "    </tr>\n",
       "    <tr>\n",
       "      <th>232282</th>\n",
       "      <td>804533</td>\n",
       "      <td>786197</td>\n",
       "      <td>786233</td>\n",
       "      <td>116089</td>\n",
       "      <td>12</td>\n",
       "      <td>3</td>\n",
       "      <td>600</td>\n",
       "      <td>2018-10-24 19:00:00</td>\n",
       "      <td>2018-10-24 20:00:00</td>\n",
       "      <td>134.02</td>\n",
       "      <td>...</td>\n",
       "      <td>2018-10-24 17:50:51</td>\n",
       "      <td>2018-10-24 17:49:17</td>\n",
       "      <td>2018-10-24 19:15:05</td>\n",
       "      <td>2018-10-24 19:26:42</td>\n",
       "      <td>9.77</td>\n",
       "      <td>0.98</td>\n",
       "      <td>11.62</td>\n",
       "      <td>38</td>\n",
       "      <td>67.000</td>\n",
       "      <td>106958.33000</td>\n",
       "    </tr>\n",
       "    <tr>\n",
       "      <th>232283</th>\n",
       "      <td>804541</td>\n",
       "      <td>786205</td>\n",
       "      <td>786241</td>\n",
       "      <td>135581</td>\n",
       "      <td>\\N</td>\n",
       "      <td>1</td>\n",
       "      <td>600</td>\n",
       "      <td>2018-10-24 19:00:00</td>\n",
       "      <td>2018-10-24 20:00:00</td>\n",
       "      <td>7.78</td>\n",
       "      <td>...</td>\n",
       "      <td>2018-10-24 18:06:58</td>\n",
       "      <td>\\N</td>\n",
       "      <td>2018-10-24 18:35:24</td>\n",
       "      <td>2018-10-24 18:45:20</td>\n",
       "      <td>1.05</td>\n",
       "      <td>6.07</td>\n",
       "      <td>9.93</td>\n",
       "      <td>2</td>\n",
       "      <td>2.000</td>\n",
       "      <td>2226.92000</td>\n",
       "    </tr>\n",
       "    <tr>\n",
       "      <th>232284</th>\n",
       "      <td>804557</td>\n",
       "      <td>786221</td>\n",
       "      <td>786257</td>\n",
       "      <td>144675</td>\n",
       "      <td>\\N</td>\n",
       "      <td>1</td>\n",
       "      <td>600</td>\n",
       "      <td>2018-10-24 20:00:00</td>\n",
       "      <td>2018-10-24 21:00:00</td>\n",
       "      <td>55.42</td>\n",
       "      <td>...</td>\n",
       "      <td>2018-10-24 18:08:25</td>\n",
       "      <td>\\N</td>\n",
       "      <td>2018-10-24 19:32:06</td>\n",
       "      <td>2018-10-24 19:42:41</td>\n",
       "      <td>19.95</td>\n",
       "      <td>11.17</td>\n",
       "      <td>10.58</td>\n",
       "      <td>38</td>\n",
       "      <td>45.000</td>\n",
       "      <td>83644.17000</td>\n",
       "    </tr>\n",
       "    <tr>\n",
       "      <th>232285</th>\n",
       "      <td>804559</td>\n",
       "      <td>786223</td>\n",
       "      <td>786259</td>\n",
       "      <td>101498</td>\n",
       "      <td>\\N</td>\n",
       "      <td>1</td>\n",
       "      <td>600</td>\n",
       "      <td>2018-10-24 20:00:00</td>\n",
       "      <td>2018-10-24 21:00:00</td>\n",
       "      <td>124.61</td>\n",
       "      <td>...</td>\n",
       "      <td>2018-10-24 18:08:42</td>\n",
       "      <td>\\N</td>\n",
       "      <td>2018-10-24 21:30:49</td>\n",
       "      <td>2018-10-24 21:47:45</td>\n",
       "      <td>29.52</td>\n",
       "      <td>7.98</td>\n",
       "      <td>16.93</td>\n",
       "      <td>64</td>\n",
       "      <td>89.222</td>\n",
       "      <td>216340.36464</td>\n",
       "    </tr>\n",
       "    <tr>\n",
       "      <th>232286</th>\n",
       "      <td>804575</td>\n",
       "      <td>786239</td>\n",
       "      <td>786275</td>\n",
       "      <td>123679</td>\n",
       "      <td>\\N</td>\n",
       "      <td>1</td>\n",
       "      <td>600</td>\n",
       "      <td>2018-10-24 20:00:00</td>\n",
       "      <td>2018-10-24 21:00:00</td>\n",
       "      <td>71.35</td>\n",
       "      <td>...</td>\n",
       "      <td>2018-10-24 18:26:41</td>\n",
       "      <td>\\N</td>\n",
       "      <td>2018-10-24 19:42:02</td>\n",
       "      <td>2018-10-24 20:13:47</td>\n",
       "      <td>23.52</td>\n",
       "      <td>13.53</td>\n",
       "      <td>31.75</td>\n",
       "      <td>28</td>\n",
       "      <td>34.422</td>\n",
       "      <td>46617.99244</td>\n",
       "    </tr>\n",
       "    <tr>\n",
       "      <th>232287</th>\n",
       "      <td>804611</td>\n",
       "      <td>786277</td>\n",
       "      <td>786313</td>\n",
       "      <td>116515</td>\n",
       "      <td>\\N</td>\n",
       "      <td>1</td>\n",
       "      <td>600</td>\n",
       "      <td>2018-10-24 21:00:00</td>\n",
       "      <td>2018-10-24 22:00:00</td>\n",
       "      <td>17.37</td>\n",
       "      <td>...</td>\n",
       "      <td>2018-10-24 19:05:47</td>\n",
       "      <td>\\N</td>\n",
       "      <td>2018-10-24 19:47:01</td>\n",
       "      <td>2018-10-24 20:43:51</td>\n",
       "      <td>3.02</td>\n",
       "      <td>13.32</td>\n",
       "      <td>56.83</td>\n",
       "      <td>6</td>\n",
       "      <td>11.000</td>\n",
       "      <td>29494.54000</td>\n",
       "    </tr>\n",
       "  </tbody>\n",
       "</table>\n",
       "<p>232288 rows × 30 columns</p>\n",
       "</div>"
      ],
      "text/plain": [
       "            id  store_id  customer_id courier_id picker_id  fulfillment_type  \\\n",
       "0       120402    100438       100446      42378        \\N                 1   \n",
       "1       120404    100440       100448      51236        \\N                 1   \n",
       "2       120408    100444       100452      53458        \\N                 1   \n",
       "3       120410    100446       100454      36412        \\N                 1   \n",
       "4       120414    100450       100458       1149        \\N                 1   \n",
       "5       120416    100452       100460      48948        \\N                 1   \n",
       "6       120418    100454       100462      53176        \\N                 1   \n",
       "7       120424    100460       100468      55384        \\N                 1   \n",
       "8       120428    100464       100472      35964        \\N                 1   \n",
       "9       120430    100466       100474      42150        \\N                 1   \n",
       "10      120432    100468       100476       4592        \\N                 1   \n",
       "11      120434    100470       100478      40488        \\N                 1   \n",
       "12      120436    100472       100480      48662        \\N                 1   \n",
       "13      120438    100474       100482      51234        \\N                 1   \n",
       "14      120440    100476       100484      49420        \\N                 1   \n",
       "15      120442    100478       100486      55288        \\N                 1   \n",
       "16      120444    100480       100488      54860        \\N                 1   \n",
       "17      120446    100482       100490      35964        \\N                 1   \n",
       "18      120448    100484       100492      40488        \\N                 1   \n",
       "19      120450    100486       100494      41496        \\N                 1   \n",
       "20      120452    100488       100496      42378        \\N                 1   \n",
       "21      120454    100490       100498      40488        \\N                 1   \n",
       "22      120456    100492       100500      53458        \\N                 1   \n",
       "23      120458    100494       100502      54486        \\N                 1   \n",
       "24      120466    100502       100510      43932        \\N                 1   \n",
       "25      120468    100504       100512      56464        \\N                 1   \n",
       "26      120470    100506       100514       4592        \\N                 1   \n",
       "27      120472    100508       100516      42644        \\N                 1   \n",
       "28      120474    100510       100518      49546        \\N                 1   \n",
       "29      120476    100512       100520      42378        \\N                 1   \n",
       "...        ...       ...          ...        ...       ...               ...   \n",
       "232258  804409    786073       786109      98558        \\N                 1   \n",
       "232259  804413    786077       786113     102496        \\N                 1   \n",
       "232260  804417    786081       786117      81839        \\N                 1   \n",
       "232261  804421    786085       786121     144827        \\N                 1   \n",
       "232262  804425    786089       786125     121751        \\N                 1   \n",
       "232263  804429    786093       786129      16287        \\N                 1   \n",
       "232264  804433    786097       786133     146403        \\N                 1   \n",
       "232265  804443    786107       786143      82693        \\N                 1   \n",
       "232266  804445    786109       786145     108963        \\N                 1   \n",
       "232267  804447    786111       786147     144581        \\N                 1   \n",
       "232268  804449    786113       786149      13657        \\N                 1   \n",
       "232269  804453    786117       786153      65072        \\N                 1   \n",
       "232270  804459    786123       786159      82693        \\N                 1   \n",
       "232271  804475    786139       786175      81839        \\N                 1   \n",
       "232272  804477    786141       786177     133931        \\N                 1   \n",
       "232273  804479    786143       786179      76756        \\N                 1   \n",
       "232274  804483    786147       786183     137493        \\N                 1   \n",
       "232275  804491    786155       786191     101498        \\N                 1   \n",
       "232276  804495    786159       786195     150281        \\N                 1   \n",
       "232277  804499    786163       786199     100654        \\N                 1   \n",
       "232278  804517    786181       786217     136603        \\N                 1   \n",
       "232279  804521    786185       786221     111295        \\N                 1   \n",
       "232280  804525    786189       786225      80325        \\N                 1   \n",
       "232281  804527    786191       786227     142677        \\N                 1   \n",
       "232282  804533    786197       786233     116089        12                 3   \n",
       "232283  804541    786205       786241     135581        \\N                 1   \n",
       "232284  804557    786221       786257     144675        \\N                 1   \n",
       "232285  804559    786223       786259     101498        \\N                 1   \n",
       "232286  804575    786239       786275     123679        \\N                 1   \n",
       "232287  804611    786277       786313     116515        \\N                 1   \n",
       "\n",
       "        status     deliver_at_start       deliver_at_end  amount  \\\n",
       "0          600  2016-05-10 13:00:00  2016-05-10 14:00:00   35.51   \n",
       "1          600  2016-05-12 20:00:00  2016-05-12 21:00:00   29.13   \n",
       "2          600  2016-05-10 10:00:00  2016-05-10 11:00:00   22.83   \n",
       "3          600  2016-05-10 12:00:00  2016-05-10 13:00:00  124.03   \n",
       "4          600  2016-05-10 10:00:00  2016-05-10 11:00:00   28.30   \n",
       "5          600  2016-05-10 15:00:00  2016-05-10 16:00:00   92.63   \n",
       "6          600  2016-05-13 10:00:00  2016-05-13 11:00:00   12.72   \n",
       "7          600  2016-05-10 10:00:00  2016-05-10 11:00:00   24.98   \n",
       "8          600  2016-05-10 15:00:00  2016-05-10 16:00:00   67.69   \n",
       "9          600  2016-05-10 12:00:00  2016-05-10 13:00:00  165.16   \n",
       "10         600  2016-05-10 11:00:00  2016-05-10 12:00:00  116.86   \n",
       "11         600  2016-05-10 13:00:00  2016-05-10 14:00:00   27.47   \n",
       "12         600  2016-05-10 11:00:00  2016-05-10 12:00:00   65.01   \n",
       "13         600  2016-05-11 09:00:00  2016-05-11 10:00:00   12.27   \n",
       "14         600  2016-05-10 12:00:00  2016-05-10 13:00:00   31.51   \n",
       "15         600  2016-05-10 11:00:00  2016-05-10 12:00:00   30.94   \n",
       "16         600  2016-05-10 11:00:00  2016-05-10 12:00:00   25.00   \n",
       "17         600  2016-05-10 19:00:00  2016-05-10 20:00:00  105.10   \n",
       "18         600  2016-05-10 10:00:00  2016-05-10 11:00:00   18.74   \n",
       "19         600  2016-05-10 17:00:00  2016-05-10 18:00:00   33.68   \n",
       "20         600  2016-05-10 19:00:00  2016-05-10 20:00:00   24.13   \n",
       "21         600  2016-05-10 14:00:00  2016-05-10 15:00:00   44.98   \n",
       "22         600  2016-05-16 13:00:00  2016-05-16 14:00:00   11.28   \n",
       "23         600  2016-05-11 10:00:00  2016-05-11 11:00:00   30.55   \n",
       "24         600  2016-05-10 12:00:00  2016-05-10 13:00:00   34.76   \n",
       "25         600  2016-05-10 12:00:00  2016-05-10 13:00:00   20.44   \n",
       "26         600  2016-05-10 13:00:00  2016-05-10 14:00:00   39.33   \n",
       "27         600  2016-05-10 20:00:00  2016-05-10 21:00:00   34.96   \n",
       "28         600  2016-05-11 10:00:00  2016-05-11 11:00:00   87.93   \n",
       "29         600  2016-05-10 11:00:00  2016-05-10 12:00:00    7.90   \n",
       "...        ...                  ...                  ...     ...   \n",
       "232258     600  2018-10-24 19:00:00  2018-10-24 20:00:00   11.04   \n",
       "232259     600  2018-10-24 20:00:00  2018-10-24 21:00:00   47.45   \n",
       "232260     600  2018-10-24 18:00:00  2018-10-24 19:00:00   91.50   \n",
       "232261     600  2018-10-24 18:00:00  2018-10-24 19:00:00   45.74   \n",
       "232262     600  2018-10-24 19:00:00  2018-10-24 20:00:00   41.39   \n",
       "232263     600  2018-10-24 19:00:00  2018-10-24 20:00:00   60.16   \n",
       "232264     600  2018-10-24 19:00:00  2018-10-24 20:00:00   35.90   \n",
       "232265     600  2018-10-24 21:00:00  2018-10-24 22:00:00   31.54   \n",
       "232266     600  2018-10-24 19:00:00  2018-10-24 20:00:00   28.24   \n",
       "232267     600  2018-10-24 19:00:00  2018-10-24 20:00:00   80.03   \n",
       "232268     600  2018-10-24 19:00:00  2018-10-24 20:00:00   37.97   \n",
       "232269     600  2018-10-24 20:00:00  2018-10-24 21:00:00   46.89   \n",
       "232270     600  2018-10-24 20:00:00  2018-10-24 21:00:00   14.12   \n",
       "232271     600  2018-10-24 20:00:00  2018-10-24 21:00:00   61.11   \n",
       "232272     600  2018-10-24 20:00:00  2018-10-24 21:00:00   34.64   \n",
       "232273     600  2018-10-24 19:00:00  2018-10-24 20:00:00   32.35   \n",
       "232274     600  2018-10-24 19:00:00  2018-10-24 20:00:00   32.90   \n",
       "232275     600  2018-10-24 19:00:00  2018-10-24 20:00:00   28.98   \n",
       "232276     600  2018-10-24 20:00:00  2018-10-24 21:00:00   26.49   \n",
       "232277     600  2018-10-24 20:00:00  2018-10-24 21:00:00   25.79   \n",
       "232278     600  2018-10-24 19:00:00  2018-10-24 20:00:00    7.81   \n",
       "232279     600  2018-10-24 20:00:00  2018-10-24 21:00:00   64.24   \n",
       "232280     600  2018-10-24 20:00:00  2018-10-24 21:00:00   23.47   \n",
       "232281     600  2018-10-24 19:00:00  2018-10-24 20:00:00   23.86   \n",
       "232282     600  2018-10-24 19:00:00  2018-10-24 20:00:00  134.02   \n",
       "232283     600  2018-10-24 19:00:00  2018-10-24 20:00:00    7.78   \n",
       "232284     600  2018-10-24 20:00:00  2018-10-24 21:00:00   55.42   \n",
       "232285     600  2018-10-24 20:00:00  2018-10-24 21:00:00  124.61   \n",
       "232286     600  2018-10-24 20:00:00  2018-10-24 21:00:00   71.35   \n",
       "232287     600  2018-10-24 21:00:00  2018-10-24 22:00:00   17.37   \n",
       "\n",
       "            ...               assigned_at            picked_at  \\\n",
       "0           ...       2016-05-10 00:16:47                   \\N   \n",
       "1           ...       2016-05-10 00:42:31                   \\N   \n",
       "2           ...       2016-05-10 08:47:28                   \\N   \n",
       "3           ...       2016-05-10 03:17:08                   \\N   \n",
       "4           ...       2016-05-10 07:05:43                   \\N   \n",
       "5           ...       2016-05-10 06:59:00                   \\N   \n",
       "6           ...       2016-05-10 07:01:28                   \\N   \n",
       "7           ...       2016-05-10 07:45:56                   \\N   \n",
       "8           ...       2016-05-10 07:47:46                   \\N   \n",
       "9           ...       2016-05-10 07:59:20                   \\N   \n",
       "10          ...       2016-05-10 08:26:20                   \\N   \n",
       "11          ...       2016-05-10 08:42:03                   \\N   \n",
       "12          ...       2016-05-10 10:22:27                   \\N   \n",
       "13          ...       2016-05-10 08:52:55                   \\N   \n",
       "14          ...       2016-05-10 09:06:26                   \\N   \n",
       "15          ...       2016-05-10 10:42:24                   \\N   \n",
       "16          ...       2016-05-10 08:59:45                   \\N   \n",
       "17          ...       2016-05-10 09:10:46                   \\N   \n",
       "18          ...       2016-05-10 09:13:54                   \\N   \n",
       "19          ...       2016-05-10 09:13:20                   \\N   \n",
       "20          ...       2016-05-10 09:28:59                   \\N   \n",
       "21          ...       2016-05-10 09:29:18                   \\N   \n",
       "22          ...       2016-05-10 09:35:57                   \\N   \n",
       "23          ...       2016-05-10 09:48:03                   \\N   \n",
       "24          ...       2016-05-10 10:00:40                   \\N   \n",
       "25          ...       2016-05-10 11:05:31                   \\N   \n",
       "26          ...       2016-05-10 10:12:03                   \\N   \n",
       "27          ...       2016-05-10 10:15:32                   \\N   \n",
       "28          ...       2016-05-10 10:15:11                   \\N   \n",
       "29          ...       2016-05-10 10:19:50                   \\N   \n",
       "...         ...                       ...                  ...   \n",
       "232258      ...       2018-10-24 17:28:58                   \\N   \n",
       "232259      ...       2018-10-24 17:51:37                   \\N   \n",
       "232260      ...       2018-10-24 16:52:36                   \\N   \n",
       "232261      ...       2018-10-24 16:51:16                   \\N   \n",
       "232262      ...       2018-10-24 17:10:51                   \\N   \n",
       "232263      ...       2018-10-24 17:03:15                   \\N   \n",
       "232264      ...       2018-10-24 17:03:23                   \\N   \n",
       "232265      ...       2018-10-24 18:50:23                   \\N   \n",
       "232266      ...       2018-10-24 17:08:09                   \\N   \n",
       "232267      ...       2018-10-24 17:05:03                   \\N   \n",
       "232268      ...       2018-10-24 17:08:34                   \\N   \n",
       "232269      ...       2018-10-24 17:51:33                   \\N   \n",
       "232270      ...       2018-10-24 17:50:41                   \\N   \n",
       "232271      ...       2018-10-24 17:50:58                   \\N   \n",
       "232272      ...       2018-10-24 17:51:06                   \\N   \n",
       "232273      ...       2018-10-24 17:27:04                   \\N   \n",
       "232274      ...       2018-10-24 17:24:03                   \\N   \n",
       "232275      ...       2018-10-24 17:27:55                   \\N   \n",
       "232276      ...       2018-10-24 17:50:25                   \\N   \n",
       "232277      ...       2018-10-24 17:50:51                   \\N   \n",
       "232278      ...       2018-10-24 17:44:30                   \\N   \n",
       "232279      ...       2018-10-24 17:50:37                   \\N   \n",
       "232280      ...       2018-10-24 18:03:12                   \\N   \n",
       "232281      ...       2018-10-24 17:49:01                   \\N   \n",
       "232282      ...       2018-10-24 17:50:51  2018-10-24 17:49:17   \n",
       "232283      ...       2018-10-24 18:06:58                   \\N   \n",
       "232284      ...       2018-10-24 18:08:25                   \\N   \n",
       "232285      ...       2018-10-24 18:08:42                   \\N   \n",
       "232286      ...       2018-10-24 18:26:41                   \\N   \n",
       "232287      ...       2018-10-24 19:05:47                   \\N   \n",
       "\n",
       "                    paid_at         delivered_at picking_time  paying_time  \\\n",
       "0       2016-05-10 13:34:11  2016-05-10 13:40:33        15.73         0.28   \n",
       "1       2016-05-12 20:07:18  2016-05-12 20:27:28        31.97         9.30   \n",
       "2       2016-05-10 10:29:41  2016-05-10 11:00:07         9.37        10.58   \n",
       "3       2016-05-10 12:14:33  2016-05-10 12:37:22        77.88        25.87   \n",
       "4       2016-05-10 10:50:06  2016-05-10 11:12:35        12.33        13.83   \n",
       "5       2016-05-10 14:38:29  2016-05-10 15:09:16        34.20        11.62   \n",
       "6       2016-05-13 09:54:19  2016-05-13 10:09:27        12.75        14.07   \n",
       "7       2016-05-10 10:30:18  2016-05-10 10:59:02        25.50        10.73   \n",
       "8       2016-05-10 14:34:57  2016-05-10 15:05:02        17.63         0.33   \n",
       "9       2016-05-10 11:03:23  2016-05-10 11:41:40        39.87        21.82   \n",
       "10      2016-05-10 11:45:45  2016-05-10 11:59:06        68.22         1.47   \n",
       "11      2016-05-10 12:57:56  2016-05-10 13:27:01        21.00         9.18   \n",
       "12      2016-05-10 11:31:10  2016-05-10 12:00:39        37.90        12.83   \n",
       "13      2016-05-11 09:43:53  2016-05-11 09:54:41        38.35         1.80   \n",
       "14      2016-05-10 12:34:24  2016-05-10 13:06:20        13.88         8.97   \n",
       "15      2016-05-10 11:25:15  2016-05-10 11:46:35        12.40         7.63   \n",
       "16      2016-05-10 10:31:19  2016-05-10 10:46:19        10.62        18.32   \n",
       "17      2016-05-10 18:07:20  2016-05-10 18:37:19        39.70         1.18   \n",
       "18      2016-05-10 10:34:34  2016-05-10 10:47:51         1.33         8.95   \n",
       "19      2016-05-10 16:40:00  2016-05-10 16:56:10        13.55         7.73   \n",
       "20      2016-05-10 19:21:38  2016-05-10 19:50:01        11.05         6.00   \n",
       "21      2016-05-10 14:14:13  2016-05-10 14:31:55        10.30        14.37   \n",
       "22      2016-05-16 14:05:35  2016-05-16 14:32:27        11.03         4.65   \n",
       "23      2016-05-11 09:51:14  2016-05-11 10:18:14        33.87        11.77   \n",
       "24      2016-05-10 11:57:16  2016-05-10 12:18:26        43.58        11.60   \n",
       "25      2016-05-10 12:07:00  2016-05-10 12:16:53        23.05        16.87   \n",
       "26      2016-05-10 13:06:26  2016-05-10 13:50:03        33.58        16.72   \n",
       "27      2016-05-10 19:57:13  2016-05-10 20:23:17        42.38        11.17   \n",
       "28      2016-05-11 09:45:25  2016-05-11 10:17:43        70.18         3.05   \n",
       "29      2016-05-10 11:59:14  2016-05-10 12:39:21         1.00         1.45   \n",
       "...                     ...                  ...          ...          ...   \n",
       "232258  2018-10-24 18:49:52  2018-10-24 20:51:51        25.87        18.17   \n",
       "232259  2018-10-24 20:21:43  2018-10-24 20:34:28        12.47         5.53   \n",
       "232260  2018-10-24 17:27:24  2018-10-24 17:40:43         1.08         8.58   \n",
       "232261  2018-10-24 17:51:29  2018-10-24 18:16:00        13.17        10.03   \n",
       "232262  2018-10-24 20:07:11  2018-10-24 20:17:00        18.75        14.82   \n",
       "232263  2018-10-24 19:17:51  2018-10-24 19:42:25        27.83        12.98   \n",
       "232264  2018-10-24 18:35:15  2018-10-24 18:53:29        18.80        10.18   \n",
       "232265  2018-10-24 20:56:39  2018-10-24 21:25:18         5.45        12.65   \n",
       "232266  2018-10-24 18:31:27  2018-10-24 18:54:26        33.53        11.02   \n",
       "232267  2018-10-24 18:33:00  2018-10-24 19:18:22        15.65        16.28   \n",
       "232268  2018-10-24 17:42:39  2018-10-24 18:51:42        14.88         9.33   \n",
       "232269  2018-10-24 19:59:01  2018-10-24 20:11:05        17.62        11.03   \n",
       "232270  2018-10-24 20:56:05  2018-10-24 21:04:46         5.02        18.37   \n",
       "232271  2018-10-24 18:55:52  2018-10-24 19:15:10        10.75        19.95   \n",
       "232272  2018-10-24 19:49:33  2018-10-24 20:19:44        14.58        16.15   \n",
       "232273  2018-10-24 19:19:00  2018-10-24 19:50:18        12.78        10.37   \n",
       "232274  2018-10-24 18:54:36  2018-10-24 19:19:17        37.95        14.85   \n",
       "232275  2018-10-24 20:00:08  2018-10-24 20:15:21        45.03        20.75   \n",
       "232276  2018-10-24 20:52:19  2018-10-24 21:01:59        26.85         8.85   \n",
       "232277  2018-10-24 20:26:16  2018-10-24 20:43:52        19.05         7.52   \n",
       "232278  2018-10-24 18:42:12  2018-10-24 18:53:49         4.97         5.52   \n",
       "232279  2018-10-24 19:11:36  2018-10-24 19:44:02        17.22        16.17   \n",
       "232280  2018-10-24 20:42:27  2018-10-24 20:59:50         7.13         6.13   \n",
       "232281  2018-10-24 18:59:55  2018-10-24 19:17:54        11.57         9.37   \n",
       "232282  2018-10-24 19:15:05  2018-10-24 19:26:42         9.77         0.98   \n",
       "232283  2018-10-24 18:35:24  2018-10-24 18:45:20         1.05         6.07   \n",
       "232284  2018-10-24 19:32:06  2018-10-24 19:42:41        19.95        11.17   \n",
       "232285  2018-10-24 21:30:49  2018-10-24 21:47:45        29.52         7.98   \n",
       "232286  2018-10-24 19:42:02  2018-10-24 20:13:47        23.52        13.53   \n",
       "232287  2018-10-24 19:47:01  2018-10-24 20:43:51         3.02        13.32   \n",
       "\n",
       "        delivery_time  items_found  total_amount  total_volume  \n",
       "0                6.37           11        21.000   31857.30000  \n",
       "1               20.17           16        18.000   37498.11000  \n",
       "2               30.43           11        12.000   23429.19000  \n",
       "3               22.82           46        52.000   63217.34000  \n",
       "4               22.48            9        12.000   23313.72000  \n",
       "5               30.78           20        38.000   54803.07000  \n",
       "6               15.13            8         7.000   14120.60000  \n",
       "7               28.73           11        11.000   17849.92000  \n",
       "8               30.08           24        31.000   52929.54000  \n",
       "9               38.28           24        40.000   61520.37000  \n",
       "10              13.35           34        60.000  125419.31000  \n",
       "11              29.08           17        19.000   31023.61000  \n",
       "12              29.48           25        34.000   63300.03000  \n",
       "13              10.80            7         7.000   12321.86000  \n",
       "14              31.93            5        10.000   16179.13000  \n",
       "15              21.33           12        17.000   29506.66000  \n",
       "16              15.00            9         9.000   10763.44500  \n",
       "17              29.98           32        47.000   69546.22500  \n",
       "18              13.28            3         8.000   16605.48000  \n",
       "19              16.17           13        27.000   45395.36000  \n",
       "20              28.38            8        10.000   19773.47000  \n",
       "21              17.70           13        23.000   46948.21000  \n",
       "22              26.87            5         4.000   12335.04000  \n",
       "23              27.00           15        17.000   30956.99000  \n",
       "24              21.17           23        28.000   54400.00000  \n",
       "25               9.88           13        18.000   27732.47000  \n",
       "26              43.62           20        21.000   32327.94000  \n",
       "27              26.07           16        14.000   20704.83000  \n",
       "28              32.30           34        51.000   98737.47000  \n",
       "29              40.12            1         1.000    1989.34000  \n",
       "...               ...          ...           ...           ...  \n",
       "232258         121.98            3        26.000   82625.27000  \n",
       "232259          12.75           22        58.260  214862.06550  \n",
       "232260          13.32            4         8.000   13965.49000  \n",
       "232261          24.52           18        35.260   56492.77340  \n",
       "232262           9.82           24        30.000   75841.76000  \n",
       "232263          24.57           28        37.000   55768.72000  \n",
       "232264          18.23           18        27.400   70224.73000  \n",
       "232265          28.65            8        41.000  269848.76000  \n",
       "232266          22.98           17        13.292   27164.83384  \n",
       "232267          45.37           38        72.000  119104.07000  \n",
       "232268          69.05           12        19.785   50591.00878  \n",
       "232269          12.07           14        16.428   29385.77134  \n",
       "232270           8.68           10        17.342   61387.43704  \n",
       "232271          19.30           17        23.000   21308.33000  \n",
       "232272          30.18           17        23.000   31672.69000  \n",
       "232273          31.30            8        13.000   75302.21000  \n",
       "232274          24.68           19        15.500   60983.80500  \n",
       "232275          15.22           15        14.588   19168.85600  \n",
       "232276           9.67           10        11.590   26269.93640  \n",
       "232277          17.60            9        24.550  142376.04000  \n",
       "232278          11.62            4         4.000   16103.01000  \n",
       "232279          32.43           27        48.528  105019.19686  \n",
       "232280          17.38           10        14.000   42573.39000  \n",
       "232281          17.98            7         6.200   13690.62000  \n",
       "232282          11.62           38        67.000  106958.33000  \n",
       "232283           9.93            2         2.000    2226.92000  \n",
       "232284          10.58           38        45.000   83644.17000  \n",
       "232285          16.93           64        89.222  216340.36464  \n",
       "232286          31.75           28        34.422   46617.99244  \n",
       "232287          56.83            6        11.000   29494.54000  \n",
       "\n",
       "[232288 rows x 30 columns]"
      ]
     },
     "execution_count": 190,
     "metadata": {},
     "output_type": "execute_result"
    }
   ],
   "source": [
    "df_final"
   ]
  },
  {
   "cell_type": "markdown",
   "metadata": {},
   "source": [
    "### GET ZTL FROM CUSTOMER TABLE\n",
    "\n",
    "ZTL areas could be valuable to infer the total time for a delivery"
   ]
  },
  {
   "cell_type": "code",
   "execution_count": 191,
   "metadata": {
    "scrolled": true
   },
   "outputs": [
    {
     "data": {
      "text/plain": [
       "0          0\n",
       "1          0\n",
       "2          0\n",
       "3          0\n",
       "4          0\n",
       "5          0\n",
       "6          0\n",
       "7          0\n",
       "8          0\n",
       "9          0\n",
       "10         0\n",
       "11         0\n",
       "12         0\n",
       "13         0\n",
       "14         0\n",
       "15         0\n",
       "16         0\n",
       "17         0\n",
       "18         0\n",
       "19         0\n",
       "20         0\n",
       "21         0\n",
       "22         0\n",
       "23         0\n",
       "24         0\n",
       "25         0\n",
       "26         0\n",
       "27         0\n",
       "28         0\n",
       "29         0\n",
       "          ..\n",
       "232258     0\n",
       "232259     0\n",
       "232260    20\n",
       "232261     0\n",
       "232262     0\n",
       "232263     0\n",
       "232264    20\n",
       "232265     0\n",
       "232266     0\n",
       "232267     0\n",
       "232268     0\n",
       "232269     0\n",
       "232270     0\n",
       "232271     0\n",
       "232272     0\n",
       "232273     0\n",
       "232274     0\n",
       "232275     0\n",
       "232276     0\n",
       "232277     0\n",
       "232278     0\n",
       "232279     0\n",
       "232280    20\n",
       "232281     0\n",
       "232282     0\n",
       "232283     0\n",
       "232284     0\n",
       "232285     0\n",
       "232286     0\n",
       "232287     0\n",
       "Name: customer_id, Length: 232288, dtype: int64"
      ]
     },
     "execution_count": 191,
     "metadata": {},
     "output_type": "execute_result"
    }
   ],
   "source": [
    "ztl_col = update_type(df_final.customer_id, df_cust.set_index('id').ztl, val=0)\n",
    "ztl_col"
   ]
  },
  {
   "cell_type": "code",
   "execution_count": 192,
   "metadata": {},
   "outputs": [],
   "source": [
    "temp_vals = ztl_col.values\n",
    "temp_vals = [0 if int(i)==0 else 1 for i in temp_vals]"
   ]
  },
  {
   "cell_type": "code",
   "execution_count": 193,
   "metadata": {},
   "outputs": [],
   "source": [
    "ztl_col.update(pd.Series(temp_vals))"
   ]
  },
  {
   "cell_type": "code",
   "execution_count": 194,
   "metadata": {
    "scrolled": true
   },
   "outputs": [
    {
     "data": {
      "text/plain": [
       "0         0\n",
       "1         0\n",
       "2         0\n",
       "3         0\n",
       "4         0\n",
       "5         0\n",
       "6         0\n",
       "7         0\n",
       "8         0\n",
       "9         0\n",
       "10        0\n",
       "11        0\n",
       "12        0\n",
       "13        0\n",
       "14        0\n",
       "15        0\n",
       "16        0\n",
       "17        0\n",
       "18        0\n",
       "19        0\n",
       "20        0\n",
       "21        0\n",
       "22        0\n",
       "23        0\n",
       "24        0\n",
       "25        0\n",
       "26        0\n",
       "27        0\n",
       "28        0\n",
       "29        0\n",
       "         ..\n",
       "232258    0\n",
       "232259    0\n",
       "232260    1\n",
       "232261    0\n",
       "232262    0\n",
       "232263    0\n",
       "232264    1\n",
       "232265    0\n",
       "232266    0\n",
       "232267    0\n",
       "232268    0\n",
       "232269    0\n",
       "232270    0\n",
       "232271    0\n",
       "232272    0\n",
       "232273    0\n",
       "232274    0\n",
       "232275    0\n",
       "232276    0\n",
       "232277    0\n",
       "232278    0\n",
       "232279    0\n",
       "232280    1\n",
       "232281    0\n",
       "232282    0\n",
       "232283    0\n",
       "232284    0\n",
       "232285    0\n",
       "232286    0\n",
       "232287    0\n",
       "Name: customer_id, Length: 232288, dtype: int64"
      ]
     },
     "execution_count": 194,
     "metadata": {},
     "output_type": "execute_result"
    }
   ],
   "source": [
    "ztl_col"
   ]
  },
  {
   "cell_type": "code",
   "execution_count": 195,
   "metadata": {},
   "outputs": [],
   "source": [
    "df_final.insert(loc=4, column='ztl', value=ztl_col) "
   ]
  },
  {
   "cell_type": "markdown",
   "metadata": {},
   "source": [
    "### INCLUDE COURIER EXPERIENCE\n",
    "\n",
    "One could imagine a negative correlation exists between the experience of a customer (the total usage of the app \n",
    "for the delivery) and the picking time"
   ]
  },
  {
   "cell_type": "code",
   "execution_count": 196,
   "metadata": {},
   "outputs": [],
   "source": [
    "df_final.courier_id=pd.to_numeric(df_final.courier_id)"
   ]
  },
  {
   "cell_type": "code",
   "execution_count": 197,
   "metadata": {},
   "outputs": [],
   "source": [
    "df_cour_active = df_cour[df_cour.id.isin(df_final.courier_id.values)]"
   ]
  },
  {
   "cell_type": "code",
   "execution_count": 198,
   "metadata": {},
   "outputs": [],
   "source": [
    "temp_exp = update_type(df_final.courier_id, df_cour_active.set_index('id').orders_sent, val=0)"
   ]
  },
  {
   "cell_type": "code",
   "execution_count": 199,
   "metadata": {
    "scrolled": true
   },
   "outputs": [],
   "source": [
    "df_final.insert(loc=4, column='courier_exp', value=temp_exp)"
   ]
  },
  {
   "cell_type": "code",
   "execution_count": 200,
   "metadata": {},
   "outputs": [
    {
     "data": {
      "text/html": [
       "<div>\n",
       "<style scoped>\n",
       "    .dataframe tbody tr th:only-of-type {\n",
       "        vertical-align: middle;\n",
       "    }\n",
       "\n",
       "    .dataframe tbody tr th {\n",
       "        vertical-align: top;\n",
       "    }\n",
       "\n",
       "    .dataframe thead th {\n",
       "        text-align: right;\n",
       "    }\n",
       "</style>\n",
       "<table border=\"1\" class=\"dataframe\">\n",
       "  <thead>\n",
       "    <tr style=\"text-align: right;\">\n",
       "      <th></th>\n",
       "      <th>id</th>\n",
       "      <th>store_id</th>\n",
       "      <th>customer_id</th>\n",
       "      <th>courier_id</th>\n",
       "      <th>courier_exp</th>\n",
       "      <th>ztl</th>\n",
       "      <th>picker_id</th>\n",
       "      <th>fulfillment_type</th>\n",
       "      <th>status</th>\n",
       "      <th>deliver_at_start</th>\n",
       "      <th>...</th>\n",
       "      <th>assigned_at</th>\n",
       "      <th>picked_at</th>\n",
       "      <th>paid_at</th>\n",
       "      <th>delivered_at</th>\n",
       "      <th>picking_time</th>\n",
       "      <th>paying_time</th>\n",
       "      <th>delivery_time</th>\n",
       "      <th>items_found</th>\n",
       "      <th>total_amount</th>\n",
       "      <th>total_volume</th>\n",
       "    </tr>\n",
       "  </thead>\n",
       "  <tbody>\n",
       "    <tr>\n",
       "      <th>0</th>\n",
       "      <td>120402</td>\n",
       "      <td>100438</td>\n",
       "      <td>100446</td>\n",
       "      <td>42378</td>\n",
       "      <td>6241.0</td>\n",
       "      <td>0</td>\n",
       "      <td>\\N</td>\n",
       "      <td>1</td>\n",
       "      <td>600</td>\n",
       "      <td>2016-05-10 13:00:00</td>\n",
       "      <td>...</td>\n",
       "      <td>2016-05-10 00:16:47</td>\n",
       "      <td>\\N</td>\n",
       "      <td>2016-05-10 13:34:11</td>\n",
       "      <td>2016-05-10 13:40:33</td>\n",
       "      <td>15.73</td>\n",
       "      <td>0.28</td>\n",
       "      <td>6.37</td>\n",
       "      <td>11</td>\n",
       "      <td>21.0</td>\n",
       "      <td>31857.30</td>\n",
       "    </tr>\n",
       "    <tr>\n",
       "      <th>1</th>\n",
       "      <td>120404</td>\n",
       "      <td>100440</td>\n",
       "      <td>100448</td>\n",
       "      <td>51236</td>\n",
       "      <td>8287.0</td>\n",
       "      <td>0</td>\n",
       "      <td>\\N</td>\n",
       "      <td>1</td>\n",
       "      <td>600</td>\n",
       "      <td>2016-05-12 20:00:00</td>\n",
       "      <td>...</td>\n",
       "      <td>2016-05-10 00:42:31</td>\n",
       "      <td>\\N</td>\n",
       "      <td>2016-05-12 20:07:18</td>\n",
       "      <td>2016-05-12 20:27:28</td>\n",
       "      <td>31.97</td>\n",
       "      <td>9.30</td>\n",
       "      <td>20.17</td>\n",
       "      <td>16</td>\n",
       "      <td>18.0</td>\n",
       "      <td>37498.11</td>\n",
       "    </tr>\n",
       "    <tr>\n",
       "      <th>2</th>\n",
       "      <td>120408</td>\n",
       "      <td>100444</td>\n",
       "      <td>100452</td>\n",
       "      <td>53458</td>\n",
       "      <td>2103.0</td>\n",
       "      <td>0</td>\n",
       "      <td>\\N</td>\n",
       "      <td>1</td>\n",
       "      <td>600</td>\n",
       "      <td>2016-05-10 10:00:00</td>\n",
       "      <td>...</td>\n",
       "      <td>2016-05-10 08:47:28</td>\n",
       "      <td>\\N</td>\n",
       "      <td>2016-05-10 10:29:41</td>\n",
       "      <td>2016-05-10 11:00:07</td>\n",
       "      <td>9.37</td>\n",
       "      <td>10.58</td>\n",
       "      <td>30.43</td>\n",
       "      <td>11</td>\n",
       "      <td>12.0</td>\n",
       "      <td>23429.19</td>\n",
       "    </tr>\n",
       "    <tr>\n",
       "      <th>3</th>\n",
       "      <td>120410</td>\n",
       "      <td>100446</td>\n",
       "      <td>100454</td>\n",
       "      <td>36412</td>\n",
       "      <td>526.0</td>\n",
       "      <td>0</td>\n",
       "      <td>\\N</td>\n",
       "      <td>1</td>\n",
       "      <td>600</td>\n",
       "      <td>2016-05-10 12:00:00</td>\n",
       "      <td>...</td>\n",
       "      <td>2016-05-10 03:17:08</td>\n",
       "      <td>\\N</td>\n",
       "      <td>2016-05-10 12:14:33</td>\n",
       "      <td>2016-05-10 12:37:22</td>\n",
       "      <td>77.88</td>\n",
       "      <td>25.87</td>\n",
       "      <td>22.82</td>\n",
       "      <td>46</td>\n",
       "      <td>52.0</td>\n",
       "      <td>63217.34</td>\n",
       "    </tr>\n",
       "    <tr>\n",
       "      <th>4</th>\n",
       "      <td>120414</td>\n",
       "      <td>100450</td>\n",
       "      <td>100458</td>\n",
       "      <td>1149</td>\n",
       "      <td>387.0</td>\n",
       "      <td>0</td>\n",
       "      <td>\\N</td>\n",
       "      <td>1</td>\n",
       "      <td>600</td>\n",
       "      <td>2016-05-10 10:00:00</td>\n",
       "      <td>...</td>\n",
       "      <td>2016-05-10 07:05:43</td>\n",
       "      <td>\\N</td>\n",
       "      <td>2016-05-10 10:50:06</td>\n",
       "      <td>2016-05-10 11:12:35</td>\n",
       "      <td>12.33</td>\n",
       "      <td>13.83</td>\n",
       "      <td>22.48</td>\n",
       "      <td>9</td>\n",
       "      <td>12.0</td>\n",
       "      <td>23313.72</td>\n",
       "    </tr>\n",
       "  </tbody>\n",
       "</table>\n",
       "<p>5 rows × 32 columns</p>\n",
       "</div>"
      ],
      "text/plain": [
       "       id  store_id  customer_id  courier_id  courier_exp  ztl picker_id  \\\n",
       "0  120402    100438       100446       42378       6241.0    0        \\N   \n",
       "1  120404    100440       100448       51236       8287.0    0        \\N   \n",
       "2  120408    100444       100452       53458       2103.0    0        \\N   \n",
       "3  120410    100446       100454       36412        526.0    0        \\N   \n",
       "4  120414    100450       100458        1149        387.0    0        \\N   \n",
       "\n",
       "   fulfillment_type  status     deliver_at_start      ...       \\\n",
       "0                 1     600  2016-05-10 13:00:00      ...        \n",
       "1                 1     600  2016-05-12 20:00:00      ...        \n",
       "2                 1     600  2016-05-10 10:00:00      ...        \n",
       "3                 1     600  2016-05-10 12:00:00      ...        \n",
       "4                 1     600  2016-05-10 10:00:00      ...        \n",
       "\n",
       "           assigned_at  picked_at              paid_at         delivered_at  \\\n",
       "0  2016-05-10 00:16:47         \\N  2016-05-10 13:34:11  2016-05-10 13:40:33   \n",
       "1  2016-05-10 00:42:31         \\N  2016-05-12 20:07:18  2016-05-12 20:27:28   \n",
       "2  2016-05-10 08:47:28         \\N  2016-05-10 10:29:41  2016-05-10 11:00:07   \n",
       "3  2016-05-10 03:17:08         \\N  2016-05-10 12:14:33  2016-05-10 12:37:22   \n",
       "4  2016-05-10 07:05:43         \\N  2016-05-10 10:50:06  2016-05-10 11:12:35   \n",
       "\n",
       "   picking_time  paying_time delivery_time  items_found  total_amount  \\\n",
       "0         15.73         0.28          6.37           11          21.0   \n",
       "1         31.97         9.30         20.17           16          18.0   \n",
       "2          9.37        10.58         30.43           11          12.0   \n",
       "3         77.88        25.87         22.82           46          52.0   \n",
       "4         12.33        13.83         22.48            9          12.0   \n",
       "\n",
       "   total_volume  \n",
       "0      31857.30  \n",
       "1      37498.11  \n",
       "2      23429.19  \n",
       "3      63217.34  \n",
       "4      23313.72  \n",
       "\n",
       "[5 rows x 32 columns]"
      ]
     },
     "execution_count": 200,
     "metadata": {},
     "output_type": "execute_result"
    }
   ],
   "source": [
    "df_final.head()"
   ]
  },
  {
   "cell_type": "markdown",
   "metadata": {},
   "source": [
    "### Convert distance and time to KMs and minutes respectively"
   ]
  },
  {
   "cell_type": "code",
   "execution_count": 201,
   "metadata": {},
   "outputs": [],
   "source": [
    "df_final['store_customer_duration'] = pd.to_numeric(df_final['store_customer_duration'])"
   ]
  },
  {
   "cell_type": "code",
   "execution_count": 202,
   "metadata": {},
   "outputs": [
    {
     "data": {
      "text/plain": [
       "0    198\n",
       "1    661\n",
       "2    951\n",
       "3    686\n",
       "4    741\n",
       "Name: store_customer_duration, dtype: int64"
      ]
     },
     "execution_count": 202,
     "metadata": {},
     "output_type": "execute_result"
    }
   ],
   "source": [
    "df_final['store_customer_duration'].head()"
   ]
  },
  {
   "cell_type": "code",
   "execution_count": 203,
   "metadata": {},
   "outputs": [],
   "source": [
    "df_final.loc[:,'store_customer_duration'] /= 60 "
   ]
  },
  {
   "cell_type": "code",
   "execution_count": 204,
   "metadata": {
    "scrolled": true
   },
   "outputs": [
    {
     "data": {
      "text/plain": [
       "0     3.300000\n",
       "1    11.016667\n",
       "2    15.850000\n",
       "3    11.433333\n",
       "4    12.350000\n",
       "Name: store_customer_duration, dtype: float64"
      ]
     },
     "execution_count": 204,
     "metadata": {},
     "output_type": "execute_result"
    }
   ],
   "source": [
    "df_final.store_customer_duration.head()"
   ]
  },
  {
   "cell_type": "code",
   "execution_count": 205,
   "metadata": {},
   "outputs": [
    {
     "data": {
      "text/plain": [
       "0    1020\n",
       "1    4908\n",
       "2    4519\n",
       "3    5991\n",
       "4    6073\n",
       "Name: store_customer_distance, dtype: int64"
      ]
     },
     "execution_count": 205,
     "metadata": {},
     "output_type": "execute_result"
    }
   ],
   "source": [
    "df_final['store_customer_distance'].head()"
   ]
  },
  {
   "cell_type": "code",
   "execution_count": 206,
   "metadata": {},
   "outputs": [],
   "source": [
    "df_final.loc[:, 'store_customer_distance'] /= 1000"
   ]
  },
  {
   "cell_type": "code",
   "execution_count": 207,
   "metadata": {
    "scrolled": true
   },
   "outputs": [
    {
     "data": {
      "text/plain": [
       "0    1.020\n",
       "1    4.908\n",
       "2    4.519\n",
       "3    5.991\n",
       "4    6.073\n",
       "Name: store_customer_distance, dtype: float64"
      ]
     },
     "execution_count": 207,
     "metadata": {},
     "output_type": "execute_result"
    }
   ],
   "source": [
    "df_final.store_customer_distance.head()"
   ]
  },
  {
   "cell_type": "markdown",
   "metadata": {},
   "source": [
    "### STORES TABLE"
   ]
  },
  {
   "cell_type": "code",
   "execution_count": 208,
   "metadata": {},
   "outputs": [
    {
     "name": "stdout",
     "output_type": "stream",
     "text": [
      "CPU times: user 681 ms, sys: 76.1 ms, total: 758 ms\n",
      "Wall time: 757 ms\n",
      "Shape  (388907, 8)\n"
     ]
    },
    {
     "name": "stderr",
     "output_type": "stream",
     "text": [
      "<string>:2: DtypeWarning:\n",
      "\n",
      "Columns (5) have mixed types. Specify dtype option on import or set low_memory=False.\n",
      "\n"
     ]
    },
    {
     "data": {
      "text/html": [
       "<div>\n",
       "<style scoped>\n",
       "    .dataframe tbody tr th:only-of-type {\n",
       "        vertical-align: middle;\n",
       "    }\n",
       "\n",
       "    .dataframe tbody tr th {\n",
       "        vertical-align: top;\n",
       "    }\n",
       "\n",
       "    .dataframe thead th {\n",
       "        text-align: right;\n",
       "    }\n",
       "</style>\n",
       "<table border=\"1\" class=\"dataframe\">\n",
       "  <thead>\n",
       "    <tr style=\"text-align: right;\">\n",
       "      <th></th>\n",
       "      <th>id</th>\n",
       "      <th>province</th>\n",
       "      <th>lat</th>\n",
       "      <th>lng</th>\n",
       "      <th>area</th>\n",
       "      <th>ref_id</th>\n",
       "      <th>created_at</th>\n",
       "      <th>updated_at</th>\n",
       "    </tr>\n",
       "  </thead>\n",
       "  <tbody>\n",
       "    <tr>\n",
       "      <th>0</th>\n",
       "      <td>52</td>\n",
       "      <td>MO</td>\n",
       "      <td>44.643322</td>\n",
       "      <td>10.957956</td>\n",
       "      <td>\\N</td>\n",
       "      <td>4029</td>\n",
       "      <td>2015-05-20 17:47:58</td>\n",
       "      <td>2015-05-20 17:47:58</td>\n",
       "    </tr>\n",
       "    <tr>\n",
       "      <th>1</th>\n",
       "      <td>58</td>\n",
       "      <td>RM</td>\n",
       "      <td>41.898420</td>\n",
       "      <td>12.427509</td>\n",
       "      <td>\\N</td>\n",
       "      <td>399</td>\n",
       "      <td>2015-05-21 08:39:31</td>\n",
       "      <td>2015-05-21 08:39:31</td>\n",
       "    </tr>\n",
       "    <tr>\n",
       "      <th>2</th>\n",
       "      <td>60</td>\n",
       "      <td>MI</td>\n",
       "      <td>45.490950</td>\n",
       "      <td>9.240785</td>\n",
       "      <td>\\N</td>\n",
       "      <td>3214</td>\n",
       "      <td>2015-05-21 09:39:06</td>\n",
       "      <td>2015-05-21 09:39:06</td>\n",
       "    </tr>\n",
       "    <tr>\n",
       "      <th>3</th>\n",
       "      <td>62</td>\n",
       "      <td>RM</td>\n",
       "      <td>41.865984</td>\n",
       "      <td>12.486474</td>\n",
       "      <td>\\N</td>\n",
       "      <td>320</td>\n",
       "      <td>2015-05-21 10:23:26</td>\n",
       "      <td>2015-05-21 10:23:26</td>\n",
       "    </tr>\n",
       "    <tr>\n",
       "      <th>4</th>\n",
       "      <td>74</td>\n",
       "      <td>TO</td>\n",
       "      <td>45.081251</td>\n",
       "      <td>7.636392</td>\n",
       "      <td>\\N</td>\n",
       "      <td>1329</td>\n",
       "      <td>2015-05-22 11:39:21</td>\n",
       "      <td>2015-05-22 11:39:21</td>\n",
       "    </tr>\n",
       "  </tbody>\n",
       "</table>\n",
       "</div>"
      ],
      "text/plain": [
       "   id province        lat        lng area ref_id           created_at  \\\n",
       "0  52       MO  44.643322  10.957956   \\N   4029  2015-05-20 17:47:58   \n",
       "1  58       RM  41.898420  12.427509   \\N    399  2015-05-21 08:39:31   \n",
       "2  60       MI  45.490950   9.240785   \\N   3214  2015-05-21 09:39:06   \n",
       "3  62       RM  41.865984  12.486474   \\N    320  2015-05-21 10:23:26   \n",
       "4  74       TO  45.081251   7.636392   \\N   1329  2015-05-22 11:39:21   \n",
       "\n",
       "            updated_at  \n",
       "0  2015-05-20 17:47:58  \n",
       "1  2015-05-21 08:39:31  \n",
       "2  2015-05-21 09:39:06  \n",
       "3  2015-05-21 10:23:26  \n",
       "4  2015-05-22 11:39:21  "
      ]
     },
     "execution_count": 208,
     "metadata": {},
     "output_type": "execute_result"
    }
   ],
   "source": [
    "stores_head = ['id', 'province', 'lat', 'lng', 'area', 'ref_id', 'created_at', 'updated_at']\n",
    "%time df_stores = pd.read_csv(filepath_or_buffer=\"./Data/store.csv\")\n",
    "df_stores.columns = stores_head\n",
    "print(\"Shape \", df_stores.shape)\n",
    "df_stores.head()"
   ]
  },
  {
   "cell_type": "code",
   "execution_count": 209,
   "metadata": {},
   "outputs": [
    {
     "data": {
      "text/plain": [
       "{dtype('int64'): Index(['id'], dtype='object'),\n",
       " dtype('float64'): Index(['lat', 'lng'], dtype='object'),\n",
       " dtype('O'): Index(['province', 'area', 'ref_id', 'created_at', 'updated_at'], dtype='object')}"
      ]
     },
     "execution_count": 209,
     "metadata": {},
     "output_type": "execute_result"
    }
   ],
   "source": [
    "types_stores = df_stores.columns.to_series().groupby(df_stores.dtypes).groups\n",
    "types_stores"
   ]
  },
  {
   "cell_type": "markdown",
   "metadata": {},
   "source": [
    "#### GET AN ESTIMATE OF THE MEAN SPEED FOR A DELIVERY AS A REFERENCE\n",
    "\n",
    "In this section an estimate of the mean speed of a delivery (driving time) was made, in order to detect outliers \n",
    "when comparing the actual speed of delivery:\n",
    "- estimated_speed = store_customer_distance/store_customer_duration\n",
    "- actual_speed = store_customer_distance/delivery_time     "
   ]
  },
  {
   "cell_type": "code",
   "execution_count": 210,
   "metadata": {},
   "outputs": [],
   "source": [
    "df_final = df_final[(df_final['store_customer_distance']!=0) & (df_final['store_customer_duration']!=0)]"
   ]
  },
  {
   "cell_type": "markdown",
   "metadata": {},
   "source": [
    "The speed in the plots below is given in km/h"
   ]
  },
  {
   "cell_type": "code",
   "execution_count": 211,
   "metadata": {},
   "outputs": [],
   "source": [
    "deliv_t = df_final['store_customer_duration'] / 60\n",
    "dist_x = df_final['store_customer_distance']\n",
    "vel_estimate = dist_x / deliv_t"
   ]
  },
  {
   "cell_type": "code",
   "execution_count": 212,
   "metadata": {},
   "outputs": [
    {
     "data": {
      "text/plain": [
       "DescribeResult(nobs=232280, minmax=(3.8716981132075476, 103.74485476037752), mean=26.246427243878806, variance=95.64737220441259, skewness=1.409068198219917, kurtosis=2.4675817058423384)"
      ]
     },
     "execution_count": 212,
     "metadata": {},
     "output_type": "execute_result"
    },
    {
     "data": {
      "image/png": "[encoded data removed]",
      "text/plain": [
       "<Figure size 432x288 with 1 Axes>"
      ]
     },
     "metadata": {
      "needs_background": "light"
     },
     "output_type": "display_data"
    }
   ],
   "source": [
    "from scipy.stats import describe\n",
    "from statsmodels import robust\n",
    "sns.boxplot(vel_estimate)\n",
    "plt.xlabel(\"Driving Speed [km/h]\", size=15)\n",
    "describe(vel_estimate)"
   ]
  },
  {
   "cell_type": "code",
   "execution_count": 213,
   "metadata": {},
   "outputs": [
    {
     "name": "stdout",
     "output_type": "stream",
     "text": [
      "Median 23.686588763425508 - median absolute deviation 7.720965434526687\n"
     ]
    }
   ],
   "source": [
    "print(f\"Median {np.median(vel_estimate)} - median absolute deviation {robust.mad(vel_estimate)}\")\n",
    "med_abs_dev = robust.mad(vel_estimate)"
   ]
  },
  {
   "cell_type": "markdown",
   "metadata": {},
   "source": [
    "Here below the distribution of the predicted driving speed"
   ]
  },
  {
   "cell_type": "code",
   "execution_count": 214,
   "metadata": {},
   "outputs": [],
   "source": [
    "predict_t = df_final['delivery_time'] / 60\n",
    "vel_predict = dist_x / predict_t"
   ]
  },
  {
   "cell_type": "code",
   "execution_count": 215,
   "metadata": {},
   "outputs": [
    {
     "data": {
      "text/plain": [
       "DescribeResult(nobs=232280, minmax=(1.4371904579688066e-05, 19745.399999999998), mean=17.921738364767325, variance=22093.81697705941, skewness=56.508422652591385, kurtosis=4831.394486706982)"
      ]
     },
     "execution_count": 215,
     "metadata": {},
     "output_type": "execute_result"
    },
    {
     "data": {
      "image/png": "[encoded data removed]",
      "text/plain": [
       "<Figure size 432x288 with 1 Axes>"
      ]
     },
     "metadata": {
      "needs_background": "light"
     },
     "output_type": "display_data"
    }
   ],
   "source": [
    "sns.boxplot(vel_predict)\n",
    "plt.xlabel(\"Driving Speed [km/h]\", size=15)\n",
    "describe(vel_predict)"
   ]
  },
  {
   "cell_type": "code",
   "execution_count": 216,
   "metadata": {},
   "outputs": [
    {
     "data": {
      "text/plain": [
       "True"
      ]
     },
     "execution_count": 216,
     "metadata": {},
     "output_type": "execute_result"
    }
   ],
   "source": [
    "vel_estimate.index.equals(vel_predict.index)"
   ]
  },
  {
   "cell_type": "code",
   "execution_count": 217,
   "metadata": {},
   "outputs": [],
   "source": [
    "df_speed = pd.DataFrame(dict(est = vel_estimate, pred = vel_predict))"
   ]
  },
  {
   "cell_type": "code",
   "execution_count": 218,
   "metadata": {},
   "outputs": [
    {
     "data": {
      "text/html": [
       "<div>\n",
       "<style scoped>\n",
       "    .dataframe tbody tr th:only-of-type {\n",
       "        vertical-align: middle;\n",
       "    }\n",
       "\n",
       "    .dataframe tbody tr th {\n",
       "        vertical-align: top;\n",
       "    }\n",
       "\n",
       "    .dataframe thead th {\n",
       "        text-align: right;\n",
       "    }\n",
       "</style>\n",
       "<table border=\"1\" class=\"dataframe\">\n",
       "  <thead>\n",
       "    <tr style=\"text-align: right;\">\n",
       "      <th></th>\n",
       "      <th>est</th>\n",
       "      <th>pred</th>\n",
       "    </tr>\n",
       "  </thead>\n",
       "  <tbody>\n",
       "    <tr>\n",
       "      <th>count</th>\n",
       "      <td>232280.000000</td>\n",
       "      <td>232280.000000</td>\n",
       "    </tr>\n",
       "    <tr>\n",
       "      <th>mean</th>\n",
       "      <td>26.246427</td>\n",
       "      <td>17.921738</td>\n",
       "    </tr>\n",
       "    <tr>\n",
       "      <th>std</th>\n",
       "      <td>9.779947</td>\n",
       "      <td>148.639890</td>\n",
       "    </tr>\n",
       "    <tr>\n",
       "      <th>min</th>\n",
       "      <td>3.871698</td>\n",
       "      <td>0.000014</td>\n",
       "    </tr>\n",
       "    <tr>\n",
       "      <th>25%</th>\n",
       "      <td>19.257099</td>\n",
       "      <td>5.740630</td>\n",
       "    </tr>\n",
       "    <tr>\n",
       "      <th>50%</th>\n",
       "      <td>23.686589</td>\n",
       "      <td>9.877723</td>\n",
       "    </tr>\n",
       "    <tr>\n",
       "      <th>75%</th>\n",
       "      <td>30.762204</td>\n",
       "      <td>15.611690</td>\n",
       "    </tr>\n",
       "    <tr>\n",
       "      <th>max</th>\n",
       "      <td>103.744855</td>\n",
       "      <td>19745.400000</td>\n",
       "    </tr>\n",
       "  </tbody>\n",
       "</table>\n",
       "</div>"
      ],
      "text/plain": [
       "                 est           pred\n",
       "count  232280.000000  232280.000000\n",
       "mean       26.246427      17.921738\n",
       "std         9.779947     148.639890\n",
       "min         3.871698       0.000014\n",
       "25%        19.257099       5.740630\n",
       "50%        23.686589       9.877723\n",
       "75%        30.762204      15.611690\n",
       "max       103.744855   19745.400000"
      ]
     },
     "execution_count": 218,
     "metadata": {},
     "output_type": "execute_result"
    }
   ],
   "source": [
    "df_speed.describe()"
   ]
  },
  {
   "cell_type": "markdown",
   "metadata": {},
   "source": [
    "Here the assumption is that if the estimated speed plus a median absolute deviation is lower than the actual speed, \n",
    "the datum is considered as an outlier. Also, if the predicted speed is too low (less than 1km/h)\n",
    "and the estimated is one median absolute deviation away from it, the datum is still an outlier."
   ]
  },
  {
   "cell_type": "code",
   "execution_count": 219,
   "metadata": {},
   "outputs": [],
   "source": [
    "### get indices where the expected speed + 2 med abs dev is less than the predicted one\n",
    "speed_idx_to_discard = df_speed[(df_speed['est'] + med_abs_dev < df_speed['pred']) | ((df_speed['pred'] < 1.) & (df_speed['est'] > 1. + med_abs_dev))].index"
   ]
  },
  {
   "cell_type": "code",
   "execution_count": 220,
   "metadata": {
    "scrolled": true
   },
   "outputs": [
    {
     "data": {
      "text/plain": [
       "(232280, 32)"
      ]
     },
     "execution_count": 220,
     "metadata": {},
     "output_type": "execute_result"
    }
   ],
   "source": [
    "df_final.shape"
   ]
  },
  {
   "cell_type": "code",
   "execution_count": 221,
   "metadata": {},
   "outputs": [
    {
     "data": {
      "text/plain": [
       "Int64Index([    35,     36,     43,     67,     84,     88,    109,    112,\n",
       "               119,    120,\n",
       "            ...\n",
       "            231897, 232008, 232017, 232021, 232022, 232030, 232127, 232195,\n",
       "            232260, 232284],\n",
       "           dtype='int64', length=10960)"
      ]
     },
     "execution_count": 221,
     "metadata": {},
     "output_type": "execute_result"
    }
   ],
   "source": [
    "speed_idx_to_discard"
   ]
  },
  {
   "cell_type": "code",
   "execution_count": 222,
   "metadata": {},
   "outputs": [],
   "source": [
    "df_speed = df_speed[~df_speed.index.isin(speed_idx_to_discard)]"
   ]
  },
  {
   "cell_type": "code",
   "execution_count": 223,
   "metadata": {},
   "outputs": [],
   "source": [
    "df_final = df_final[~df_final.index.isin(speed_idx_to_discard)]"
   ]
  },
  {
   "cell_type": "code",
   "execution_count": 224,
   "metadata": {},
   "outputs": [
    {
     "data": {
      "text/plain": [
       "(221320, 32)"
      ]
     },
     "execution_count": 224,
     "metadata": {},
     "output_type": "execute_result"
    }
   ],
   "source": [
    "df_final.shape"
   ]
  },
  {
   "cell_type": "markdown",
   "metadata": {},
   "source": [
    "#### Further Subsetting: 1st version of the model is conservative - deliveries which take more than 60minutes of driving within a a 50kms distance time are discarded in this version of the dataset"
   ]
  },
  {
   "cell_type": "code",
   "execution_count": 225,
   "metadata": {},
   "outputs": [],
   "source": [
    "df_subset = df_final[(df_final.delivery_time<60) & (df_final.store_customer_distance<50)]"
   ]
  },
  {
   "cell_type": "code",
   "execution_count": 226,
   "metadata": {},
   "outputs": [
    {
     "data": {
      "text/plain": [
       "(207842, 32)"
      ]
     },
     "execution_count": 226,
     "metadata": {},
     "output_type": "execute_result"
    }
   ],
   "source": [
    "df_subset.shape"
   ]
  },
  {
   "cell_type": "markdown",
   "metadata": {},
   "source": [
    "#### Subset the delivery types with just the shopper"
   ]
  },
  {
   "cell_type": "code",
   "execution_count": 227,
   "metadata": {},
   "outputs": [],
   "source": [
    "df_sub_shopper = df_subset[df_subset.fulfillment_type==1]"
   ]
  },
  {
   "cell_type": "markdown",
   "metadata": {},
   "source": [
    "Sort values according to the date and time"
   ]
  },
  {
   "cell_type": "code",
   "execution_count": 228,
   "metadata": {},
   "outputs": [],
   "source": [
    "df_sub_shopper = df_sub_shopper.sort_values(by='deliver_at_start')"
   ]
  },
  {
   "cell_type": "markdown",
   "metadata": {},
   "source": [
    "#### Delete Duplicates of Couriers Doing Multiple Deliveries in 1 go (difficult to have reliable quick estimate of ETOT)"
   ]
  },
  {
   "cell_type": "code",
   "execution_count": 229,
   "metadata": {},
   "outputs": [],
   "source": [
    "test_df = df_sub_shopper.drop_duplicates(subset=['deliver_at_start','courier_id'], keep=False)"
   ]
  },
  {
   "cell_type": "markdown",
   "metadata": {},
   "source": [
    "#### Subset Deliveries not Moved"
   ]
  },
  {
   "cell_type": "code",
   "execution_count": 230,
   "metadata": {},
   "outputs": [],
   "source": [
    "test_df = test_df[test_df.delivery_moved==0]"
   ]
  },
  {
   "cell_type": "code",
   "execution_count": 231,
   "metadata": {},
   "outputs": [],
   "source": [
    "test_df = test_df.drop(columns=['picker_id', 'volume', 'created_at', 'assigned_at', \n",
    "                      'picked_at', 'gdo', 'vertical', 'deleted',\n",
    "                      'delivery_cost_fixed_original', 'delivery_cost_discount','delivery_moved'])"
   ]
  },
  {
   "cell_type": "code",
   "execution_count": 232,
   "metadata": {},
   "outputs": [],
   "source": [
    "test_df = test_df.dropna()"
   ]
  },
  {
   "cell_type": "code",
   "execution_count": 233,
   "metadata": {},
   "outputs": [
    {
     "data": {
      "text/plain": [
       "(63.10200000000012, 30.721000000000057, 46.78)"
      ]
     },
     "execution_count": 233,
     "metadata": {},
     "output_type": "execute_result"
    }
   ],
   "source": [
    "np.percentile(test_df.picking_time, 95), np.percentile(test_df.paying_time, 95), np.percentile(test_df.delivery_time, 95)"
   ]
  },
  {
   "cell_type": "markdown",
   "metadata": {},
   "source": [
    "#### Keep values of the picking_time, paying_time and delivery_time that are within the 95% of the distribution"
   ]
  },
  {
   "cell_type": "code",
   "execution_count": 234,
   "metadata": {},
   "outputs": [],
   "source": [
    "test_df = test_df[(test_df['picking_time']<np.percentile(test_df.picking_time, 95)) & (test_df['paying_time']<np.percentile(test_df.paying_time, 95)) & (test_df['delivery_time']<np.percentile(test_df.delivery_time, 95))]"
   ]
  },
  {
   "cell_type": "code",
   "execution_count": 235,
   "metadata": {},
   "outputs": [
    {
     "data": {
      "text/plain": [
       "(146424, 21)"
      ]
     },
     "execution_count": 235,
     "metadata": {},
     "output_type": "execute_result"
    }
   ],
   "source": [
    "test_df.shape"
   ]
  },
  {
   "cell_type": "code",
   "execution_count": 236,
   "metadata": {},
   "outputs": [
    {
     "name": "stderr",
     "output_type": "stream",
     "text": [
      "/Users/gionata/github/analitico/venv/lib/python3.7/site-packages/scipy/stats/stats.py:1713: FutureWarning:\n",
      "\n",
      "Using a non-tuple sequence for multidimensional indexing is deprecated; use `arr[tuple(seq)]` instead of `arr[seq]`. In the future this will be interpreted as an array index, `arr[np.array(seq)]`, which will result either in an error or a different result.\n",
      "\n"
     ]
    },
    {
     "data": {
      "text/plain": [
       "<seaborn.axisgrid.JointGrid at 0x14fc8ecf8>"
      ]
     },
     "execution_count": 236,
     "metadata": {},
     "output_type": "execute_result"
    },
    {
     "data": {
      "image/png": "[encoded data removed]",
      "text/plain": [
       "<Figure size 432x432 with 3 Axes>"
      ]
     },
     "metadata": {
      "needs_background": "light"
     },
     "output_type": "display_data"
    }
   ],
   "source": [
    "sns.jointplot(test_df.store_customer_duration, test_df.delivery_time, kind='hex')"
   ]
  },
  {
   "cell_type": "markdown",
   "metadata": {},
   "source": [
    "#### Subset picking time and paying time lower than 1hour"
   ]
  },
  {
   "cell_type": "code",
   "execution_count": 237,
   "metadata": {},
   "outputs": [],
   "source": [
    "test_df = test_df[(test_df.picking_time<60) & (test_df.paying_time<60)]"
   ]
  },
  {
   "cell_type": "markdown",
   "metadata": {},
   "source": [
    "### More Data Cleaning"
   ]
  },
  {
   "cell_type": "code",
   "execution_count": 238,
   "metadata": {},
   "outputs": [
    {
     "data": {
      "text/plain": [
       "(145160, 21)"
      ]
     },
     "execution_count": 238,
     "metadata": {},
     "output_type": "execute_result"
    }
   ],
   "source": [
    "test_df.shape"
   ]
  },
  {
   "cell_type": "code",
   "execution_count": 239,
   "metadata": {},
   "outputs": [],
   "source": [
    "df_total = test_df.copy()"
   ]
  },
  {
   "cell_type": "code",
   "execution_count": 240,
   "metadata": {},
   "outputs": [],
   "source": [
    "dayofweek = pd.to_datetime(df_total['deliver_at_end'])\n",
    "df_total['day_of_the_week']= dayofweek.dt.day_name()"
   ]
  },
  {
   "cell_type": "markdown",
   "metadata": {},
   "source": [
    "#### Aggregate picking time, paying and delivery in one variable: total_time"
   ]
  },
  {
   "cell_type": "code",
   "execution_count": 241,
   "metadata": {},
   "outputs": [],
   "source": [
    "df_total['total_time'] = df_total[['picking_time', 'paying_time', 'delivery_time']].sum(axis=1)"
   ]
  },
  {
   "cell_type": "code",
   "execution_count": 242,
   "metadata": {},
   "outputs": [],
   "source": [
    "hour_traffic = pd.to_datetime(df_total['paid_at'])"
   ]
  },
  {
   "cell_type": "code",
   "execution_count": 243,
   "metadata": {},
   "outputs": [],
   "source": [
    "df_total.insert(loc=18, column='driving_hour', value=hour_traffic.dt.hour)\n",
    "#df_total['driving_hour'] = hour_traffic.dt.hour"
   ]
  },
  {
   "cell_type": "markdown",
   "metadata": {},
   "source": [
    "#### Add province as a categorical variable"
   ]
  },
  {
   "cell_type": "code",
   "execution_count": 244,
   "metadata": {},
   "outputs": [],
   "source": [
    "final_form = pd.merge(df_total, df_stores[df_stores.id.isin(df_total['store_id'].values)][['id','province']].rename(index=str, columns={'id': 'store_id'}), on='store_id')"
   ]
  },
  {
   "cell_type": "markdown",
   "metadata": {},
   "source": [
    "### Subset non zero store_customer_distances and times longer than 1 minute"
   ]
  },
  {
   "cell_type": "code",
   "execution_count": 245,
   "metadata": {},
   "outputs": [],
   "source": [
    "final_form = final_form[(final_form['store_customer_distance']!=0) & (final_form['store_customer_duration']>1)]"
   ]
  },
  {
   "cell_type": "code",
   "execution_count": 246,
   "metadata": {},
   "outputs": [],
   "source": [
    "final_form = final_form[final_form['picking_time']>1]"
   ]
  },
  {
   "cell_type": "code",
   "execution_count": 247,
   "metadata": {},
   "outputs": [],
   "source": [
    "final_form = final_form[final_form['delivery_time']>1]"
   ]
  },
  {
   "cell_type": "code",
   "execution_count": 248,
   "metadata": {},
   "outputs": [
    {
     "data": {
      "text/plain": [
       "{dtype('int64'): Index(['id', 'store_id', 'customer_id', 'courier_id', 'ztl',\n",
       "        'fulfillment_type', 'status', 'driving_hour', 'items_found'],\n",
       "       dtype='object'),\n",
       " dtype('float64'): Index(['courier_exp', 'amount', 'store_customer_distance',\n",
       "        'store_customer_duration', 'picking_time', 'paying_time',\n",
       "        'delivery_time', 'total_amount', 'total_volume', 'total_time'],\n",
       "       dtype='object'),\n",
       " dtype('O'): Index(['deliver_at_start', 'deliver_at_end', 'paid_at', 'delivered_at',\n",
       "        'day_of_the_week', 'province'],\n",
       "       dtype='object')}"
      ]
     },
     "execution_count": 248,
     "metadata": {},
     "output_type": "execute_result"
    }
   ],
   "source": [
    "types = final_form.columns.to_series().groupby(final_form.dtypes).groups\n",
    "types"
   ]
  },
  {
   "cell_type": "markdown",
   "metadata": {},
   "source": [
    "#### Check Correlations between times and distance"
   ]
  },
  {
   "cell_type": "code",
   "execution_count": 249,
   "metadata": {
    "scrolled": true
   },
   "outputs": [
    {
     "data": {
      "text/plain": [
       "<seaborn.axisgrid.JointGrid at 0x150fd1470>"
      ]
     },
     "execution_count": 249,
     "metadata": {},
     "output_type": "execute_result"
    },
    {
     "data": {
      "image/png": "[encoded data removed]",
      "text/plain": [
       "<Figure size 432x432 with 3 Axes>"
      ]
     },
     "metadata": {
      "needs_background": "light"
     },
     "output_type": "display_data"
    }
   ],
   "source": [
    "sns.jointplot(final_form['store_customer_distance'], final_form['delivery_time'], kind='hex')"
   ]
  },
  {
   "cell_type": "code",
   "execution_count": 250,
   "metadata": {
    "scrolled": true
   },
   "outputs": [
    {
     "name": "stderr",
     "output_type": "stream",
     "text": [
      "/Users/gionata/github/analitico/venv/lib/python3.7/site-packages/seaborn/axisgrid.py:1847: UserWarning:\n",
      "\n",
      "JointGrid annotation is deprecated and will be removed in a future release.\n",
      "\n"
     ]
    },
    {
     "data": {
      "text/plain": [
       "<seaborn.axisgrid.JointGrid at 0x15bac3240>"
      ]
     },
     "execution_count": 250,
     "metadata": {},
     "output_type": "execute_result"
    },
    {
     "data": {
      "image/png": "[encoded data removed]",
      "text/plain": [
       "<Figure size 432x432 with 3 Axes>"
      ]
     },
     "metadata": {
      "needs_background": "light"
     },
     "output_type": "display_data"
    }
   ],
   "source": [
    "sns.jointplot(final_form.store_customer_distance, final_form.store_customer_duration, kind='reg', stat_func=r2)"
   ]
  },
  {
   "cell_type": "markdown",
   "metadata": {},
   "source": [
    "#### Empirical Cumulative Distribution Function Plots - check for potential outliers"
   ]
  },
  {
   "cell_type": "code",
   "execution_count": 251,
   "metadata": {},
   "outputs": [
    {
     "data": {
      "image/png": "[encoded data removed]",
      "text/plain": [
       "<Figure size 1440x1280 with 9 Axes>"
      ]
     },
     "metadata": {},
     "output_type": "display_data"
    }
   ],
   "source": [
    "# Plotting the ECDF\n",
    "cols_to_plot = ['courier_exp', 'store_customer_distance', 'store_customer_duration', \n",
    "                'picking_time', 'paying_time', 'delivery_time', 'items_found', 'total_volume', 'total_time']\n",
    "\n",
    "plt.figure(figsize=(18, 16), dpi=80, facecolor='w', edgecolor='k')\n",
    "for idx, col in enumerate(cols_to_plot):\n",
    "    plt.subplot(3,3,idx+1)\n",
    "    x = np.sort(final_form[col])\n",
    "    y = np.arange(1, x.shape[0] + 1) / x.shape[0]\n",
    "    # create ecdfplot\n",
    "    plt.plot(x, y, marker='o', linestyle='')\n",
    "    # add plot labels\n",
    "    plt.ylabel('ECDF')\n",
    "    plt.xlabel(col)\n",
    "    eightieth_percentile = x[y <= 0.95].max()\n",
    "    plt.axhline(0.95, color='black', linestyle='--')\n",
    "    plt.axvline(eightieth_percentile, color='black', label='95th percentile')\n",
    "    plt.legend()\n",
    "plt.show()"
   ]
  },
  {
   "cell_type": "markdown",
   "metadata": {},
   "source": [
    "#### Check higher density plot regions (optional & time consuming - can be skipped)"
   ]
  },
  {
   "cell_type": "code",
   "execution_count": 252,
   "metadata": {
    "scrolled": true
   },
   "outputs": [
    {
     "data": {
      "text/plain": [
       "<seaborn.axisgrid.PairGrid at 0x1968d1dd8>"
      ]
     },
     "execution_count": 252,
     "metadata": {},
     "output_type": "execute_result"
    },
    {
     "data": {
      "image/png": "[encoded data removed]",
      "text/plain": [
       "<Figure size 994.5x900 with 30 Axes>"
      ]
     },
     "metadata": {
      "needs_background": "light"
     },
     "output_type": "display_data"
    }
   ],
   "source": [
    "fig = sns.PairGrid(data=final_form[['delivery_time', 'paying_time', \n",
    "                                    'picking_time' , 'store_customer_duration', 'total_time',\n",
    "                                    'day_of_the_week']], hue='day_of_the_week', palette=\"GnBu_d\")\n",
    "fig.map_diag(plt.hist)\n",
    "#fig.map_lower()\n",
    "fig.map_upper(sns.kdeplot)\n",
    "fig.add_legend()"
   ]
  },
  {
   "cell_type": "code",
   "execution_count": 253,
   "metadata": {
    "scrolled": true
   },
   "outputs": [
    {
     "name": "stdout",
     "output_type": "stream",
     "text": [
      "<class 'pandas.core.frame.DataFrame'>\n",
      "Int64Index: 140479 entries, 0 to 145159\n",
      "Data columns (total 25 columns):\n",
      "id                         140479 non-null int64\n",
      "store_id                   140479 non-null int64\n",
      "customer_id                140479 non-null int64\n",
      "courier_id                 140479 non-null int64\n",
      "courier_exp                140479 non-null float64\n",
      "ztl                        140479 non-null int64\n",
      "fulfillment_type           140479 non-null int64\n",
      "status                     140479 non-null int64\n",
      "deliver_at_start           140479 non-null object\n",
      "deliver_at_end             140479 non-null object\n",
      "amount                     140479 non-null float64\n",
      "store_customer_distance    140479 non-null float64\n",
      "store_customer_duration    140479 non-null float64\n",
      "paid_at                    140479 non-null object\n",
      "delivered_at               140479 non-null object\n",
      "picking_time               140479 non-null float64\n",
      "paying_time                140479 non-null float64\n",
      "delivery_time              140479 non-null float64\n",
      "driving_hour               140479 non-null int64\n",
      "items_found                140479 non-null int64\n",
      "total_amount               140479 non-null float64\n",
      "total_volume               140479 non-null float64\n",
      "day_of_the_week            140479 non-null object\n",
      "total_time                 140479 non-null float64\n",
      "province                   140479 non-null object\n",
      "dtypes: float64(10), int64(9), object(6)\n",
      "memory usage: 32.9+ MB\n"
     ]
    }
   ],
   "source": [
    "final_form.info()"
   ]
  },
  {
   "cell_type": "code",
   "execution_count": 254,
   "metadata": {},
   "outputs": [],
   "source": [
    "# feed_model = final_form[['total_time', 'amount','store_customer_distance','store_customer_duration','items_found', 'total_volume', 'courier_exp','day_of_the_week', 'ztl', 'driving_hour', 'province']]"
   ]
  },
  {
   "cell_type": "markdown",
   "metadata": {},
   "source": [
    "### Keep Date (Month) of the Year as a categorical variable"
   ]
  },
  {
   "cell_type": "code",
   "execution_count": 255,
   "metadata": {},
   "outputs": [],
   "source": [
    "final_form['date'] = final_form['delivered_at'].apply(pd.Timestamp).dt.date"
   ]
  },
  {
   "cell_type": "code",
   "execution_count": 256,
   "metadata": {
    "scrolled": true
   },
   "outputs": [],
   "source": [
    "final_form['month'] = pd.to_datetime(final_form['date']).dt.month_name()"
   ]
  },
  {
   "cell_type": "code",
   "execution_count": 257,
   "metadata": {
    "scrolled": true
   },
   "outputs": [
    {
     "data": {
      "text/plain": [
       "0         2016-05-10\n",
       "1         2016-05-10\n",
       "2         2016-05-10\n",
       "3         2016-05-10\n",
       "4         2016-05-10\n",
       "5         2016-05-10\n",
       "7         2016-05-10\n",
       "8         2016-05-10\n",
       "9         2016-05-10\n",
       "10        2016-05-10\n",
       "11        2016-05-10\n",
       "12        2016-05-10\n",
       "14        2016-05-10\n",
       "15        2016-05-10\n",
       "16        2016-05-10\n",
       "17        2016-05-10\n",
       "18        2016-05-10\n",
       "19        2016-05-10\n",
       "20        2016-05-10\n",
       "21        2016-05-10\n",
       "22        2016-05-10\n",
       "23        2016-05-10\n",
       "24        2016-05-10\n",
       "25        2016-05-10\n",
       "27        2016-05-10\n",
       "28        2016-05-10\n",
       "29        2016-05-10\n",
       "30        2016-05-10\n",
       "31        2016-05-10\n",
       "32        2016-05-10\n",
       "             ...    \n",
       "145130    2018-10-24\n",
       "145131    2018-10-24\n",
       "145132    2018-10-24\n",
       "145133    2018-10-24\n",
       "145134    2018-10-24\n",
       "145135    2018-10-24\n",
       "145136    2018-10-24\n",
       "145137    2018-10-24\n",
       "145138    2018-10-24\n",
       "145139    2018-10-24\n",
       "145140    2018-10-24\n",
       "145141    2018-10-24\n",
       "145142    2018-10-24\n",
       "145143    2018-10-24\n",
       "145144    2018-10-24\n",
       "145145    2018-10-24\n",
       "145146    2018-10-24\n",
       "145147    2018-10-24\n",
       "145148    2018-10-24\n",
       "145149    2018-10-24\n",
       "145150    2018-10-24\n",
       "145151    2018-10-24\n",
       "145152    2018-10-24\n",
       "145153    2018-10-24\n",
       "145154    2018-10-24\n",
       "145155    2018-10-24\n",
       "145156    2018-10-24\n",
       "145157    2018-10-24\n",
       "145158    2018-10-24\n",
       "145159    2018-10-24\n",
       "Name: date, Length: 140479, dtype: object"
      ]
     },
     "execution_count": 257,
     "metadata": {},
     "output_type": "execute_result"
    }
   ],
   "source": [
    "final_form.date"
   ]
  },
  {
   "cell_type": "code",
   "execution_count": 258,
   "metadata": {},
   "outputs": [],
   "source": [
    "final_form['driving_hour'] = final_form['driving_hour'].astype(str)"
   ]
  },
  {
   "cell_type": "markdown",
   "metadata": {},
   "source": [
    "#### Drop province with little statistics (<1000 data) - high variability"
   ]
  },
  {
   "cell_type": "code",
   "execution_count": 259,
   "metadata": {},
   "outputs": [],
   "source": [
    "drop_province = ['MN', 'PU', 'RA', 'PN', 'UD', 'CO', 'RM ']\n",
    "final_form = final_form.drop(index=final_form[final_form['province'].isin(drop_province)].index)"
   ]
  },
  {
   "cell_type": "markdown",
   "metadata": {},
   "source": [
    "#### Drop hour of the day with little statistics (<1000 data) - high variability"
   ]
  },
  {
   "cell_type": "code",
   "execution_count": 260,
   "metadata": {},
   "outputs": [],
   "source": [
    "drop_times = ['7', '23', '22', '21']\n",
    "final_form = final_form.drop(index=final_form[final_form['driving_hour'].isin(drop_times)].index)"
   ]
  },
  {
   "cell_type": "code",
   "execution_count": 261,
   "metadata": {},
   "outputs": [],
   "source": [
    "feed_model = final_form[['total_time', 'amount','store_customer_distance','store_customer_duration','items_found', 'total_volume', 'courier_exp','day_of_the_week', 'ztl', 'driving_hour', 'province', 'month']]"
   ]
  },
  {
   "cell_type": "code",
   "execution_count": 262,
   "metadata": {},
   "outputs": [
    {
     "data": {
      "text/html": [
       "<div>\n",
       "<style scoped>\n",
       "    .dataframe tbody tr th:only-of-type {\n",
       "        vertical-align: middle;\n",
       "    }\n",
       "\n",
       "    .dataframe tbody tr th {\n",
       "        vertical-align: top;\n",
       "    }\n",
       "\n",
       "    .dataframe thead th {\n",
       "        text-align: right;\n",
       "    }\n",
       "</style>\n",
       "<table border=\"1\" class=\"dataframe\">\n",
       "  <thead>\n",
       "    <tr style=\"text-align: right;\">\n",
       "      <th></th>\n",
       "      <th>total_time</th>\n",
       "      <th>amount</th>\n",
       "      <th>store_customer_distance</th>\n",
       "      <th>store_customer_duration</th>\n",
       "      <th>items_found</th>\n",
       "      <th>total_volume</th>\n",
       "      <th>courier_exp</th>\n",
       "      <th>day_of_the_week</th>\n",
       "      <th>ztl</th>\n",
       "      <th>driving_hour</th>\n",
       "      <th>province</th>\n",
       "      <th>month</th>\n",
       "    </tr>\n",
       "  </thead>\n",
       "  <tbody>\n",
       "    <tr>\n",
       "      <th>0</th>\n",
       "      <td>50.38</td>\n",
       "      <td>22.83</td>\n",
       "      <td>4.519</td>\n",
       "      <td>15.850000</td>\n",
       "      <td>11</td>\n",
       "      <td>23429.190</td>\n",
       "      <td>2103.0</td>\n",
       "      <td>Tuesday</td>\n",
       "      <td>0</td>\n",
       "      <td>10</td>\n",
       "      <td>MI</td>\n",
       "      <td>May</td>\n",
       "    </tr>\n",
       "    <tr>\n",
       "      <th>1</th>\n",
       "      <td>48.64</td>\n",
       "      <td>28.30</td>\n",
       "      <td>6.073</td>\n",
       "      <td>12.350000</td>\n",
       "      <td>9</td>\n",
       "      <td>23313.720</td>\n",
       "      <td>387.0</td>\n",
       "      <td>Tuesday</td>\n",
       "      <td>0</td>\n",
       "      <td>10</td>\n",
       "      <td>BS</td>\n",
       "      <td>May</td>\n",
       "    </tr>\n",
       "    <tr>\n",
       "      <th>2</th>\n",
       "      <td>64.96</td>\n",
       "      <td>24.98</td>\n",
       "      <td>8.132</td>\n",
       "      <td>11.183333</td>\n",
       "      <td>11</td>\n",
       "      <td>17849.920</td>\n",
       "      <td>4216.0</td>\n",
       "      <td>Tuesday</td>\n",
       "      <td>0</td>\n",
       "      <td>10</td>\n",
       "      <td>MI</td>\n",
       "      <td>May</td>\n",
       "    </tr>\n",
       "    <tr>\n",
       "      <th>3</th>\n",
       "      <td>23.56</td>\n",
       "      <td>18.74</td>\n",
       "      <td>0.709</td>\n",
       "      <td>2.800000</td>\n",
       "      <td>3</td>\n",
       "      <td>16605.480</td>\n",
       "      <td>1274.0</td>\n",
       "      <td>Tuesday</td>\n",
       "      <td>0</td>\n",
       "      <td>10</td>\n",
       "      <td>PD</td>\n",
       "      <td>May</td>\n",
       "    </tr>\n",
       "    <tr>\n",
       "      <th>4</th>\n",
       "      <td>43.94</td>\n",
       "      <td>25.00</td>\n",
       "      <td>4.211</td>\n",
       "      <td>8.666667</td>\n",
       "      <td>9</td>\n",
       "      <td>10763.445</td>\n",
       "      <td>452.0</td>\n",
       "      <td>Tuesday</td>\n",
       "      <td>0</td>\n",
       "      <td>10</td>\n",
       "      <td>BO</td>\n",
       "      <td>May</td>\n",
       "    </tr>\n",
       "  </tbody>\n",
       "</table>\n",
       "</div>"
      ],
      "text/plain": [
       "   total_time  amount  store_customer_distance  store_customer_duration  \\\n",
       "0       50.38   22.83                    4.519                15.850000   \n",
       "1       48.64   28.30                    6.073                12.350000   \n",
       "2       64.96   24.98                    8.132                11.183333   \n",
       "3       23.56   18.74                    0.709                 2.800000   \n",
       "4       43.94   25.00                    4.211                 8.666667   \n",
       "\n",
       "   items_found  total_volume  courier_exp day_of_the_week  ztl driving_hour  \\\n",
       "0           11     23429.190       2103.0         Tuesday    0           10   \n",
       "1            9     23313.720        387.0         Tuesday    0           10   \n",
       "2           11     17849.920       4216.0         Tuesday    0           10   \n",
       "3            3     16605.480       1274.0         Tuesday    0           10   \n",
       "4            9     10763.445        452.0         Tuesday    0           10   \n",
       "\n",
       "  province month  \n",
       "0       MI   May  \n",
       "1       BS   May  \n",
       "2       MI   May  \n",
       "3       PD   May  \n",
       "4       BO   May  "
      ]
     },
     "execution_count": 262,
     "metadata": {},
     "output_type": "execute_result"
    }
   ],
   "source": [
    "feed_model.head()"
   ]
  },
  {
   "cell_type": "code",
   "execution_count": 263,
   "metadata": {},
   "outputs": [
    {
     "data": {
      "text/plain": [
       "(137277, 12)"
      ]
     },
     "execution_count": 263,
     "metadata": {},
     "output_type": "execute_result"
    }
   ],
   "source": [
    "feed_model.shape"
   ]
  },
  {
   "cell_type": "code",
   "execution_count": 264,
   "metadata": {},
   "outputs": [
    {
     "name": "stdout",
     "output_type": "stream",
     "text": [
      "<class 'pandas.core.frame.DataFrame'>\n",
      "Int64Index: 137277 entries, 0 to 145159\n",
      "Data columns (total 27 columns):\n",
      "id                         137277 non-null int64\n",
      "store_id                   137277 non-null int64\n",
      "customer_id                137277 non-null int64\n",
      "courier_id                 137277 non-null int64\n",
      "courier_exp                137277 non-null float64\n",
      "ztl                        137277 non-null int64\n",
      "fulfillment_type           137277 non-null int64\n",
      "status                     137277 non-null int64\n",
      "deliver_at_start           137277 non-null object\n",
      "deliver_at_end             137277 non-null object\n",
      "amount                     137277 non-null float64\n",
      "store_customer_distance    137277 non-null float64\n",
      "store_customer_duration    137277 non-null float64\n",
      "paid_at                    137277 non-null object\n",
      "delivered_at               137277 non-null object\n",
      "picking_time               137277 non-null float64\n",
      "paying_time                137277 non-null float64\n",
      "delivery_time              137277 non-null float64\n",
      "driving_hour               137277 non-null object\n",
      "items_found                137277 non-null int64\n",
      "total_amount               137277 non-null float64\n",
      "total_volume               137277 non-null float64\n",
      "day_of_the_week            137277 non-null object\n",
      "total_time                 137277 non-null float64\n",
      "province                   137277 non-null object\n",
      "date                       137277 non-null object\n",
      "month                      137277 non-null object\n",
      "dtypes: float64(10), int64(8), object(9)\n",
      "memory usage: 29.3+ MB\n"
     ]
    }
   ],
   "source": [
    "final_form.info()"
   ]
  },
  {
   "cell_type": "markdown",
   "metadata": {},
   "source": [
    "#### Convert categorical data to Dummy Variables - not ordinal (no ranking assigned to each variable)\n",
    "Each single category is converted to a vector on 0s and 1s"
   ]
  },
  {
   "cell_type": "code",
   "execution_count": 265,
   "metadata": {},
   "outputs": [],
   "source": [
    "datanew = pd.get_dummies(feed_model, drop_first=True)"
   ]
  },
  {
   "cell_type": "code",
   "execution_count": 266,
   "metadata": {
    "scrolled": true
   },
   "outputs": [
    {
     "name": "stdout",
     "output_type": "stream",
     "text": [
      "<class 'pandas.core.frame.DataFrame'>\n",
      "Int64Index: 137277 entries, 0 to 145159\n",
      "Data columns (total 55 columns):\n",
      "total_time                   137277 non-null float64\n",
      "amount                       137277 non-null float64\n",
      "store_customer_distance      137277 non-null float64\n",
      "store_customer_duration      137277 non-null float64\n",
      "items_found                  137277 non-null int64\n",
      "total_volume                 137277 non-null float64\n",
      "courier_exp                  137277 non-null float64\n",
      "ztl                          137277 non-null int64\n",
      "day_of_the_week_Monday       137277 non-null uint8\n",
      "day_of_the_week_Saturday     137277 non-null uint8\n",
      "day_of_the_week_Sunday       137277 non-null uint8\n",
      "day_of_the_week_Thursday     137277 non-null uint8\n",
      "day_of_the_week_Tuesday      137277 non-null uint8\n",
      "day_of_the_week_Wednesday    137277 non-null uint8\n",
      "driving_hour_11              137277 non-null uint8\n",
      "driving_hour_12              137277 non-null uint8\n",
      "driving_hour_13              137277 non-null uint8\n",
      "driving_hour_14              137277 non-null uint8\n",
      "driving_hour_15              137277 non-null uint8\n",
      "driving_hour_16              137277 non-null uint8\n",
      "driving_hour_17              137277 non-null uint8\n",
      "driving_hour_18              137277 non-null uint8\n",
      "driving_hour_19              137277 non-null uint8\n",
      "driving_hour_20              137277 non-null uint8\n",
      "driving_hour_8               137277 non-null uint8\n",
      "driving_hour_9               137277 non-null uint8\n",
      "province_BO                  137277 non-null uint8\n",
      "province_BS                  137277 non-null uint8\n",
      "province_CT                  137277 non-null uint8\n",
      "province_FC                  137277 non-null uint8\n",
      "province_GE                  137277 non-null uint8\n",
      "province_MB                  137277 non-null uint8\n",
      "province_MI                  137277 non-null uint8\n",
      "province_MO                  137277 non-null uint8\n",
      "province_PD                  137277 non-null uint8\n",
      "province_RM                  137277 non-null uint8\n",
      "province_RN                  137277 non-null uint8\n",
      "province_TO                  137277 non-null uint8\n",
      "province_TS                  137277 non-null uint8\n",
      "province_TV                  137277 non-null uint8\n",
      "province_VA                  137277 non-null uint8\n",
      "province_VE                  137277 non-null uint8\n",
      "province_VI                  137277 non-null uint8\n",
      "province_VR                  137277 non-null uint8\n",
      "month_August                 137277 non-null uint8\n",
      "month_December               137277 non-null uint8\n",
      "month_February               137277 non-null uint8\n",
      "month_January                137277 non-null uint8\n",
      "month_July                   137277 non-null uint8\n",
      "month_June                   137277 non-null uint8\n",
      "month_March                  137277 non-null uint8\n",
      "month_May                    137277 non-null uint8\n",
      "month_November               137277 non-null uint8\n",
      "month_October                137277 non-null uint8\n",
      "month_September              137277 non-null uint8\n",
      "dtypes: float64(6), int64(2), uint8(47)\n",
      "memory usage: 15.6 MB\n"
     ]
    }
   ],
   "source": [
    "datanew.info()"
   ]
  },
  {
   "cell_type": "markdown",
   "metadata": {},
   "source": [
    "#### Use ~80% of the data as a training set, and ~20% as a test set "
   ]
  },
  {
   "cell_type": "code",
   "execution_count": 267,
   "metadata": {},
   "outputs": [],
   "source": [
    "X_train = datanew.iloc[:110000,1:]\n",
    "X_test = datanew.iloc[110000:,1:]\n",
    "y_train = datanew.iloc[:110000,0]\n",
    "y_test = datanew.iloc[110000:,0]"
   ]
  },
  {
   "cell_type": "code",
   "execution_count": 268,
   "metadata": {},
   "outputs": [
    {
     "name": "stdout",
     "output_type": "stream",
     "text": [
      "Compare the number of features in input: 54\n",
      "With the rank of the matrix: 54\n",
      "Matching values mean that no linear dependence between the features is present\n"
     ]
    }
   ],
   "source": [
    "print(f\"Compare the number of features in input: {X_train.shape[1]}\\nWith the rank of the matrix: {np.linalg.matrix_rank(X_train)}\\nMatching values mean that no linear dependence between the features is present\")"
   ]
  },
  {
   "cell_type": "markdown",
   "metadata": {},
   "source": [
    "#### Dump the data extracted to save them"
   ]
  },
  {
   "cell_type": "code",
   "execution_count": 269,
   "metadata": {},
   "outputs": [],
   "source": [
    "import pickle as pkl\n",
    "pkl.dump([datanew, X_train, X_test, y_train, y_test], file=open(\"data_to_model.pkl\", mode=\"wb\"))"
   ]
  },
  {
   "cell_type": "markdown",
   "metadata": {},
   "source": [
    "#### Explore Potential Correlations between features ab initio"
   ]
  },
  {
   "cell_type": "code",
   "execution_count": 270,
   "metadata": {
    "scrolled": true
   },
   "outputs": [
    {
     "data": {
      "image/png": "[encoded data removed]",
      "text/plain": [
       "<Figure size 640x480 with 2 Axes>"
      ]
     },
     "metadata": {},
     "output_type": "display_data"
    }
   ],
   "source": [
    "plt.figure(figsize=(8, 6), dpi=80, facecolor='w', edgecolor='k')\n",
    "hm = sns.heatmap(feed_model.corr().values,\n",
    "                 cbar=True,\n",
    "                 annot=True,\n",
    "                 square=True,\n",
    "                 fmt='.2f',\n",
    "                 annot_kws={'size': 10},\n",
    "                 yticklabels=feed_model.corr().columns,\n",
    "                 xticklabels=feed_model.corr().columns)\n",
    "\n",
    "# plt.savefig('images/10_04.png', dpi=300)\n",
    "plt.show()"
   ]
  }
 ],
 "metadata": {
  "kernelspec": {
   "display_name": "Python 3",
   "language": "python",
   "name": "python3"
  },
  "language_info": {
   "codemirror_mode": {
    "name": "ipython",
    "version": 3
   },
   "file_extension": ".py",
   "mimetype": "text/x-python",
   "name": "python",
   "nbconvert_exporter": "python",
   "pygments_lexer": "ipython3",
   "version": "3.7.3"
  }
 },
 "nbformat": 4,
 "nbformat_minor": 2
}
