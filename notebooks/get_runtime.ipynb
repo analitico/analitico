{
 "cells": [
  {
   "cell_type": "code",
   "execution_count": 3,
   "metadata": {},
   "outputs": [
    {
     "data": {
      "text/plain": [
       "<analitico.factory.Factory at 0x7f954cec7358>"
      ]
     },
     "execution_count": 3,
     "metadata": {},
     "output_type": "execute_result"
    }
   ],
   "source": [
    "import sys\n",
    "sys.path.append('../source')\n",
    "\n",
    "import analitico\n",
    "\n",
    "api = analitico.authorize()\n",
    "api"
   ]
  },
  {
   "cell_type": "code",
   "execution_count": 4,
   "metadata": {},
   "outputs": [
    {
     "data": {
      "text/plain": [
       "['/usr/lib/python36.zip',\n",
       " '/usr/lib/python3.6',\n",
       " '/usr/lib/python3.6/lib-dynload',\n",
       " '',\n",
       " '/home/gionata/github/analitico/venv/lib/python3.6/site-packages',\n",
       " '/home/gionata/github/analitico/venv/lib/python3.6/site-packages/IPython/extensions',\n",
       " '/home/gionata/.ipython',\n",
       " '../source']"
      ]
     },
     "execution_count": 4,
     "metadata": {},
     "output_type": "execute_result"
    }
   ],
   "source": [
    "sys.path"
   ]
  },
  {
   "cell_type": "code",
   "execution_count": 5,
   "metadata": {},
   "outputs": [
    {
     "data": {
      "text/plain": [
       "OrderedDict([('hostname', 'pimpi'),\n",
       "             ('ip', '127.0.1.1'),\n",
       "             ('platform',\n",
       "              {'system': 'Linux', 'version': '18.04', 'name': 'Ubuntu'}),\n",
       "             ('python', {'version': '3.6.7', 'implementation': 'CPython'}),\n",
       "             ('hardware',\n",
       "              OrderedDict([('cpu',\n",
       "                            {'type': 'x86_64', 'count': 4, 'freq': 2900}),\n",
       "                           ('memory',\n",
       "                            {'total_mb': 7885,\n",
       "                             'available_mb': 4333,\n",
       "                             'used_mb': 3029,\n",
       "                             'swap_mb': 979,\n",
       "                             'swap_perc': 0.0}),\n",
       "                           ('disk',\n",
       "                            {'total_mb': 232397,\n",
       "                             'available_mb': 130138,\n",
       "                             'used_mb': 90386,\n",
       "                             'used_perc': 41.0})])),\n",
       "             ('uptime', {'since': '2019-02-21 08:07:07', 'hours': 1.93}),\n",
       "             ('github', {'version': \"b'v0.0.0-726-gb36294b'\"}),\n",
       "             ('elapsed_ms', 196)])"
      ]
     },
     "execution_count": 5,
     "metadata": {},
     "output_type": "execute_result"
    }
   ],
   "source": [
    "# show runtime configuration , hardware, etc\n",
    "analitico.utilities.get_runtime()"
   ]
  },
  {
   "cell_type": "code",
   "execution_count": null,
   "metadata": {},
   "outputs": [],
   "source": []
  }
 ],
 "metadata": {
  "kernelspec": {
   "display_name": "Python 3",
   "language": "python",
   "name": "python3"
  },
  "language_info": {
   "codemirror_mode": {
    "name": "ipython",
    "version": 3
   },
   "file_extension": ".py",
   "mimetype": "text/x-python",
   "name": "python",
   "nbconvert_exporter": "python",
   "pygments_lexer": "ipython3",
   "version": "3.6.7"
  }
 },
 "nbformat": 4,
 "nbformat_minor": 2
}
