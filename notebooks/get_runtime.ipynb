{
 "cells": [
  {
   "cell_type": "code",
   "execution_count": 1,
   "metadata": {},
   "outputs": [
    {
     "data": {
      "text/plain": [
       "<analitico.factory.Factory at 0x7fe1801053c8>"
      ]
     },
     "execution_count": 1,
     "metadata": {},
     "output_type": "execute_result"
    }
   ],
   "source": [
    "import sys\n",
    "sys.path.append('../source')\n",
    "\n",
    "import analitico\n",
    "\n",
    "api = analitico.authorize()\n",
    "api"
   ]
  },
  {
   "cell_type": "code",
   "execution_count": 2,
   "metadata": {},
   "outputs": [
    {
     "data": {
      "text/plain": [
       "['/usr/lib/python36.zip',\n",
       " '/usr/lib/python3.6',\n",
       " '/usr/lib/python3.6/lib-dynload',\n",
       " '',\n",
       " '/home/gionata/github/analitico/venv/lib/python3.6/site-packages',\n",
       " '/home/gionata/github/analitico/venv/lib/python3.6/site-packages/IPython/extensions',\n",
       " '/home/gionata/.ipython',\n",
       " '../source']"
      ]
     },
     "execution_count": 2,
     "metadata": {},
     "output_type": "execute_result"
    }
   ],
   "source": [
    "sys.path"
   ]
  },
  {
   "cell_type": "code",
   "execution_count": 3,
   "metadata": {},
   "outputs": [
    {
     "data": {
      "text/plain": [
       "OrderedDict([('hostname', 'g7'),\n",
       "             ('ip', '127.0.1.1'),\n",
       "             ('platform',\n",
       "              {'system': 'Linux', 'version': '18.10', 'name': 'Ubuntu'}),\n",
       "             ('python',\n",
       "              {'version': '3.6.7',\n",
       "               'implementation': 'CPython',\n",
       "               'encoding': 'utf-8'}),\n",
       "             ('hardware',\n",
       "              OrderedDict([('cpu',\n",
       "                            {'type': 'x86_64', 'count': 12, 'freq': 4100}),\n",
       "                           ('gpu',\n",
       "                            [{'uuid': 'GPU-c53a4be6-cf1b-e14e-ffef-39e1807cf3ac',\n",
       "                              'name': 'GeForce GTX 1060 with Max-Q Design',\n",
       "                              'driver': '390.116',\n",
       "                              'temperature': 63,\n",
       "                              'load': 0.0,\n",
       "                              'memory': {'total_mb': 6078,\n",
       "                               'available_ms': 5267,\n",
       "                               'used_mb': 811,\n",
       "                               'used_perc': 0.13}}]),\n",
       "                           ('memory',\n",
       "                            {'total_mb': 31870,\n",
       "                             'available_mb': 25909,\n",
       "                             'used_mb': 5598,\n",
       "                             'swap_mb': 975,\n",
       "                             'swap_perc': 0.0}),\n",
       "                           ('disk',\n",
       "                            {'total_mb': 117457,\n",
       "                             'available_mb': 1747,\n",
       "                             'used_mb': 109701,\n",
       "                             'used_perc': 98.4})])),\n",
       "             ('uptime', {'since': '2019-03-16 09:32:24', 'hours': 72.14}),\n",
       "             ('github', {'version': 'v0.0.0-972-g5492bff'}),\n",
       "             ('elapsed_ms', 336)])"
      ]
     },
     "execution_count": 3,
     "metadata": {},
     "output_type": "execute_result"
    }
   ],
   "source": [
    "# show runtime configuration , hardware, etc\n",
    "analitico.utilities.get_runtime()"
   ]
  },
  {
   "cell_type": "code",
   "execution_count": null,
   "metadata": {},
   "outputs": [],
   "source": []
  },
  {
   "cell_type": "code",
   "execution_count": null,
   "metadata": {},
   "outputs": [],
   "source": []
  }
 ],
 "metadata": {
  "kernelspec": {
   "display_name": "Python 3",
   "language": "python",
   "name": "python3"
  },
  "language_info": {
   "codemirror_mode": {
    "name": "ipython",
    "version": 3
   },
   "file_extension": ".py",
   "mimetype": "text/x-python",
   "name": "python",
   "nbconvert_exporter": "python",
   "pygments_lexer": "ipython3",
   "version": "3.6.7"
  }
 },
 "nbformat": 4,
 "nbformat_minor": 2
}
