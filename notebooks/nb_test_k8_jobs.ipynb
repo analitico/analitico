{
 "cells": [
  {
   "cell_type": "markdown",
   "metadata": {},
   "source": [
    "# Read timestamp from file\n",
    "### v4"
   ]
  },
  {
   "cell_type": "code",
   "execution_count": 10,
   "metadata": {},
   "outputs": [
    {
     "name": "stdout",
     "output_type": "stream",
     "text": [
      "Reading: 2019-07-09T07:12:08.836825\n"
     ]
    }
   ],
   "source": [
    "try:\n",
    "    with open(\"log.txt\", \"r\") as f:\n",
    "        print(\"Reading timestamp:\\n\" + f.read())\n",
    "except Exception as exc:\n",
    "    print(f\"Could not read the file on disk {exc}\")"
   ]
  },
  {
   "cell_type": "markdown",
   "metadata": {},
   "source": [
    "# Update the same file with current timestamp"
   ]
  },
  {
   "cell_type": "code",
   "execution_count": 12,
   "metadata": {},
   "outputs": [
    {
     "name": "stdout",
     "output_type": "stream",
     "text": [
      "Writing: 2019-07-09T07:12:23.023467\n"
     ]
    }
   ],
   "source": [
    "try:\n",
    "    import datetime\n",
    "    now = datetime.datetime.utcnow().isoformat()\n",
    "    with open(\"log.txt\", \"w+\") as f:\n",
    "        f.write(now)\n",
    "        print(\"Writing timestamp:\\n\" + now)\n",
    "except Exception as exc:\n",
    "    print(f\"Could not write the file to disk: {exc}\")"
   ]
  }
 ],
 "metadata": {
  "kernelspec": {
   "display_name": "Python 3",
   "language": "python",
   "name": "python3"
  },
  "language_info": {
   "codemirror_mode": {
    "name": "ipython",
    "version": 3
   },
   "file_extension": ".py",
   "mimetype": "text/x-python",
   "name": "python",
   "nbconvert_exporter": "python",
   "pygments_lexer": "ipython3",
   "version": "3.7.3"
  }
 },
 "nbformat": 4,
 "nbformat_minor": 2
}
