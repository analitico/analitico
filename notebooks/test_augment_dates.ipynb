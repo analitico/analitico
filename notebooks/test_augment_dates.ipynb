{
 "cells": [
  {
   "cell_type": "code",
   "execution_count": 1,
   "metadata": {},
   "outputs": [
    {
     "name": "stdout",
     "output_type": "stream",
     "text": [
      "2019-05-29 14:18:43.562128\n"
     ]
    }
   ],
   "source": [
    "import json\n",
    "import numpy as np\n",
    "from scipy import stats\n",
    "from datetime import datetime\n",
    "\n",
    "import analitico\n",
    "import analitico.plugin\n",
    "import s24.plugin\n",
    "from analitico.pandas import *\n",
    "from analitico.schema import apply_schema\n",
    "\n",
    "# pass api token to create sdk\n",
    "sdk = analitico.authorize(\"tok_s24_579E5hOWw7k8\")\n",
    "print(datetime.utcnow())"
   ]
  },
  {
   "cell_type": "code",
   "execution_count": null,
   "metadata": {},
   "outputs": [],
   "source": [
    "# load table that is already a result of joining and processing several tables\n",
    "df1 = sdk.get_dataframe(\"ds_s24_order\")\n",
    "df1.sample(n=10)"
   ]
  },
  {
   "cell_type": "code",
   "execution_count": null,
   "metadata": {},
   "outputs": [],
   "source": [
    "df1 = df1.copy()\n",
    "df2 = augment_dates(df1, column=\"deliver_at_start\")\n",
    "df2"
   ]
  },
  {
   "cell_type": "code",
   "execution_count": null,
   "metadata": {},
   "outputs": [],
   "source": [
    "dates = pd.DatetimeIndex(df2[\"updated_at\"])\n",
    "df2.loc[:,\"updated_at.year\"] = dates.year.astype(\"category\")\n",
    "df2"
   ]
  },
  {
   "cell_type": "code",
   "execution_count": null,
   "metadata": {},
   "outputs": [],
   "source": [
    "from analitico import AnaliticoException\n",
    "\n",
    "p = AnaliticoException(\"ciao\", status_code=400)\n",
    "raise p"
   ]
  }
 ],
 "metadata": {
  "celltoolbar": "Edit Metadata",
  "kernelspec": {
   "display_name": "Python 3",
   "language": "python",
   "name": "python3"
  },
  "language_info": {
   "codemirror_mode": {
    "name": "ipython",
    "version": 3
   },
   "file_extension": ".py",
   "mimetype": "text/x-python",
   "name": "python",
   "nbconvert_exporter": "python",
   "pygments_lexer": "ipython3",
   "version": "3.7.3"
  }
 },
 "nbformat": 4,
 "nbformat_minor": 2
}
