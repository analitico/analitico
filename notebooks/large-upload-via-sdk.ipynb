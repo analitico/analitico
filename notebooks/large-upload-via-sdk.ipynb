{
 "cells": [
  {
   "cell_type": "code",
   "execution_count": 1,
   "metadata": {},
   "outputs": [
    {
     "name": "stdout",
     "output_type": "stream",
     "text": [
      "\u001b[33mYou are using pip version 19.0.3, however version 19.2.2 is available.\r\n",
      "You should consider upgrading via the 'pip install --upgrade pip' command.\u001b[0m\r\n"
     ]
    }
   ],
   "source": [
    "!pip install analitico>=2019.08.12.dev6\n",
    "#!pip install --index-url https://test.pypi.org/simple/ analitico==2019.08.12.dev4\n",
    "\n",
    "import os\n",
    "import requests\n",
    "import tempfile\n",
    "import analitico\n",
    "import simplejson as json\n",
    "\n",
    "from analitico import logger\n",
    "from analitico.utilities import time_ms\n",
    "\n",
    "MB_SIZE = 1024 * 1024"
   ]
  },
  {
   "cell_type": "code",
   "execution_count": 2,
   "metadata": {},
   "outputs": [
    {
     "data": {
      "text/plain": [
       "<analitico.sdk.AnaliticoSDK at 0x1061d2ba8>"
      ]
     },
     "execution_count": 2,
     "metadata": {},
     "output_type": "execute_result"
    }
   ],
   "source": [
    "# calls are enabled using a developer token\n",
    "sdk = analitico.authorize_sdk(\"tok_demo1_croJ7gVp4cW9\", endpoint=\"http://127.0.0.1:8000/api/\")\n",
    "sdk"
   ]
  },
  {
   "cell_type": "code",
   "execution_count": 3,
   "metadata": {},
   "outputs": [
    {
     "data": {
      "text/plain": [
       "<analitico.models.dataset.Dataset at 0x11a6fbcc0>"
      ]
     },
     "execution_count": 3,
     "metadata": {},
     "output_type": "execute_result"
    }
   ],
   "source": [
    "# test dataset with lots of large files\n",
    "ds = sdk.get_dataset(\"ds_5je37sn4\")\n",
    "ds"
   ]
  },
  {
   "cell_type": "code",
   "execution_count": null,
   "metadata": {},
   "outputs": [],
   "source": [
    "# random bytes to avoid compression, etc\n",
    "size = 8 * MB_SIZE\n",
    "data1 = bytearray(os.urandom(size))\n",
    "\n",
    "# upload data directly to item's storage\n",
    "with tempfile.NamedTemporaryFile() as f1:\n",
    "  try:\n",
    "    f1.write(data1)\n",
    "    started_ms = time_ms()\n",
    "    ds.upload(filepath=f1.name, remotepath=\"deleteme.data\", direct=False)\n",
    "\n",
    "    elapsed_ms = max(1, time_ms(started_ms))\n",
    "    kb_sec = (size / 1024.0) / (elapsed_ms / 1000.0)\n",
    "    msg = f\"sdk upload: {size / MB_SIZE} MB in {elapsed_ms} ms, {kb_sec:.0f} KB/s\"\n",
    "    logger.info(msg)\n",
    "    print(msg)\n",
    "    \n",
    "  except Exception as exc:\n",
    "    print(exc)"
   ]
  },
  {
   "cell_type": "code",
   "execution_count": null,
   "metadata": {},
   "outputs": [],
   "source": [
    "# random bytes to avoid compression, etc\n",
    "size = 8 * MB_SIZE\n",
    "data1 = bytearray(os.urandom(size))\n",
    "\n",
    "\n",
    "file_url = ds.url + \"/files/delete2.data\"\n",
    "\n",
    "with tempfile.NamedTemporaryFile() as f1:\n",
    "    f1.write(data1)\n",
    "    f1.seek(0)\n",
    "    started_ms = time_ms()\n",
    "    \n",
    "    # multipart encoded upload\n",
    "    headers = {\"Authorization\": \"Bearer \" + ds.sdk.token}\n",
    "    response = requests.put(file_url, files={\"file\": f1}, headers=headers)\n",
    "    print(response.status_code)    \n",
    "    \n",
    "    elapsed_ms = max(1, time_ms(started_ms))\n",
    "    kb_sec = (size / 1024.0) / (elapsed_ms / 1000.0)\n",
    "    msg = f\"sdk upload (direct): {size / MB_SIZE} MB in {elapsed_ms} ms, {kb_sec:.0f} KB/s\"\n",
    "    logger.info(msg)\n",
    "    \n",
    "    if response.content:\n",
    "        json = json.dumps(json.loads(str(response.content)), indent=2)\n",
    "        print(json)"
   ]
  },
  {
   "cell_type": "code",
   "execution_count": null,
   "metadata": {},
   "outputs": [],
   "source": []
  }
 ],
 "metadata": {
  "kernelspec": {
   "display_name": "Python 3",
   "language": "python",
   "name": "python3"
  },
  "language_info": {
   "codemirror_mode": {
    "name": "ipython",
    "version": 3
   },
   "file_extension": ".py",
   "mimetype": "text/x-python",
   "name": "python",
   "nbconvert_exporter": "python",
   "pygments_lexer": "ipython3",
   "version": "3.7.3"
  }
 },
 "nbformat": 4,
 "nbformat_minor": 2
}
