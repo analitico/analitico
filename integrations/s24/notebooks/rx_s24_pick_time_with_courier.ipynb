{
 "cells": [
  {
   "cell_type": "markdown",
   "metadata": {},
   "source": [
    "# Recipe\n",
    "## Pick Time with Courier"
   ]
  },
  {
   "cell_type": "code",
   "execution_count": 7,
   "metadata": {
    "tags": [
     "setup"
    ]
   },
   "outputs": [
    {
     "name": "stdout",
     "output_type": "stream",
     "text": [
      "2019-04-11 15:02:31.178320\n"
     ]
    }
   ],
   "source": [
    "# setup for training AND prediction\n",
    "import analitico\n",
    "import analitico.plugin\n",
    "import s24.plugin\n",
    "\n",
    "from analitico.pandas import *\n",
    "\n",
    "import numpy as np\n",
    "from scipy import stats\n",
    "\n",
    "# pass api token to create factory\n",
    "factory = analitico.authorize(\"tok_demo1_croJ7gVp4cW9\")\n",
    "\n",
    "def sample(df):\n",
    "    return df.sample(n=4)\n",
    "\n",
    "import datetime\n",
    "print(datetime.datetime.now())"
   ]
  },
  {
   "cell_type": "code",
   "execution_count": 8,
   "metadata": {},
   "outputs": [],
   "source": [
    "import missingno as msno\n",
    "%matplotlib inline\n",
    "import matplotlib.pyplot as plt\n",
    "\n",
    "import pandas as pd\n",
    "pd.options.display.max_columns = None\n",
    "pd.options.display.max_rows = None"
   ]
  },
  {
   "cell_type": "code",
   "execution_count": 9,
   "metadata": {},
   "outputs": [],
   "source": [
    "%config Application.log_level='DEBUG'\n",
    "%config Application.log_level='INFO'\n",
    "import logging\n",
    "logging.getLogger().setLevel(logging.INFO)\n",
    "log = logging.getLogger()\n",
    "log.debug('Test debug')\n",
    "log.info('Test info')"
   ]
  },
  {
   "cell_type": "code",
   "execution_count": 10,
   "metadata": {
    "tags": [
     "parameters"
    ]
   },
   "outputs": [],
   "source": [
    "action = \"train\"\n",
    "\n",
    "y_label = \"pick_time.min\"\n",
    "\n",
    "# data used for sample prediction\n",
    "data = [{\n",
    "        \"order_fulfillment_type\": 1,\n",
    "        \"order_deliver_at_start\": \"2018-08-27 19:00:00\",\n",
    "        \"courier_id\": 109135.0,\n",
    "        \"odt_items_total\": 12,\n",
    "        \"odt_items_with_variable_weight\": 0,\n",
    "        \"store_name\": \"esselunga\",\n",
    "        \"store_area\": \"MI6\",\n",
    "        \"store_province\": \"MI\",\n",
    "        \"store_ref_id\": 5042,\n",
    "        \"courier_area\": \"MI13\",\n",
    "        \"courier_orders_taken\": 249,\n",
    "        \"courier_experience_days\": 306.2845833333,\n",
    "        \"pick_time.min\": 10.2 # just for testing, real data would not have y_true of course\n",
    "    },\n",
    "    {\n",
    "        \"order_fulfillment_type\": 1,\n",
    "        \"order_deliver_at_start\": \"2018-09-28 20:00:00\",\n",
    "        \"courier_id\": 112147.0,\n",
    "        \"odt_items_total\": 16,\n",
    "        \"odt_items_with_variable_weight\": 1,\n",
    "        \"store_name\": \"ipercoop\",\n",
    "        \"store_area\": \"MI4\",\n",
    "        \"store_province\": \"MI\",\n",
    "        \"store_ref_id\": 4494,\n",
    "        \"courier_area\": \"MI4\",\n",
    "        \"courier_orders_taken\": 3387,\n",
    "        \"courier_experience_days\": 316.7805439815,\n",
    "        \"pick_time.min\": 38.9 # just for testing, real data would not have y_true of course\n",
    "    }]\n",
    "\n"
   ]
  },
  {
   "cell_type": "markdown",
   "metadata": {},
   "source": [
    "## Load training data"
   ]
  },
  {
   "cell_type": "code",
   "execution_count": 11,
   "metadata": {},
   "outputs": [
    {
     "data": {
      "text/html": [
       "<div>\n",
       "<style scoped>\n",
       "    .dataframe tbody tr th:only-of-type {\n",
       "        vertical-align: middle;\n",
       "    }\n",
       "\n",
       "    .dataframe tbody tr th {\n",
       "        vertical-align: top;\n",
       "    }\n",
       "\n",
       "    .dataframe thead th {\n",
       "        text-align: right;\n",
       "    }\n",
       "</style>\n",
       "<table border=\"1\" class=\"dataframe\">\n",
       "  <thead>\n",
       "    <tr style=\"text-align: right;\">\n",
       "      <th></th>\n",
       "      <th>order_amount</th>\n",
       "      <th>order_volume</th>\n",
       "      <th>order_deliver_at_start</th>\n",
       "      <th>order_deliver_at_end</th>\n",
       "      <th>order_paid_at</th>\n",
       "      <th>order_delivered_at</th>\n",
       "      <th>order_fulfillment_type</th>\n",
       "      <th>store_id</th>\n",
       "      <th>courier_id</th>\n",
       "      <th>picker_id</th>\n",
       "      <th>customer_id</th>\n",
       "      <th>odt_items_total</th>\n",
       "      <th>odt_items_with_variable_weight</th>\n",
       "      <th>odt_first_touched_at</th>\n",
       "      <th>odt_last_touched_at</th>\n",
       "      <th>store_name</th>\n",
       "      <th>store_area</th>\n",
       "      <th>store_province</th>\n",
       "      <th>store_lat</th>\n",
       "      <th>store_lng</th>\n",
       "      <th>store_ref_id</th>\n",
       "      <th>customer_province</th>\n",
       "      <th>customer_lat</th>\n",
       "      <th>customer_lng</th>\n",
       "      <th>customer_area</th>\n",
       "      <th>customer_ztl</th>\n",
       "      <th>customer_ref_id</th>\n",
       "      <th>customer_created_at</th>\n",
       "      <th>courier_soldo_enabled</th>\n",
       "      <th>courier_area</th>\n",
       "      <th>courier_orders_taken</th>\n",
       "      <th>courier_orders_sent</th>\n",
       "      <th>courier_created_at</th>\n",
       "      <th>courier_experience_days</th>\n",
       "      <th>pick_time.min</th>\n",
       "      <th>pay_time.min</th>\n",
       "      <th>deliver_time.min</th>\n",
       "    </tr>\n",
       "  </thead>\n",
       "  <tbody>\n",
       "    <tr>\n",
       "      <th>168336</th>\n",
       "      <td>40.45</td>\n",
       "      <td>8.89</td>\n",
       "      <td>2019-02-15 14:00:00</td>\n",
       "      <td>2019-02-15 15:00:00</td>\n",
       "      <td>2019-02-15 14:15:31</td>\n",
       "      <td>2019-02-15 14:38:10</td>\n",
       "      <td>1</td>\n",
       "      <td>1005616</td>\n",
       "      <td>155657.0</td>\n",
       "      <td>NaN</td>\n",
       "      <td>1005652</td>\n",
       "      <td>6</td>\n",
       "      <td>0</td>\n",
       "      <td>2019-02-15 14:01:45</td>\n",
       "      <td>2019-02-15 14:06:52</td>\n",
       "      <td>coop</td>\n",
       "      <td>MI13</td>\n",
       "      <td>MI</td>\n",
       "      <td>45.370128</td>\n",
       "      <td>9.212598</td>\n",
       "      <td>4431</td>\n",
       "      <td>MI</td>\n",
       "      <td>45.339928</td>\n",
       "      <td>9.085551</td>\n",
       "      <td>MI13</td>\n",
       "      <td>0</td>\n",
       "      <td>0001432796</td>\n",
       "      <td>2019-02-14 00:51:23</td>\n",
       "      <td>0</td>\n",
       "      <td>NaN</td>\n",
       "      <td>0</td>\n",
       "      <td>0</td>\n",
       "      <td>2019-04-11 14:25:10.676079</td>\n",
       "      <td>-55</td>\n",
       "      <td>5.116667</td>\n",
       "      <td>8.650000</td>\n",
       "      <td>22.650000</td>\n",
       "    </tr>\n",
       "    <tr>\n",
       "      <th>113645</th>\n",
       "      <td>59.18</td>\n",
       "      <td>115.15</td>\n",
       "      <td>2018-12-15 18:00:00</td>\n",
       "      <td>2018-12-15 19:00:00</td>\n",
       "      <td>2018-12-15 17:27:22</td>\n",
       "      <td>2018-12-15 17:42:59</td>\n",
       "      <td>1</td>\n",
       "      <td>885005</td>\n",
       "      <td>152809.0</td>\n",
       "      <td>NaN</td>\n",
       "      <td>885041</td>\n",
       "      <td>30</td>\n",
       "      <td>4</td>\n",
       "      <td>2018-12-15 16:37:39</td>\n",
       "      <td>2018-12-15 17:11:59</td>\n",
       "      <td>coop</td>\n",
       "      <td>MI15</td>\n",
       "      <td>MB</td>\n",
       "      <td>45.615118</td>\n",
       "      <td>9.201361</td>\n",
       "      <td>5041</td>\n",
       "      <td>MI</td>\n",
       "      <td>45.624449</td>\n",
       "      <td>9.167875</td>\n",
       "      <td>MI15</td>\n",
       "      <td>0</td>\n",
       "      <td>0001362129</td>\n",
       "      <td>2018-12-15 15:08:49</td>\n",
       "      <td>0</td>\n",
       "      <td>NaN</td>\n",
       "      <td>0</td>\n",
       "      <td>0</td>\n",
       "      <td>2019-04-11 14:25:10.676079</td>\n",
       "      <td>-116</td>\n",
       "      <td>34.333333</td>\n",
       "      <td>15.383333</td>\n",
       "      <td>15.616667</td>\n",
       "    </tr>\n",
       "    <tr>\n",
       "      <th>183762</th>\n",
       "      <td>80.88</td>\n",
       "      <td>220.85</td>\n",
       "      <td>2019-03-01 16:00:00</td>\n",
       "      <td>2019-03-01 17:00:00</td>\n",
       "      <td>2019-03-01 16:10:24</td>\n",
       "      <td>2019-03-01 16:31:59</td>\n",
       "      <td>1</td>\n",
       "      <td>1038860</td>\n",
       "      <td>101498.0</td>\n",
       "      <td>NaN</td>\n",
       "      <td>1038896</td>\n",
       "      <td>36</td>\n",
       "      <td>4</td>\n",
       "      <td>2019-03-01 15:33:03</td>\n",
       "      <td>2019-03-01 16:04:37</td>\n",
       "      <td>lidl</td>\n",
       "      <td>RM6</td>\n",
       "      <td>RM</td>\n",
       "      <td>41.894730</td>\n",
       "      <td>12.591020</td>\n",
       "      <td>5270</td>\n",
       "      <td>RM</td>\n",
       "      <td>41.879372</td>\n",
       "      <td>12.572047</td>\n",
       "      <td>RM6</td>\n",
       "      <td>0</td>\n",
       "      <td>0001118723</td>\n",
       "      <td>2019-03-01 14:15:35</td>\n",
       "      <td>0</td>\n",
       "      <td>NaN</td>\n",
       "      <td>0</td>\n",
       "      <td>0</td>\n",
       "      <td>2019-04-11 14:25:10.676079</td>\n",
       "      <td>-40</td>\n",
       "      <td>31.566667</td>\n",
       "      <td>5.783333</td>\n",
       "      <td>21.583333</td>\n",
       "    </tr>\n",
       "    <tr>\n",
       "      <th>51357</th>\n",
       "      <td>85.42</td>\n",
       "      <td>141.30</td>\n",
       "      <td>2018-10-01 19:00:00</td>\n",
       "      <td>2018-10-01 20:00:00</td>\n",
       "      <td>2018-10-01 18:49:29</td>\n",
       "      <td>2018-10-01 19:31:38</td>\n",
       "      <td>1</td>\n",
       "      <td>746201</td>\n",
       "      <td>142677.0</td>\n",
       "      <td>NaN</td>\n",
       "      <td>746237</td>\n",
       "      <td>28</td>\n",
       "      <td>4</td>\n",
       "      <td>2018-10-01 17:36:10</td>\n",
       "      <td>2018-10-01 18:36:59</td>\n",
       "      <td>famila superstore</td>\n",
       "      <td>VR1</td>\n",
       "      <td>VR</td>\n",
       "      <td>45.462180</td>\n",
       "      <td>10.968289</td>\n",
       "      <td>2769</td>\n",
       "      <td>VR</td>\n",
       "      <td>45.445518</td>\n",
       "      <td>11.005071</td>\n",
       "      <td>VR1</td>\n",
       "      <td>0</td>\n",
       "      <td>0000728159</td>\n",
       "      <td>2018-10-01 10:12:13</td>\n",
       "      <td>0</td>\n",
       "      <td>NaN</td>\n",
       "      <td>0</td>\n",
       "      <td>0</td>\n",
       "      <td>2019-04-11 14:25:10.676079</td>\n",
       "      <td>-191</td>\n",
       "      <td>60.816667</td>\n",
       "      <td>12.500000</td>\n",
       "      <td>42.150000</td>\n",
       "    </tr>\n",
       "  </tbody>\n",
       "</table>\n",
       "</div>"
      ],
      "text/plain": [
       "        order_amount  order_volume order_deliver_at_start  \\\n",
       "168336         40.45          8.89    2019-02-15 14:00:00   \n",
       "113645         59.18        115.15    2018-12-15 18:00:00   \n",
       "183762         80.88        220.85    2019-03-01 16:00:00   \n",
       "51357          85.42        141.30    2018-10-01 19:00:00   \n",
       "\n",
       "       order_deliver_at_end       order_paid_at  order_delivered_at  \\\n",
       "168336  2019-02-15 15:00:00 2019-02-15 14:15:31 2019-02-15 14:38:10   \n",
       "113645  2018-12-15 19:00:00 2018-12-15 17:27:22 2018-12-15 17:42:59   \n",
       "183762  2019-03-01 17:00:00 2019-03-01 16:10:24 2019-03-01 16:31:59   \n",
       "51357   2018-10-01 20:00:00 2018-10-01 18:49:29 2018-10-01 19:31:38   \n",
       "\n",
       "       order_fulfillment_type  store_id  courier_id picker_id  customer_id  \\\n",
       "168336                      1   1005616    155657.0       NaN      1005652   \n",
       "113645                      1    885005    152809.0       NaN       885041   \n",
       "183762                      1   1038860    101498.0       NaN      1038896   \n",
       "51357                       1    746201    142677.0       NaN       746237   \n",
       "\n",
       "        odt_items_total  odt_items_with_variable_weight odt_first_touched_at  \\\n",
       "168336                6                               0  2019-02-15 14:01:45   \n",
       "113645               30                               4  2018-12-15 16:37:39   \n",
       "183762               36                               4  2019-03-01 15:33:03   \n",
       "51357                28                               4  2018-10-01 17:36:10   \n",
       "\n",
       "       odt_last_touched_at         store_name store_area store_province  \\\n",
       "168336 2019-02-15 14:06:52               coop       MI13             MI   \n",
       "113645 2018-12-15 17:11:59               coop       MI15             MB   \n",
       "183762 2019-03-01 16:04:37               lidl        RM6             RM   \n",
       "51357  2018-10-01 18:36:59  famila superstore        VR1             VR   \n",
       "\n",
       "        store_lat  store_lng store_ref_id customer_province  customer_lat  \\\n",
       "168336  45.370128   9.212598         4431                MI     45.339928   \n",
       "113645  45.615118   9.201361         5041                MI     45.624449   \n",
       "183762  41.894730  12.591020         5270                RM     41.879372   \n",
       "51357   45.462180  10.968289         2769                VR     45.445518   \n",
       "\n",
       "        customer_lng customer_area customer_ztl customer_ref_id  \\\n",
       "168336      9.085551          MI13            0      0001432796   \n",
       "113645      9.167875          MI15            0      0001362129   \n",
       "183762     12.572047           RM6            0      0001118723   \n",
       "51357      11.005071           VR1            0      0000728159   \n",
       "\n",
       "       customer_created_at courier_soldo_enabled courier_area  \\\n",
       "168336 2019-02-14 00:51:23                     0          NaN   \n",
       "113645 2018-12-15 15:08:49                     0          NaN   \n",
       "183762 2019-03-01 14:15:35                     0          NaN   \n",
       "51357  2018-10-01 10:12:13                     0          NaN   \n",
       "\n",
       "        courier_orders_taken  courier_orders_sent         courier_created_at  \\\n",
       "168336                     0                    0 2019-04-11 14:25:10.676079   \n",
       "113645                     0                    0 2019-04-11 14:25:10.676079   \n",
       "183762                     0                    0 2019-04-11 14:25:10.676079   \n",
       "51357                      0                    0 2019-04-11 14:25:10.676079   \n",
       "\n",
       "        courier_experience_days  pick_time.min  pay_time.min  deliver_time.min  \n",
       "168336                      -55       5.116667      8.650000         22.650000  \n",
       "113645                     -116      34.333333     15.383333         15.616667  \n",
       "183762                      -40      31.566667      5.783333         21.583333  \n",
       "51357                      -191      60.816667     12.500000         42.150000  "
      ]
     },
     "execution_count": 11,
     "metadata": {},
     "output_type": "execute_result"
    }
   ],
   "source": [
    "orders = factory.run_plugin(action=action, settings = {\n",
    "    \"name\": \"analitico.plugin.DatasetSourcePlugin\",\n",
    "    \"dataset_id\": \"ds_s24_order_times_dyn\"\n",
    "})\n",
    "sample(orders)"
   ]
  },
  {
   "cell_type": "code",
   "execution_count": 12,
   "metadata": {},
   "outputs": [
    {
     "name": "stderr",
     "output_type": "stream",
     "text": [
      "AugmentCouriersPlugin: data is already augmented\n"
     ]
    },
    {
     "ename": "KeyError",
     "evalue": "\"['order_id'] not found in axis\"",
     "output_type": "error",
     "traceback": [
      "\u001b[0;31m---------------------------------------------------------------------------\u001b[0m",
      "\u001b[0;31mKeyError\u001b[0m                                  Traceback (most recent call last)",
      "\u001b[0;32m<ipython-input-12-af0393329643>\u001b[0m in \u001b[0;36m<module>\u001b[0;34m\u001b[0m\n\u001b[1;32m     14\u001b[0m     ],\n\u001b[1;32m     15\u001b[0m     \u001b[0maxis\u001b[0m \u001b[0;34m=\u001b[0m \u001b[0;36m1\u001b[0m\u001b[0;34m,\u001b[0m\u001b[0;34m\u001b[0m\u001b[0;34m\u001b[0m\u001b[0m\n\u001b[0;32m---> 16\u001b[0;31m     \u001b[0minplace\u001b[0m \u001b[0;34m=\u001b[0m \u001b[0;32mTrue\u001b[0m\u001b[0;34m\u001b[0m\u001b[0;34m\u001b[0m\u001b[0m\n\u001b[0m\u001b[1;32m     17\u001b[0m )\n",
      "\u001b[0;32m~/github/analitico/venv/lib/python3.7/site-packages/pandas/core/frame.py\u001b[0m in \u001b[0;36mdrop\u001b[0;34m(self, labels, axis, index, columns, level, inplace, errors)\u001b[0m\n\u001b[1;32m   3695\u001b[0m                                            \u001b[0mindex\u001b[0m\u001b[0;34m=\u001b[0m\u001b[0mindex\u001b[0m\u001b[0;34m,\u001b[0m \u001b[0mcolumns\u001b[0m\u001b[0;34m=\u001b[0m\u001b[0mcolumns\u001b[0m\u001b[0;34m,\u001b[0m\u001b[0;34m\u001b[0m\u001b[0;34m\u001b[0m\u001b[0m\n\u001b[1;32m   3696\u001b[0m                                            \u001b[0mlevel\u001b[0m\u001b[0;34m=\u001b[0m\u001b[0mlevel\u001b[0m\u001b[0;34m,\u001b[0m \u001b[0minplace\u001b[0m\u001b[0;34m=\u001b[0m\u001b[0minplace\u001b[0m\u001b[0;34m,\u001b[0m\u001b[0;34m\u001b[0m\u001b[0;34m\u001b[0m\u001b[0m\n\u001b[0;32m-> 3697\u001b[0;31m                                            errors=errors)\n\u001b[0m\u001b[1;32m   3698\u001b[0m \u001b[0;34m\u001b[0m\u001b[0m\n\u001b[1;32m   3699\u001b[0m     @rewrite_axis_style_signature('mapper', [('copy', True),\n",
      "\u001b[0;32m~/github/analitico/venv/lib/python3.7/site-packages/pandas/core/generic.py\u001b[0m in \u001b[0;36mdrop\u001b[0;34m(self, labels, axis, index, columns, level, inplace, errors)\u001b[0m\n\u001b[1;32m   3109\u001b[0m         \u001b[0;32mfor\u001b[0m \u001b[0maxis\u001b[0m\u001b[0;34m,\u001b[0m \u001b[0mlabels\u001b[0m \u001b[0;32min\u001b[0m \u001b[0maxes\u001b[0m\u001b[0;34m.\u001b[0m\u001b[0mitems\u001b[0m\u001b[0;34m(\u001b[0m\u001b[0;34m)\u001b[0m\u001b[0;34m:\u001b[0m\u001b[0;34m\u001b[0m\u001b[0;34m\u001b[0m\u001b[0m\n\u001b[1;32m   3110\u001b[0m             \u001b[0;32mif\u001b[0m \u001b[0mlabels\u001b[0m \u001b[0;32mis\u001b[0m \u001b[0;32mnot\u001b[0m \u001b[0;32mNone\u001b[0m\u001b[0;34m:\u001b[0m\u001b[0;34m\u001b[0m\u001b[0;34m\u001b[0m\u001b[0m\n\u001b[0;32m-> 3111\u001b[0;31m                 \u001b[0mobj\u001b[0m \u001b[0;34m=\u001b[0m \u001b[0mobj\u001b[0m\u001b[0;34m.\u001b[0m\u001b[0m_drop_axis\u001b[0m\u001b[0;34m(\u001b[0m\u001b[0mlabels\u001b[0m\u001b[0;34m,\u001b[0m \u001b[0maxis\u001b[0m\u001b[0;34m,\u001b[0m \u001b[0mlevel\u001b[0m\u001b[0;34m=\u001b[0m\u001b[0mlevel\u001b[0m\u001b[0;34m,\u001b[0m \u001b[0merrors\u001b[0m\u001b[0;34m=\u001b[0m\u001b[0merrors\u001b[0m\u001b[0;34m)\u001b[0m\u001b[0;34m\u001b[0m\u001b[0;34m\u001b[0m\u001b[0m\n\u001b[0m\u001b[1;32m   3112\u001b[0m \u001b[0;34m\u001b[0m\u001b[0m\n\u001b[1;32m   3113\u001b[0m         \u001b[0;32mif\u001b[0m \u001b[0minplace\u001b[0m\u001b[0;34m:\u001b[0m\u001b[0;34m\u001b[0m\u001b[0;34m\u001b[0m\u001b[0m\n",
      "\u001b[0;32m~/github/analitico/venv/lib/python3.7/site-packages/pandas/core/generic.py\u001b[0m in \u001b[0;36m_drop_axis\u001b[0;34m(self, labels, axis, level, errors)\u001b[0m\n\u001b[1;32m   3141\u001b[0m                 \u001b[0mnew_axis\u001b[0m \u001b[0;34m=\u001b[0m \u001b[0maxis\u001b[0m\u001b[0;34m.\u001b[0m\u001b[0mdrop\u001b[0m\u001b[0;34m(\u001b[0m\u001b[0mlabels\u001b[0m\u001b[0;34m,\u001b[0m \u001b[0mlevel\u001b[0m\u001b[0;34m=\u001b[0m\u001b[0mlevel\u001b[0m\u001b[0;34m,\u001b[0m \u001b[0merrors\u001b[0m\u001b[0;34m=\u001b[0m\u001b[0merrors\u001b[0m\u001b[0;34m)\u001b[0m\u001b[0;34m\u001b[0m\u001b[0;34m\u001b[0m\u001b[0m\n\u001b[1;32m   3142\u001b[0m             \u001b[0;32melse\u001b[0m\u001b[0;34m:\u001b[0m\u001b[0;34m\u001b[0m\u001b[0;34m\u001b[0m\u001b[0m\n\u001b[0;32m-> 3143\u001b[0;31m                 \u001b[0mnew_axis\u001b[0m \u001b[0;34m=\u001b[0m \u001b[0maxis\u001b[0m\u001b[0;34m.\u001b[0m\u001b[0mdrop\u001b[0m\u001b[0;34m(\u001b[0m\u001b[0mlabels\u001b[0m\u001b[0;34m,\u001b[0m \u001b[0merrors\u001b[0m\u001b[0;34m=\u001b[0m\u001b[0merrors\u001b[0m\u001b[0;34m)\u001b[0m\u001b[0;34m\u001b[0m\u001b[0;34m\u001b[0m\u001b[0m\n\u001b[0m\u001b[1;32m   3144\u001b[0m             \u001b[0mresult\u001b[0m \u001b[0;34m=\u001b[0m \u001b[0mself\u001b[0m\u001b[0;34m.\u001b[0m\u001b[0mreindex\u001b[0m\u001b[0;34m(\u001b[0m\u001b[0;34m**\u001b[0m\u001b[0;34m{\u001b[0m\u001b[0maxis_name\u001b[0m\u001b[0;34m:\u001b[0m \u001b[0mnew_axis\u001b[0m\u001b[0;34m}\u001b[0m\u001b[0;34m)\u001b[0m\u001b[0;34m\u001b[0m\u001b[0;34m\u001b[0m\u001b[0m\n\u001b[1;32m   3145\u001b[0m \u001b[0;34m\u001b[0m\u001b[0m\n",
      "\u001b[0;32m~/github/analitico/venv/lib/python3.7/site-packages/pandas/core/indexes/base.py\u001b[0m in \u001b[0;36mdrop\u001b[0;34m(self, labels, errors)\u001b[0m\n\u001b[1;32m   4402\u001b[0m             \u001b[0;32mif\u001b[0m \u001b[0merrors\u001b[0m \u001b[0;34m!=\u001b[0m \u001b[0;34m'ignore'\u001b[0m\u001b[0;34m:\u001b[0m\u001b[0;34m\u001b[0m\u001b[0;34m\u001b[0m\u001b[0m\n\u001b[1;32m   4403\u001b[0m                 raise KeyError(\n\u001b[0;32m-> 4404\u001b[0;31m                     '{} not found in axis'.format(labels[mask]))\n\u001b[0m\u001b[1;32m   4405\u001b[0m             \u001b[0mindexer\u001b[0m \u001b[0;34m=\u001b[0m \u001b[0mindexer\u001b[0m\u001b[0;34m[\u001b[0m\u001b[0;34m~\u001b[0m\u001b[0mmask\u001b[0m\u001b[0;34m]\u001b[0m\u001b[0;34m\u001b[0m\u001b[0;34m\u001b[0m\u001b[0m\n\u001b[1;32m   4406\u001b[0m         \u001b[0;32mreturn\u001b[0m \u001b[0mself\u001b[0m\u001b[0;34m.\u001b[0m\u001b[0mdelete\u001b[0m\u001b[0;34m(\u001b[0m\u001b[0mindexer\u001b[0m\u001b[0;34m)\u001b[0m\u001b[0;34m\u001b[0m\u001b[0;34m\u001b[0m\u001b[0m\n",
      "\u001b[0;31mKeyError\u001b[0m: \"['order_id'] not found in axis\""
     ]
    }
   ],
   "source": [
    "#plugin = s24.plugin.AugmentCouriersPlugin(factory=factory)\n",
    "orders = plugin.run(orders, action=action)\n",
    "\n",
    "# Drop all the columns that will not be needed for this model\n",
    "orders.drop(\n",
    "    [\n",
    "        \"order_id\", \"order_deliver_at_end\", \"order_paid_at\", \"order_delivered_at\", \"order_amount\", \"order_volume\",\n",
    "        \"customer_id\", \"customer_ref_id\", \"customer_province\", \"customer_lat\", \"customer_lng\", \"customer_area\", \"customer_ztl\", \"customer_created_at\",\n",
    "        \"store_id\", \"store_lat\", \"store_lng\",\n",
    "        \"picker_id\",\n",
    "        \"courier_created_at\", \"courier_soldo_enabled\", \"courier_orders_sent\",\n",
    "        \"odt_first_touched_at\", \"odt_last_touched_at\",\n",
    "        \"pay_time.min\", \"deliver_time.min\"\n",
    "    ],\n",
    "    axis = 1,\n",
    "    inplace = True\n",
    ")"
   ]
  },
  {
   "cell_type": "code",
   "execution_count": null,
   "metadata": {},
   "outputs": [],
   "source": [
    "print(\"Total orders: %d\" % len(orders))\n",
    "# orders completed in less than 2 minutes are bogus and should be removed\n",
    "orders = orders[orders[\"pick_time.min\"].notnull()]\n",
    "orders = orders.loc[orders[\"pick_time.min\"] > 2]\n",
    "orders = orders.loc[orders[\"pick_time.min\"] < 120]\n",
    "print(\"Orders between 2 and 120 minutes: %d\" % len(orders))"
   ]
  },
  {
   "cell_type": "code",
   "execution_count": null,
   "metadata": {
    "scrolled": true
   },
   "outputs": [],
   "source": [
    "# check for missing data\n",
    "#msno.matrix(orders)\n",
    "pd_print_nulls(orders)"
   ]
  },
  {
   "cell_type": "code",
   "execution_count": null,
   "metadata": {},
   "outputs": [],
   "source": [
    "# distribution of values BEFORE filtering outliers\n",
    "columns = [\"pick_time.min\", \"odt_items_total\", \"odt_items_with_variable_weight\", \"courier_orders_taken\", \"courier_experience_days\"]\n",
    "orders[columns].describe()"
   ]
  },
  {
   "cell_type": "code",
   "execution_count": null,
   "metadata": {},
   "outputs": [],
   "source": [
    "def chart_distributions():\n",
    "    fig, axes = plt.subplots(1, 5, figsize=(16, 3))\n",
    "    hist = orders[[\"pick_time.min\"]].hist(bins=range(0,120,1), ax=axes[0])\n",
    "    hist = orders[[\"odt_items_total\"]].hist(bins=range(0,120,1), ax=axes[1])\n",
    "    hist = orders[[\"odt_items_with_variable_weight\"]].hist(bins=range(0,30,1), ax=axes[2])\n",
    "    hist = orders[[\"courier_orders_taken\"]].hist(bins=range(0,1000,25), ax=axes[3])\n",
    "    hist = orders[[\"courier_experience_days\"]].hist(bins=range(0,300,7), ax=axes[4])\n",
    "chart_distributions()"
   ]
  },
  {
   "cell_type": "code",
   "execution_count": null,
   "metadata": {},
   "outputs": [],
   "source": [
    "def pd_remove_outliers(df, column, zscore):\n",
    "    df1 = df[[column]]\n",
    "    return df[(np.abs(stats.zscore(df1)) <= zscore).all(axis=1)]\n",
    "\n",
    "# keep features within n standard deviations\n",
    "orders = pd_remove_outliers(orders, \"pick_time.min\", 3)\n",
    "orders = pd_remove_outliers(orders, \"odt_items_total\", 3)\n",
    "print(\"Filtered orders: %d\" % len(orders))"
   ]
  },
  {
   "cell_type": "code",
   "execution_count": null,
   "metadata": {},
   "outputs": [],
   "source": [
    "# distribution of values AFTER filtering outliers\n",
    "columns = [\"pick_time.min\", \"odt_items_total\", \"odt_items_with_variable_weight\", \"courier_orders_taken\", \"courier_experience_days\"]\n",
    "orders[columns].describe()"
   ]
  },
  {
   "cell_type": "code",
   "execution_count": null,
   "metadata": {},
   "outputs": [],
   "source": [
    "chart_distributions()"
   ]
  },
  {
   "cell_type": "code",
   "execution_count": null,
   "metadata": {},
   "outputs": [],
   "source": [
    "# augment delivery window date\n",
    "orders = factory.run_plugin(orders, action=action, settings={\n",
    "    \"name\": \"analitico.plugin.AugmentDatesPlugin\",\n",
    "    \"schema\": {\n",
    "        \"columns\": [\n",
    "            { \"name\": \"order_deliver_at_start\" }\n",
    "        ]\n",
    "    }\n",
    "})\n",
    "#orders.drop([\"order_deliver_at_start\"], axis=1, inplace=True)\n",
    "sample(orders)"
   ]
  },
  {
   "cell_type": "code",
   "execution_count": null,
   "metadata": {},
   "outputs": [],
   "source": [
    "# check a few orders\n",
    "orders.tail(15)"
   ]
  },
  {
   "cell_type": "code",
   "execution_count": null,
   "metadata": {},
   "outputs": [],
   "source": [
    "# check data types\n",
    "orders[\"courier_id\"] = orders[\"courier_id\"].astype(\"category\")\n",
    "orders[\"order_fulfillment_type\"] = orders[\"order_fulfillment_type\"].astype(\"category\")\n",
    "orders[\"store_name\"] = orders[\"store_name\"].astype(\"category\")\n",
    "orders[\"store_area\"] = orders[\"store_area\"].astype(\"category\")\n",
    "orders[\"store_province\"] = orders[\"store_province\"].astype(\"category\")\n",
    "orders[\"store_ref_id\"] = orders[\"store_ref_id\"].astype(\"category\")\n",
    "orders[\"courier_area\"] = orders[\"courier_area\"].astype(\"category\")\n",
    "orders[\"store_ref_id\"] = orders[\"store_ref_id\"].astype(\"category\")\n",
    "orders.dtypes"
   ]
  },
  {
   "cell_type": "code",
   "execution_count": null,
   "metadata": {
    "tags": [
     "plugin"
    ]
   },
   "outputs": [],
   "source": [
    "# train model with gradient boosting on decision trees\n",
    "training = factory.run_plugin(orders, action=\"train\", settings = {\n",
    "    \"name\": \"analitico.plugin.CatBoostRegressorPlugin\",\n",
    "    \"data\": {\n",
    "        \"chronological\": False,\n",
    "        \"label\": \"pick_time.min\"\n",
    "    },\n",
    "    \"parameters\": {\n",
    "        \"learning_rate\": 1,\n",
    "        \"iterations\": 100,\n",
    "        \"test_size\": 0.2\n",
    "    }\n",
    "})"
   ]
  },
  {
   "cell_type": "code",
   "execution_count": null,
   "metadata": {},
   "outputs": [],
   "source": [
    "training"
   ]
  },
  {
   "cell_type": "code",
   "execution_count": null,
   "metadata": {},
   "outputs": [],
   "source": [
    "training[\"scores\"][\"features_importance\"]"
   ]
  },
  {
   "cell_type": "code",
   "execution_count": null,
   "metadata": {
    "tags": [
     "metrics"
    ]
   },
   "outputs": [],
   "source": [
    "features_importance = training[\"scores\"][\"features_importance\"]\n",
    "\n",
    "features = list(features_importance.keys())\n",
    "importances = list(features_importance.values())\n",
    "indices = np.argsort(importances)[::-1]\n",
    "\n",
    "# Rearrange feature names so they match the sorted feature importances\n",
    "names = [features[i] for i in indices]\n",
    "\n",
    "# Create plot\n",
    "plt.figure()\n",
    "\n",
    "# Create plot title\n",
    "plt.title(\"Feature Importance\")\n",
    "\n",
    "# Add bars\n",
    "num = len(features_importance)\n",
    "plt.barh(range(0, num), importances)\n",
    "#plt.bar([0,1,2], [3,30,90])\n",
    "\n",
    "# Add feature names as x-axis labels\n",
    "#plt.xticks(range(0, num), features, rotation=90)\n",
    "plt.yticks(range(0, num), features)\n",
    "plt.gca().invert_yaxis()\n",
    "# Show plot\n",
    "plt.show()"
   ]
  },
  {
   "cell_type": "code",
   "execution_count": null,
   "metadata": {},
   "outputs": [],
   "source": [
    "## Prediction"
   ]
  },
  {
   "cell_type": "code",
   "execution_count": null,
   "metadata": {},
   "outputs": [],
   "source": [
    "samples_filename = os.path.join(factory.get_artifacts_directory(), \"training-samples.json\")\n",
    "data = pd.read_json(samples_filename, orient=\"records\")\n",
    "data"
   ]
  },
  {
   "cell_type": "code",
   "execution_count": null,
   "metadata": {
    "tags": [
     "prediction"
    ]
   },
   "outputs": [],
   "source": [
    "if not isinstance(data, pd.DataFrame):\n",
    "    data = pd.DataFrame.from_dict(data, orient=\"columns\")\n",
    "\n",
    "# when \n",
    "if not \"order_deliver_at_start\" in data.columns:\n",
    "    data[\"order_deliver_at_start\"] = pd.Timestamp.now()\n",
    "    \n",
    "data"
   ]
  },
  {
   "cell_type": "code",
   "execution_count": null,
   "metadata": {
    "tags": [
     "prediction"
    ]
   },
   "outputs": [],
   "source": [
    "# generate predictions\n",
    "results = factory.run_plugin(data, action=\"predict\", settings = [\n",
    "    {\n",
    "        \"name\": \"s24.plugin.AugmentCouriersPlugin\"\n",
    "    },\n",
    "    {\n",
    "        \"name\": \"analitico.plugin.AugmentDatesPlugin\",\n",
    "        \"schema\": {\n",
    "            \"columns\": [\n",
    "                { \"name\": \"order_deliver_at_start\" }\n",
    "            ]\n",
    "        }\n",
    "    },\n",
    "    {\n",
    "        \"name\": \"analitico.plugin.CatBoostRegressorPlugin\",\n",
    "        \"data\": {\n",
    "            \"chronological\": False,\n",
    "            \"label\": \"pick_time.min\"\n",
    "        },\n",
    "        \"parameters\": {\n",
    "            \"learning_rate\": 1,\n",
    "            \"iterations\": 100,\n",
    "            \"test_size\": 0.2\n",
    "        }\n",
    "    }\n",
    "])"
   ]
  },
  {
   "cell_type": "code",
   "execution_count": null,
   "metadata": {},
   "outputs": [],
   "source": [
    "results"
   ]
  },
  {
   "cell_type": "code",
   "execution_count": null,
   "metadata": {},
   "outputs": [],
   "source": [
    "data"
   ]
  },
  {
   "cell_type": "code",
   "execution_count": null,
   "metadata": {
    "tags": [
     "test"
    ]
   },
   "outputs": [],
   "source": [
    "# print test results if running entire notebook linearly\n",
    "from sklearn.metrics import *\n",
    "\n",
    "if y_label in data.columns and not data[y_label].isnull().values.any():\n",
    "    y_true = data[y_label]\n",
    "    y_pred = results[\"predictions\"]\n",
    "\n",
    "    print(\"mean_squared_error: %.3f\" % mean_squared_error(y_true, y_pred))\n",
    "    print(\"mean_absolute_error: %.3f\" % mean_absolute_error(y_true, y_pred))\n",
    "    print(\"median_absolute_error: %.3f\" % median_absolute_error(y_true, y_pred))\n",
    "    print(\"explained_variance_score: %.3f\\n\" % explained_variance_score(y_true, y_pred))\n",
    "\n",
    "    print(\"row  items   y_true   y_pred  true/pr\")\n",
    "    for i in range(len(data.index)):\n",
    "        items = data.loc[i][\"odt_items_total\"]\n",
    "        print(\"%3d %6d %8.2f %8.2f %8.2f\" % (i, items, y_true[i], y_pred[i], 1-(y_true[i] / y_pred[i])))"
   ]
  }
 ],
 "metadata": {
  "celltoolbar": "Tags",
  "kernelspec": {
   "display_name": "Python 3",
   "language": "python",
   "name": "python3"
  },
  "language_info": {
   "codemirror_mode": {
    "name": "ipython",
    "version": 3
   },
   "file_extension": ".py",
   "mimetype": "text/x-python",
   "name": "python",
   "nbconvert_exporter": "python",
   "pygments_lexer": "ipython3",
   "version": "3.7.3"
  }
 },
 "nbformat": 4,
 "nbformat_minor": 2
}
