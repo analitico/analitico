{
 "cells": [
  {
   "cell_type": "code",
   "execution_count": null,
   "metadata": {
    "tags": [
     "setup"
    ]
   },
   "outputs": [],
   "source": [
    "#1\n",
    "import analitico\n",
    "import analitico.plugin\n",
    "import s24.plugin\n",
    "\n",
    "from analitico.pandas import *\n",
    "\n",
    "import missingno as msno\n",
    "%matplotlib inline\n",
    "\n",
    "import pandas as pd\n",
    "pd.options.display.max_columns = None\n",
    "pd.options.display.max_rows = 40\n",
    "\n",
    "# pass api token to create factory\n",
    "factory = analitico.authorize(\"tok_demo2_xaffg23443d1\")\n",
    "\n",
    "def sample(df):\n",
    "    return df.sample(n=4)\n",
    "\n",
    "import datetime\n",
    "print(datetime.datetime.now())"
   ]
  },
  {
   "cell_type": "code",
   "execution_count": null,
   "metadata": {},
   "outputs": [],
   "source": [
    "factory.get_artifacts_directory()"
   ]
  },
  {
   "cell_type": "code",
   "execution_count": null,
   "metadata": {
    "tags": [
     "parameters"
    ]
   },
   "outputs": [],
   "source": [
    "action = \"train\""
   ]
  },
  {
   "cell_type": "markdown",
   "metadata": {},
   "source": [
    "## Load orders"
   ]
  },
  {
   "cell_type": "code",
   "execution_count": null,
   "metadata": {
    "tags": [
     "plugin"
    ]
   },
   "outputs": [],
   "source": [
    "orders = factory.run_plugin(action=action, settings = {\n",
    "    \"name\": \"analitico.plugin.DatasetSourcePlugin\",\n",
    "    \"dataset_id\": \"ds_s24_order\"\n",
    "})"
   ]
  },
  {
   "cell_type": "code",
   "execution_count": null,
   "metadata": {},
   "outputs": [],
   "source": [
    "sample(orders)"
   ]
  },
  {
   "cell_type": "code",
   "execution_count": null,
   "metadata": {},
   "outputs": [],
   "source": [
    "hist = orders[[\"status\"]].hist(bins=range(0,700,50))"
   ]
  },
  {
   "cell_type": "code",
   "execution_count": null,
   "metadata": {},
   "outputs": [],
   "source": [
    "print(\"Total orders: %d\" % len(orders))\n",
    "orders = orders.loc[orders[\"status\"] >= 400].copy() # only status over 400\n",
    "orders = orders.loc[orders[\"deleted\"] == 0].copy() # not deleted\n",
    "print(\"Valid orders: %d\" % len(orders))\n",
    "sample(orders)"
   ]
  },
  {
   "cell_type": "code",
   "execution_count": null,
   "metadata": {},
   "outputs": [],
   "source": [
    "msno.matrix(orders)"
   ]
  },
  {
   "cell_type": "code",
   "execution_count": null,
   "metadata": {
    "tags": [
     "plugin"
    ]
   },
   "outputs": [],
   "source": [
    "# rename fields and keep only the columns we need\n",
    "orders = factory.run_plugin(orders, action=action, settings = {\n",
    "    \"name\": \"analitico.plugin.TransformDataframePlugin\",\n",
    "    \"schema\": {\n",
    "        \"columns\": [\n",
    "            { \"name\": \"id\", \"rename\": \"order_id\", \"index\": True },\n",
    "            { \"name\": \"amount\", \"rename\": \"order_amount\" },\n",
    "            { \"name\": \"volume\", \"rename\": \"order_volume\" },\n",
    "            { \"name\": \"deliver_at_start\", \"rename\": \"order_deliver_at_start\", \"type\": \"datetime\" },\n",
    "            { \"name\": \"deliver_at_end\", \"rename\": \"order_deliver_at_end\", \"type\": \"datetime\" },\n",
    "            { \"name\": \"paid_at\", \"rename\": \"order_paid_at\" },\n",
    "            { \"name\": \"delivered_at\", \"rename\": \"order_delivered_at\" },\n",
    "            { \"name\": \"fulfillment_type\", \"rename\": \"order_fulfillment_type\", \"type\": \"category\" },\n",
    "            { \"name\": \"store_id\", \"type\": \"category\" },\n",
    "            { \"name\": \"courier_id\", \"type\": \"integer\", \"type\": \"category\" },\n",
    "            { \"name\": \"picker_id\", \"type\": \"category\" },\n",
    "            { \"name\": \"customer_id\", \"type\": \"category\" }\n",
    "        ]\n",
    "    }\n",
    "})"
   ]
  },
  {
   "cell_type": "code",
   "execution_count": null,
   "metadata": {},
   "outputs": [],
   "source": [
    "sample(orders)"
   ]
  },
  {
   "cell_type": "markdown",
   "metadata": {},
   "source": [
    "## Load order details"
   ]
  },
  {
   "cell_type": "code",
   "execution_count": null,
   "metadata": {
    "tags": [
     "plugin"
    ]
   },
   "outputs": [],
   "source": [
    "details = factory.run_plugin(action=action, settings = {\n",
    "    \"name\": \"analitico.plugin.DatasetSourcePlugin\",\n",
    "    \"dataset_id\": \"ds_s24_order_detail\"\n",
    "})"
   ]
  },
  {
   "cell_type": "code",
   "execution_count": null,
   "metadata": {},
   "outputs": [],
   "source": [
    "sample(details)"
   ]
  },
  {
   "cell_type": "code",
   "execution_count": null,
   "metadata": {
    "tags": [
     "debug"
    ]
   },
   "outputs": [],
   "source": [
    "print(\"Total order details: %d\" % len(details))\n",
    "pd_print_nulls(details)"
   ]
  },
  {
   "cell_type": "code",
   "execution_count": null,
   "metadata": {},
   "outputs": [],
   "source": [
    "msno.matrix(details)"
   ]
  },
  {
   "cell_type": "code",
   "execution_count": null,
   "metadata": {
    "tags": [
     "plugin"
    ]
   },
   "outputs": [],
   "source": [
    "# rename order_detail fields to odt_xxx, keep only columns we need\n",
    "details = factory.run_plugin(details, action=action, settings = {\n",
    "    \"name\": \"analitico.plugin.TransformDataframePlugin\",\n",
    "    \"schema\": {\n",
    "        \"columns\": [\n",
    "            { \"name\": \"order_id\" },\n",
    "            { \"name\": \"id\", \"rename\": \"odt_id\", \"type\": \"category\" },\n",
    "            { \"name\": \"ean\", \"rename\": \"odt_ean\", \"type\": \"category\" },\n",
    "            { \"name\": \"name\", \"rename\": \"odt_name\", \"type\": \"category\" },\n",
    "            { \"name\": \"category_id\", \"rename\": \"odt_category_id\", \"type\": \"category\" },\n",
    "            { \"name\": \"replaceable\", \"rename\": \"odt_replaceable\", \"type\": \"category\" },\n",
    "            { \"name\": \"variable_weight\", \"rename\": \"odt_variable_weight\" },\n",
    "            { \"name\": \"price\", \"rename\": \"odt_price\" },\n",
    "            { \"name\": \"price_per_type\", \"rename\": \"odt_price_per_type\" },\n",
    "            { \"name\": \"surcharge_fixed\", \"rename\": \"odt_surcharge_fixed\" },\n",
    "            { \"name\": \"touched_at\", \"rename\": \"odt_touched_at\" },\n",
    "            { \"name\": \"status\", \"rename\": \"odt_status\", \"type\": \"category\" }\n",
    "        ]\n",
    "    }\n",
    "})"
   ]
  },
  {
   "cell_type": "code",
   "execution_count": null,
   "metadata": {
    "tags": [
     "debug"
    ]
   },
   "outputs": [],
   "source": [
    "sample(details)"
   ]
  },
  {
   "cell_type": "code",
   "execution_count": null,
   "metadata": {},
   "outputs": [],
   "source": [
    "details.columns"
   ]
  },
  {
   "cell_type": "markdown",
   "metadata": {},
   "source": [
    "## Aggregate order details"
   ]
  },
  {
   "cell_type": "code",
   "execution_count": null,
   "metadata": {},
   "outputs": [],
   "source": [
    "# count number of items in each order\n",
    "dt1 = details.order_id.value_counts().reset_index(name='odt_items_total')\n",
    "dt1.rename(index=str, columns={\"index\": \"order_id\"}, inplace=True)\n",
    "dt1.set_index(\"order_id\", inplace=True)"
   ]
  },
  {
   "cell_type": "code",
   "execution_count": null,
   "metadata": {},
   "outputs": [],
   "source": [
    "# count number of items with variable weight\n",
    "details_by_order = details.groupby(['order_id'])\n",
    "dt2 = details_by_order['odt_variable_weight'].sum().reset_index(name='odt_items_with_variable_weight')\n",
    "dt2['odt_items_with_variable_weight'] = dt2['odt_items_with_variable_weight'].astype(\"int\")\n",
    "dt2.set_index(\"order_id\", inplace=True)"
   ]
  },
  {
   "cell_type": "code",
   "execution_count": null,
   "metadata": {},
   "outputs": [],
   "source": [
    "# find first and last timestamp\n",
    "details_touched = details.dropna(subset=[\"odt_touched_at\"])\n",
    "details_grouped = details_touched.groupby(['order_id'])\n",
    "\n",
    "dt_first = details_grouped['odt_touched_at'].min().reset_index(name='odt_first_touched_at')\n",
    "dt_first.set_index(\"order_id\", inplace=True)\n",
    "\n",
    "dt_last = details_grouped['odt_touched_at'].max().reset_index(name='odt_last_touched_at')\n",
    "dt_last.set_index(\"order_id\", inplace=True)\n",
    "\n",
    "dt3 = pd.merge(dt_first, dt_last, on=\"order_id\", how=\"outer\")"
   ]
  },
  {
   "cell_type": "code",
   "execution_count": null,
   "metadata": {},
   "outputs": [],
   "source": [
    "# merge it all together\n",
    "aggregates = pd.merge(dt1, dt2, on=\"order_id\", how=\"outer\")\n",
    "aggregates = pd.merge(aggregates, dt3, on=\"order_id\", how=\"outer\")\n",
    "print(\"order detail aggregates: %d\" % len(aggregates))\n",
    "sample(aggregates)\n",
    "\n",
    "aggregates.sort_values(by='order_id', ascending=True, inplace=True)"
   ]
  },
  {
   "cell_type": "code",
   "execution_count": null,
   "metadata": {},
   "outputs": [],
   "source": [
    "print(\"Number of items per order\")\n",
    "hist = aggregates[[\"odt_items_total\"]].hist(bins=range(0,50,1))"
   ]
  },
  {
   "cell_type": "code",
   "execution_count": null,
   "metadata": {},
   "outputs": [],
   "source": [
    "print(\"Number of variable weight items per order\")\n",
    "hist = aggregates[[\"odt_items_with_variable_weight\"]].hist(bins=range(0,20,1))"
   ]
  },
  {
   "cell_type": "markdown",
   "metadata": {},
   "source": [
    "## Load stores"
   ]
  },
  {
   "cell_type": "code",
   "execution_count": null,
   "metadata": {
    "tags": [
     "plugin"
    ]
   },
   "outputs": [],
   "source": [
    "stores = factory.run_plugin(action=action, settings=[\n",
    "    {\n",
    "        \"name\": \"analitico.plugin.DatasetSourcePlugin\",\n",
    "        \"dataset_id\": \"ds_s24_store\"\n",
    "    },\n",
    "    {\n",
    "        \"name\": \"analitico.plugin.TransformDataframePlugin\",\n",
    "        \"schema\": {\n",
    "            \"columns\": [\n",
    "                { \"name\": \"id\", \"rename\": \"store_id\", \"type\": \"category\" },\n",
    "                { \"name\": \"name\", \"rename\": \"store_name\", \"type\": \"category\" },\n",
    "                { \"name\": \"area\", \"rename\": \"store_area\", \"type\": \"category\" },\n",
    "                { \"name\": \"province\", \"rename\": \"store_province\", \"type\": \"category\" },\n",
    "                { \"name\": \"lat\", \"rename\": \"store_lat\" },\n",
    "                { \"name\": \"lng\", \"rename\": \"store_lng\" },\n",
    "                { \"name\": \"ref_id\", \"rename\": \"store_ref_id\", \"type\": \"category\" }\n",
    "            ]\n",
    "        }\n",
    "    }\n",
    "])"
   ]
  },
  {
   "cell_type": "code",
   "execution_count": null,
   "metadata": {
    "tags": [
     "debug"
    ]
   },
   "outputs": [],
   "source": [
    "sample(stores)"
   ]
  },
  {
   "cell_type": "markdown",
   "metadata": {},
   "source": [
    "## Load couriers"
   ]
  },
  {
   "cell_type": "code",
   "execution_count": null,
   "metadata": {
    "tags": [
     "plugin"
    ]
   },
   "outputs": [],
   "source": [
    "couriers = factory.run_plugin(action=action, settings=[\n",
    "    {\n",
    "        \"name\": \"analitico.plugin.DatasetSourcePlugin\",\n",
    "        \"dataset_id\": \"ds_s24_courier\"\n",
    "    },\n",
    "    {\n",
    "        \"name\": \"analitico.plugin.TransformDataframePlugin\",\n",
    "        \"schema\": {\n",
    "            \"columns\": [\n",
    "                { \"name\": \"id\", \"rename\": \"courier_id\", \"index\": True, \"type\": \"category\" },\n",
    "                { \"name\": \"soldo_enabled\", \"rename\": \"courier_soldo_enabled\", \"type\": \"category\" },\n",
    "                { \"name\": \"area\", \"rename\": \"courier_area\", \"type\": \"category\" },\n",
    "                { \"name\": \"orders_taken\", \"rename\": \"courier_orders_taken\" },\n",
    "                { \"name\": \"orders_sent\", \"rename\": \"courier_orders_sent\" },\n",
    "                { \"name\": \"created_at\", \"rename\": \"courier_created_at\", \"type\": \"datetime\" }\n",
    "            ]\n",
    "        }\n",
    "    }\n",
    "])"
   ]
  },
  {
   "cell_type": "code",
   "execution_count": null,
   "metadata": {
    "tags": [
     "debug"
    ]
   },
   "outputs": [],
   "source": [
    "sample(couriers)"
   ]
  },
  {
   "cell_type": "markdown",
   "metadata": {},
   "source": [
    "## Load customers"
   ]
  },
  {
   "cell_type": "code",
   "execution_count": null,
   "metadata": {
    "tags": [
     "plugin"
    ]
   },
   "outputs": [],
   "source": [
    "customers = factory.run_plugin(action=action, settings={\n",
    "    \"name\": \"analitico.plugin.DatasetSourcePlugin\",\n",
    "    \"dataset_id\": \"ds_s24_customer\"\n",
    "})"
   ]
  },
  {
   "cell_type": "code",
   "execution_count": null,
   "metadata": {
    "tags": [
     "debug"
    ]
   },
   "outputs": [],
   "source": [
    "sample(customers)"
   ]
  },
  {
   "cell_type": "code",
   "execution_count": null,
   "metadata": {
    "tags": [
     "plugin"
    ]
   },
   "outputs": [],
   "source": [
    "customers = factory.run_plugin(customers, action=action, settings={\n",
    "    \"name\": \"analitico.plugin.TransformDataframePlugin\",\n",
    "    \"schema\": {\n",
    "        \"columns\": [\n",
    "            { \"name\": \"id\", \"rename\": \"customer_id\", \"type\": \"category\", \"index\": True },\n",
    "            { \"name\": \"province\", \"rename\": \"customer_province\", \"type\": \"category\" },\n",
    "            { \"name\": \"lat\", \"rename\": \"customer_lat\" },\n",
    "            { \"name\": \"lng\", \"rename\": \"customer_lng\" },\n",
    "            { \"name\": \"area\", \"rename\": \"customer_area\", \"type\": \"category\" },\n",
    "            { \"name\": \"ztl\", \"rename\": \"customer_ztl\", \"type\": \"category\" },\n",
    "            { \"name\": \"ref_id\", \"rename\": \"customer_ref_id\", \"type\": \"category\" },\n",
    "            { \"name\": \"created_at\", \"rename\": \"customer_created_at\", \"type\": \"datetime\" }\n",
    "        ]\n",
    "    }\n",
    "})"
   ]
  },
  {
   "cell_type": "code",
   "execution_count": null,
   "metadata": {
    "tags": [
     "debug"
    ]
   },
   "outputs": [],
   "source": [
    "sample(customers)"
   ]
  },
  {
   "cell_type": "markdown",
   "metadata": {},
   "source": [
    "## Merge it all together"
   ]
  },
  {
   "cell_type": "code",
   "execution_count": null,
   "metadata": {},
   "outputs": [],
   "source": [
    "len(orders)"
   ]
  },
  {
   "cell_type": "code",
   "execution_count": null,
   "metadata": {},
   "outputs": [],
   "source": [
    "merged = pd.merge(orders, aggregates, on=\"order_id\", how=\"inner\")\n",
    "print(\"merged details: %d\" % len(merged))\n",
    "\n",
    "merged = pd.merge(merged, stores, on=\"store_id\", how=\"inner\")\n",
    "print(\"merged stores: %d\" % len(merged))\n",
    "\n",
    "#merged = pd.merge(merged, couriers, on=\"courier_id\")\n",
    "merged = pd.merge(merged, customers, on=\"customer_id\", how=\"inner\")\n",
    "print(\"merged customers: %d\" % len(merged))\n",
    "\n",
    "# add courier information using ad hoc plugin\n",
    "plugin = s24.plugin.AugmentCouriersPlugin(factory=factory)\n",
    "merged = plugin.run(merged, action=action)\n",
    "sample(merged)\n",
    "\n",
    "merged.set_index(\"order_id\", inplace=True)\n",
    "merged.sort_values(by='order_id', ascending=True, inplace=True)\n",
    "\n",
    "len(merged)"
   ]
  },
  {
   "cell_type": "code",
   "execution_count": null,
   "metadata": {
    "tags": [
     "debug"
    ]
   },
   "outputs": [],
   "source": [
    "sample(merged)\n",
    "#merged.tail(100)"
   ]
  },
  {
   "cell_type": "markdown",
   "metadata": {},
   "source": [
    "## Calculate pick, pay and delivery times"
   ]
  },
  {
   "cell_type": "code",
   "execution_count": null,
   "metadata": {},
   "outputs": [],
   "source": [
    "def pd_cast_datetime(df, column):\n",
    "    \"\"\" Casts a string column to a date column, assumes format is recognizable \"\"\"\n",
    "    df[column] = pd.to_datetime(df[column], infer_datetime_format=True, errors='coerce')\n",
    "\n",
    "def pd_timediff_min(df, column_start, column_end, column_diff):\n",
    "    \"\"\" Creates column with difference between times in minutes \"\"\"\n",
    "    pd_cast_datetime(df, column_start)\n",
    "    pd_cast_datetime(df, column_end)\n",
    "    df[column_diff] = df[column_end] - df[column_start]\n",
    "    df[column_diff] = (df[column_diff].dt.total_seconds() / 60.0)"
   ]
  },
  {
   "cell_type": "code",
   "execution_count": null,
   "metadata": {},
   "outputs": [],
   "source": [
    "pd_cast_datetime(merged, \"odt_first_touched_at\")\n",
    "pd_cast_datetime(merged, \"odt_last_touched_at\")\n",
    "pd_cast_datetime(merged, \"order_paid_at\")\n",
    "pd_cast_datetime(merged, \"order_delivered_at\")\n",
    "pd_cast_datetime(merged, \"order_delivered_at\")\n",
    "\n",
    "# calculate time for picking, paying and delivering order\n",
    "pd_timediff_min(merged, \"odt_first_touched_at\", \"odt_last_touched_at\", \"pick_time.min\")\n",
    "pd_timediff_min(merged, \"odt_last_touched_at\", \"order_paid_at\", \"pay_time.min\")\n",
    "pd_timediff_min(merged, \"order_paid_at\", \"order_delivered_at\", \"deliver_time.min\")"
   ]
  },
  {
   "cell_type": "code",
   "execution_count": null,
   "metadata": {
    "tags": [
     "debug"
    ]
   },
   "outputs": [],
   "source": [
    "sample(merged)"
   ]
  },
  {
   "cell_type": "markdown",
   "metadata": {},
   "source": [
    "## Save data, schema and samples"
   ]
  },
  {
   "cell_type": "code",
   "execution_count": null,
   "metadata": {},
   "outputs": [],
   "source": [
    "analitico.pandas.pd_to_csv(merged, \"data.csv\", schema=True, samples=500)"
   ]
  },
  {
   "cell_type": "code",
   "execution_count": null,
   "metadata": {},
   "outputs": [],
   "source": [
    "len(merged)"
   ]
  },
  {
   "cell_type": "code",
   "execution_count": null,
   "metadata": {},
   "outputs": [],
   "source": [
    "msno.matrix(merged)"
   ]
  },
  {
   "cell_type": "code",
   "execution_count": null,
   "metadata": {},
   "outputs": [],
   "source": [
    "merged.dtypes"
   ]
  },
  {
   "cell_type": "code",
   "execution_count": null,
   "metadata": {},
   "outputs": [],
   "source": [
    "pd_print_nulls(merged)"
   ]
  }
 ],
 "metadata": {
  "celltoolbar": "Tags",
  "kernelspec": {
   "display_name": "Python 3",
   "language": "python",
   "name": "python3"
  },
  "language_info": {
   "codemirror_mode": {
    "name": "ipython",
    "version": 3
   },
   "file_extension": ".py",
   "mimetype": "text/x-python",
   "name": "python",
   "nbconvert_exporter": "python",
   "pygments_lexer": "ipython3",
   "version": "3.7.3"
  },
  "nteract": {
   "version": "nteract-on-jupyter@2.0.7"
  }
 },
 "nbformat": 4,
 "nbformat_minor": 2
}
