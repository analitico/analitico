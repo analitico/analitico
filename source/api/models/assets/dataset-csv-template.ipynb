{
 "cells": [
  {
   "cell_type": "markdown",
   "metadata": {},
   "source": [
    "## CSV Dataset template\n",
    "### v4"
   ]
  },
  {
   "cell_type": "code",
   "execution_count": null,
   "metadata": {
    "tags": [
     "setup"
    ]
   },
   "outputs": [],
   "source": [
    "import analitico\n",
    "import pandas as pd\n",
    "pd.options.display.max_columns = None\n",
    "pd.options.display.max_rows = 10\n",
    "\n",
    "# pass api token to create factory\n",
    "factory = analitico.authorize(\"tok_demo1_croJ7gVp4cW9\")\n",
    "\n",
    "import datetime\n",
    "print(datetime.datetime.now())"
   ]
  },
  {
   "cell_type": "code",
   "execution_count": null,
   "metadata": {
    "tags": [
     "dataset_url"
    ]
   },
   "outputs": [],
   "source": [
    "# variable is filled at runtime\n",
    "dataset_url = None"
   ]
  },
  {
   "cell_type": "code",
   "execution_count": null,
   "metadata": {
    "tags": [
     "dataset_schema"
    ]
   },
   "outputs": [],
   "source": [
    "# variable is filled at runtime\n",
    "dataset_schema = None"
   ]
  },
  {
   "cell_type": "code",
   "execution_count": null,
   "metadata": {},
   "outputs": [],
   "source": [
    "df = factory.run_plugin(settings = {\n",
    "    \"name\": \"analitico.plugin.CsvDataframeSourcePlugin\",\n",
    "    \"source\": {\n",
    "        \"content_type\": \"text/csv\",\n",
    "        \"url\": dataset_url\n",
    "    }\n",
    "})\n",
    "df"
   ]
  },
  {
   "cell_type": "code",
   "execution_count": null,
   "metadata": {},
   "outputs": [],
   "source": [
    "if dataset_schema:\n",
    "    df = factory.run_plugin(df, settings = {\n",
    "        \"name\": \"analitico.plugin.TransformDataframePlugin\",\n",
    "        \"schema\": dataset_schema\n",
    "    })\n",
    "    df"
   ]
  },
  {
   "cell_type": "code",
   "execution_count": null,
   "metadata": {},
   "outputs": [],
   "source": [
    "# save to data.csv for data and data.csv.info for schema\n",
    "analitico.pandas.pd_to_csv(df, \"data.csv\", schema=True)"
   ]
  }
 ],
 "metadata": {
  "celltoolbar": "Tags",
  "kernelspec": {
   "display_name": "Python 3",
   "language": "python",
   "name": "python3"
  },
  "language_info": {
   "codemirror_mode": {
    "name": "ipython",
    "version": 3
   },
   "file_extension": ".py",
   "mimetype": "text/x-python",
   "name": "python",
   "nbconvert_exporter": "python",
   "pygments_lexer": "ipython3",
   "version": "3.7.3"
  },
  "nteract": {
   "version": "nteract-on-jupyter@2.0.7"
  }
 },
 "nbformat": 4,
 "nbformat_minor": 2
}
