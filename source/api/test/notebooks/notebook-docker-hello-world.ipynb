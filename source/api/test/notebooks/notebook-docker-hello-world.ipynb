{
 "cells": [
  {
   "cell_type": "code",
   "execution_count": 2,
   "metadata": {
    "tags": [
     "serverless"
    ]
   },
   "outputs": [],
   "source": [
    "def handle(event, **kwargs):\n",
    "    return \"Hello Analitico\"\n",
    "\n",
    "def bless(model_id: str, metrics: dict, blessed_model_id: str, blessed_metrics: dict) -> bool:\n",
    "    # for testing, we consider better the last model\n",
    "    return True"
   ]
  }
 ],
 "metadata": {
  "celltoolbar": "Tags",
  "kernelspec": {
   "display_name": "Python 3",
   "language": "python",
   "name": "python3"
  },
  "language_info": {
   "codemirror_mode": {
    "name": "ipython",
    "version": 3
   },
   "file_extension": ".py",
   "mimetype": "text/x-python",
   "name": "python",
   "nbconvert_exporter": "python",
   "pygments_lexer": "ipython3",
   "version": "3.7.3"
  }
 },
 "nbformat": 4,
 "nbformat_minor": 2
}