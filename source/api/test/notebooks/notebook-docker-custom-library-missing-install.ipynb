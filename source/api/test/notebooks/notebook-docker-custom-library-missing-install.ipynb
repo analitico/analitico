{
 "cells": [
  {
   "cell_type": "code",
   "execution_count": null,
   "metadata": {
    "tags": [
     "serverless"
    ]
   },
   "outputs": [],
   "source": [
    "# In this notebook we use a fairly unknown library which is NOT installed\n",
    "# in our base docker. We need to install it using pip so the test will prove\n",
    "# if the runtime installed the external dependency correctly.\n",
    "\n",
    "# OOPS, we forgot to install the library\n",
    "# let's not crash and burn but try to fail gracefully\n",
    "# pip install fuzzywuzzy"
   ]
  },
  {
   "cell_type": "code",
   "execution_count": null,
   "metadata": {
    "tags": [
     "serverless"
    ]
   },
   "outputs": [],
   "source": [
    "from fuzzywuzzy import fuzz\n",
    "\n",
    "def handle(event, **kwargs):\n",
    "    ratio = fuzz.ratio(\"Hit me with your best shot\", \"Hit me with your pet shark\")\n",
    "    return f\"Hello fuzz: {ratio}\""
   ]
  },
  {
   "cell_type": "code",
   "execution_count": null,
   "metadata": {},
   "outputs": [],
   "source": [
    "handle(None)"
   ]
  }
 ],
 "metadata": {
  "celltoolbar": "Tags",
  "kernelspec": {
   "display_name": "Python 3",
   "language": "python",
   "name": "python3"
  },
  "language_info": {
   "codemirror_mode": {
    "name": "ipython",
    "version": 3
   },
   "file_extension": ".py",
   "mimetype": "text/x-python",
   "name": "python",
   "nbconvert_exporter": "python",
   "pygments_lexer": "ipython3",
   "version": "3.7.3"
  }
 },
 "nbformat": 4,
 "nbformat_minor": 2
}
