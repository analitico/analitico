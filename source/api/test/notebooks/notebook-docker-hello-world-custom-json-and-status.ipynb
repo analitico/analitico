{
 "cells": [
  {
   "cell_type": "code",
   "execution_count": 2,
   "metadata": {
    "tags": [
     "serverless"
    ]
   },
   "outputs": [],
   "source": [
    "def handle(event, **kwargs):\n",
    "    # return a string which is already in json format\n",
    "    # and use a specific http status code, return Birgün\n",
    "    # to make sure we are encoding as UTF-8\n",
    "    return {\n",
    "        \"status\": 201,\n",
    "        \"body\": '{ \"custom\": \"Hello Birgün\" }'\n",
    "    }\n"
   ]
  }
 ],
 "metadata": {
  "celltoolbar": "Tags",
  "kernelspec": {
   "display_name": "Python 3",
   "language": "python",
   "name": "python3"
  },
  "language_info": {
   "codemirror_mode": {
    "name": "ipython",
    "version": 3
   },
   "file_extension": ".py",
   "mimetype": "text/x-python",
   "name": "python",
   "nbconvert_exporter": "python",
   "pygments_lexer": "ipython3",
   "version": "3.7.3"
  }
 },
 "nbformat": 4,
 "nbformat_minor": 2
}
