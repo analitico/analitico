{
 "cells": [
  {
   "cell_type": "code",
   "execution_count": 1,
   "metadata": {
    "papermill": {
     "duration": 1.252066,
     "end_time": "2019-07-09T14:36:07.626748",
     "exception": false,
     "start_time": "2019-07-09T14:36:06.374682",
     "status": "completed"
    },
    "tags": []
   },
   "outputs": [
    {
     "name": "stdout",
     "output_type": "stream",
     "text": [
      "Requirement already satisfied: moment in /Users/gionata/github/analitico/venv/lib/python3.7/site-packages (0.8.2)\r\n",
      "Requirement already satisfied: dateparser>=0.6 in /Users/gionata/github/analitico/venv/lib/python3.7/site-packages (from moment) (0.7.1)\r\n",
      "Requirement already satisfied: pytz>=2017.2 in /Users/gionata/github/analitico/venv/lib/python3.7/site-packages (from moment) (2018.9)\r\n",
      "Requirement already satisfied: times in /Users/gionata/github/analitico/venv/lib/python3.7/site-packages (from moment) (0.7)\r\n",
      "Requirement already satisfied: regex in /Users/gionata/github/analitico/venv/lib/python3.7/site-packages (from dateparser>=0.6->moment) (2019.6.8)\r\n",
      "Requirement already satisfied: python-dateutil in /Users/gionata/github/analitico/venv/lib/python3.7/site-packages (from dateparser>=0.6->moment) (2.7.5)\r\n",
      "Requirement already satisfied: tzlocal in /Users/gionata/github/analitico/venv/lib/python3.7/site-packages (from dateparser>=0.6->moment) (1.5.1)\r\n",
      "Requirement already satisfied: arrow in /Users/gionata/github/analitico/venv/lib/python3.7/site-packages (from times->moment) (0.14.2)\r\n",
      "Requirement already satisfied: six>=1.5 in /Users/gionata/github/analitico/venv/lib/python3.7/site-packages (from python-dateutil->dateparser>=0.6->moment) (1.12.0)\r\n"
     ]
    },
    {
     "name": "stdout",
     "output_type": "stream",
     "text": [
      "\u001b[33mYou are using pip version 19.0.3, however version 19.1.1 is available.\r\n",
      "You should consider upgrading via the 'pip install --upgrade pip' command.\u001b[0m\r\n"
     ]
    }
   ],
   "source": [
    "!pip install moment\n",
    "import pandas as pd\n",
    "import numpy as np"
   ]
  },
  {
   "cell_type": "code",
   "execution_count": 2,
   "metadata": {
    "papermill": {
     "duration": 0.023844,
     "end_time": "2019-07-09T14:36:07.663318",
     "exception": false,
     "start_time": "2019-07-09T14:36:07.639474",
     "status": "completed"
    },
    "tags": [
     "serverless",
     "deploy",
     "prediction"
    ]
   },
   "outputs": [],
   "source": [
    "# predict\n",
    "calls = 0"
   ]
  },
  {
   "cell_type": "code",
   "execution_count": 3,
   "metadata": {
    "papermill": {
     "duration": 0.022397,
     "end_time": "2019-07-09T14:36:07.698861",
     "exception": false,
     "start_time": "2019-07-09T14:36:07.676464",
     "status": "completed"
    },
    "tags": [
     "serverless",
     "deploy",
     "prediction"
    ]
   },
   "outputs": [],
   "source": [
    "# predict\n",
    "def handle(event, **kwargs):\n",
    "    global calls\n",
    "    calls += 1\n",
    "    event[\"calls\"] = calls # add number of calls\n",
    "    \n",
    "    response = {\n",
    "        \"statusCode\": 200,\n",
    "        \"body\": event\n",
    "    }\n",
    "    return response"
   ]
  },
  {
   "cell_type": "code",
   "execution_count": 4,
   "metadata": {
    "papermill": {
     "duration": 0.026479,
     "end_time": "2019-07-09T14:36:07.738006",
     "exception": false,
     "start_time": "2019-07-09T14:36:07.711527",
     "status": "completed"
    },
    "tags": []
   },
   "outputs": [
    {
     "data": {
      "text/plain": [
       "{'statusCode': 200, 'body': {'key1': 'value1', 'calls': 1}}"
      ]
     },
     "execution_count": 4,
     "metadata": {},
     "output_type": "execute_result"
    }
   ],
   "source": [
    "handle({ \"key1\": \"value1\" })"
   ]
  }
 ],
 "metadata": {
  "celltoolbar": "Tags",
  "kernelspec": {
   "display_name": "Python 3",
   "language": "python",
   "name": "python3"
  },
  "language_info": {
   "codemirror_mode": {
    "name": "ipython",
    "version": 3
   },
   "file_extension": ".py",
   "mimetype": "text/x-python",
   "name": "python",
   "nbconvert_exporter": "python",
   "pygments_lexer": "ipython3",
   "version": "3.7.3"
  },
  "papermill": {
   "duration": 2.384973,
   "end_time": "2019-07-09T14:36:08.124465",
   "environment_variables": {},
   "exception": null,
   "input_path": "/Users/gionata/github/analitico/serverless/templates/job/notebook.ipynb",
   "output_path": "/Users/gionata/github/analitico/serverless/templates/job/notebook.ipynb",
   "parameters": {},
   "start_time": "2019-07-09T14:36:05.739492",
   "version": "1.0.0"
  }
 },
 "nbformat": 4,
 "nbformat_minor": 2
}