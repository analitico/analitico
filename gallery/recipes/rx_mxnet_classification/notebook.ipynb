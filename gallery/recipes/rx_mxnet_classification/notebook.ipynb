{
 "cells": [
  {
   "cell_type": "markdown",
   "metadata": {
    "colab_type": "text",
    "id": "RNGwNhZFYDhE",
    "papermill": {
     "duration": 0.01341,
     "end_time": "2019-08-14T14:33:04.438029",
     "exception": false,
     "start_time": "2019-08-14T14:33:04.424619",
     "status": "completed"
    },
    "tags": []
   },
   "source": [
    "# Serverless Example\n",
    "## MXNet-Gluon [CLASSIFICATION]"
   ]
  },
  {
   "cell_type": "markdown",
   "metadata": {
    "colab_type": "text",
    "id": "NqWvcF2p5XWQ",
    "papermill": {
     "duration": 0.011285,
     "end_time": "2019-08-14T14:33:04.460936",
     "exception": false,
     "start_time": "2019-08-14T14:33:04.449651",
     "status": "completed"
    },
    "tags": []
   },
   "source": [
    "## Setup"
   ]
  },
  {
   "cell_type": "code",
   "execution_count": 1,
   "metadata": {
    "colab": {
     "base_uri": "https://localhost:8080/",
     "height": 153
    },
    "colab_type": "code",
    "executionInfo": {
     "elapsed": 5161,
     "status": "ok",
     "timestamp": 1563133608738,
     "user": {
      "displayName": "Fabio Mardero",
      "photoUrl": "",
      "userId": "01769998706955373091"
     },
     "user_tz": -120
    },
    "id": "XEOXLqSyT2Ap",
    "outputId": "c06b2cbf-1c25-4647-d46a-9db915d355c8",
    "papermill": {
     "duration": 3.0785,
     "end_time": "2019-08-14T14:33:07.550581",
     "exception": false,
     "start_time": "2019-08-14T14:33:04.472081",
     "status": "completed"
    },
    "tags": []
   },
   "outputs": [],
   "source": [
    "# Install some dependencies\n",
    "!pip install mxnet --quiet\n",
    "\n",
    "\n",
    "import time\n",
    "import logging\n",
    "import numpy as np\n",
    "import pandas as pd\n",
    "import mxnet as mx\n",
    "from mxnet import gluon, autograd\n",
    "from sklearn import datasets\n",
    "from sklearn.model_selection import train_test_split\n",
    "\n",
    "# Specify the ConTeXt (CPU or GPU)\n",
    "ctx = mx.gpu() if mx.test_utils.list_gpus() else mx.cpu()"
   ]
  },
  {
   "cell_type": "markdown",
   "metadata": {
    "colab_type": "text",
    "id": "lSK1CO-O_IdH",
    "papermill": {
     "duration": 0.015691,
     "end_time": "2019-08-14T14:33:07.578303",
     "exception": false,
     "start_time": "2019-08-14T14:33:07.562612",
     "status": "completed"
    },
    "tags": []
   },
   "source": [
    "### Load Database"
   ]
  },
  {
   "cell_type": "code",
   "execution_count": 2,
   "metadata": {
    "colab": {},
    "colab_type": "code",
    "id": "Ja3-ZEDT7kFL",
    "papermill": {
     "duration": 0.025987,
     "end_time": "2019-08-14T14:33:07.618423",
     "exception": false,
     "start_time": "2019-08-14T14:33:07.592436",
     "status": "completed"
    },
    "tags": []
   },
   "outputs": [],
   "source": [
    "iris = datasets.load_iris()\n",
    "\n",
    "X = iris.data\n",
    "y = iris.target.reshape((-1, 1))"
   ]
  },
  {
   "cell_type": "markdown",
   "metadata": {
    "colab_type": "text",
    "id": "1N71slD65Eu4",
    "papermill": {
     "duration": 0.016524,
     "end_time": "2019-08-14T14:33:07.656272",
     "exception": false,
     "start_time": "2019-08-14T14:33:07.639748",
     "status": "completed"
    },
    "tags": []
   },
   "source": [
    "## Training Process"
   ]
  },
  {
   "cell_type": "markdown",
   "metadata": {
    "colab_type": "text",
    "id": "tn50X6xw5IxJ",
    "papermill": {
     "duration": 0.012973,
     "end_time": "2019-08-14T14:33:07.695080",
     "exception": false,
     "start_time": "2019-08-14T14:33:07.682107",
     "status": "completed"
    },
    "tags": []
   },
   "source": [
    "### DataLoaders definition\n",
    "Data Loader is a client function for the bulk import of data. It reads the contentent and divides it in batches. We divide the dataset into training e validation sets."
   ]
  },
  {
   "cell_type": "code",
   "execution_count": 3,
   "metadata": {
    "colab": {
     "base_uri": "https://localhost:8080/",
     "height": 51
    },
    "colab_type": "code",
    "executionInfo": {
     "elapsed": 5137,
     "status": "ok",
     "timestamp": 1563133608748,
     "user": {
      "displayName": "Fabio Mardero",
      "photoUrl": "",
      "userId": "01769998706955373091"
     },
     "user_tz": -120
    },
    "id": "r0dWCplEjt-8",
    "outputId": "dcf3a192-172c-46da-b2a9-c2345773fe7a",
    "papermill": {
     "duration": 0.150337,
     "end_time": "2019-08-14T14:33:07.857742",
     "exception": false,
     "start_time": "2019-08-14T14:33:07.707405",
     "status": "completed"
    },
    "tags": []
   },
   "outputs": [
    {
     "name": "stdout",
     "output_type": "stream",
     "text": [
      "Training examples    :   120\n",
      "Validation examples  :    30\n"
     ]
    }
   ],
   "source": [
    "BATCH_SIZE = 8\n",
    "\n",
    "X_train, X_valid, y_train, y_valid = train_test_split(X, y, test_size=0.2)\n",
    "print('Training examples    : {:5d}'.format(len(X_train)))\n",
    "print('Validation examples  : {:5d}'.format(len(X_valid)))\n",
    "\n",
    "train_ds = mx.gluon.data.DataLoader(mx.gluon.data.dataset.ArrayDataset(mx.nd.array(X_train), \n",
    "                                                                       mx.nd.array(y_train)),\n",
    "                                    batch_size=BATCH_SIZE, \n",
    "                                    shuffle=True)\n",
    "\n",
    "valid_ds = mx.gluon.data.DataLoader(mx.gluon.data.dataset.ArrayDataset(mx.nd.array(X_valid), \n",
    "                                                                       mx.nd.array(y_valid)),\n",
    "                                    batch_size=BATCH_SIZE, \n",
    "                                    shuffle=False)"
   ]
  },
  {
   "cell_type": "markdown",
   "metadata": {
    "colab_type": "text",
    "id": "1mHw7MnCo4tf",
    "papermill": {
     "duration": 0.011757,
     "end_time": "2019-08-14T14:33:07.881284",
     "exception": false,
     "start_time": "2019-08-14T14:33:07.869527",
     "status": "completed"
    },
    "tags": []
   },
   "source": [
    "### Model Definition\n",
    "We define a simple neural network. The HybtidBlock is the fastest method for difining and train the network; it also allows to save the entire computational graph. With MXNet we don't need to specify the input size (it is inferred during the first call of the net)."
   ]
  },
  {
   "cell_type": "code",
   "execution_count": 4,
   "metadata": {
    "colab": {},
    "colab_type": "code",
    "id": "ddyvSCrbYRa9",
    "papermill": {
     "duration": 0.054377,
     "end_time": "2019-08-14T14:33:07.947628",
     "exception": false,
     "start_time": "2019-08-14T14:33:07.893251",
     "status": "completed"
    },
    "tags": []
   },
   "outputs": [],
   "source": [
    "class Net(gluon.HybridBlock):\n",
    "    def __init__(self, **kwargs):\n",
    "        super(Net, self).__init__(**kwargs)\n",
    "        with self.name_scope():\n",
    "            self.fc1 = gluon.nn.Dense(5)\n",
    "            self.fc2 = gluon.nn.Dense(4)\n",
    "            self.fc3 = gluon.nn.Dense(3)\n",
    "\n",
    "    def hybrid_forward(self, F, x):\n",
    "        # F is a function space that depends on the type of x\n",
    "        \n",
    "        # Input size is inferred from the first computing\n",
    "        x = F.relu(self.fc1(x))\n",
    "        x = F.relu(self.fc2(x))\n",
    "        \n",
    "        # No need of softmax because it is in the loss function\n",
    "        return self.fc3(x)"
   ]
  },
  {
   "cell_type": "markdown",
   "metadata": {
    "colab_type": "text",
    "id": "wFISVtWw6Uxz",
    "papermill": {
     "duration": 0.01135,
     "end_time": "2019-08-14T14:33:07.971152",
     "exception": false,
     "start_time": "2019-08-14T14:33:07.959802",
     "status": "completed"
    },
    "tags": []
   },
   "source": [
    "MXNet requires the parameters initialization and the \"hybridize\" call before training the network."
   ]
  },
  {
   "cell_type": "code",
   "execution_count": 5,
   "metadata": {
    "colab": {},
    "colab_type": "code",
    "id": "grFBmZ4Eh0bc",
    "papermill": {
     "duration": 0.090675,
     "end_time": "2019-08-14T14:33:08.073157",
     "exception": false,
     "start_time": "2019-08-14T14:33:07.982482",
     "status": "completed"
    },
    "tags": []
   },
   "outputs": [],
   "source": [
    "model = Net()\n",
    "model.collect_params().initialize(ctx=ctx)\n",
    "model.hybridize()\n",
    "\n",
    "softmax_cross_entropy = gluon.loss.SoftmaxCrossEntropyLoss()\n",
    "optimizer = gluon.Trainer(model.collect_params(), 'adam', {'learning_rate': 0.01})"
   ]
  },
  {
   "cell_type": "markdown",
   "metadata": {
    "colab_type": "text",
    "id": "43Rksdr84_0D",
    "papermill": {
     "duration": 0.011394,
     "end_time": "2019-08-14T14:33:08.097033",
     "exception": false,
     "start_time": "2019-08-14T14:33:08.085639",
     "status": "completed"
    },
    "tags": []
   },
   "source": [
    "### Training\n",
    "The model will give bad performances due to the lack of normalization of the inputs."
   ]
  },
  {
   "cell_type": "code",
   "execution_count": 6,
   "metadata": {
    "colab": {},
    "colab_type": "code",
    "id": "EcImySOZvMUA",
    "papermill": {
     "duration": 0.104487,
     "end_time": "2019-08-14T14:33:08.212820",
     "exception": false,
     "start_time": "2019-08-14T14:33:08.108333",
     "status": "completed"
    },
    "tags": []
   },
   "outputs": [],
   "source": [
    "# Evaluation metric\n",
    "# It is calculated as the mean \n",
    "# of the metric through the batch\n",
    "\n",
    "def eval(data_loader, model):\n",
    "    # Cumulative loss\n",
    "    cum_loss = 0\n",
    "    num_examples = 0\n",
    "    \n",
    "    for data, label in data_loader:\n",
    "        data = data.as_in_context(ctx)\n",
    "        label = label.as_in_context(ctx)\n",
    "        num_examples += data.shape[0]\n",
    "        \n",
    "        y_pred = model(data)\n",
    "        loss = softmax_cross_entropy(y_pred, label)\n",
    "        cum_loss += mx.nd.sum(loss).asscalar()\n",
    "    return cum_loss/num_examples"
   ]
  },
  {
   "cell_type": "code",
   "execution_count": 7,
   "metadata": {
    "colab": {
     "base_uri": "https://localhost:8080/",
     "height": 187
    },
    "colab_type": "code",
    "executionInfo": {
     "elapsed": 5637,
     "status": "ok",
     "timestamp": 1563133609307,
     "user": {
      "displayName": "Fabio Mardero",
      "photoUrl": "",
      "userId": "01769998706955373091"
     },
     "user_tz": -120
    },
    "id": "QGMbsHi2mQVz",
    "outputId": "d4c92eaf-f8fc-4cc5-c049-2e46fcc6e9dd",
    "papermill": {
     "duration": 0.398998,
     "end_time": "2019-08-14T14:33:08.624464",
     "exception": false,
     "start_time": "2019-08-14T14:33:08.225466",
     "status": "completed"
    },
    "tags": []
   },
   "outputs": [
    {
     "name": "stdout",
     "output_type": "stream",
     "text": [
      "Epoch   1 [0.05 sec] - Training Loss: 1.0813 - Validation Loss: 1.0808\n",
      "Epoch   2 [0.02 sec] - Training Loss: 0.9336 - Validation Loss: 0.9266\n",
      "Epoch   3 [0.02 sec] - Training Loss: 0.6107 - Validation Loss: 0.5890\n",
      "Epoch   4 [0.03 sec] - Training Loss: 0.4329 - Validation Loss: 0.4144\n",
      "Epoch   5 [0.03 sec] - Training Loss: 0.3614 - Validation Loss: 0.3156\n",
      "Epoch   6 [0.03 sec] - Training Loss: 0.2420 - Validation Loss: 0.2055\n",
      "Epoch   7 [0.03 sec] - Training Loss: 0.1909 - Validation Loss: 0.1557\n",
      "Epoch   8 [0.03 sec] - Training Loss: 0.3079 - Validation Loss: 0.1858\n"
     ]
    },
    {
     "name": "stdout",
     "output_type": "stream",
     "text": [
      "Epoch   9 [0.03 sec] - Training Loss: 0.1528 - Validation Loss: 0.1033\n",
      "Epoch  10 [0.05 sec] - Training Loss: 0.1258 - Validation Loss: 0.0894\n"
     ]
    }
   ],
   "source": [
    "EPOCHS = 10\n",
    "MODEL_PATH = 'model'\n",
    "\n",
    "train_loss = []    \n",
    "valid_loss = []\n",
    "\n",
    "# Time to train\n",
    "for e in range(EPOCHS):\n",
    "    tick = time.time()\n",
    "    \n",
    "    # Batch training\n",
    "    for data, label in train_ds:\n",
    "        data = data.as_in_context(ctx)\n",
    "        label = label.as_in_context(ctx)\n",
    "\n",
    "        # Backpropagation\n",
    "        with autograd.record():\n",
    "            y_pred = model(data)\n",
    "            loss = softmax_cross_entropy(y_pred, label)\n",
    "        loss.backward()\n",
    "        optimizer.step(data.shape[0])\n",
    "\n",
    "    # Training metrics\n",
    "    train_loss.append(eval(train_ds, model))\n",
    "    \n",
    "    # Validation metrics\n",
    "    valid_loss.append(eval(valid_ds, model))\n",
    "    \n",
    "    print('Epoch {:3d} [{:.2f} sec] - Training Loss: {:.4f} - Validation Loss: {:.4f}'.format(e+1, time.time()-tick, train_loss[e], valid_loss[e]))"
   ]
  },
  {
   "cell_type": "markdown",
   "metadata": {
    "colab_type": "text",
    "id": "YxWwh66w5Pea",
    "papermill": {
     "duration": 0.011514,
     "end_time": "2019-08-14T14:33:08.652403",
     "exception": false,
     "start_time": "2019-08-14T14:33:08.640889",
     "status": "completed"
    },
    "tags": []
   },
   "source": [
    "### Save Model"
   ]
  },
  {
   "cell_type": "code",
   "execution_count": 8,
   "metadata": {
    "colab": {
     "base_uri": "https://localhost:8080/",
     "height": 34
    },
    "colab_type": "code",
    "executionInfo": {
     "elapsed": 5626,
     "status": "ok",
     "timestamp": 1563133609309,
     "user": {
      "displayName": "Fabio Mardero",
      "photoUrl": "",
      "userId": "01769998706955373091"
     },
     "user_tz": -120
    },
    "id": "5KITNQPAz9uH",
    "outputId": "1617bfdf-912b-4f0c-cc4c-e4f89a2236c2",
    "papermill": {
     "duration": 0.030833,
     "end_time": "2019-08-14T14:33:08.705859",
     "exception": false,
     "start_time": "2019-08-14T14:33:08.675026",
     "status": "completed"
    },
    "tags": []
   },
   "outputs": [
    {
     "name": "stdout",
     "output_type": "stream",
     "text": [
      "Best epoch : 9\n"
     ]
    }
   ],
   "source": [
    "# Save the best model retrieving the \"best epoch\"\n",
    "best_epoch = valid_loss.index(min(valid_loss))\n",
    "model.export(MODEL_PATH, epoch=best_epoch)\n",
    "print(f'Best epoch : {best_epoch}')"
   ]
  },
  {
   "cell_type": "markdown",
   "metadata": {
    "colab_type": "text",
    "id": "GQoRvmU25R7R",
    "papermill": {
     "duration": 0.012137,
     "end_time": "2019-08-14T14:33:08.730807",
     "exception": false,
     "start_time": "2019-08-14T14:33:08.718670",
     "status": "completed"
    },
    "tags": []
   },
   "source": [
    "## Testing Process\n",
    "We simulate a test phase in which we only have a trained model saved in the current directory."
   ]
  },
  {
   "cell_type": "markdown",
   "metadata": {
    "colab_type": "text",
    "id": "XdM_vArrFMA5",
    "papermill": {
     "duration": 0.012093,
     "end_time": "2019-08-14T14:33:08.755187",
     "exception": false,
     "start_time": "2019-08-14T14:33:08.743094",
     "status": "completed"
    },
    "tags": []
   },
   "source": [
    "### Blank Paper"
   ]
  },
  {
   "cell_type": "code",
   "execution_count": 9,
   "metadata": {
    "colab": {},
    "colab_type": "code",
    "id": "y0rRfJNeFHyx",
    "papermill": {
     "duration": 0.02313,
     "end_time": "2019-08-14T14:33:08.790651",
     "exception": false,
     "start_time": "2019-08-14T14:33:08.767521",
     "status": "completed"
    },
    "tags": []
   },
   "outputs": [],
   "source": [
    "# Lets put us in blank paper condition\n",
    "del model"
   ]
  },
  {
   "cell_type": "markdown",
   "metadata": {
    "colab_type": "text",
    "id": "2ZdD2l2XeSFf",
    "papermill": {
     "duration": 0.015708,
     "end_time": "2019-08-14T14:33:08.818681",
     "exception": false,
     "start_time": "2019-08-14T14:33:08.802973",
     "status": "completed"
    },
    "tags": []
   },
   "source": [
    "### Prediction\n",
    "Load the model and simulate to predict the whole iris dataset."
   ]
  },
  {
   "cell_type": "code",
   "execution_count": 10,
   "metadata": {
    "colab": {
     "base_uri": "https://localhost:8080/",
     "height": 105
    },
    "colab_type": "code",
    "executionInfo": {
     "elapsed": 5606,
     "status": "ok",
     "timestamp": 1563133609315,
     "user": {
      "displayName": "Fabio Mardero",
      "photoUrl": "",
      "userId": "01769998706955373091"
     },
     "user_tz": -120
    },
    "id": "vJOQxX36FHce",
    "outputId": "8433c601-a79d-4a3d-e7c4-3bb4450b24bf",
    "papermill": {
     "duration": 0.190026,
     "end_time": "2019-08-14T14:33:09.021161",
     "exception": false,
     "start_time": "2019-08-14T14:33:08.831135",
     "status": "completed"
    },
    "tags": []
   },
   "outputs": [
    {
     "name": "stderr",
     "output_type": "stream",
     "text": [
      "/opt/conda/lib/python3.7/site-packages/ipykernel_launcher.py:7: FutureWarning: elementwise comparison failed; returning scalar instead, but in the future will perform elementwise comparison\n",
      "  import sys\n",
      "/opt/conda/lib/python3.7/site-packages/mxnet/gluon/block.py:1159: UserWarning: Cannot decide type for the following arguments. Consider providing them as input:\n",
      "\tdata: None\n",
      "  input_sym_arg_type = in_param.infer_type()[0]\n",
      "predicted: ['setosa', 'setosa', 'setosa', 'setosa', 'setosa', 'setosa', 'setosa', 'setosa', 'setosa', 'setosa', 'setosa', 'setosa', 'setosa', 'setosa', 'setosa', 'setosa', 'setosa', 'setosa', 'setosa', 'setosa', 'setosa', 'setosa', 'setosa', 'setosa', 'setosa', 'setosa', 'setosa', 'setosa', 'setosa', 'setosa', 'setosa', 'setosa', 'setosa', 'setosa', 'setosa', 'setosa', 'setosa', 'setosa', 'setosa', 'setosa', 'setosa', 'setosa', 'setosa', 'setosa', 'setosa', 'setosa', 'setosa', 'setosa', 'setosa', 'setosa', 'versicolor', 'versicolor', 'versicolor', 'versicolor', 'versicolor', 'versicolor', 'versicolor', 'versicolor', 'versicolor', 'versicolor', 'versicolor', 'versicolor', 'versicolor', 'versicolor', 'versicolor', 'versicolor', 'versicolor', 'versicolor', 'virginica', 'versicolor', 'virginica', 'versicolor', 'virginica', 'versicolor', 'versicolor', 'versicolor', 'versicolor', 'virginica', 'versicolor', 'versicolor', 'versicolor', 'versicolor', 'versicolor', 'virginica', 'versicolor', 'versicolor', 'versicolor', 'versicolor', 'versicolor', 'versicolor', 'versicolor', 'versicolor', 'versicolor', 'versicolor', 'versicolor', 'versicolor', 'versicolor', 'versicolor', 'versicolor', 'versicolor', 'virginica', 'virginica', 'virginica', 'virginica', 'virginica', 'virginica', 'virginica', 'virginica', 'virginica', 'virginica', 'virginica', 'virginica', 'virginica', 'virginica', 'virginica', 'virginica', 'virginica', 'virginica', 'virginica', 'virginica', 'virginica', 'virginica', 'virginica', 'virginica', 'virginica', 'virginica', 'virginica', 'virginica', 'virginica', 'virginica', 'virginica', 'virginica', 'virginica', 'virginica', 'virginica', 'virginica', 'virginica', 'virginica', 'virginica', 'virginica', 'virginica', 'virginica', 'virginica', 'virginica', 'virginica', 'virginica', 'virginica', 'virginica', 'virginica', 'virginica']\n"
     ]
    },
    {
     "data": {
      "text/plain": [
       "True"
      ]
     },
     "execution_count": 10,
     "metadata": {},
     "output_type": "execute_result"
    }
   ],
   "source": [
    "logger = logging.getLogger('iris')\n",
    "\n",
    "\n",
    "## Prediction \n",
    "def handle(event, **kwargs):\n",
    "    # If data is received as json convert to pandas\n",
    "    event = event['data'] if 'data' in event else event\n",
    "    if not isinstance(event, pd.DataFrame):\n",
    "        event = pd.DataFrame.from_dict(event, orient='columns')\n",
    "\n",
    "    # Convert to NDArray\n",
    "    data = mx.nd.array(event.values)\n",
    "    \n",
    "    # Retrieve model from disk and use it for predictions\n",
    "    model = gluon.SymbolBlock.imports(f'{MODEL_PATH}-symbol.json', ['data'], '{}-{:04d}.params'.format(MODEL_PATH, best_epoch))\n",
    "    \n",
    "    # Target format convertion\n",
    "    target_dict = {0: 'setosa', 1: 'versicolor', 2:'virginica'}\n",
    "    to_target = np.vectorize(lambda x: target_dict[x])\n",
    "    \n",
    "    return to_target(np.argmax(model(data).asnumpy(), axis=1)).tolist()\n",
    "\n",
    "## Testing and liveness check\n",
    "def test(data, **kwargs):\n",
    "    pred = handle(data)\n",
    "\n",
    "    logger.warning(f\"predicted: {pred}\")\n",
    "    \n",
    "    return True\n",
    "\n",
    "\n",
    "test(iris.data)"
   ]
  }
 ],
 "metadata": {
  "colab": {
   "collapsed_sections": [],
   "name": "mxnet_classification.ipynb",
   "provenance": [],
   "version": "0.3.2"
  },
  "kernelspec": {
   "display_name": "Python 3",
   "name": "python3"
  },
  "language_info": {
   "codemirror_mode": {
    "name": "ipython",
    "version": 3
   },
   "file_extension": ".py",
   "mimetype": "text/x-python",
   "name": "python",
   "nbconvert_exporter": "python",
   "pygments_lexer": "ipython3",
   "version": "3.7.3"
  },
  "papermill": {
   "duration": 6.540005,
   "end_time": "2019-08-14T14:33:09.844941",
   "environment_variables": {},
   "exception": null,
   "input_path": "/mnt/analitico-drive/recipes/rx_mxnet_classification/notebook.ipynb",
   "output_path": "/mnt/analitico-drive/recipes/rx_mxnet_classification/notebook.ipynb",
   "parameters": {},
   "start_time": "2019-08-14T14:33:03.304936",
   "version": "1.0.1"
  }
 },
 "nbformat": 4,
 "nbformat_minor": 0
}