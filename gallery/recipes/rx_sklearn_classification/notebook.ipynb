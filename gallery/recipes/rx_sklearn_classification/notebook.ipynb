{
 "cells": [
  {
   "cell_type": "markdown",
   "metadata": {
    "colab_type": "text",
    "id": "RNGwNhZFYDhE",
    "papermill": {
     "duration": 0.019277,
     "end_time": "2019-08-14T14:37:20.982480",
     "exception": false,
     "start_time": "2019-08-14T14:37:20.963203",
     "status": "completed"
    },
    "tags": []
   },
   "source": [
    "# Serverless Example\n",
    "## SkLearn [CLASSIFICATION]"
   ]
  },
  {
   "cell_type": "markdown",
   "metadata": {
    "colab_type": "text",
    "id": "NqWvcF2p5XWQ",
    "papermill": {
     "duration": 0.011032,
     "end_time": "2019-08-14T14:37:21.007094",
     "exception": false,
     "start_time": "2019-08-14T14:37:20.996062",
     "status": "completed"
    },
    "tags": []
   },
   "source": [
    "## Setup"
   ]
  },
  {
   "cell_type": "code",
   "execution_count": 1,
   "metadata": {
    "colab": {},
    "colab_type": "code",
    "id": "XEOXLqSyT2Ap",
    "papermill": {
     "duration": 0.859928,
     "end_time": "2019-08-14T14:37:21.879384",
     "exception": false,
     "start_time": "2019-08-14T14:37:21.019456",
     "status": "completed"
    },
    "tags": []
   },
   "outputs": [],
   "source": [
    "import time\n",
    "import logging\n",
    "import numpy as np\n",
    "import pandas as pd\n",
    "from joblib import dump, load\n",
    "\n",
    "from sklearn import tree, datasets\n",
    "from sklearn.model_selection import train_test_split"
   ]
  },
  {
   "cell_type": "markdown",
   "metadata": {
    "colab_type": "text",
    "id": "lSK1CO-O_IdH",
    "papermill": {
     "duration": 0.019736,
     "end_time": "2019-08-14T14:37:21.919661",
     "exception": false,
     "start_time": "2019-08-14T14:37:21.899925",
     "status": "completed"
    },
    "tags": []
   },
   "source": [
    "### Load Database"
   ]
  },
  {
   "cell_type": "code",
   "execution_count": 2,
   "metadata": {
    "colab": {},
    "colab_type": "code",
    "id": "Ja3-ZEDT7kFL",
    "papermill": {
     "duration": 0.027117,
     "end_time": "2019-08-14T14:37:21.967682",
     "exception": false,
     "start_time": "2019-08-14T14:37:21.940565",
     "status": "completed"
    },
    "tags": []
   },
   "outputs": [],
   "source": [
    "iris = datasets.load_iris()\n",
    "\n",
    "X = iris.data\n",
    "y = iris.target"
   ]
  },
  {
   "cell_type": "markdown",
   "metadata": {
    "colab_type": "text",
    "id": "1N71slD65Eu4",
    "papermill": {
     "duration": 0.020326,
     "end_time": "2019-08-14T14:37:22.005730",
     "exception": false,
     "start_time": "2019-08-14T14:37:21.985404",
     "status": "completed"
    },
    "tags": []
   },
   "source": [
    "## Training Process"
   ]
  },
  {
   "cell_type": "markdown",
   "metadata": {
    "colab_type": "text",
    "id": "1mHw7MnCo4tf",
    "papermill": {
     "duration": 0.012296,
     "end_time": "2019-08-14T14:37:22.031035",
     "exception": false,
     "start_time": "2019-08-14T14:37:22.018739",
     "status": "completed"
    },
    "tags": []
   },
   "source": [
    "### Model Definition\n",
    "We define a basic Decision Tree in classification mode."
   ]
  },
  {
   "cell_type": "code",
   "execution_count": 3,
   "metadata": {
    "colab": {},
    "colab_type": "code",
    "id": "grFBmZ4Eh0bc",
    "papermill": {
     "duration": 0.029848,
     "end_time": "2019-08-14T14:37:22.072932",
     "exception": false,
     "start_time": "2019-08-14T14:37:22.043084",
     "status": "completed"
    },
    "tags": []
   },
   "outputs": [],
   "source": [
    "model = tree.DecisionTreeClassifier()"
   ]
  },
  {
   "cell_type": "markdown",
   "metadata": {
    "colab_type": "text",
    "id": "43Rksdr84_0D",
    "papermill": {
     "duration": 0.018309,
     "end_time": "2019-08-14T14:37:22.109790",
     "exception": false,
     "start_time": "2019-08-14T14:37:22.091481",
     "status": "completed"
    },
    "tags": []
   },
   "source": [
    "### Training\n",
    "Train the model. The model will overfit the data because we don't consider some sort of cross-validation."
   ]
  },
  {
   "cell_type": "code",
   "execution_count": 4,
   "metadata": {
    "colab": {
     "base_uri": "https://localhost:8080/",
     "height": 51
    },
    "colab_type": "code",
    "executionInfo": {
     "elapsed": 1142,
     "status": "ok",
     "timestamp": 1563133818977,
     "user": {
      "displayName": "Fabio Mardero",
      "photoUrl": "",
      "userId": "01769998706955373091"
     },
     "user_tz": -120
    },
    "id": "dwqQe1yPODtF",
    "outputId": "55cebc46-0226-43a0-f908-d14a6b99e149",
    "papermill": {
     "duration": 0.032296,
     "end_time": "2019-08-14T14:37:22.160557",
     "exception": false,
     "start_time": "2019-08-14T14:37:22.128261",
     "status": "completed"
    },
    "tags": []
   },
   "outputs": [
    {
     "name": "stdout",
     "output_type": "stream",
     "text": [
      "CPU times: user 1.09 ms, sys: 417 µs, total: 1.5 ms\n",
      "Wall time: 875 µs\n"
     ]
    },
    {
     "data": {
      "text/plain": [
       "DecisionTreeClassifier(class_weight=None, criterion='gini', max_depth=None,\n",
       "                       max_features=None, max_leaf_nodes=None,\n",
       "                       min_impurity_decrease=0.0, min_impurity_split=None,\n",
       "                       min_samples_leaf=1, min_samples_split=2,\n",
       "                       min_weight_fraction_leaf=0.0, presort=False,\n",
       "                       random_state=None, splitter='best')"
      ]
     },
     "execution_count": 4,
     "metadata": {},
     "output_type": "execute_result"
    }
   ],
   "source": [
    "%%time\n",
    "MODEL_PATH = 'model'\n",
    "\n",
    "model.fit(X, y)"
   ]
  },
  {
   "cell_type": "markdown",
   "metadata": {
    "colab_type": "text",
    "id": "YxWwh66w5Pea",
    "papermill": {
     "duration": 0.01202,
     "end_time": "2019-08-14T14:37:22.184565",
     "exception": false,
     "start_time": "2019-08-14T14:37:22.172545",
     "status": "completed"
    },
    "tags": []
   },
   "source": [
    "### Save Model"
   ]
  },
  {
   "cell_type": "code",
   "execution_count": 5,
   "metadata": {
    "colab": {
     "base_uri": "https://localhost:8080/",
     "height": 34
    },
    "colab_type": "code",
    "executionInfo": {
     "elapsed": 1115,
     "status": "ok",
     "timestamp": 1563133818978,
     "user": {
      "displayName": "Fabio Mardero",
      "photoUrl": "",
      "userId": "01769998706955373091"
     },
     "user_tz": -120
    },
    "id": "5KITNQPAz9uH",
    "outputId": "cef19d47-6fcf-4123-efb9-eeaeb2f7e2ba",
    "papermill": {
     "duration": 0.064645,
     "end_time": "2019-08-14T14:37:22.267418",
     "exception": false,
     "start_time": "2019-08-14T14:37:22.202773",
     "status": "completed"
    },
    "tags": []
   },
   "outputs": [
    {
     "data": {
      "text/plain": [
       "['model.joblib']"
      ]
     },
     "execution_count": 5,
     "metadata": {},
     "output_type": "execute_result"
    }
   ],
   "source": [
    "# Save the last model\n",
    "dump(model, f'{MODEL_PATH}.joblib')"
   ]
  },
  {
   "cell_type": "markdown",
   "metadata": {
    "colab_type": "text",
    "id": "GQoRvmU25R7R",
    "papermill": {
     "duration": 0.012301,
     "end_time": "2019-08-14T14:37:22.291798",
     "exception": false,
     "start_time": "2019-08-14T14:37:22.279497",
     "status": "completed"
    },
    "tags": []
   },
   "source": [
    "## Testing Process\n",
    "We simulate a test phase in which we only have a trained model saved in the current directory."
   ]
  },
  {
   "cell_type": "markdown",
   "metadata": {
    "colab_type": "text",
    "id": "XdM_vArrFMA5",
    "papermill": {
     "duration": 0.012554,
     "end_time": "2019-08-14T14:37:22.316758",
     "exception": false,
     "start_time": "2019-08-14T14:37:22.304204",
     "status": "completed"
    },
    "tags": []
   },
   "source": [
    "### Blank Paper"
   ]
  },
  {
   "cell_type": "code",
   "execution_count": 6,
   "metadata": {
    "colab": {},
    "colab_type": "code",
    "id": "y0rRfJNeFHyx",
    "papermill": {
     "duration": 0.032157,
     "end_time": "2019-08-14T14:37:22.367784",
     "exception": false,
     "start_time": "2019-08-14T14:37:22.335627",
     "status": "completed"
    },
    "tags": []
   },
   "outputs": [],
   "source": [
    "# Lets put us in blank paper condition\n",
    "del model"
   ]
  },
  {
   "cell_type": "markdown",
   "metadata": {
    "colab_type": "text",
    "id": "1p0Dvq0qd70U",
    "papermill": {
     "duration": 0.016029,
     "end_time": "2019-08-14T14:37:22.400423",
     "exception": false,
     "start_time": "2019-08-14T14:37:22.384394",
     "status": "completed"
    },
    "tags": []
   },
   "source": [
    "### Prediction\n",
    "Load the model and simulate to predict the whole iris dataset."
   ]
  },
  {
   "cell_type": "code",
   "execution_count": 7,
   "metadata": {
    "colab": {
     "base_uri": "https://localhost:8080/",
     "height": 105
    },
    "colab_type": "code",
    "executionInfo": {
     "elapsed": 1100,
     "status": "ok",
     "timestamp": 1563133818984,
     "user": {
      "displayName": "Fabio Mardero",
      "photoUrl": "",
      "userId": "01769998706955373091"
     },
     "user_tz": -120
    },
    "id": "vJOQxX36FHce",
    "outputId": "eec9e275-cbaf-46b9-bf65-c7c959352752",
    "papermill": {
     "duration": 0.043137,
     "end_time": "2019-08-14T14:37:22.459672",
     "exception": false,
     "start_time": "2019-08-14T14:37:22.416535",
     "status": "completed"
    },
    "tags": []
   },
   "outputs": [
    {
     "name": "stderr",
     "output_type": "stream",
     "text": [
      "/opt/conda/lib/python3.7/site-packages/ipykernel_launcher.py:7: FutureWarning: elementwise comparison failed; returning scalar instead, but in the future will perform elementwise comparison\n",
      "  import sys\n",
      "predicted: ['setosa', 'setosa', 'setosa', 'setosa', 'setosa', 'setosa', 'setosa', 'setosa', 'setosa', 'setosa', 'setosa', 'setosa', 'setosa', 'setosa', 'setosa', 'setosa', 'setosa', 'setosa', 'setosa', 'setosa', 'setosa', 'setosa', 'setosa', 'setosa', 'setosa', 'setosa', 'setosa', 'setosa', 'setosa', 'setosa', 'setosa', 'setosa', 'setosa', 'setosa', 'setosa', 'setosa', 'setosa', 'setosa', 'setosa', 'setosa', 'setosa', 'setosa', 'setosa', 'setosa', 'setosa', 'setosa', 'setosa', 'setosa', 'setosa', 'setosa', 'versicolor', 'versicolor', 'versicolor', 'versicolor', 'versicolor', 'versicolor', 'versicolor', 'versicolor', 'versicolor', 'versicolor', 'versicolor', 'versicolor', 'versicolor', 'versicolor', 'versicolor', 'versicolor', 'versicolor', 'versicolor', 'versicolor', 'versicolor', 'versicolor', 'versicolor', 'versicolor', 'versicolor', 'versicolor', 'versicolor', 'versicolor', 'versicolor', 'versicolor', 'versicolor', 'versicolor', 'versicolor', 'versicolor', 'versicolor', 'versicolor', 'versicolor', 'versicolor', 'versicolor', 'versicolor', 'versicolor', 'versicolor', 'versicolor', 'versicolor', 'versicolor', 'versicolor', 'versicolor', 'versicolor', 'versicolor', 'versicolor', 'versicolor', 'virginica', 'virginica', 'virginica', 'virginica', 'virginica', 'virginica', 'virginica', 'virginica', 'virginica', 'virginica', 'virginica', 'virginica', 'virginica', 'virginica', 'virginica', 'virginica', 'virginica', 'virginica', 'virginica', 'virginica', 'virginica', 'virginica', 'virginica', 'virginica', 'virginica', 'virginica', 'virginica', 'virginica', 'virginica', 'virginica', 'virginica', 'virginica', 'virginica', 'virginica', 'virginica', 'virginica', 'virginica', 'virginica', 'virginica', 'virginica', 'virginica', 'virginica', 'virginica', 'virginica', 'virginica', 'virginica', 'virginica', 'virginica', 'virginica', 'virginica']\n"
     ]
    },
    {
     "data": {
      "text/plain": [
       "True"
      ]
     },
     "execution_count": 7,
     "metadata": {},
     "output_type": "execute_result"
    }
   ],
   "source": [
    "logger = logging.getLogger('iris')\n",
    "\n",
    "\n",
    "## Prediction \n",
    "def handle(event, **kwargs):\n",
    "    # If data is received as json convert to pandas\n",
    "    event = event['data'] if 'data' in event else event\n",
    "    if not isinstance(event, pd.DataFrame):\n",
    "        event = pd.DataFrame.from_dict(event, orient='columns')\n",
    "\n",
    "    # Retrieve model from disk and use it for predictions\n",
    "    model = load(f'{MODEL_PATH}.joblib')\n",
    "    \n",
    "    # Target format convertion\n",
    "    target_dict = {0: 'setosa', 1: 'versicolor', 2:'virginica'}\n",
    "    to_target = np.vectorize(lambda x: target_dict[x])\n",
    "    \n",
    "    return to_target(model.predict(event)).tolist()\n",
    "\n",
    "## Testing and liveness check\n",
    "def test(data, **kwargs):\n",
    "    pred = handle(data)\n",
    "\n",
    "    logger.warning(f\"predicted: {pred}\")\n",
    "    \n",
    "    return True\n",
    "\n",
    "\n",
    "test(iris.data)"
   ]
  }
 ],
 "metadata": {
  "colab": {
   "collapsed_sections": [],
   "name": "sklearn_classification.ipynb",
   "provenance": [],
   "version": "0.3.2"
  },
  "kernelspec": {
   "display_name": "Python 3",
   "name": "python3"
  },
  "language_info": {
   "codemirror_mode": {
    "name": "ipython",
    "version": 3
   },
   "file_extension": ".py",
   "mimetype": "text/x-python",
   "name": "python",
   "nbconvert_exporter": "python",
   "pygments_lexer": "ipython3",
   "version": "3.7.3"
  },
  "papermill": {
   "duration": 3.334436,
   "end_time": "2019-08-14T14:37:22.881365",
   "environment_variables": {},
   "exception": null,
   "input_path": "/mnt/analitico-drive/recipes/rx_sklearn_classification/notebook.ipynb",
   "output_path": "/mnt/analitico-drive/recipes/rx_sklearn_classification/notebook.ipynb",
   "parameters": {},
   "start_time": "2019-08-14T14:37:19.546929",
   "version": "1.0.1"
  }
 },
 "nbformat": 4,
 "nbformat_minor": 0
}