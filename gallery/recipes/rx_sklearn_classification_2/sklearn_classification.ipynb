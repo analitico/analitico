{
 "cells": [
  {
   "cell_type": "markdown",
   "metadata": {
    "colab_type": "text",
    "id": "7jjYY8dEtxsO"
   },
   "source": [
    "# Serverless Example\n",
    "## Sklearn [CLASSIFICATION]"
   ]
  },
  {
   "cell_type": "markdown",
   "metadata": {
    "colab_type": "text",
    "id": "YM_al1Aytxsg"
   },
   "source": [
    "## Setup"
   ]
  },
  {
   "cell_type": "code",
   "execution_count": 0,
   "metadata": {
    "colab": {},
    "colab_type": "code",
    "id": "7vLo_dyQtxsi"
   },
   "outputs": [],
   "source": [
    "import os\n",
    "import time\n",
    "import logging\n",
    "import numpy as np\n",
    "import pandas as pd\n",
    "from joblib import dump, load\n",
    "from collections import OrderedDict\n",
    "\n",
    "from sklearn import datasets\n",
    "from sklearn.pipeline import Pipeline\n",
    "from sklearn.linear_model import SGDClassifier\n",
    "from sklearn.model_selection import train_test_split, GridSearchCV\n",
    "from sklearn.preprocessing import PolynomialFeatures, StandardScaler, OneHotEncoder"
   ]
  },
  {
   "cell_type": "markdown",
   "metadata": {
    "colab_type": "text",
    "id": "cUuFN9z0txsp"
   },
   "source": [
    "### Load database"
   ]
  },
  {
   "cell_type": "code",
   "execution_count": 2,
   "metadata": {
    "colab": {
     "base_uri": "https://localhost:8080/",
     "height": 204
    },
    "colab_type": "code",
    "executionInfo": {
     "elapsed": 1339,
     "status": "ok",
     "timestamp": 1562358122885,
     "user": {
      "displayName": "Fabio Mardero",
      "photoUrl": "",
      "userId": "01769998706955373091"
     },
     "user_tz": -120
    },
    "id": "ryziQ9vutxsr",
    "outputId": "1c4847cf-7ea6-4e2b-f1c2-74aead9704da"
   },
   "outputs": [
    {
     "data": {
      "text/html": [
       "<div>\n",
       "<style scoped>\n",
       "    .dataframe tbody tr th:only-of-type {\n",
       "        vertical-align: middle;\n",
       "    }\n",
       "\n",
       "    .dataframe tbody tr th {\n",
       "        vertical-align: top;\n",
       "    }\n",
       "\n",
       "    .dataframe thead th {\n",
       "        text-align: right;\n",
       "    }\n",
       "</style>\n",
       "<table border=\"1\" class=\"dataframe\">\n",
       "  <thead>\n",
       "    <tr style=\"text-align: right;\">\n",
       "      <th></th>\n",
       "      <th>sepal_length_cm</th>\n",
       "      <th>sepal_width_cm</th>\n",
       "      <th>petal_length_cm</th>\n",
       "      <th>petal_width_cm</th>\n",
       "      <th>flower_type</th>\n",
       "    </tr>\n",
       "  </thead>\n",
       "  <tbody>\n",
       "    <tr>\n",
       "      <th>0</th>\n",
       "      <td>5.1</td>\n",
       "      <td>3.5</td>\n",
       "      <td>1.4</td>\n",
       "      <td>0.2</td>\n",
       "      <td>setosa</td>\n",
       "    </tr>\n",
       "    <tr>\n",
       "      <th>1</th>\n",
       "      <td>4.9</td>\n",
       "      <td>3.0</td>\n",
       "      <td>1.4</td>\n",
       "      <td>0.2</td>\n",
       "      <td>setosa</td>\n",
       "    </tr>\n",
       "    <tr>\n",
       "      <th>2</th>\n",
       "      <td>4.7</td>\n",
       "      <td>3.2</td>\n",
       "      <td>1.3</td>\n",
       "      <td>0.2</td>\n",
       "      <td>setosa</td>\n",
       "    </tr>\n",
       "    <tr>\n",
       "      <th>3</th>\n",
       "      <td>4.6</td>\n",
       "      <td>3.1</td>\n",
       "      <td>1.5</td>\n",
       "      <td>0.2</td>\n",
       "      <td>setosa</td>\n",
       "    </tr>\n",
       "    <tr>\n",
       "      <th>4</th>\n",
       "      <td>5.0</td>\n",
       "      <td>3.6</td>\n",
       "      <td>1.4</td>\n",
       "      <td>0.2</td>\n",
       "      <td>setosa</td>\n",
       "    </tr>\n",
       "  </tbody>\n",
       "</table>\n",
       "</div>"
      ],
      "text/plain": [
       "   sepal_length_cm  sepal_width_cm  petal_length_cm  petal_width_cm flower_type\n",
       "0              5.1             3.5              1.4             0.2      setosa\n",
       "1              4.9             3.0              1.4             0.2      setosa\n",
       "2              4.7             3.2              1.3             0.2      setosa\n",
       "3              4.6             3.1              1.5             0.2      setosa\n",
       "4              5.0             3.6              1.4             0.2      setosa"
      ]
     },
     "execution_count": 2,
     "metadata": {
      "tags": []
     },
     "output_type": "execute_result"
    }
   ],
   "source": [
    "iris = datasets.load_iris()\n",
    "\n",
    "# Build a \"real\" dataset as a Pandas dataframe\n",
    "df = pd.DataFrame(iris.data, columns=iris.feature_names)\n",
    "df['flower type'] = pd.Series(iris.target).apply(lambda x: iris.target_names[x])\n",
    "\n",
    "# Fix variables name\n",
    "df.columns = df.columns.str.strip().str.lower().str.replace(' ', '_').str.replace('(', '').str.replace(')', '')\n",
    "\n",
    "df.head(5)"
   ]
  },
  {
   "cell_type": "markdown",
   "metadata": {
    "colab_type": "text",
    "id": "HVoCIwFIokJj"
   },
   "source": [
    "### Database split\n",
    "Split the data in training and \"online\" testing chunks."
   ]
  },
  {
   "cell_type": "code",
   "execution_count": 3,
   "metadata": {
    "colab": {
     "base_uri": "https://localhost:8080/",
     "height": 51
    },
    "colab_type": "code",
    "executionInfo": {
     "elapsed": 1327,
     "status": "ok",
     "timestamp": 1562358122888,
     "user": {
      "displayName": "Fabio Mardero",
      "photoUrl": "",
      "userId": "01769998706955373091"
     },
     "user_tz": -120
    },
    "id": "OUzvdJyplr9o",
    "outputId": "41046a72-8130-4cbf-d767-6f0b48381540"
   },
   "outputs": [
    {
     "name": "stdout",
     "output_type": "stream",
     "text": [
      "Training examples :   120\n",
      "Testing examples  :    30\n"
     ]
    }
   ],
   "source": [
    "# In the \"Training\" section we pretend to don't know the existance of the test dataframe\n",
    "train, test = train_test_split(df, test_size=0.2)\n",
    "\n",
    "print('Training examples : {:5d}'.format(len(train)))\n",
    "print('Testing examples  : {:5d}'.format(len(test)))"
   ]
  },
  {
   "cell_type": "markdown",
   "metadata": {
    "colab_type": "text",
    "id": "ibuqChHotxs3"
   },
   "source": [
    "### Define variables roles"
   ]
  },
  {
   "cell_type": "code",
   "execution_count": 4,
   "metadata": {
    "colab": {
     "base_uri": "https://localhost:8080/",
     "height": 153
    },
    "colab_type": "code",
    "executionInfo": {
     "elapsed": 1314,
     "status": "ok",
     "timestamp": 1562358122891,
     "user": {
      "displayName": "Fabio Mardero",
      "photoUrl": "",
      "userId": "01769998706955373091"
     },
     "user_tz": -120
    },
    "id": "wKAbleRmtxs4",
    "outputId": "b9ecbbb6-e192-4760-b8c0-34fc794a125a"
   },
   "outputs": [
    {
     "name": "stdout",
     "output_type": "stream",
     "text": [
      "Feature variables : ['petal_length_cm', 'petal_width_cm', 'sepal_length_cm', 'sepal_width_cm']\n",
      "Target variables  : ['flower_type']\n"
     ]
    },
    {
     "name": "stderr",
     "output_type": "stream",
     "text": [
      "/usr/local/lib/python3.6/dist-packages/pandas/core/generic.py:5096: SettingWithCopyWarning: \n",
      "A value is trying to be set on a copy of a slice from a DataFrame.\n",
      "Try using .loc[row_indexer,col_indexer] = value instead\n",
      "\n",
      "See the caveats in the documentation: http://pandas.pydata.org/pandas-docs/stable/indexing.html#indexing-view-versus-copy\n",
      "  self[name] = value\n"
     ]
    }
   ],
   "source": [
    "# Target variables\n",
    "target_cols = ['flower_type']\n",
    "train.flower_type = train.flower_type.apply(lambda x: x if x == 'setosa' else 'other')\n",
    "target_classes = [train[col].unique().tolist() for col in target_cols]\n",
    "\n",
    "\n",
    "# Features\n",
    "numeric_columns = ['sepal_length_cm', 'sepal_width_cm', 'petal_length_cm', 'petal_width_cm']\n",
    "categorical_columns = []\n",
    "\n",
    "print(f'Feature variables : {list(train.columns.difference(target_cols))}\\nTarget variables  : {target_cols}')"
   ]
  },
  {
   "cell_type": "markdown",
   "metadata": {
    "colab_type": "text",
    "id": "xbkc6cvaoNRo"
   },
   "source": [
    "## Training Process"
   ]
  },
  {
   "cell_type": "markdown",
   "metadata": {
    "colab_type": "text",
    "id": "c87V8e9SgA6t"
   },
   "source": [
    "### Dataset Definition"
   ]
  },
  {
   "cell_type": "code",
   "execution_count": 0,
   "metadata": {
    "colab": {},
    "colab_type": "code",
    "id": "Kkczs-nRgBgh"
   },
   "outputs": [],
   "source": [
    "X_train = train.drop(target_cols, axis=1).values\n",
    "y_train = np.ravel(train[target_cols].values)"
   ]
  },
  {
   "cell_type": "markdown",
   "metadata": {
    "colab_type": "text",
    "id": "iIz-jb5ieV-D"
   },
   "source": [
    "### Training Parameters&Environment"
   ]
  },
  {
   "cell_type": "code",
   "execution_count": 6,
   "metadata": {
    "colab": {
     "base_uri": "https://localhost:8080/",
     "height": 34
    },
    "colab_type": "code",
    "executionInfo": {
     "elapsed": 1493,
     "status": "ok",
     "timestamp": 1562358123104,
     "user": {
      "displayName": "Fabio Mardero",
      "photoUrl": "",
      "userId": "01769998706955373091"
     },
     "user_tz": -120
    },
    "id": "8oJ88ftNq3aj",
    "outputId": "f60aaef8-ce80-49ec-eff8-2242a470823a"
   },
   "outputs": [
    {
     "name": "stdout",
     "output_type": "stream",
     "text": [
      "Model Directory : ./logs/model_2019-07-05__20.21.54\n"
     ]
    }
   ],
   "source": [
    "# Number of folds for cross-validation\n",
    "CV_FOLDS = 3\n",
    "\n",
    "LOG_DIR = './logs/model_{}'.format(time.strftime(\"%Y-%m-%d__%H.%M.%S\", time.localtime()))\n",
    "os.makedirs(LOG_DIR, exist_ok=True)\n",
    "print('Model Directory : {}'.format(LOG_DIR))"
   ]
  },
  {
   "cell_type": "markdown",
   "metadata": {
    "colab_type": "text",
    "id": "HWtwFL6VbCoj"
   },
   "source": [
    "### Training Pipeline"
   ]
  },
  {
   "cell_type": "code",
   "execution_count": 0,
   "metadata": {
    "colab": {},
    "colab_type": "code",
    "id": "bPhti4jRaTOT"
   },
   "outputs": [],
   "source": [
    "pipe = Pipeline([\n",
    "    # Scale numeric features\n",
    "    ('scaler', StandardScaler()),\n",
    "    \n",
    "    # Feature creation based on interactions beetween original features\n",
    "    ('interactions', PolynomialFeatures()),\n",
    "    \n",
    "    # Classification model\n",
    "    ('classifier', SGDClassifier())\n",
    "])\n",
    "\n",
    "#print(pipe.steps[1][1].explained_variance_)"
   ]
  },
  {
   "cell_type": "markdown",
   "metadata": {
    "colab_type": "text",
    "id": "zoPA5ZO2iIHz"
   },
   "source": [
    "### Hyperparameters Tuning\n",
    "Cross-Validation is proposted here.\n",
    "Eventually (if CV is too computational onerous):\n",
    "\n",
    "```\n",
    "X_train, X_val, y_train, y_val = train_test_split(X_train, y_train, test_size=0.2)\n",
    "hyperparameters = [{'interactions__degree': x, 'classifier__penalty': y}\n",
    "                    for x in [0.05, 0.01, 0.1, 0.2]\n",
    "                    for y in np.logspace(-3, 2, 6)]\n",
    "scores = [pipe.set_params(**params)\n",
    "              .fit(X_train, y_train)\n",
    "              .score(X_val, y_val)\n",
    "          for params in hyperparameters]\n",
    "```\n",
    "\n"
   ]
  },
  {
   "cell_type": "code",
   "execution_count": 8,
   "metadata": {
    "colab": {
     "base_uri": "https://localhost:8080/",
     "height": 54
    },
    "colab_type": "code",
    "executionInfo": {
     "elapsed": 1454,
     "status": "ok",
     "timestamp": 1562358123109,
     "user": {
      "displayName": "Fabio Mardero",
      "photoUrl": "",
      "userId": "01769998706955373091"
     },
     "user_tz": -120
    },
    "id": "PehOCOomiIlE",
    "outputId": "dc4a4096-6f2f-4c3e-a832-ab1d0146dea6"
   },
   "outputs": [
    {
     "data": {
      "text/plain": [
       "\"\\nEventually (if CV is too computational onerous):\\n\\nX_train, X_val, y_train, y_val = train_test_split(X_train, y_train, test_size=0.2)\\nhyperparameters = [{'interactions__alpha': alpha, 'classifier__C': C}\\n                    for alpha in [0.05, 0.01, 0.1, 0.2]\\n                    for C in np.logspace(-3, 2, 6)]\\nscores = [pipe.set_params(**params)\\n              .fit(X_train, y_train)\\n              .score(X_val, y_val)\\n          for params in hyperparameters]\\n\""
      ]
     },
     "execution_count": 8,
     "metadata": {
      "tags": []
     },
     "output_type": "execute_result"
    }
   ],
   "source": [
    "# Define some possible values for the most important hyperparameters\n",
    "hyperparameters = {'interactions__degree': np.arange(3),\n",
    "                   'classifier__penalty': ['none', 'l1', 'l2', 'elasticnet'],\n",
    "                   'classifier__alpha': 10.0**np.arange(-5, +1),\n",
    "                   'classifier__max_iter': 10.0**np.arange(3, 7)}\n",
    "\n",
    "# Define the searching method for hyperparameters\n",
    "gridsearch = GridSearchCV(pipe, hyperparameters, cv=CV_FOLDS, iid=True, verbose=1)\n",
    "\n",
    "\n",
    "'''\n",
    "Eventually (if CV is too computational onerous):\n",
    "\n",
    "X_train, X_val, y_train, y_val = train_test_split(X_train, y_train, test_size=0.2)\n",
    "hyperparameters = [{'interactions__alpha': alpha, 'classifier__C': C}\n",
    "                    for alpha in [0.05, 0.01, 0.1, 0.2]\n",
    "                    for C in np.logspace(-3, 2, 6)]\n",
    "scores = [pipe.set_params(**params)\n",
    "              .fit(X_train, y_train)\n",
    "              .score(X_val, y_val)\n",
    "          for params in hyperparameters]\n",
    "'''"
   ]
  },
  {
   "cell_type": "markdown",
   "metadata": {
    "colab_type": "text",
    "id": "CFxpDV58iXDt"
   },
   "source": [
    "### Training"
   ]
  },
  {
   "cell_type": "code",
   "execution_count": 9,
   "metadata": {
    "colab": {
     "base_uri": "https://localhost:8080/",
     "height": 544
    },
    "colab_type": "code",
    "executionInfo": {
     "elapsed": 4101,
     "status": "ok",
     "timestamp": 1562358125775,
     "user": {
      "displayName": "Fabio Mardero",
      "photoUrl": "",
      "userId": "01769998706955373091"
     },
     "user_tz": -120
    },
    "id": "8DzmtSWRiRcM",
    "outputId": "24588d5d-69ff-4a0d-cec6-1a5da45731ea"
   },
   "outputs": [
    {
     "name": "stdout",
     "output_type": "stream",
     "text": [
      "Fitting 3 folds for each of 288 candidates, totalling 864 fits\n"
     ]
    },
    {
     "name": "stderr",
     "output_type": "stream",
     "text": [
      "[Parallel(n_jobs=1)]: Using backend SequentialBackend with 1 concurrent workers.\n"
     ]
    },
    {
     "name": "stdout",
     "output_type": "stream",
     "text": [
      "CPU times: user 2.58 s, sys: 8.64 ms, total: 2.59 s\n",
      "Wall time: 2.6 s\n"
     ]
    },
    {
     "name": "stderr",
     "output_type": "stream",
     "text": [
      "[Parallel(n_jobs=1)]: Done 864 out of 864 | elapsed:    2.6s finished\n"
     ]
    },
    {
     "data": {
      "text/plain": [
       "GridSearchCV(cv=3, error_score='raise-deprecating',\n",
       "             estimator=Pipeline(memory=None,\n",
       "                                steps=[('scaler',\n",
       "                                        StandardScaler(copy=True,\n",
       "                                                       with_mean=True,\n",
       "                                                       with_std=True)),\n",
       "                                       ('interactions',\n",
       "                                        PolynomialFeatures(degree=2,\n",
       "                                                           include_bias=True,\n",
       "                                                           interaction_only=False,\n",
       "                                                           order='C')),\n",
       "                                       ('classifier',\n",
       "                                        SGDClassifier(alpha=0.0001,\n",
       "                                                      average=False,\n",
       "                                                      class_weight=None,\n",
       "                                                      early_stopping=False,\n",
       "                                                      epsil...\n",
       "                                verbose=False),\n",
       "             iid=True, n_jobs=None,\n",
       "             param_grid={'classifier__alpha': array([1.e-05, 1.e-04, 1.e-03, 1.e-02, 1.e-01, 1.e+00]),\n",
       "                         'classifier__max_iter': array([   1000.,   10000.,  100000., 1000000.]),\n",
       "                         'classifier__penalty': ['none', 'l1', 'l2',\n",
       "                                                 'elasticnet'],\n",
       "                         'interactions__degree': array([0, 1, 2])},\n",
       "             pre_dispatch='2*n_jobs', refit=True, return_train_score=False,\n",
       "             scoring=None, verbose=1)"
      ]
     },
     "execution_count": 9,
     "metadata": {
      "tags": []
     },
     "output_type": "execute_result"
    }
   ],
   "source": [
    "%%time\n",
    "# Training\n",
    "gridsearch.fit(X_train, y_train)"
   ]
  },
  {
   "cell_type": "code",
   "execution_count": 10,
   "metadata": {
    "colab": {
     "base_uri": "https://localhost:8080/",
     "height": 51
    },
    "colab_type": "code",
    "executionInfo": {
     "elapsed": 4091,
     "status": "ok",
     "timestamp": 1562358125778,
     "user": {
      "displayName": "Fabio Mardero",
      "photoUrl": "",
      "userId": "01769998706955373091"
     },
     "user_tz": -120
    },
    "id": "85lXk_gIvsPc",
    "outputId": "dd97ada2-c612-4c0a-9206-56f7a558edfc"
   },
   "outputs": [
    {
     "name": "stdout",
     "output_type": "stream",
     "text": [
      "Best training score:  1.0\n",
      "Best hyperparameters combination {'classifier__alpha': 1e-05, 'classifier__max_iter': 1000.0, 'classifier__penalty': 'none', 'interactions__degree': 1}\n"
     ]
    }
   ],
   "source": [
    "print('Best training score: ', gridsearch.score(X_train, y_train))\n",
    "print('Best hyperparameters combination', gridsearch.best_params_)\n",
    "\n",
    "best_pipe = gridsearch.best_estimator_\n",
    "model_path = '{}/{}.joblib'.format(LOG_DIR, '_'.join(best_pipe.named_steps.keys()))\n",
    "dump(best_pipe, model_path);"
   ]
  },
  {
   "cell_type": "markdown",
   "metadata": {
    "colab_type": "text",
    "id": "LftA3nhve6PX"
   },
   "source": [
    "## \"Online\" Testing Process "
   ]
  },
  {
   "cell_type": "markdown",
   "metadata": {
    "colab_type": "text",
    "id": "q-jZ8EkaxbtM"
   },
   "source": [
    "### Blank paper"
   ]
  },
  {
   "cell_type": "code",
   "execution_count": 11,
   "metadata": {
    "colab": {
     "base_uri": "https://localhost:8080/",
     "height": 34
    },
    "colab_type": "code",
    "executionInfo": {
     "elapsed": 4079,
     "status": "ok",
     "timestamp": 1562358125780,
     "user": {
      "displayName": "Fabio Mardero",
      "photoUrl": "",
      "userId": "01769998706955373091"
     },
     "user_tz": -120
    },
    "id": "erVN8hRIlRac",
    "outputId": "6bdf5089-a7f9-460c-a72a-0b16ff257f87"
   },
   "outputs": [
    {
     "name": "stdout",
     "output_type": "stream",
     "text": [
      "Model Path :  ./logs/model_2019-07-05__20.21.54/scaler_interactions_classifier.joblib\n"
     ]
    }
   ],
   "source": [
    "# Lets put us in blank paper condition\n",
    "del best_pipe\n",
    "print('Model Path : ', model_path)"
   ]
  },
  {
   "cell_type": "markdown",
   "metadata": {
    "colab_type": "text",
    "id": "4B7kGwM9xfjd"
   },
   "source": [
    "### Prediction\n",
    "We convert the test dataframe to a dictionary to simulate the information arriving from a serverless endpoint once the model is deployed."
   ]
  },
  {
   "cell_type": "code",
   "execution_count": 0,
   "metadata": {
    "colab": {},
    "colab_type": "code",
    "id": "0uQR6KENzeOV"
   },
   "outputs": [],
   "source": [
    "data = test.drop(target_cols, axis=1).to_dict(orient='records', into=OrderedDict)"
   ]
  },
  {
   "cell_type": "code",
   "execution_count": 13,
   "metadata": {
    "colab": {
     "base_uri": "https://localhost:8080/",
     "height": 71
    },
    "colab_type": "code",
    "executionInfo": {
     "elapsed": 4069,
     "status": "ok",
     "timestamp": 1562358125793,
     "user": {
      "displayName": "Fabio Mardero",
      "photoUrl": "",
      "userId": "01769998706955373091"
     },
     "user_tz": -120
    },
    "id": "i6_1pxETlJqv",
    "outputId": "2ddc6922-0101-446c-da61-547da5f0677a"
   },
   "outputs": [
    {
     "name": "stderr",
     "output_type": "stream",
     "text": [
      "predicted: ['setosa', 'other', 'setosa', 'setosa', 'setosa', 'other', 'other', 'other', 'other', 'setosa', 'setosa', 'other', 'other', 'other', 'setosa', 'setosa', 'other', 'other', 'setosa', 'setosa', 'other', 'other', 'setosa', 'setosa', 'other', 'setosa', 'other', 'other', 'other', 'other']\n"
     ]
    },
    {
     "data": {
      "text/plain": [
       "True"
      ]
     },
     "execution_count": 13,
     "metadata": {
      "tags": []
     },
     "output_type": "execute_result"
    }
   ],
   "source": [
    "logger = logging.getLogger('iris_regr')\n",
    "\n",
    "\n",
    "## Prediction \n",
    "def handle(event, **kwargs):\n",
    "    # If data is received as json convert to pandas\n",
    "    event = event['data'] if 'data' in event else event\n",
    "    if not isinstance(event, pd.DataFrame):\n",
    "        event = pd.DataFrame.from_dict(event, orient='columns')\n",
    "\n",
    "    # Retrieve model from disk and use it for predictions\n",
    "    model = load(model_path)\n",
    "    return model.predict(event).tolist()\n",
    "\n",
    "## Testing and liveness check\n",
    "def test(data, **kwargs):\n",
    "    pred = handle(data)\n",
    "\n",
    "    logger.warning(f\"predicted: {pred}\")\n",
    "    \n",
    "    return True\n",
    "\n",
    "\n",
    "test(data)"
   ]
  }
 ],
 "metadata": {
  "colab": {
   "collapsed_sections": [],
   "name": "sklearn_classification.ipynb",
   "provenance": [],
   "version": "0.3.2"
  },
  "kernelspec": {
   "display_name": "Python 3",
   "language": "python",
   "name": "python3"
  },
  "language_info": {
   "codemirror_mode": {
    "name": "ipython",
    "version": 3
   },
   "file_extension": ".py",
   "mimetype": "text/x-python",
   "name": "python",
   "nbconvert_exporter": "python",
   "pygments_lexer": "ipython3",
   "version": "3.7.3"
  }
 },
 "nbformat": 4,
 "nbformat_minor": 1
}
