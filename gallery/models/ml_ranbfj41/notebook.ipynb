{
  "cells": [
    {
      "cell_type": "markdown",
      "metadata": {
        "papermill": {
          "duration": 0.011726,
          "end_time": "2019-10-11T13:56:07.909952",
          "exception": false,
          "start_time": "2019-10-11T13:56:07.898226",
          "status": "completed"
        },
        "tags": []
      },
      "source": [
        "# 101: TensorFlow classifier\n",
        "\n",
        "From Machine Learning model to scalable deployment with Analitico.\n",
        "\n",
        "Read the full documentation in the [Documents](https://analitico.ai/app/recipes/rx_tensorflow_classification/markdown/readme.md) page."
      ]
    },
    {
      "cell_type": "code",
      "execution_count": 1,
      "metadata": {
        "papermill": {
          "duration": 2.738779,
          "end_time": "2019-10-11T13:56:10.656529",
          "exception": false,
          "start_time": "2019-10-11T13:56:07.917750",
          "status": "completed"
        },
        "tags": []
      },
      "outputs": [
        {
          "name": "stdout",
          "output_type": "stream",
          "text": [
            "Requirement already satisfied: tensorflow==1.14.0 in /opt/conda/lib/python3.7/site-packages (1.14.0)\r\n",
            "Requirement already satisfied: numpy<2.0,>=1.14.5 in /opt/conda/lib/python3.7/site-packages (from tensorflow==1.14.0) (1.17.0)\r\n",
            "Requirement already satisfied: protobuf>=3.6.1 in /opt/conda/lib/python3.7/site-packages (from tensorflow==1.14.0) (3.10.0)\r\n",
            "Requirement already satisfied: wheel>=0.26 in /opt/conda/lib/python3.7/site-packages (from tensorflow==1.14.0) (0.33.4)\r\n",
            "Requirement already satisfied: keras-preprocessing>=1.0.5 in /opt/conda/lib/python3.7/site-packages (from tensorflow==1.14.0) (1.1.0)\r\n",
            "Requirement already satisfied: tensorboard<1.15.0,>=1.14.0 in /opt/conda/lib/python3.7/site-packages (from tensorflow==1.14.0) (1.14.0)\r\n",
            "Requirement already satisfied: google-pasta>=0.1.6 in /opt/conda/lib/python3.7/site-packages (from tensorflow==1.14.0) (0.1.7)\r\n",
            "Requirement already satisfied: six>=1.10.0 in /opt/conda/lib/python3.7/site-packages (from tensorflow==1.14.0) (1.12.0)\r\n",
            "Requirement already satisfied: tensorflow-estimator<1.15.0rc0,>=1.14.0rc0 in /opt/conda/lib/python3.7/site-packages (from tensorflow==1.14.0) (1.14.0)\r\n",
            "Requirement already satisfied: termcolor>=1.1.0 in /opt/conda/lib/python3.7/site-packages (from tensorflow==1.14.0) (1.1.0)\r\n",
            "Requirement already satisfied: absl-py>=0.7.0 in /opt/conda/lib/python3.7/site-packages (from tensorflow==1.14.0) (0.8.1)\r\n",
            "Requirement already satisfied: grpcio>=1.8.6 in /opt/conda/lib/python3.7/site-packages (from tensorflow==1.14.0) (1.24.1)\r\n",
            "Requirement already satisfied: astor>=0.6.0 in /opt/conda/lib/python3.7/site-packages (from tensorflow==1.14.0) (0.8.0)\r\n",
            "Requirement already satisfied: wrapt>=1.11.1 in /opt/conda/lib/python3.7/site-packages (from tensorflow==1.14.0) (1.11.2)\r\n",
            "Requirement already satisfied: keras-applications>=1.0.6 in /opt/conda/lib/python3.7/site-packages (from tensorflow==1.14.0) (1.0.8)\r\n"
          ]
        },
        {
          "name": "stdout",
          "output_type": "stream",
          "text": [
            "Requirement already satisfied: gast>=0.2.0 in /opt/conda/lib/python3.7/site-packages (from tensorflow==1.14.0) (0.3.2)\r\n",
            "Requirement already satisfied: setuptools in /opt/conda/lib/python3.7/site-packages (from protobuf>=3.6.1->tensorflow==1.14.0) (41.0.1)\r\n",
            "Requirement already satisfied: werkzeug>=0.11.15 in /opt/conda/lib/python3.7/site-packages (from tensorboard<1.15.0,>=1.14.0->tensorflow==1.14.0) (0.15.4)\r\n",
            "Requirement already satisfied: markdown>=2.6.8 in /opt/conda/lib/python3.7/site-packages (from tensorboard<1.15.0,>=1.14.0->tensorflow==1.14.0) (3.1.1)\r\n",
            "Requirement already satisfied: h5py in /opt/conda/lib/python3.7/site-packages (from keras-applications>=1.0.6->tensorflow==1.14.0) (2.9.0)\r\n"
          ]
        },
        {
          "name": "stdout",
          "output_type": "stream",
          "text": [
            "Requirement already satisfied: keras==2.2.4 in /opt/conda/lib/python3.7/site-packages (2.2.4)\r\n",
            "Requirement already satisfied: keras-preprocessing>=1.0.5 in /opt/conda/lib/python3.7/site-packages (from keras==2.2.4) (1.1.0)\r\n",
            "Requirement already satisfied: h5py in /opt/conda/lib/python3.7/site-packages (from keras==2.2.4) (2.9.0)\r\n",
            "Requirement already satisfied: keras-applications>=1.0.6 in /opt/conda/lib/python3.7/site-packages (from keras==2.2.4) (1.0.8)\r\n",
            "Requirement already satisfied: scipy>=0.14 in /opt/conda/lib/python3.7/site-packages (from keras==2.2.4) (1.3.0)\r\n",
            "Requirement already satisfied: numpy>=1.9.1 in /opt/conda/lib/python3.7/site-packages (from keras==2.2.4) (1.17.0)\r\n",
            "Requirement already satisfied: pyyaml in /opt/conda/lib/python3.7/site-packages (from keras==2.2.4) (5.1.1)\r\n",
            "Requirement already satisfied: six>=1.9.0 in /opt/conda/lib/python3.7/site-packages (from keras==2.2.4) (1.12.0)\r\n"
          ]
        }
      ],
      "source": [
        "# Load some dependencies\n",
        "!pip install tensorflow==1.14.0\n",
        "!pip install keras==2.2.4"
      ]
    },
    {
      "cell_type": "markdown",
      "metadata": {
        "papermill": {
          "duration": 0.009043,
          "end_time": "2019-10-11T13:56:10.677478",
          "exception": false,
          "start_time": "2019-10-11T13:56:10.668435",
          "status": "completed"
        },
        "tags": []
      },
      "source": [
        "## Model\n",
        "We define a simple neural network with TensorFlow.Keras."
      ]
    },
    {
      "cell_type": "code",
      "execution_count": 2,
      "metadata": {
        "colab": {},
        "colab_type": "code",
        "id": "ryziQ9vutxsr",
        "papermill": {
          "duration": 3.0228,
          "end_time": "2019-10-11T13:56:13.709967",
          "exception": false,
          "start_time": "2019-10-11T13:56:10.687167",
          "status": "completed"
        },
        "tags": []
      },
      "outputs": [
        {
          "name": "stdout",
          "output_type": "stream",
          "text": [
            "Train on 120 samples, validate on 30 samples\n",
            "Epoch 1/100\n"
          ]
        },
        {
          "name": "stdout",
          "output_type": "stream",
          "text": [
            "\r",
            "  8/120 [=>............................] - ETA: 0s - loss: 1.6748 - acc: 0.1250"
          ]
        },
        {
          "name": "stdout",
          "output_type": "stream",
          "text": [
            "\b\b\b\b\b\b\b\b\b\b\b\b\b\b\b\b\b\b\b\b\b\b\b\b\b\b\b\b\b\b\b\b\b\b\b\b\b\b\b\b\b\b\b\b\b\b\b\b\b\b\b\b\b\b\b\b\b\b\b\b\b\b\b\b\b\b\b\b\b\b\b\b\b\b\b\b\b\b\b\r",
            "120/120 [==============================] - 0s 1ms/sample - loss: 1.5810 - acc: 0.1667 - val_loss: 0.4751 - val_acc: 1.0000\n"
          ]
        },
        {
          "name": "stdout",
          "output_type": "stream",
          "text": [
            "Epoch 2/100\n",
            "\r",
            "  8/120 [=>............................] - ETA: 0s - loss: 1.3760 - acc: 0.2500"
          ]
        },
        {
          "name": "stdout",
          "output_type": "stream",
          "text": [
            "\b\b\b\b\b\b\b\b\b\b\b\b\b\b\b\b\b\b\b\b\b\b\b\b\b\b\b\b\b\b\b\b\b\b\b\b\b\b\b\b\b\b\b\b\b\b\b\b\b\b\b\b\b\b\b\b\b\b\b\b\b\b\b\b\b\b\b\b\b\b\b\b\b\b\b\b\b\b\b\r",
            "120/120 [==============================] - 0s 87us/sample - loss: 1.2738 - acc: 0.1667 - val_loss: 0.6962 - val_acc: 1.0000\n"
          ]
        },
        {
          "name": "stdout",
          "output_type": "stream",
          "text": [
            "Epoch 3/100\n",
            "\r",
            "  8/120 [=>............................] - ETA: 0s - loss: 1.1477 - acc: 0.1250"
          ]
        },
        {
          "name": "stdout",
          "output_type": "stream",
          "text": [
            "\b\b\b\b\b\b\b\b\b\b\b\b\b\b\b\b\b\b\b\b\b\b\b\b\b\b\b\b\b\b\b\b\b\b\b\b\b\b\b\b\b\b\b\b\b\b\b\b\b\b\b\b\b\b\b\b\b\b\b\b\b\b\b\b\b\b\b\b\b\b\b\b\b\b\b\b\b\b\b\r",
            "120/120 [==============================] - 0s 85us/sample - loss: 1.0651 - acc: 0.1667 - val_loss: 0.8359 - val_acc: 1.0000\n"
          ]
        },
        {
          "name": "stdout",
          "output_type": "stream",
          "text": [
            "Epoch 4/100\n",
            "\r",
            "  8/120 [=>............................] - ETA: 0s - loss: 1.0113 - acc: 0.1250"
          ]
        },
        {
          "name": "stdout",
          "output_type": "stream",
          "text": [
            "\b\b\b\b\b\b\b\b\b\b\b\b\b\b\b\b\b\b\b\b\b\b\b\b\b\b\b\b\b\b\b\b\b\b\b\b\b\b\b\b\b\b\b\b\b\b\b\b\b\b\b\b\b\b\b\b\b\b\b\b\b\b\b\b\b\b\b\b\b\b\b\b\b\b\b\b\b\b\b\r",
            "120/120 [==============================] - 0s 85us/sample - loss: 0.9819 - acc: 0.1667 - val_loss: 0.9396 - val_acc: 1.0000\n"
          ]
        },
        {
          "name": "stdout",
          "output_type": "stream",
          "text": [
            "Epoch 5/100\n",
            "\r",
            "  8/120 [=>............................] - ETA: 0s - loss: 0.9346 - acc: 0.2500"
          ]
        },
        {
          "name": "stdout",
          "output_type": "stream",
          "text": [
            "\b\b\b\b\b\b\b\b\b\b\b\b\b\b\b\b\b\b\b\b\b\b\b\b\b\b\b\b\b\b\b\b\b\b\b\b\b\b\b\b\b\b\b\b\b\b\b\b\b\b\b\b\b\b\b\b\b\b\b\b\b\b\b\b\b\b\b\b\b\b\b\b\b\b\b\b\b\b\b\r",
            "120/120 [==============================] - 0s 84us/sample - loss: 0.9376 - acc: 0.3333 - val_loss: 0.9740 - val_acc: 0.9333\n"
          ]
        },
        {
          "name": "stdout",
          "output_type": "stream",
          "text": [
            "Epoch 6/100\n",
            "\r",
            "  8/120 [=>............................] - ETA: 0s - loss: 0.9524 - acc: 0.5000"
          ]
        },
        {
          "name": "stdout",
          "output_type": "stream",
          "text": [
            "\b\b\b\b\b\b\b\b\b\b\b\b\b\b\b\b\b\b\b\b\b\b\b\b\b\b\b\b\b\b\b\b\b\b\b\b\b\b\b\b\b\b\b\b\b\b\b\b\b\b\b\b\b\b\b\b\b\b\b\b\b\b\b\b\b\b\b\b\b\b\b\b\b\b\b\b\b\b\b\r",
            "120/120 [==============================] - 0s 87us/sample - loss: 0.9000 - acc: 0.6000 - val_loss: 0.9957 - val_acc: 0.7333\n"
          ]
        },
        {
          "name": "stdout",
          "output_type": "stream",
          "text": [
            "Epoch 7/100\n",
            "\r",
            "  8/120 [=>............................] - ETA: 0s - loss: 0.8529 - acc: 0.6250"
          ]
        },
        {
          "name": "stdout",
          "output_type": "stream",
          "text": [
            "\b\b\b\b\b\b\b\b\b\b\b\b\b\b\b\b\b\b\b\b\b\b\b\b\b\b\b\b\b\b\b\b\b\b\b\b\b\b\b\b\b\b\b\b\b\b\b\b\b\b\b\b\b\b\b\b\b\b\b\b\b\b\b\b\b\b\b\b\b\b\b\b\b\b\b\b\b\b\b\r",
            "120/120 [==============================] - 0s 81us/sample - loss: 0.8735 - acc: 0.6917 - val_loss: 1.0135 - val_acc: 0.5000\n"
          ]
        },
        {
          "name": "stdout",
          "output_type": "stream",
          "text": [
            "Epoch 8/100\n",
            "\r",
            "  8/120 [=>............................] - ETA: 0s - loss: 0.8815 - acc: 0.7500"
          ]
        },
        {
          "name": "stdout",
          "output_type": "stream",
          "text": [
            "\b\b\b\b\b\b\b\b\b\b\b\b\b\b\b\b\b\b\b\b\b\b\b\b\b\b\b\b\b\b\b\b\b\b\b\b\b\b\b\b\b\b\b\b\b\b\b\b\b\b\b\b\b\b\b\b\b\b\b\b\b\b\b\b\b\b\b\b\b\b\b\b\b\b\b\b\b\b\b\r",
            "120/120 [==============================] - 0s 84us/sample - loss: 0.8449 - acc: 0.8000 - val_loss: 0.9994 - val_acc: 0.4000\n"
          ]
        },
        {
          "name": "stdout",
          "output_type": "stream",
          "text": [
            "Epoch 9/100\n",
            "\r",
            "  8/120 [=>............................] - ETA: 0s - loss: 0.8941 - acc: 0.8750"
          ]
        },
        {
          "name": "stdout",
          "output_type": "stream",
          "text": [
            "\b\b\b\b\b\b\b\b\b\b\b\b\b\b\b\b\b\b\b\b\b\b\b\b\b\b\b\b\b\b\b\b\b\b\b\b\b\b\b\b\b\b\b\b\b\b\b\b\b\b\b\b\b\b\b\b\b\b\b\b\b\b\b\b\b\b\b\b\b\b\b\b\b\b\b\b\b\b\b\r",
            "120/120 [==============================] - 0s 82us/sample - loss: 0.8170 - acc: 0.8167 - val_loss: 0.9718 - val_acc: 0.4000\n"
          ]
        },
        {
          "name": "stdout",
          "output_type": "stream",
          "text": [
            "Epoch 10/100\n",
            "\r",
            "  8/120 [=>............................] - ETA: 0s - loss: 0.8543 - acc: 0.7500"
          ]
        },
        {
          "name": "stdout",
          "output_type": "stream",
          "text": [
            "\b\b\b\b\b\b\b\b\b\b\b\b\b\b\b\b\b\b\b\b\b\b\b\b\b\b\b\b\b\b\b\b\b\b\b\b\b\b\b\b\b\b\b\b\b\b\b\b\b\b\b\b\b\b\b\b\b\b\b\b\b\b\b\b\b\b\b\b\b\b\b\b\b\b\b\b\b\b\b\r",
            "120/120 [==============================] - 0s 85us/sample - loss: 0.7889 - acc: 0.7250 - val_loss: 0.9540 - val_acc: 0.3000\n"
          ]
        },
        {
          "name": "stdout",
          "output_type": "stream",
          "text": [
            "Epoch 11/100\n",
            "\r",
            "  8/120 [=>............................] - ETA: 0s - loss: 0.7256 - acc: 0.8750"
          ]
        },
        {
          "name": "stdout",
          "output_type": "stream",
          "text": [
            "\b\b\b\b\b\b\b\b\b\b\b\b\b\b\b\b\b\b\b\b\b\b\b\b\b\b\b\b\b\b\b\b\b\b\b\b\b\b\b\b\b\b\b\b\b\b\b\b\b\b\b\b\b\b\b\b\b\b\b\b\b\b\b\b\b\b\b\b\b\b\b\b\b\b\b\b\b\b\b\r",
            "120/120 [==============================] - 0s 83us/sample - loss: 0.7586 - acc: 0.8083 - val_loss: 0.9272 - val_acc: 0.2667\n"
          ]
        },
        {
          "name": "stdout",
          "output_type": "stream",
          "text": [
            "Epoch 12/100\n",
            "\r",
            "  8/120 [=>............................] - ETA: 0s - loss: 0.7651 - acc: 0.7500"
          ]
        },
        {
          "name": "stdout",
          "output_type": "stream",
          "text": [
            "\b\b\b\b\b\b\b\b\b\b\b\b\b\b\b\b\b\b\b\b\b\b\b\b\b\b\b\b\b\b\b\b\b\b\b\b\b\b\b\b\b\b\b\b\b\b\b\b\b\b\b\b\b\b\b\b\b\b\b\b\b\b\b\b\b\b\b\b\b\b\b\b\b\b\b\b\b\b\b\r",
            "120/120 [==============================] - 0s 87us/sample - loss: 0.7284 - acc: 0.8500 - val_loss: 0.9086 - val_acc: 0.2667\n"
          ]
        },
        {
          "name": "stdout",
          "output_type": "stream",
          "text": [
            "Epoch 13/100\n",
            "\r",
            "  8/120 [=>............................] - ETA: 0s - loss: 0.7413 - acc: 0.8750"
          ]
        },
        {
          "name": "stdout",
          "output_type": "stream",
          "text": [
            "\b\b\b\b\b\b\b\b\b\b\b\b\b\b\b\b\b\b\b\b\b\b\b\b\b\b\b\b\b\b\b\b\b\b\b\b\b\b\b\b\b\b\b\b\b\b\b\b\b\b\b\b\b\b\b\b\b\b\b\b\b\b\b\b\b\b\b\b\b\b\b\b\b\b\b\b\b\b\b\r",
            "120/120 [==============================] - 0s 83us/sample - loss: 0.6978 - acc: 0.9000 - val_loss: 0.8776 - val_acc: 0.3333\n"
          ]
        },
        {
          "name": "stdout",
          "output_type": "stream",
          "text": [
            "Epoch 14/100\n",
            "\r",
            "  8/120 [=>............................] - ETA: 0s - loss: 0.7265 - acc: 1.0000"
          ]
        },
        {
          "name": "stdout",
          "output_type": "stream",
          "text": [
            "\b\b\b\b\b\b\b\b\b\b\b\b\b\b\b\b\b\b\b\b\b\b\b\b\b\b\b\b\b\b\b\b\b\b\b\b\b\b\b\b\b\b\b\b\b\b\b\b\b\b\b\b\b\b\b\b\b\b\b\b\b\b\b\b\b\b\b\b\b\b\b\b\b\b\b\b\b\b\b\r",
            "120/120 [==============================] - 0s 85us/sample - loss: 0.6681 - acc: 0.8833 - val_loss: 0.8475 - val_acc: 0.5667\n"
          ]
        },
        {
          "name": "stdout",
          "output_type": "stream",
          "text": [
            "Epoch 15/100\n",
            "\r",
            "  8/120 [=>............................] - ETA: 0s - loss: 0.5297 - acc: 1.0000"
          ]
        },
        {
          "name": "stdout",
          "output_type": "stream",
          "text": [
            "\b\b\b\b\b\b\b\b\b\b\b\b\b\b\b\b\b\b\b\b\b\b\b\b\b\b\b\b\b\b\b\b\b\b\b\b\b\b\b\b\b\b\b\b\b\b\b\b\b\b\b\b\b\b\b\b\b\b\b\b\b\b\b\b\b\b\b\b\b\b\b\b\b\b\b\b\b\b\b\r",
            "120/120 [==============================] - 0s 85us/sample - loss: 0.6397 - acc: 0.9167 - val_loss: 0.8315 - val_acc: 0.3667\n"
          ]
        },
        {
          "name": "stdout",
          "output_type": "stream",
          "text": [
            "Epoch 16/100\n",
            "\r",
            "  8/120 [=>............................] - ETA: 0s - loss: 0.6743 - acc: 0.6250"
          ]
        },
        {
          "name": "stdout",
          "output_type": "stream",
          "text": [
            "\b\b\b\b\b\b\b\b\b\b\b\b\b\b\b\b\b\b\b\b\b\b\b\b\b\b\b\b\b\b\b\b\b\b\b\b\b\b\b\b\b\b\b\b\b\b\b\b\b\b\b\b\b\b\b\b\b\b\b\b\b\b\b\b\b\b\b\b\b\b\b\b\b\b\b\b\b\b\b\r",
            "120/120 [==============================] - 0s 86us/sample - loss: 0.6140 - acc: 0.9333 - val_loss: 0.8135 - val_acc: 0.3667\n"
          ]
        },
        {
          "name": "stdout",
          "output_type": "stream",
          "text": [
            "Epoch 17/100\n",
            "\r",
            "  8/120 [=>............................] - ETA: 0s - loss: 0.5406 - acc: 0.8750"
          ]
        },
        {
          "name": "stdout",
          "output_type": "stream",
          "text": [
            "\b\b\b\b\b\b\b\b\b\b\b\b\b\b\b\b\b\b\b\b\b\b\b\b\b\b\b\b\b\b\b\b\b\b\b\b\b\b\b\b\b\b\b\b\b\b\b\b\b\b\b\b\b\b\b\b\b\b\b\b\b\b\b\b\b\b\b\b\b\b\b\b\b\b\b\b\b\b\b\r",
            "120/120 [==============================] - 0s 86us/sample - loss: 0.5909 - acc: 0.9000 - val_loss: 0.8035 - val_acc: 0.2333\n"
          ]
        },
        {
          "name": "stdout",
          "output_type": "stream",
          "text": [
            "Epoch 18/100\n",
            "\r",
            "  8/120 [=>............................] - ETA: 0s - loss: 0.5545 - acc: 1.0000"
          ]
        },
        {
          "name": "stdout",
          "output_type": "stream",
          "text": [
            "\b\b\b\b\b\b\b\b\b\b\b\b\b\b\b\b\b\b\b\b\b\b\b\b\b\b\b\b\b\b\b\b\b\b\b\b\b\b\b\b\b\b\b\b\b\b\b\b\b\b\b\b\b\b\b\b\b\b\b\b\b\b\b\b\b\b\b\b\b\b\b\b\b\b\b\b\b\b\b\r",
            "120/120 [==============================] - 0s 84us/sample - loss: 0.5693 - acc: 0.8750 - val_loss: 0.8064 - val_acc: 0.1000\n"
          ]
        },
        {
          "name": "stdout",
          "output_type": "stream",
          "text": [
            "Epoch 19/100\n",
            "\r",
            "  8/120 [=>............................] - ETA: 0s - loss: 0.5298 - acc: 0.8750"
          ]
        },
        {
          "name": "stdout",
          "output_type": "stream",
          "text": [
            "\b\b\b\b\b\b\b\b\b\b\b\b\b\b\b\b\b\b\b\b\b\b\b\b\b\b\b\b\b\b\b\b\b\b\b\b\b\b\b\b\b\b\b\b\b\b\b\b\b\b\b\b\b\b\b\b\b\b\b\b\b\b\b\b\b\b\b\b\b\b\b\b\b\b\b\b\b\b\b\r",
            "120/120 [==============================] - 0s 88us/sample - loss: 0.5495 - acc: 0.8500 - val_loss: 0.8104 - val_acc: 0.0333\n"
          ]
        },
        {
          "name": "stdout",
          "output_type": "stream",
          "text": [
            "Epoch 20/100\n",
            "\r",
            "  8/120 [=>............................] - ETA: 0s - loss: 0.4548 - acc: 0.8750"
          ]
        },
        {
          "name": "stdout",
          "output_type": "stream",
          "text": [
            "\b\b\b\b\b\b\b\b\b\b\b\b\b\b\b\b\b\b\b\b\b\b\b\b\b\b\b\b\b\b\b\b\b\b\b\b\b\b\b\b\b\b\b\b\b\b\b\b\b\b\b\b\b\b\b\b\b\b\b\b\b\b\b\b\b\b\b\b\b\b\b\b\b\b\b\b\b\b\b\r",
            "120/120 [==============================] - 0s 88us/sample - loss: 0.5316 - acc: 0.8417 - val_loss: 0.8166 - val_acc: 0.0000e+00\n"
          ]
        },
        {
          "name": "stdout",
          "output_type": "stream",
          "text": [
            "Epoch 21/100\n",
            "\r",
            "  8/120 [=>............................] - ETA: 0s - loss: 0.5317 - acc: 0.8750"
          ]
        },
        {
          "name": "stdout",
          "output_type": "stream",
          "text": [
            "\b\b\b\b\b\b\b\b\b\b\b\b\b\b\b\b\b\b\b\b\b\b\b\b\b\b\b\b\b\b\b\b\b\b\b\b\b\b\b\b\b\b\b\b\b\b\b\b\b\b\b\b\b\b\b\b\b\b\b\b\b\b\b\b\b\b\b\b\b\b\b\b\b\b\b\b\b\b\b\r",
            "120/120 [==============================] - 0s 93us/sample - loss: 0.5149 - acc: 0.8333 - val_loss: 0.8312 - val_acc: 0.0000e+00\n"
          ]
        },
        {
          "name": "stdout",
          "output_type": "stream",
          "text": [
            "Epoch 22/100\n",
            "\r",
            "  8/120 [=>............................] - ETA: 0s - loss: 0.6741 - acc: 0.7500"
          ]
        },
        {
          "name": "stdout",
          "output_type": "stream",
          "text": [
            "\b\b\b\b\b\b\b\b\b\b\b\b\b\b\b\b\b\b\b\b\b\b\b\b\b\b\b\b\b\b\b\b\b\b\b\b\b\b\b\b\b\b\b\b\b\b\b\b\b\b\b\b\b\b\b\b\b\b\b\b\b\b\b\b\b\b\b\b\b\b\b\b\b\b\b\b\b\b\b\r",
            "120/120 [==============================] - 0s 90us/sample - loss: 0.4994 - acc: 0.8333 - val_loss: 0.8410 - val_acc: 0.0000e+00\n"
          ]
        },
        {
          "name": "stdout",
          "output_type": "stream",
          "text": [
            "Epoch 23/100\n",
            "\r",
            "  8/120 [=>............................] - ETA: 0s - loss: 0.3596 - acc: 1.0000"
          ]
        },
        {
          "name": "stdout",
          "output_type": "stream",
          "text": [
            "\b\b\b\b\b\b\b\b\b\b\b\b\b\b\b\b\b\b\b\b\b\b\b\b\b\b\b\b\b\b\b\b\b\b\b\b\b\b\b\b\b\b\b\b\b\b\b\b\b\b\b\b\b\b\b\b\b\b\b\b\b\b\b\b\b\b\b\b\b\b\b\b\b\b\b\b\b\b\b\r",
            "120/120 [==============================] - 0s 86us/sample - loss: 0.4859 - acc: 0.8333 - val_loss: 0.8631 - val_acc: 0.0000e+00\n"
          ]
        },
        {
          "name": "stdout",
          "output_type": "stream",
          "text": [
            "Epoch 24/100\n",
            "\r",
            "  8/120 [=>............................] - ETA: 0s - loss: 0.3505 - acc: 0.8750"
          ]
        },
        {
          "name": "stdout",
          "output_type": "stream",
          "text": [
            "\b\b\b\b\b\b\b\b\b\b\b\b\b\b\b\b\b\b\b\b\b\b\b\b\b\b\b\b\b\b\b\b\b\b\b\b\b\b\b\b\b\b\b\b\b\b\b\b\b\b\b\b\b\b\b\b\b\b\b\b\b\b\b\b\b\b\b\b\b\b\b\b\b\b\b\b\b\b\b\r",
            "120/120 [==============================] - 0s 86us/sample - loss: 0.4731 - acc: 0.8333 - val_loss: 0.8798 - val_acc: 0.0000e+00\n"
          ]
        },
        {
          "name": "stdout",
          "output_type": "stream",
          "text": [
            "Epoch 25/100\n",
            "\r",
            "  8/120 [=>............................] - ETA: 0s - loss: 0.3249 - acc: 1.0000"
          ]
        },
        {
          "name": "stdout",
          "output_type": "stream",
          "text": [
            "\b\b\b\b\b\b\b\b\b\b\b\b\b\b\b\b\b\b\b\b\b\b\b\b\b\b\b\b\b\b\b\b\b\b\b\b\b\b\b\b\b\b\b\b\b\b\b\b\b\b\b\b\b\b\b\b\b\b\b\b\b\b\b\b\b\b\b\b\b\b\b\b\b\b\b\b\b\b\b\r",
            "120/120 [==============================] - 0s 95us/sample - loss: 0.4622 - acc: 0.8333 - val_loss: 0.8963 - val_acc: 0.0000e+00\n"
          ]
        },
        {
          "name": "stdout",
          "output_type": "stream",
          "text": [
            "Epoch 26/100\n",
            "\r",
            "  8/120 [=>............................] - ETA: 0s - loss: 0.4838 - acc: 0.7500"
          ]
        },
        {
          "name": "stdout",
          "output_type": "stream",
          "text": [
            "\b\b\b\b\b\b\b\b\b\b\b\b\b\b\b\b\b\b\b\b\b\b\b\b\b\b\b\b\b\b\b\b\b\b\b\b\b\b\b\b\b\b\b\b\b\b\b\b\b\b\b\b\b\b\b\b\b\b\b\b\b\b\b\b\b\b\b\b\b\b\b\b\b\b\b\b\b\b\b\r",
            "120/120 [==============================] - 0s 93us/sample - loss: 0.4517 - acc: 0.8333 - val_loss: 0.9112 - val_acc: 0.0000e+00\n"
          ]
        },
        {
          "name": "stdout",
          "output_type": "stream",
          "text": [
            "Epoch 27/100\n",
            "\r",
            "  8/120 [=>............................] - ETA: 0s - loss: 0.4862 - acc: 0.7500"
          ]
        },
        {
          "name": "stdout",
          "output_type": "stream",
          "text": [
            "\b\b\b\b\b\b\b\b\b\b\b\b\b\b\b\b\b\b\b\b\b\b\b\b\b\b\b\b\b\b\b\b\b\b\b\b\b\b\b\b\b\b\b\b\b\b\b\b\b\b\b\b\b\b\b\b\b\b\b\b\b\b\b\b\b\b\b\b\b\b\b\b\b\b\b\b\b\b\b\r",
            "120/120 [==============================] - 0s 89us/sample - loss: 0.4432 - acc: 0.8333 - val_loss: 0.9362 - val_acc: 0.0000e+00\n"
          ]
        },
        {
          "name": "stdout",
          "output_type": "stream",
          "text": [
            "Epoch 28/100\n",
            "\r",
            "  8/120 [=>............................] - ETA: 0s - loss: 0.3201 - acc: 0.8750"
          ]
        },
        {
          "name": "stdout",
          "output_type": "stream",
          "text": [
            "\b\b\b\b\b\b\b\b\b\b\b\b\b\b\b\b\b\b\b\b\b\b\b\b\b\b\b\b\b\b\b\b\b\b\b\b\b\b\b\b\b\b\b\b\b\b\b\b\b\b\b\b\b\b\b\b\b\b\b\b\b\b\b\b\b\b\b\b\b\b\b\b\b\b\b\b\b\b\b\r",
            "120/120 [==============================] - 0s 90us/sample - loss: 0.4347 - acc: 0.8333 - val_loss: 0.9468 - val_acc: 0.0000e+00\n"
          ]
        },
        {
          "name": "stdout",
          "output_type": "stream",
          "text": [
            "Epoch 29/100\n",
            "\r",
            "  8/120 [=>............................] - ETA: 0s - loss: 0.3159 - acc: 1.0000"
          ]
        },
        {
          "name": "stdout",
          "output_type": "stream",
          "text": [
            "\b\b\b\b\b\b\b\b\b\b\b\b\b\b\b\b\b\b\b\b\b\b\b\b\b\b\b\b\b\b\b\b\b\b\b\b\b\b\b\b\b\b\b\b\b\b\b\b\b\b\b\b\b\b\b\b\b\b\b\b\b\b\b\b\b\b\b\b\b\b\b\b\b\b\b\b\b\b\b\r",
            "120/120 [==============================] - 0s 91us/sample - loss: 0.4285 - acc: 0.8333 - val_loss: 0.9748 - val_acc: 0.0000e+00\n"
          ]
        },
        {
          "name": "stdout",
          "output_type": "stream",
          "text": [
            "Epoch 30/100\n"
          ]
        },
        {
          "name": "stdout",
          "output_type": "stream",
          "text": [
            "\r",
            "  8/120 [=>............................] - ETA: 0s - loss: 0.5399 - acc: 0.7500"
          ]
        },
        {
          "name": "stdout",
          "output_type": "stream",
          "text": [
            "\b\b\b\b\b\b\b\b\b\b\b\b\b\b\b\b\b\b\b\b\b\b\b\b\b\b\b\b\b\b\b\b\b\b\b\b\b\b\b\b\b\b\b\b\b\b\b\b\b\b\b\b\b\b\b\b\b\b\b\b\b\b\b\b\b\b\b\b\b\b\b\b\b\b\b\b\b\b\b\r",
            "120/120 [==============================] - 0s 92us/sample - loss: 0.4222 - acc: 0.8333 - val_loss: 0.9961 - val_acc: 0.0000e+00\n"
          ]
        },
        {
          "name": "stdout",
          "output_type": "stream",
          "text": [
            "Epoch 31/100\n",
            "\r",
            "  8/120 [=>............................] - ETA: 0s - loss: 0.3584 - acc: 1.0000"
          ]
        },
        {
          "name": "stdout",
          "output_type": "stream",
          "text": [
            "\b\b\b\b\b\b\b\b\b\b\b\b\b\b\b\b\b\b\b\b\b\b\b\b\b\b\b\b\b\b\b\b\b\b\b\b\b\b\b\b\b\b\b\b\b\b\b\b\b\b\b\b\b\b\b\b\b\b\b\b\b\b\b\b\b\b\b\b\b\b\b\b\b\b\b\b\b\b\b\r",
            "120/120 [==============================] - 0s 89us/sample - loss: 0.4172 - acc: 0.8333 - val_loss: 1.0154 - val_acc: 0.0000e+00\n"
          ]
        },
        {
          "name": "stdout",
          "output_type": "stream",
          "text": [
            "Epoch 32/100\n"
          ]
        },
        {
          "name": "stdout",
          "output_type": "stream",
          "text": [
            "\r",
            "  8/120 [=>............................] - ETA: 0s - loss: 0.6290 - acc: 0.6250"
          ]
        },
        {
          "name": "stdout",
          "output_type": "stream",
          "text": [
            "\b\b\b\b\b\b\b\b\b\b\b\b\b\b\b\b\b\b\b\b\b\b\b\b\b\b\b\b\b\b\b\b\b\b\b\b\b\b\b\b\b\b\b\b\b\b\b\b\b\b\b\b\b\b\b\b\b\b\b\b\b\b\b\b\b\b\b\b\b\b\b\b\b\b\b\b\b\b\b\r",
            "120/120 [==============================] - 0s 90us/sample - loss: 0.4111 - acc: 0.8333 - val_loss: 1.0116 - val_acc: 0.0000e+00\n"
          ]
        },
        {
          "name": "stdout",
          "output_type": "stream",
          "text": [
            "Epoch 33/100\n",
            "\r",
            "  8/120 [=>............................] - ETA: 0s - loss: 0.4702 - acc: 0.7500"
          ]
        },
        {
          "name": "stdout",
          "output_type": "stream",
          "text": [
            "\b\b\b\b\b\b\b\b\b\b\b\b\b\b\b\b\b\b\b\b\b\b\b\b\b\b\b\b\b\b\b\b\b\b\b\b\b\b\b\b\b\b\b\b\b\b\b\b\b\b\b\b\b\b\b\b\b\b\b\b\b\b\b\b\b\b\b\b\b\b\b\b\b\b\b\b\b\b\b\r",
            "120/120 [==============================] - 0s 86us/sample - loss: 0.4073 - acc: 0.8333 - val_loss: 1.0140 - val_acc: 0.0000e+00\n"
          ]
        },
        {
          "name": "stdout",
          "output_type": "stream",
          "text": [
            "Epoch 34/100\n"
          ]
        },
        {
          "name": "stdout",
          "output_type": "stream",
          "text": [
            "\r",
            "  8/120 [=>............................] - ETA: 0s - loss: 0.5734 - acc: 0.7500"
          ]
        },
        {
          "name": "stdout",
          "output_type": "stream",
          "text": [
            "\b\b\b\b\b\b\b\b\b\b\b\b\b\b\b\b\b\b\b\b\b\b\b\b\b\b\b\b\b\b\b\b\b\b\b\b\b\b\b\b\b\b\b\b\b\b\b\b\b\b\b\b\b\b\b\b\b\b\b\b\b\b\b\b\b\b\b\b\b\b\b\b\b\b\b\b\b\b\b\r",
            "120/120 [==============================] - 0s 88us/sample - loss: 0.4032 - acc: 0.8333 - val_loss: 1.0176 - val_acc: 0.0000e+00\n"
          ]
        },
        {
          "name": "stdout",
          "output_type": "stream",
          "text": [
            "Epoch 35/100\n",
            "\r",
            "  8/120 [=>............................] - ETA: 0s - loss: 0.3590 - acc: 0.7500"
          ]
        },
        {
          "name": "stdout",
          "output_type": "stream",
          "text": [
            "\b\b\b\b\b\b\b\b\b\b\b\b\b\b\b\b\b\b\b\b\b\b\b\b\b\b\b\b\b\b\b\b\b\b\b\b\b\b\b\b\b\b\b\b\b\b\b\b\b\b\b\b\b\b\b\b\b\b\b\b\b\b\b\b\b\b\b\b\b\b\b\b\b\b\b\b\b\b\b\r",
            "120/120 [==============================] - 0s 86us/sample - loss: 0.3997 - acc: 0.8333 - val_loss: 1.0306 - val_acc: 0.0000e+00\n"
          ]
        },
        {
          "name": "stdout",
          "output_type": "stream",
          "text": [
            "Epoch 36/100\n"
          ]
        },
        {
          "name": "stdout",
          "output_type": "stream",
          "text": [
            "\r",
            "  8/120 [=>............................] - ETA: 0s - loss: 0.2863 - acc: 0.8750"
          ]
        },
        {
          "name": "stdout",
          "output_type": "stream",
          "text": [
            "\b\b\b\b\b\b\b\b\b\b\b\b\b\b\b\b\b\b\b\b\b\b\b\b\b\b\b\b\b\b\b\b\b\b\b\b\b\b\b\b\b\b\b\b\b\b\b\b\b\b\b\b\b\b\b\b\b\b\b\b\b\b\b\b\b\b\b\b\b\b\b\b\b\b\b\b\b\b\b\r",
            "120/120 [==============================] - 0s 84us/sample - loss: 0.3967 - acc: 0.8333 - val_loss: 1.0422 - val_acc: 0.0000e+00\n"
          ]
        },
        {
          "name": "stdout",
          "output_type": "stream",
          "text": [
            "Epoch 37/100\n",
            "\r",
            "  8/120 [=>............................] - ETA: 0s - loss: 0.3488 - acc: 0.8750"
          ]
        },
        {
          "name": "stdout",
          "output_type": "stream",
          "text": [
            "\b\b\b\b\b\b\b\b\b\b\b\b\b\b\b\b\b\b\b\b\b\b\b\b\b\b\b\b\b\b\b\b\b\b\b\b\b\b\b\b\b\b\b\b\b\b\b\b\b\b\b\b\b\b\b\b\b\b\b\b\b\b\b\b\b\b\b\b\b\b\b\b\b\b\b\b\b\b\b\r",
            "120/120 [==============================] - 0s 85us/sample - loss: 0.3936 - acc: 0.8333 - val_loss: 1.0446 - val_acc: 0.0000e+00\n"
          ]
        },
        {
          "name": "stdout",
          "output_type": "stream",
          "text": [
            "Epoch 38/100\n",
            "\r",
            "  8/120 [=>............................] - ETA: 0s - loss: 0.3753 - acc: 1.0000"
          ]
        },
        {
          "name": "stdout",
          "output_type": "stream",
          "text": [
            "\b\b\b\b\b\b\b\b\b\b\b\b\b\b\b\b\b\b\b\b\b\b\b\b\b\b\b\b\b\b\b\b\b\b\b\b\b\b\b\b\b\b\b\b\b\b\b\b\b\b\b\b\b\b\b\b\b\b\b\b\b\b\b\b\b\b\b\b\b\b\b\b\b\b\b\b\b\b\b\r",
            "120/120 [==============================] - 0s 89us/sample - loss: 0.3911 - acc: 0.8333 - val_loss: 1.0361 - val_acc: 0.0000e+00\n"
          ]
        },
        {
          "name": "stdout",
          "output_type": "stream",
          "text": [
            "Epoch 39/100\n",
            "\r",
            "  8/120 [=>............................] - ETA: 0s - loss: 0.5539 - acc: 0.7500"
          ]
        },
        {
          "name": "stdout",
          "output_type": "stream",
          "text": [
            "\b\b\b\b\b\b\b\b\b\b\b\b\b\b\b\b\b\b\b\b\b\b\b\b\b\b\b\b\b\b\b\b\b\b\b\b\b\b\b\b\b\b\b\b\b\b\b\b\b\b\b\b\b\b\b\b\b\b\b\b\b\b\b\b\b\b\b\b\b\b\b\b\b\b\b\b\b\b\b\r",
            "120/120 [==============================] - 0s 84us/sample - loss: 0.3884 - acc: 0.8333 - val_loss: 1.0420 - val_acc: 0.0000e+00\n"
          ]
        },
        {
          "name": "stdout",
          "output_type": "stream",
          "text": [
            "Epoch 40/100\n",
            "\r",
            "  8/120 [=>............................] - ETA: 0s - loss: 0.5395 - acc: 0.6250"
          ]
        },
        {
          "name": "stdout",
          "output_type": "stream",
          "text": [
            "\b\b\b\b\b\b\b\b\b\b\b\b\b\b\b\b\b\b\b\b\b\b\b\b\b\b\b\b\b\b\b\b\b\b\b\b\b\b\b\b\b\b\b\b\b\b\b\b\b\b\b\b\b\b\b\b\b\b\b\b\b\b\b\b\b\b\b\b\b\b\b\b\b\b\b\b\b\b\b\r",
            "120/120 [==============================] - 0s 89us/sample - loss: 0.3865 - acc: 0.8333 - val_loss: 1.0474 - val_acc: 0.0000e+00\n"
          ]
        },
        {
          "name": "stdout",
          "output_type": "stream",
          "text": [
            "Epoch 41/100\n",
            "\r",
            "  8/120 [=>............................] - ETA: 0s - loss: 0.3919 - acc: 0.7500"
          ]
        },
        {
          "name": "stdout",
          "output_type": "stream",
          "text": [
            "\b\b\b\b\b\b\b\b\b\b\b\b\b\b\b\b\b\b\b\b\b\b\b\b\b\b\b\b\b\b\b\b\b\b\b\b\b\b\b\b\b\b\b\b\b\b\b\b\b\b\b\b\b\b\b\b\b\b\b\b\b\b\b\b\b\b\b\b\b\b\b\b\b\b\b\b\b\b\b\r",
            "120/120 [==============================] - 0s 86us/sample - loss: 0.3842 - acc: 0.8333 - val_loss: 1.0465 - val_acc: 0.0000e+00\n"
          ]
        },
        {
          "name": "stdout",
          "output_type": "stream",
          "text": [
            "Epoch 42/100\n"
          ]
        },
        {
          "name": "stdout",
          "output_type": "stream",
          "text": [
            "\r",
            "  8/120 [=>............................] - ETA: 0s - loss: 0.5274 - acc: 0.6250"
          ]
        },
        {
          "name": "stdout",
          "output_type": "stream",
          "text": [
            "\b\b\b\b\b\b\b\b\b\b\b\b\b\b\b\b\b\b\b\b\b\b\b\b\b\b\b\b\b\b\b\b\b\b\b\b\b\b\b\b\b\b\b\b\b\b\b\b\b\b\b\b\b\b\b\b\b\b\b\b\b\b\b\b\b\b\b\b\b\b\b\b\b\b\b\b\b\b\b\r",
            "120/120 [==============================] - 0s 85us/sample - loss: 0.3824 - acc: 0.8333 - val_loss: 1.0403 - val_acc: 0.0000e+00\n"
          ]
        },
        {
          "name": "stdout",
          "output_type": "stream",
          "text": [
            "Epoch 43/100\n",
            "\r",
            "  8/120 [=>............................] - ETA: 0s - loss: 0.6016 - acc: 0.5000"
          ]
        },
        {
          "name": "stdout",
          "output_type": "stream",
          "text": [
            "\b\b\b\b\b\b\b\b\b\b\b\b\b\b\b\b\b\b\b\b\b\b\b\b\b\b\b\b\b\b\b\b\b\b\b\b\b\b\b\b\b\b\b\b\b\b\b\b\b\b\b\b\b\b\b\b\b\b\b\b\b\b\b\b\b\b\b\b\b\b\b\b\b\b\b\b\b\b\b\r",
            "120/120 [==============================] - 0s 86us/sample - loss: 0.3807 - acc: 0.8333 - val_loss: 1.0392 - val_acc: 0.0000e+00\n"
          ]
        },
        {
          "name": "stdout",
          "output_type": "stream",
          "text": [
            "Epoch 44/100\n",
            "\r",
            "  8/120 [=>............................] - ETA: 0s - loss: 0.1917 - acc: 1.0000"
          ]
        },
        {
          "name": "stdout",
          "output_type": "stream",
          "text": [
            "\b\b\b\b\b\b\b\b\b\b\b\b\b\b\b\b\b\b\b\b\b\b\b\b\b\b\b\b\b\b\b\b\b\b\b\b\b\b\b\b\b\b\b\b\b\b\b\b\b\b\b\b\b\b\b\b\b\b\b\b\b\b\b\b\b\b\b\b\b\b\b\b\b\b\b\b\b\b\b\r",
            "120/120 [==============================] - 0s 88us/sample - loss: 0.3792 - acc: 0.8333 - val_loss: 1.0612 - val_acc: 0.0000e+00\n"
          ]
        },
        {
          "name": "stdout",
          "output_type": "stream",
          "text": [
            "Epoch 45/100\n",
            "\r",
            "  8/120 [=>............................] - ETA: 0s - loss: 0.1902 - acc: 1.0000"
          ]
        },
        {
          "name": "stdout",
          "output_type": "stream",
          "text": [
            "\b\b\b\b\b\b\b\b\b\b\b\b\b\b\b\b\b\b\b\b\b\b\b\b\b\b\b\b\b\b\b\b\b\b\b\b\b\b\b\b\b\b\b\b\b\b\b\b\b\b\b\b\b\b\b\b\b\b\b\b\b\b\b\b\b\b\b\b\b\b\b\b\b\b\b\b\b\b\b\r",
            "120/120 [==============================] - 0s 88us/sample - loss: 0.3778 - acc: 0.8333 - val_loss: 1.0378 - val_acc: 0.0000e+00\n"
          ]
        },
        {
          "name": "stdout",
          "output_type": "stream",
          "text": [
            "Epoch 46/100\n",
            "\r",
            "  8/120 [=>............................] - ETA: 0s - loss: 0.2348 - acc: 1.0000"
          ]
        },
        {
          "name": "stdout",
          "output_type": "stream",
          "text": [
            "\b\b\b\b\b\b\b\b\b\b\b\b\b\b\b\b\b\b\b\b\b\b\b\b\b\b\b\b\b\b\b\b\b\b\b\b\b\b\b\b\b\b\b\b\b\b\b\b\b\b\b\b\b\b\b\b\b\b\b\b\b\b\b\b\b\b\b\b\b\b\b\b\b\b\b\b\b\b\b\r",
            "120/120 [==============================] - 0s 85us/sample - loss: 0.3758 - acc: 0.8333 - val_loss: 1.0533 - val_acc: 0.0000e+00\n"
          ]
        },
        {
          "name": "stdout",
          "output_type": "stream",
          "text": [
            "Epoch 47/100\n",
            "\r",
            "  8/120 [=>............................] - ETA: 0s - loss: 0.1291 - acc: 1.0000"
          ]
        },
        {
          "name": "stdout",
          "output_type": "stream",
          "text": [
            "\b\b\b\b\b\b\b\b\b\b\b\b\b\b\b\b\b\b\b\b\b\b\b\b\b\b\b\b\b\b\b\b\b\b\b\b\b\b\b\b\b\b\b\b\b\b\b\b\b\b\b\b\b\b\b\b\b\b\b\b\b\b\b\b\b\b\b\b\b\b\b\b\b\b\b\b\b\b\b\r",
            "120/120 [==============================] - 0s 84us/sample - loss: 0.3741 - acc: 0.8333 - val_loss: 1.0470 - val_acc: 0.0000e+00\n"
          ]
        },
        {
          "name": "stdout",
          "output_type": "stream",
          "text": [
            "Epoch 48/100\n",
            "\r",
            "  8/120 [=>............................] - ETA: 0s - loss: 0.2497 - acc: 1.0000"
          ]
        },
        {
          "name": "stdout",
          "output_type": "stream",
          "text": [
            "\b\b\b\b\b\b\b\b\b\b\b\b\b\b\b\b\b\b\b\b\b\b\b\b\b\b\b\b\b\b\b\b\b\b\b\b\b\b\b\b\b\b\b\b\b\b\b\b\b\b\b\b\b\b\b\b\b\b\b\b\b\b\b\b\b\b\b\b\b\b\b\b\b\b\b\b\b\b\b\r",
            "120/120 [==============================] - 0s 86us/sample - loss: 0.3728 - acc: 0.8333 - val_loss: 1.0504 - val_acc: 0.0000e+00\n"
          ]
        },
        {
          "name": "stdout",
          "output_type": "stream",
          "text": [
            "Epoch 49/100\n",
            "\r",
            "  8/120 [=>............................] - ETA: 0s - loss: 0.4875 - acc: 0.7500"
          ]
        },
        {
          "name": "stdout",
          "output_type": "stream",
          "text": [
            "\b\b\b\b\b\b\b\b\b\b\b\b\b\b\b\b\b\b\b\b\b\b\b\b\b\b\b\b\b\b\b\b\b\b\b\b\b\b\b\b\b\b\b\b\b\b\b\b\b\b\b\b\b\b\b\b\b\b\b\b\b\b\b\b\b\b\b\b\b\b\b\b\b\b\b\b\b\b\b\r",
            "120/120 [==============================] - 0s 84us/sample - loss: 0.3714 - acc: 0.8333 - val_loss: 1.0434 - val_acc: 0.0000e+00\n"
          ]
        },
        {
          "name": "stdout",
          "output_type": "stream",
          "text": [
            "Epoch 50/100\n",
            "\r",
            "  8/120 [=>............................] - ETA: 0s - loss: 0.4930 - acc: 0.7500"
          ]
        },
        {
          "name": "stdout",
          "output_type": "stream",
          "text": [
            "\b\b\b\b\b\b\b\b\b\b\b\b\b\b\b\b\b\b\b\b\b\b\b\b\b\b\b\b\b\b\b\b\b\b\b\b\b\b\b\b\b\b\b\b\b\b\b\b\b\b\b\b\b\b\b\b\b\b\b\b\b\b\b\b\b\b\b\b\b\b\b\b\b\b\b\b\b\b\b\r",
            "120/120 [==============================] - 0s 86us/sample - loss: 0.3701 - acc: 0.8333 - val_loss: 1.0451 - val_acc: 0.0000e+00\n"
          ]
        },
        {
          "name": "stdout",
          "output_type": "stream",
          "text": [
            "Epoch 51/100\n",
            "\r",
            "  8/120 [=>............................] - ETA: 0s - loss: 0.3386 - acc: 1.0000"
          ]
        },
        {
          "name": "stdout",
          "output_type": "stream",
          "text": [
            "\b\b\b\b\b\b\b\b\b\b\b\b\b\b\b\b\b\b\b\b\b\b\b\b\b\b\b\b\b\b\b\b\b\b\b\b\b\b\b\b\b\b\b\b\b\b\b\b\b\b\b\b\b\b\b\b\b\b\b\b\b\b\b\b\b\b\b\b\b\b\b\b\b\b\b\b\b\b\b\r",
            "120/120 [==============================] - 0s 87us/sample - loss: 0.3691 - acc: 0.8333 - val_loss: 1.0332 - val_acc: 0.0000e+00\n"
          ]
        },
        {
          "name": "stdout",
          "output_type": "stream",
          "text": [
            "Epoch 52/100\n",
            "\r",
            "  8/120 [=>............................] - ETA: 0s - loss: 0.3046 - acc: 0.8750"
          ]
        },
        {
          "name": "stdout",
          "output_type": "stream",
          "text": [
            "\b\b\b\b\b\b\b\b\b\b\b\b\b\b\b\b\b\b\b\b\b\b\b\b\b\b\b\b\b\b\b\b\b\b\b\b\b\b\b\b\b\b\b\b\b\b\b\b\b\b\b\b\b\b\b\b\b\b\b\b\b\b\b\b\b\b\b\b\b\b\b\b\b\b\b\b\b\b\b\r",
            "120/120 [==============================] - 0s 83us/sample - loss: 0.3680 - acc: 0.8333 - val_loss: 1.0368 - val_acc: 0.0000e+00\n"
          ]
        },
        {
          "name": "stdout",
          "output_type": "stream",
          "text": [
            "Epoch 53/100\n",
            "\r",
            "  8/120 [=>............................] - ETA: 0s - loss: 0.5043 - acc: 0.6250"
          ]
        },
        {
          "name": "stdout",
          "output_type": "stream",
          "text": [
            "\b\b\b\b\b\b\b\b\b\b\b\b\b\b\b\b\b\b\b\b\b\b\b\b\b\b\b\b\b\b\b\b\b\b\b\b\b\b\b\b\b\b\b\b\b\b\b\b\b\b\b\b\b\b\b\b\b\b\b\b\b\b\b\b\b\b\b\b\b\b\b\b\b\b\b\b\b\b\b\r",
            "120/120 [==============================] - 0s 84us/sample - loss: 0.3668 - acc: 0.8333 - val_loss: 1.0382 - val_acc: 0.0000e+00\n"
          ]
        },
        {
          "name": "stdout",
          "output_type": "stream",
          "text": [
            "Epoch 54/100\n",
            "\r",
            "  8/120 [=>............................] - ETA: 0s - loss: 0.1748 - acc: 1.0000"
          ]
        },
        {
          "name": "stdout",
          "output_type": "stream",
          "text": [
            "\b\b\b\b\b\b\b\b\b\b\b\b\b\b\b\b\b\b\b\b\b\b\b\b\b\b\b\b\b\b\b\b\b\b\b\b\b\b\b\b\b\b\b\b\b\b\b\b\b\b\b\b\b\b\b\b\b\b\b\b\b\b\b\b\b\b\b\b\b\b\b\b\b\b\b\b\b\b\b\r",
            "120/120 [==============================] - 0s 87us/sample - loss: 0.3660 - acc: 0.8333 - val_loss: 1.0475 - val_acc: 0.0000e+00\n"
          ]
        },
        {
          "name": "stdout",
          "output_type": "stream",
          "text": [
            "Epoch 55/100\n",
            "\r",
            "  8/120 [=>............................] - ETA: 0s - loss: 0.3586 - acc: 0.8750"
          ]
        },
        {
          "name": "stdout",
          "output_type": "stream",
          "text": [
            "\b\b\b\b\b\b\b\b\b\b\b\b\b\b\b\b\b\b\b\b\b\b\b\b\b\b\b\b\b\b\b\b\b\b\b\b\b\b\b\b\b\b\b\b\b\b\b\b\b\b\b\b\b\b\b\b\b\b\b\b\b\b\b\b\b\b\b\b\b\b\b\b\b\b\b\b\b\b\b\r",
            "120/120 [==============================] - 0s 89us/sample - loss: 0.3647 - acc: 0.8333 - val_loss: 1.0304 - val_acc: 0.0000e+00\n"
          ]
        },
        {
          "name": "stdout",
          "output_type": "stream",
          "text": [
            "Epoch 56/100\n",
            "\r",
            "  8/120 [=>............................] - ETA: 0s - loss: 0.3041 - acc: 0.8750"
          ]
        },
        {
          "name": "stdout",
          "output_type": "stream",
          "text": [
            "\b\b\b\b\b\b\b\b\b\b\b\b\b\b\b\b\b\b\b\b\b\b\b\b\b\b\b\b\b\b\b\b\b\b\b\b\b\b\b\b\b\b\b\b\b\b\b\b\b\b\b\b\b\b\b\b\b\b\b\b\b\b\b\b\b\b\b\b\b\b\b\b\b\b\b\b\b\b\b\r",
            "120/120 [==============================] - 0s 89us/sample - loss: 0.3641 - acc: 0.8333 - val_loss: 1.0180 - val_acc: 0.0000e+00\n"
          ]
        },
        {
          "name": "stdout",
          "output_type": "stream",
          "text": [
            "Epoch 57/100\n",
            "\r",
            "  8/120 [=>............................] - ETA: 0s - loss: 0.5431 - acc: 0.7500"
          ]
        },
        {
          "name": "stdout",
          "output_type": "stream",
          "text": [
            "\b\b\b\b\b\b\b\b\b\b\b\b\b\b\b\b\b\b\b\b\b\b\b\b\b\b\b\b\b\b\b\b\b\b\b\b\b\b\b\b\b\b\b\b\b\b\b\b\b\b\b\b\b\b\b\b\b\b\b\b\b\b\b\b\b\b\b\b\b\b\b\b\b\b\b\b\b\b\b\r",
            "120/120 [==============================] - 0s 90us/sample - loss: 0.3629 - acc: 0.8333 - val_loss: 1.0239 - val_acc: 0.0000e+00\n"
          ]
        },
        {
          "name": "stdout",
          "output_type": "stream",
          "text": [
            "Epoch 58/100\n",
            "\r",
            "  8/120 [=>............................] - ETA: 0s - loss: 0.5319 - acc: 0.7500"
          ]
        },
        {
          "name": "stdout",
          "output_type": "stream",
          "text": [
            "\b\b\b\b\b\b\b\b\b\b\b\b\b\b\b\b\b\b\b\b\b\b\b\b\b\b\b\b\b\b\b\b\b\b\b\b\b\b\b\b\b\b\b\b\b\b\b\b\b\b\b\b\b\b\b\b\b\b\b\b\b\b\b\b\b\b\b\b\b\b\b\b\b\b\b\b\b\b\b\r",
            "120/120 [==============================] - 0s 90us/sample - loss: 0.3622 - acc: 0.8333 - val_loss: 1.0109 - val_acc: 0.0000e+00\n"
          ]
        },
        {
          "name": "stdout",
          "output_type": "stream",
          "text": [
            "Epoch 59/100\n",
            "\r",
            "  8/120 [=>............................] - ETA: 0s - loss: 0.4233 - acc: 0.7500"
          ]
        },
        {
          "name": "stdout",
          "output_type": "stream",
          "text": [
            "\b\b\b\b\b\b\b\b\b\b\b\b\b\b\b\b\b\b\b\b\b\b\b\b\b\b\b\b\b\b\b\b\b\b\b\b\b\b\b\b\b\b\b\b\b\b\b\b\b\b\b\b\b\b\b\b\b\b\b\b\b\b\b\b\b\b\b\b\b\b\b\b\b\b\b\b\b\b\b\r",
            "120/120 [==============================] - 0s 89us/sample - loss: 0.3613 - acc: 0.8333 - val_loss: 1.0100 - val_acc: 0.0000e+00\n"
          ]
        },
        {
          "name": "stdout",
          "output_type": "stream",
          "text": [
            "Epoch 60/100\n",
            "\r",
            "  8/120 [=>............................] - ETA: 0s - loss: 0.3024 - acc: 0.8750"
          ]
        },
        {
          "name": "stdout",
          "output_type": "stream",
          "text": [
            "\b\b\b\b\b\b\b\b\b\b\b\b\b\b\b\b\b\b\b\b\b\b\b\b\b\b\b\b\b\b\b\b\b\b\b\b\b\b\b\b\b\b\b\b\b\b\b\b\b\b\b\b\b\b\b\b\b\b\b\b\b\b\b\b\b\b\b\b\b\b\b\b\b\b\b\b\b\b\b\r",
            "120/120 [==============================] - 0s 89us/sample - loss: 0.3606 - acc: 0.8333 - val_loss: 1.0231 - val_acc: 0.0000e+00\n"
          ]
        },
        {
          "name": "stdout",
          "output_type": "stream",
          "text": [
            "Epoch 61/100\n",
            "\r",
            "  8/120 [=>............................] - ETA: 0s - loss: 0.6039 - acc: 0.6250"
          ]
        },
        {
          "name": "stdout",
          "output_type": "stream",
          "text": [
            "\b\b\b\b\b\b\b\b\b\b\b\b\b\b\b\b\b\b\b\b\b\b\b\b\b\b\b\b\b\b\b\b\b\b\b\b\b\b\b\b\b\b\b\b\b\b\b\b\b\b\b\b\b\b\b\b\b\b\b\b\b\b\b\b\b\b\b\b\b\b\b\b\b\b\b\b\b\b\b\r",
            "120/120 [==============================] - 0s 88us/sample - loss: 0.3596 - acc: 0.8333 - val_loss: 1.0116 - val_acc: 0.0000e+00\n"
          ]
        },
        {
          "name": "stdout",
          "output_type": "stream",
          "text": [
            "Epoch 62/100\n",
            "\r",
            "  8/120 [=>............................] - ETA: 0s - loss: 0.4180 - acc: 0.7500"
          ]
        },
        {
          "name": "stdout",
          "output_type": "stream",
          "text": [
            "\b\b\b\b\b\b\b\b\b\b\b\b\b\b\b\b\b\b\b\b\b\b\b\b\b\b\b\b\b\b\b\b\b\b\b\b\b\b\b\b\b\b\b\b\b\b\b\b\b\b\b\b\b\b\b\b\b\b\b\b\b\b\b\b\b\b\b\b\b\b\b\b\b\b\b\b\b\b\b\r",
            "120/120 [==============================] - 0s 86us/sample - loss: 0.3585 - acc: 0.8333 - val_loss: 1.0193 - val_acc: 0.0000e+00\n"
          ]
        },
        {
          "name": "stdout",
          "output_type": "stream",
          "text": [
            "Epoch 63/100\n",
            "\r",
            "  8/120 [=>............................] - ETA: 0s - loss: 0.5781 - acc: 0.7500"
          ]
        },
        {
          "name": "stdout",
          "output_type": "stream",
          "text": [
            "\b\b\b\b\b\b\b\b\b\b\b\b\b\b\b\b\b\b\b\b\b\b\b\b\b\b\b\b\b\b\b\b\b\b\b\b\b\b\b\b\b\b\b\b\b\b\b\b\b\b\b\b\b\b\b\b\b\b\b\b\b\b\b\b\b\b\b\b\b\b\b\b\b\b\b\b\b\b\b\r",
            "120/120 [==============================] - 0s 89us/sample - loss: 0.3581 - acc: 0.8333 - val_loss: 1.0320 - val_acc: 0.0000e+00\n"
          ]
        },
        {
          "name": "stdout",
          "output_type": "stream",
          "text": [
            "Epoch 64/100\n",
            "\r",
            "  8/120 [=>............................] - ETA: 0s - loss: 0.2962 - acc: 0.8750"
          ]
        },
        {
          "name": "stdout",
          "output_type": "stream",
          "text": [
            "\b\b\b\b\b\b\b\b\b\b\b\b\b\b\b\b\b\b\b\b\b\b\b\b\b\b\b\b\b\b\b\b\b\b\b\b\b\b\b\b\b\b\b\b\b\b\b\b\b\b\b\b\b\b\b\b\b\b\b\b\b\b\b\b\b\b\b\b\b\b\b\b\b\b\b\b\b\b\b\r",
            "120/120 [==============================] - 0s 92us/sample - loss: 0.3570 - acc: 0.8333 - val_loss: 1.0220 - val_acc: 0.0000e+00\n"
          ]
        },
        {
          "name": "stdout",
          "output_type": "stream",
          "text": [
            "Epoch 65/100\n",
            "\r",
            "  8/120 [=>............................] - ETA: 0s - loss: 0.1855 - acc: 0.8750"
          ]
        },
        {
          "name": "stdout",
          "output_type": "stream",
          "text": [
            "\b\b\b\b\b\b\b\b\b\b\b\b\b\b\b\b\b\b\b\b\b\b\b\b\b\b\b\b\b\b\b\b\b\b\b\b\b\b\b\b\b\b\b\b\b\b\b\b\b\b\b\b\b\b\b\b\b\b\b\b\b\b\b\b\b\b\b\b\b\b\b\b\b\b\b\b\b\b\b\r",
            "120/120 [==============================] - 0s 93us/sample - loss: 0.3563 - acc: 0.8333 - val_loss: 1.0123 - val_acc: 0.0000e+00\n"
          ]
        },
        {
          "name": "stdout",
          "output_type": "stream",
          "text": [
            "Epoch 66/100\n",
            "\r",
            "  8/120 [=>............................] - ETA: 0s - loss: 0.2443 - acc: 0.8750"
          ]
        },
        {
          "name": "stdout",
          "output_type": "stream",
          "text": [
            "\b\b\b\b\b\b\b\b\b\b\b\b\b\b\b\b\b\b\b\b\b\b\b\b\b\b\b\b\b\b\b\b\b\b\b\b\b\b\b\b\b\b\b\b\b\b\b\b\b\b\b\b\b\b\b\b\b\b\b\b\b\b\b\b\b\b\b\b\b\b\b\b\b\b\b\b\b\b\b\r",
            "120/120 [==============================] - 0s 92us/sample - loss: 0.3555 - acc: 0.8333 - val_loss: 1.0130 - val_acc: 0.0000e+00\n"
          ]
        },
        {
          "name": "stdout",
          "output_type": "stream",
          "text": [
            "Epoch 67/100\n"
          ]
        },
        {
          "name": "stdout",
          "output_type": "stream",
          "text": [
            "\r",
            "  8/120 [=>............................] - ETA: 0s - loss: 0.2433 - acc: 0.8750"
          ]
        },
        {
          "name": "stdout",
          "output_type": "stream",
          "text": [
            "\b\b\b\b\b\b\b\b\b\b\b\b\b\b\b\b\b\b\b\b\b\b\b\b\b\b\b\b\b\b\b\b\b\b\b\b\b\b\b\b\b\b\b\b\b\b\b\b\b\b\b\b\b\b\b\b\b\b\b\b\b\b\b\b\b\b\b\b\b\b\b\b\b\b\b\b\b\b\b\r",
            "120/120 [==============================] - 0s 90us/sample - loss: 0.3549 - acc: 0.8333 - val_loss: 1.0027 - val_acc: 0.0000e+00\n"
          ]
        },
        {
          "name": "stdout",
          "output_type": "stream",
          "text": [
            "Epoch 68/100\n",
            "\r",
            "  8/120 [=>............................] - ETA: 0s - loss: 0.4034 - acc: 0.8750"
          ]
        },
        {
          "name": "stdout",
          "output_type": "stream",
          "text": [
            "\b\b\b\b\b\b\b\b\b\b\b\b\b\b\b\b\b\b\b\b\b\b\b\b\b\b\b\b\b\b\b\b\b\b\b\b\b\b\b\b\b\b\b\b\b\b\b\b\b\b\b\b\b\b\b\b\b\b\b\b\b\b\b\b\b\b\b\b\b\b\b\b\b\b\b\b\b\b\b\r",
            "120/120 [==============================] - 0s 88us/sample - loss: 0.3544 - acc: 0.8333 - val_loss: 0.9939 - val_acc: 0.0000e+00\n"
          ]
        },
        {
          "name": "stdout",
          "output_type": "stream",
          "text": [
            "Epoch 69/100\n",
            "\r",
            "  8/120 [=>............................] - ETA: 0s - loss: 0.2259 - acc: 1.0000"
          ]
        },
        {
          "name": "stdout",
          "output_type": "stream",
          "text": [
            "\b\b\b\b\b\b\b\b\b\b\b\b\b\b\b\b\b\b\b\b\b\b\b\b\b\b\b\b\b\b\b\b\b\b\b\b\b\b\b\b\b\b\b\b\b\b\b\b\b\b\b\b\b\b\b\b\b\b\b\b\b\b\b\b\b\b\b\b\b\b\b\b\b\b\b\b\b\b\b\r",
            "120/120 [==============================] - 0s 91us/sample - loss: 0.3535 - acc: 0.8333 - val_loss: 1.0010 - val_acc: 0.0000e+00\n"
          ]
        },
        {
          "name": "stdout",
          "output_type": "stream",
          "text": [
            "Epoch 70/100\n"
          ]
        },
        {
          "name": "stdout",
          "output_type": "stream",
          "text": [
            "\r",
            "  8/120 [=>............................] - ETA: 0s - loss: 0.3067 - acc: 0.7500"
          ]
        },
        {
          "name": "stdout",
          "output_type": "stream",
          "text": [
            "\b\b\b\b\b\b\b\b\b\b\b\b\b\b\b\b\b\b\b\b\b\b\b\b\b\b\b\b\b\b\b\b\b\b\b\b\b\b\b\b\b\b\b\b\b\b\b\b\b\b\b\b\b\b\b\b\b\b\b\b\b\b\b\b\b\b\b\b\b\b\b\b\b\b\b\b\b\b\b\r",
            "120/120 [==============================] - 0s 89us/sample - loss: 0.3531 - acc: 0.8333 - val_loss: 1.0181 - val_acc: 0.0000e+00\n"
          ]
        },
        {
          "name": "stdout",
          "output_type": "stream",
          "text": [
            "Epoch 71/100\n",
            "\r",
            "  8/120 [=>............................] - ETA: 0s - loss: 0.2412 - acc: 0.8750"
          ]
        },
        {
          "name": "stdout",
          "output_type": "stream",
          "text": [
            "\b\b\b\b\b\b\b\b\b\b\b\b\b\b\b\b\b\b\b\b\b\b\b\b\b\b\b\b\b\b\b\b\b\b\b\b\b\b\b\b\b\b\b\b\b\b\b\b\b\b\b\b\b\b\b\b\b\b\b\b\b\b\b\b\b\b\b\b\b\b\b\b\b\b\b\b\b\b\b\r",
            "120/120 [==============================] - 0s 87us/sample - loss: 0.3520 - acc: 0.8333 - val_loss: 1.0001 - val_acc: 0.0000e+00\n"
          ]
        },
        {
          "name": "stdout",
          "output_type": "stream",
          "text": [
            "Epoch 72/100\n",
            "\r",
            "  8/120 [=>............................] - ETA: 0s - loss: 0.3406 - acc: 0.8750"
          ]
        },
        {
          "name": "stdout",
          "output_type": "stream",
          "text": [
            "\b\b\b\b\b\b\b\b\b\b\b\b\b\b\b\b\b\b\b\b\b\b\b\b\b\b\b\b\b\b\b\b\b\b\b\b\b\b\b\b\b\b\b\b\b\b\b\b\b\b\b\b\b\b\b\b\b\b\b\b\b\b\b\b\b\b\b\b\b\b\b\b\b\b\b\b\b\b\b\r",
            "120/120 [==============================] - 0s 88us/sample - loss: 0.3513 - acc: 0.8333 - val_loss: 1.0022 - val_acc: 0.0000e+00\n"
          ]
        },
        {
          "name": "stdout",
          "output_type": "stream",
          "text": [
            "Epoch 73/100\n"
          ]
        },
        {
          "name": "stdout",
          "output_type": "stream",
          "text": [
            "\r",
            "  8/120 [=>............................] - ETA: 0s - loss: 0.4628 - acc: 0.7500"
          ]
        },
        {
          "name": "stdout",
          "output_type": "stream",
          "text": [
            "\b\b\b\b\b\b\b\b\b\b\b\b\b\b\b\b\b\b\b\b\b\b\b\b\b\b\b\b\b\b\b\b\b\b\b\b\b\b\b\b\b\b\b\b\b\b\b\b\b\b\b\b\b\b\b\b\b\b\b\b\b\b\b\b\b\b\b\b\b\b\b\b\b\b\b\b\b\b\b\r",
            "120/120 [==============================] - 0s 90us/sample - loss: 0.3505 - acc: 0.8333 - val_loss: 1.0011 - val_acc: 0.0000e+00\n"
          ]
        },
        {
          "name": "stdout",
          "output_type": "stream",
          "text": [
            "Epoch 74/100\n",
            "\r",
            "  8/120 [=>............................] - ETA: 0s - loss: 0.4645 - acc: 0.7500"
          ]
        },
        {
          "name": "stdout",
          "output_type": "stream",
          "text": [
            "\b\b\b\b\b\b\b\b\b\b\b\b\b\b\b\b\b\b\b\b\b\b\b\b\b\b\b\b\b\b\b\b\b\b\b\b\b\b\b\b\b\b\b\b\b\b\b\b\b\b\b\b\b\b\b\b\b\b\b\b\b\b\b\b\b\b\b\b\b\b\b\b\b\b\b\b\b\b\b\r",
            "120/120 [==============================] - 0s 88us/sample - loss: 0.3498 - acc: 0.8333 - val_loss: 0.9996 - val_acc: 0.0000e+00\n"
          ]
        },
        {
          "name": "stdout",
          "output_type": "stream",
          "text": [
            "Epoch 75/100\n",
            "\r",
            "  8/120 [=>............................] - ETA: 0s - loss: 0.2357 - acc: 0.8750"
          ]
        },
        {
          "name": "stdout",
          "output_type": "stream",
          "text": [
            "\b\b\b\b\b\b\b\b\b\b\b\b\b\b\b\b\b\b\b\b\b\b\b\b\b\b\b\b\b\b\b\b\b\b\b\b\b\b\b\b\b\b\b\b\b\b\b\b\b\b\b\b\b\b\b\b\b\b\b\b\b\b\b\b\b\b\b\b\b\b\b\b\b\b\b\b\b\b\b\r",
            "120/120 [==============================] - 0s 88us/sample - loss: 0.3496 - acc: 0.8333 - val_loss: 0.9960 - val_acc: 0.0000e+00\n"
          ]
        },
        {
          "name": "stdout",
          "output_type": "stream",
          "text": [
            "Epoch 76/100\n"
          ]
        },
        {
          "name": "stdout",
          "output_type": "stream",
          "text": [
            "\r",
            "  8/120 [=>............................] - ETA: 0s - loss: 0.2790 - acc: 1.0000"
          ]
        },
        {
          "name": "stdout",
          "output_type": "stream",
          "text": [
            "\b\b\b\b\b\b\b\b\b\b\b\b\b\b\b\b\b\b\b\b\b\b\b\b\b\b\b\b\b\b\b\b\b\b\b\b\b\b\b\b\b\b\b\b\b\b\b\b\b\b\b\b\b\b\b\b\b\b\b\b\b\b\b\b\b\b\b\b\b\b\b\b\b\b\b\b\b\b\b\r",
            "120/120 [==============================] - 0s 90us/sample - loss: 0.3487 - acc: 0.8333 - val_loss: 1.0049 - val_acc: 0.0000e+00\n"
          ]
        },
        {
          "name": "stdout",
          "output_type": "stream",
          "text": [
            "Epoch 77/100\n",
            "\r",
            "  8/120 [=>............................] - ETA: 0s - loss: 0.1650 - acc: 1.0000"
          ]
        },
        {
          "name": "stdout",
          "output_type": "stream",
          "text": [
            "\b\b\b\b\b\b\b\b\b\b\b\b\b\b\b\b\b\b\b\b\b\b\b\b\b\b\b\b\b\b\b\b\b\b\b\b\b\b\b\b\b\b\b\b\b\b\b\b\b\b\b\b\b\b\b\b\b\b\b\b\b\b\b\b\b\b\b\b\b\b\b\b\b\b\b\b\b\b\b\r",
            "120/120 [==============================] - 0s 89us/sample - loss: 0.3485 - acc: 0.8333 - val_loss: 0.9807 - val_acc: 0.0000e+00\n"
          ]
        },
        {
          "name": "stdout",
          "output_type": "stream",
          "text": [
            "Epoch 78/100\n",
            "\r",
            "  8/120 [=>............................] - ETA: 0s - loss: 0.4672 - acc: 0.7500"
          ]
        },
        {
          "name": "stdout",
          "output_type": "stream",
          "text": [
            "\b\b\b\b\b\b\b\b\b\b\b\b\b\b\b\b\b\b\b\b\b\b\b\b\b\b\b\b\b\b\b\b\b\b\b\b\b\b\b\b\b\b\b\b\b\b\b\b\b\b\b\b\b\b\b\b\b\b\b\b\b\b\b\b\b\b\b\b\b\b\b\b\b\b\b\b\b\b\b\r",
            "120/120 [==============================] - 0s 90us/sample - loss: 0.3473 - acc: 0.8333 - val_loss: 0.9924 - val_acc: 0.0000e+00\n"
          ]
        },
        {
          "name": "stdout",
          "output_type": "stream",
          "text": [
            "Epoch 79/100\n",
            "\r",
            "  8/120 [=>............................] - ETA: 0s - loss: 0.3373 - acc: 0.8750"
          ]
        },
        {
          "name": "stdout",
          "output_type": "stream",
          "text": [
            "\b\b\b\b\b\b\b\b\b\b\b\b\b\b\b\b\b\b\b\b\b\b\b\b\b\b\b\b\b\b\b\b\b\b\b\b\b\b\b\b\b\b\b\b\b\b\b\b\b\b\b\b\b\b\b\b\b\b\b\b\b\b\b\b\b\b\b\b\b\b\b\b\b\b\b\b\b\b\b\r",
            "120/120 [==============================] - 0s 93us/sample - loss: 0.3470 - acc: 0.8333 - val_loss: 0.9784 - val_acc: 0.0000e+00\n"
          ]
        },
        {
          "name": "stdout",
          "output_type": "stream",
          "text": [
            "Epoch 80/100\n",
            "\r",
            "  8/120 [=>............................] - ETA: 0s - loss: 0.3469 - acc: 0.8750"
          ]
        },
        {
          "name": "stdout",
          "output_type": "stream",
          "text": [
            "\b\b\b\b\b\b\b\b\b\b\b\b\b\b\b\b\b\b\b\b\b\b\b\b\b\b\b\b\b\b\b\b\b\b\b\b\b\b\b\b\b\b\b\b\b\b\b\b\b\b\b\b\b\b\b\b\b\b\b\b\b\b\b\b\b\b\b\b\b\b\b\b\b\b\b\b\b\b\b\r",
            "120/120 [==============================] - 0s 90us/sample - loss: 0.3464 - acc: 0.8333 - val_loss: 0.9960 - val_acc: 0.0000e+00\n"
          ]
        },
        {
          "name": "stdout",
          "output_type": "stream",
          "text": [
            "Epoch 81/100\n",
            "\r",
            "  8/120 [=>............................] - ETA: 0s - loss: 0.2183 - acc: 1.0000"
          ]
        },
        {
          "name": "stdout",
          "output_type": "stream",
          "text": [
            "\b\b\b\b\b\b\b\b\b\b\b\b\b\b\b\b\b\b\b\b\b\b\b\b\b\b\b\b\b\b\b\b\b\b\b\b\b\b\b\b\b\b\b\b\b\b\b\b\b\b\b\b\b\b\b\b\b\b\b\b\b\b\b\b\b\b\b\b\b\b\b\b\b\b\b\b\b\b\b\r",
            "120/120 [==============================] - 0s 88us/sample - loss: 0.3456 - acc: 0.8333 - val_loss: 0.9980 - val_acc: 0.0000e+00\n"
          ]
        },
        {
          "name": "stdout",
          "output_type": "stream",
          "text": [
            "Epoch 82/100\n",
            "\r",
            "  8/120 [=>............................] - ETA: 0s - loss: 0.3554 - acc: 0.7500"
          ]
        },
        {
          "name": "stdout",
          "output_type": "stream",
          "text": [
            "\b\b\b\b\b\b\b\b\b\b\b\b\b\b\b\b\b\b\b\b\b\b\b\b\b\b\b\b\b\b\b\b\b\b\b\b\b\b\b\b\b\b\b\b\b\b\b\b\b\b\b\b\b\b\b\b\b\b\b\b\b\b\b\b\b\b\b\b\b\b\b\b\b\b\b\b\b\b\b\r",
            "120/120 [==============================] - 0s 92us/sample - loss: 0.3449 - acc: 0.8333 - val_loss: 0.9800 - val_acc: 0.0000e+00\n"
          ]
        },
        {
          "name": "stdout",
          "output_type": "stream",
          "text": [
            "Epoch 83/100\n",
            "\r",
            "  8/120 [=>............................] - ETA: 0s - loss: 0.4101 - acc: 0.7500"
          ]
        },
        {
          "name": "stdout",
          "output_type": "stream",
          "text": [
            "\b\b\b\b\b\b\b\b\b\b\b\b\b\b\b\b\b\b\b\b\b\b\b\b\b\b\b\b\b\b\b\b\b\b\b\b\b\b\b\b\b\b\b\b\b\b\b\b\b\b\b\b\b\b\b\b\b\b\b\b\b\b\b\b\b\b\b\b\b\b\b\b\b\b\b\b\b\b\b\r",
            "120/120 [==============================] - 0s 93us/sample - loss: 0.3443 - acc: 0.8333 - val_loss: 0.9715 - val_acc: 0.0000e+00\n"
          ]
        },
        {
          "name": "stdout",
          "output_type": "stream",
          "text": [
            "Epoch 84/100\n",
            "\r",
            "  8/120 [=>............................] - ETA: 0s - loss: 0.4115 - acc: 0.7500"
          ]
        },
        {
          "name": "stdout",
          "output_type": "stream",
          "text": [
            "\b\b\b\b\b\b\b\b\b\b\b\b\b\b\b\b\b\b\b\b\b\b\b\b\b\b\b\b\b\b\b\b\b\b\b\b\b\b\b\b\b\b\b\b\b\b\b\b\b\b\b\b\b\b\b\b\b\b\b\b\b\b\b\b\b\b\b\b\b\b\b\b\b\b\b\b\b\b\b\r",
            "120/120 [==============================] - 0s 92us/sample - loss: 0.3437 - acc: 0.8333 - val_loss: 0.9730 - val_acc: 0.0000e+00\n"
          ]
        },
        {
          "name": "stdout",
          "output_type": "stream",
          "text": [
            "Epoch 85/100\n",
            "\r",
            "  8/120 [=>............................] - ETA: 0s - loss: 0.4274 - acc: 0.6250"
          ]
        },
        {
          "name": "stdout",
          "output_type": "stream",
          "text": [
            "\b\b\b\b\b\b\b\b\b\b\b\b\b\b\b\b\b\b\b\b\b\b\b\b\b\b\b\b\b\b\b\b\b\b\b\b\b\b\b\b\b\b\b\b\b\b\b\b\b\b\b\b\b\b\b\b\b\b\b\b\b\b\b\b\b\b\b\b\b\b\b\b\b\b\b\b\b\b\b\r",
            "120/120 [==============================] - 0s 87us/sample - loss: 0.3435 - acc: 0.8333 - val_loss: 0.9669 - val_acc: 0.0000e+00\n"
          ]
        },
        {
          "name": "stdout",
          "output_type": "stream",
          "text": [
            "Epoch 86/100\n",
            "\r",
            "  8/120 [=>............................] - ETA: 0s - loss: 0.3409 - acc: 0.7500"
          ]
        },
        {
          "name": "stdout",
          "output_type": "stream",
          "text": [
            "\b\b\b\b\b\b\b\b\b\b\b\b\b\b\b\b\b\b\b\b\b\b\b\b\b\b\b\b\b\b\b\b\b\b\b\b\b\b\b\b\b\b\b\b\b\b\b\b\b\b\b\b\b\b\b\b\b\b\b\b\b\b\b\b\b\b\b\b\b\b\b\b\b\b\b\b\b\b\b\r",
            "120/120 [==============================] - 0s 93us/sample - loss: 0.3425 - acc: 0.8333 - val_loss: 0.9771 - val_acc: 0.0000e+00\n"
          ]
        },
        {
          "name": "stdout",
          "output_type": "stream",
          "text": [
            "Epoch 87/100\n",
            "\r",
            "  8/120 [=>............................] - ETA: 0s - loss: 0.3990 - acc: 0.8750"
          ]
        },
        {
          "name": "stdout",
          "output_type": "stream",
          "text": [
            "\b\b\b\b\b\b\b\b\b\b\b\b\b\b\b\b\b\b\b\b\b\b\b\b\b\b\b\b\b\b\b\b\b\b\b\b\b\b\b\b\b\b\b\b\b\b\b\b\b\b\b\b\b\b\b\b\b\b\b\b\b\b\b\b\b\b\b\b\b\b\b\b\b\b\b\b\b\b\b\r",
            "120/120 [==============================] - 0s 92us/sample - loss: 0.3419 - acc: 0.8333 - val_loss: 0.9850 - val_acc: 0.0000e+00\n"
          ]
        },
        {
          "name": "stdout",
          "output_type": "stream",
          "text": [
            "Epoch 88/100\n",
            "\r",
            "  8/120 [=>............................] - ETA: 0s - loss: 0.4497 - acc: 0.7500"
          ]
        },
        {
          "name": "stdout",
          "output_type": "stream",
          "text": [
            "\b\b\b\b\b\b\b\b\b\b\b\b\b\b\b\b\b\b\b\b\b\b\b\b\b\b\b\b\b\b\b\b\b\b\b\b\b\b\b\b\b\b\b\b\b\b\b\b\b\b\b\b\b\b\b\b\b\b\b\b\b\b\b\b\b\b\b\b\b\b\b\b\b\b\b\b\b\b\b\r",
            "120/120 [==============================] - 0s 88us/sample - loss: 0.3415 - acc: 0.8333 - val_loss: 0.9786 - val_acc: 0.0000e+00\n"
          ]
        },
        {
          "name": "stdout",
          "output_type": "stream",
          "text": [
            "Epoch 89/100\n",
            "\r",
            "  8/120 [=>............................] - ETA: 0s - loss: 0.5881 - acc: 0.6250"
          ]
        },
        {
          "name": "stdout",
          "output_type": "stream",
          "text": [
            "\b\b\b\b\b\b\b\b\b\b\b\b\b\b\b\b\b\b\b\b\b\b\b\b\b\b\b\b\b\b\b\b\b\b\b\b\b\b\b\b\b\b\b\b\b\b\b\b\b\b\b\b\b\b\b\b\b\b\b\b\b\b\b\b\b\b\b\b\b\b\b\b\b\b\b\b\b\b\b\r",
            "120/120 [==============================] - 0s 93us/sample - loss: 0.3411 - acc: 0.8333 - val_loss: 0.9588 - val_acc: 0.0000e+00\n"
          ]
        },
        {
          "name": "stdout",
          "output_type": "stream",
          "text": [
            "Epoch 90/100\n",
            "\r",
            "  8/120 [=>............................] - ETA: 0s - loss: 0.3442 - acc: 0.8750"
          ]
        },
        {
          "name": "stdout",
          "output_type": "stream",
          "text": [
            "\b\b\b\b\b\b\b\b\b\b\b\b\b\b\b\b\b\b\b\b\b\b\b\b\b\b\b\b\b\b\b\b\b\b\b\b\b\b\b\b\b\b\b\b\b\b\b\b\b\b\b\b\b\b\b\b\b\b\b\b\b\b\b\b\b\b\b\b\b\b\b\b\b\b\b\b\b\b\b\r",
            "120/120 [==============================] - 0s 86us/sample - loss: 0.3427 - acc: 0.8333 - val_loss: 1.0016 - val_acc: 0.0000e+00\n"
          ]
        },
        {
          "name": "stdout",
          "output_type": "stream",
          "text": [
            "Epoch 91/100\n",
            "\r",
            "  8/120 [=>............................] - ETA: 0s - loss: 0.5289 - acc: 0.6250"
          ]
        },
        {
          "name": "stdout",
          "output_type": "stream",
          "text": [
            "\b\b\b\b\b\b\b\b\b\b\b\b\b\b\b\b\b\b\b\b\b\b\b\b\b\b\b\b\b\b\b\b\b\b\b\b\b\b\b\b\b\b\b\b\b\b\b\b\b\b\b\b\b\b\b\b\b\b\b\b\b\b\b\b\b\b\b\b\b\b\b\b\b\b\b\b\b\b\b\r",
            "120/120 [==============================] - 0s 90us/sample - loss: 0.3401 - acc: 0.8333 - val_loss: 0.9682 - val_acc: 0.0000e+00\n"
          ]
        },
        {
          "name": "stdout",
          "output_type": "stream",
          "text": [
            "Epoch 92/100\n",
            "\r",
            "  8/120 [=>............................] - ETA: 0s - loss: 0.2129 - acc: 1.0000"
          ]
        },
        {
          "name": "stdout",
          "output_type": "stream",
          "text": [
            "\b\b\b\b\b\b\b\b\b\b\b\b\b\b\b\b\b\b\b\b\b\b\b\b\b\b\b\b\b\b\b\b\b\b\b\b\b\b\b\b\b\b\b\b\b\b\b\b\b\b\b\b\b\b\b\b\b\b\b\b\b\b\b\b\b\b\b\b\b\b\b\b\b\b\b\b\b\b\b\r",
            "120/120 [==============================] - 0s 91us/sample - loss: 0.3391 - acc: 0.8333 - val_loss: 0.9751 - val_acc: 0.0000e+00\n"
          ]
        },
        {
          "name": "stdout",
          "output_type": "stream",
          "text": [
            "Epoch 93/100\n",
            "\r",
            "  8/120 [=>............................] - ETA: 0s - loss: 0.4603 - acc: 0.7500"
          ]
        },
        {
          "name": "stdout",
          "output_type": "stream",
          "text": [
            "\b\b\b\b\b\b\b\b\b\b\b\b\b\b\b\b\b\b\b\b\b\b\b\b\b\b\b\b\b\b\b\b\b\b\b\b\b\b\b\b\b\b\b\b\b\b\b\b\b\b\b\b\b\b\b\b\b\b\b\b\b\b\b\b\b\b\b\b\b\b\b\b\b\b\b\b\b\b\b\r",
            "120/120 [==============================] - 0s 91us/sample - loss: 0.3385 - acc: 0.8333 - val_loss: 0.9611 - val_acc: 0.0000e+00\n"
          ]
        },
        {
          "name": "stdout",
          "output_type": "stream",
          "text": [
            "Epoch 94/100\n",
            "\r",
            "  8/120 [=>............................] - ETA: 0s - loss: 0.1251 - acc: 0.8750"
          ]
        },
        {
          "name": "stdout",
          "output_type": "stream",
          "text": [
            "\b\b\b\b\b\b\b\b\b\b\b\b\b\b\b\b\b\b\b\b\b\b\b\b\b\b\b\b\b\b\b\b\b\b\b\b\b\b\b\b\b\b\b\b\b\b\b\b\b\b\b\b\b\b\b\b\b\b\b\b\b\b\b\b\b\b\b\b\b\b\b\b\b\b\b\b\b\b\b\r",
            "120/120 [==============================] - 0s 94us/sample - loss: 0.3381 - acc: 0.8333 - val_loss: 0.9512 - val_acc: 0.0000e+00\n"
          ]
        },
        {
          "name": "stdout",
          "output_type": "stream",
          "text": [
            "Epoch 95/100\n",
            "\r",
            "  8/120 [=>............................] - ETA: 0s - loss: 0.1662 - acc: 1.0000"
          ]
        },
        {
          "name": "stdout",
          "output_type": "stream",
          "text": [
            "\b\b\b\b\b\b\b\b\b\b\b\b\b\b\b\b\b\b\b\b\b\b\b\b\b\b\b\b\b\b\b\b\b\b\b\b\b\b\b\b\b\b\b\b\b\b\b\b\b\b\b\b\b\b\b\b\b\b\b\b\b\b\b\b\b\b\b\b\b\b\b\b\b\b\b\b\b\b\b\r",
            "120/120 [==============================] - 0s 94us/sample - loss: 0.3373 - acc: 0.8333 - val_loss: 0.9563 - val_acc: 0.0000e+00\n"
          ]
        },
        {
          "name": "stdout",
          "output_type": "stream",
          "text": [
            "Epoch 96/100\n",
            "\r",
            "  8/120 [=>............................] - ETA: 0s - loss: 0.4574 - acc: 0.6250"
          ]
        },
        {
          "name": "stdout",
          "output_type": "stream",
          "text": [
            "\b\b\b\b\b\b\b\b\b\b\b\b\b\b\b\b\b\b\b\b\b\b\b\b\b\b\b\b\b\b\b\b\b\b\b\b\b\b\b\b\b\b\b\b\b\b\b\b\b\b\b\b\b\b\b\b\b\b\b\b\b\b\b\b\b\b\b\b\b\b\b\b\b\b\b\b\b\b\b\r",
            "120/120 [==============================] - 0s 90us/sample - loss: 0.3367 - acc: 0.8333 - val_loss: 0.9567 - val_acc: 0.0000e+00\n"
          ]
        },
        {
          "name": "stdout",
          "output_type": "stream",
          "text": [
            "Epoch 97/100\n",
            "\r",
            "  8/120 [=>............................] - ETA: 0s - loss: 0.3844 - acc: 0.8750"
          ]
        },
        {
          "name": "stdout",
          "output_type": "stream",
          "text": [
            "\b\b\b\b\b\b\b\b\b\b\b\b\b\b\b\b\b\b\b\b\b\b\b\b\b\b\b\b\b\b\b\b\b\b\b\b\b\b\b\b\b\b\b\b\b\b\b\b\b\b\b\b\b\b\b\b\b\b\b\b\b\b\b\b\b\b\b\b\b\b\b\b\b\b\b\b\b\b\b\r",
            "120/120 [==============================] - 0s 89us/sample - loss: 0.3361 - acc: 0.8333 - val_loss: 0.9607 - val_acc: 0.0000e+00\n"
          ]
        },
        {
          "name": "stdout",
          "output_type": "stream",
          "text": [
            "Epoch 98/100\n",
            "\r",
            "  8/120 [=>............................] - ETA: 0s - loss: 0.2916 - acc: 0.7500"
          ]
        },
        {
          "name": "stdout",
          "output_type": "stream",
          "text": [
            "\b\b\b\b\b\b\b\b\b\b\b\b\b\b\b\b\b\b\b\b\b\b\b\b\b\b\b\b\b\b\b\b\b\b\b\b\b\b\b\b\b\b\b\b\b\b\b\b\b\b\b\b\b\b\b\b\b\b\b\b\b\b\b\b\b\b\b\b\b\b\b\b\b\b\b\b\b\b\b\r",
            "120/120 [==============================] - 0s 89us/sample - loss: 0.3359 - acc: 0.8333 - val_loss: 0.9405 - val_acc: 0.0000e+00\n"
          ]
        },
        {
          "name": "stdout",
          "output_type": "stream",
          "text": [
            "Epoch 99/100\n",
            "\r",
            "  8/120 [=>............................] - ETA: 0s - loss: 0.3844 - acc: 0.7500"
          ]
        },
        {
          "name": "stdout",
          "output_type": "stream",
          "text": [
            "\b\b\b\b\b\b\b\b\b\b\b\b\b\b\b\b\b\b\b\b\b\b\b\b\b\b\b\b\b\b\b\b\b\b\b\b\b\b\b\b\b\b\b\b\b\b\b\b\b\b\b\b\b\b\b\b\b\b\b\b\b\b\b\b\b\b\b\b\b\b\b\b\b\b\b\b\b\b\b\r",
            "120/120 [==============================] - 0s 90us/sample - loss: 0.3349 - acc: 0.8333 - val_loss: 0.9596 - val_acc: 0.0000e+00\n"
          ]
        },
        {
          "name": "stdout",
          "output_type": "stream",
          "text": [
            "Epoch 100/100\n",
            "\r",
            "  8/120 [=>............................] - ETA: 0s - loss: 0.3308 - acc: 0.8750"
          ]
        },
        {
          "name": "stdout",
          "output_type": "stream",
          "text": [
            "\b\b\b\b\b\b\b\b\b\b\b\b\b\b\b\b\b\b\b\b\b\b\b\b\b\b\b\b\b\b\b\b\b\b\b\b\b\b\b\b\b\b\b\b\b\b\b\b\b\b\b\b\b\b\b\b\b\b\b\b\b\b\b\b\b\b\b\b\b\b\b\b\b\b\b\b\b\b\b\r",
            "120/120 [==============================] - 0s 91us/sample - loss: 0.3343 - acc: 0.8333 - val_loss: 0.9563 - val_acc: 0.0000e+00\n"
          ]
        },
        {
          "name": "stdout",
          "output_type": "stream",
          "text": [
            "\r",
            " 32/150 [=====>........................] - ETA: 0s - loss: 0.0037 - acc: 1.0000"
          ]
        },
        {
          "name": "stdout",
          "output_type": "stream",
          "text": [
            "\b\b\b\b\b\b\b\b\b\b\b\b\b\b\b\b\b\b\b\b\b\b\b\b\b\b\b\b\b\b\b\b\b\b\b\b\b\b\b\b\b\b\b\b\b\b\b\b\b\b\b\b\b\b\b\b\b\b\b\b\b\b\b\b\b\b\b\b\b\b\b\b\b\b\b\b\b\b\b\r",
            "150/150 [==============================] - 0s 14us/sample - loss: 0.4583 - acc: 0.6667\n"
          ]
        },
        {
          "name": "stdout",
          "output_type": "stream",
          "text": [
            "Model accuracy: 66.67%\n"
          ]
        }
      ],
      "source": [
        "import logging\n",
        "import warnings\n",
        "warnings.filterwarnings(\"ignore\", category=FutureWarning)\n",
        "\n",
        "import analitico\n",
        "import numpy as np\n",
        "import pandas as pd\n",
        "import tensorflow as tf\n",
        "from sklearn import datasets\n",
        "\n",
        "tf.logging.set_verbosity(tf.logging.ERROR)\n",
        "\n",
        "# Load sample dataset\n",
        "iris = datasets.load_iris()\n",
        "\n",
        "X = iris.data\n",
        "y = iris.target\n",
        "\n",
        "tf.keras.backend.clear_session()\n",
        "\n",
        "# Create a custom model\n",
        "input_size = X.shape[1]\n",
        "model = tf.keras.Sequential([\n",
        "    tf.keras.layers.Input(shape=(input_size)),\n",
        "    tf.keras.layers.Dense(8, activation='relu', input_shape=(input_size, )),\n",
        "    tf.keras.layers.Dense(4, activation='relu', input_shape=(input_size, )),\n",
        "    tf.keras.layers.Dense(3, activation='softmax', input_shape=(input_size, ))\n",
        "])\n",
        "\n",
        "# Compile the model specifying optimizer, metrics and learning rate\n",
        "model.compile(optimizer=\"adam\",\n",
        "              loss=\"sparse_categorical_crossentropy\",\n",
        "              metrics=[\"accuracy\"])    \n",
        "\n",
        "# Save the model for later predictions from endpoint\n",
        "checkpoint = tf.keras.callbacks.ModelCheckpoint(\"iris_classifier_model.hdf5\", save_best_only=True)\n",
        "\n",
        "# Train the model\n",
        "model.fit(x=X,\n",
        "          y=y,\n",
        "          validation_split=0.2,\n",
        "          batch_size=8,\n",
        "          epochs=100,\n",
        "          callbacks=[checkpoint],\n",
        "          verbose=1)\n",
        "\n",
        "# Test the model accuracy\n",
        "score = model.evaluate(X,y.ravel())\n",
        "print(\"Model accuracy: {:.2%}\".format(score[1]))\n",
        "\n",
        "# Save metrics for later training evaluation\n",
        "analitico.set_metric(\"loss\", str(score[0]), \"Loss\", \"best-model\", \"Best model\")\n",
        "analitico.set_metric(\"accuracy\", str(score[1]), \"Accuracy\", \"best-model\")"
      ]
    },
    {
      "cell_type": "markdown",
      "metadata": {
        "papermill": {
          "duration": 0.041829,
          "end_time": "2019-10-11T13:56:13.799670",
          "exception": false,
          "start_time": "2019-10-11T13:56:13.757841",
          "status": "completed"
        },
        "tags": []
      },
      "source": [
        "## Analitico serverless handler\n",
        "\n",
        "The serverless endpoint is set to call the `handle(event, **kwargs)` method with a set of data required by the model.\n",
        "Here we load the model, execute the prediction with the input data and return the result."
      ]
    },
    {
      "cell_type": "code",
      "execution_count": 3,
      "metadata": {
        "colab": {
          "base_uri": "https://localhost:8080/",
          "height": 105
        },
        "colab_type": "code",
        "executionInfo": {
          "elapsed": 9034,
          "status": "ok",
          "timestamp": 1562621346593,
          "user": {
            "displayName": "Fabio Mardero",
            "photoUrl": "",
            "userId": "01769998706955373091"
          },
          "user_tz": -120
        },
        "id": "i6_1pxETlJqv",
        "outputId": "904b817d-d846-4a4d-8466-4958d367f260",
        "papermill": {
          "duration": 1.757689,
          "end_time": "2019-10-11T13:56:15.599189",
          "exception": false,
          "start_time": "2019-10-11T13:56:13.841500",
          "status": "completed"
        },
        "tags": []
      },
      "outputs": [
        {
          "name": "stdout",
          "output_type": "stream",
          "text": [
            "Requirement already satisfied: tensorflow==1.14.0 in /opt/conda/lib/python3.7/site-packages (from -r requirements.txt (line 4)) (1.14.0)\r\n",
            "Requirement already satisfied: keras==2.2.4 in /opt/conda/lib/python3.7/site-packages (from -r requirements.txt (line 5)) (2.2.4)\r\n",
            "Requirement already satisfied: google-pasta>=0.1.6 in /opt/conda/lib/python3.7/site-packages (from tensorflow==1.14.0->-r requirements.txt (line 4)) (0.1.7)\r\n",
            "Requirement already satisfied: absl-py>=0.7.0 in /opt/conda/lib/python3.7/site-packages (from tensorflow==1.14.0->-r requirements.txt (line 4)) (0.8.1)\r\n",
            "Requirement already satisfied: gast>=0.2.0 in /opt/conda/lib/python3.7/site-packages (from tensorflow==1.14.0->-r requirements.txt (line 4)) (0.3.2)\r\n",
            "Requirement already satisfied: protobuf>=3.6.1 in /opt/conda/lib/python3.7/site-packages (from tensorflow==1.14.0->-r requirements.txt (line 4)) (3.10.0)\r\n",
            "Requirement already satisfied: termcolor>=1.1.0 in /opt/conda/lib/python3.7/site-packages (from tensorflow==1.14.0->-r requirements.txt (line 4)) (1.1.0)\r\n",
            "Requirement already satisfied: keras-applications>=1.0.6 in /opt/conda/lib/python3.7/site-packages (from tensorflow==1.14.0->-r requirements.txt (line 4)) (1.0.8)\r\n",
            "Requirement already satisfied: tensorflow-estimator<1.15.0rc0,>=1.14.0rc0 in /opt/conda/lib/python3.7/site-packages (from tensorflow==1.14.0->-r requirements.txt (line 4)) (1.14.0)\r\n",
            "Requirement already satisfied: grpcio>=1.8.6 in /opt/conda/lib/python3.7/site-packages (from tensorflow==1.14.0->-r requirements.txt (line 4)) (1.24.1)\r\n",
            "Requirement already satisfied: six>=1.10.0 in /opt/conda/lib/python3.7/site-packages (from tensorflow==1.14.0->-r requirements.txt (line 4)) (1.12.0)\r\n",
            "Requirement already satisfied: tensorboard<1.15.0,>=1.14.0 in /opt/conda/lib/python3.7/site-packages (from tensorflow==1.14.0->-r requirements.txt (line 4)) (1.14.0)\r\n"
          ]
        },
        {
          "name": "stdout",
          "output_type": "stream",
          "text": [
            "Requirement already satisfied: numpy<2.0,>=1.14.5 in /opt/conda/lib/python3.7/site-packages (from tensorflow==1.14.0->-r requirements.txt (line 4)) (1.17.0)\r\n",
            "Requirement already satisfied: keras-preprocessing>=1.0.5 in /opt/conda/lib/python3.7/site-packages (from tensorflow==1.14.0->-r requirements.txt (line 4)) (1.1.0)\r\n",
            "Requirement already satisfied: wheel>=0.26 in /opt/conda/lib/python3.7/site-packages (from tensorflow==1.14.0->-r requirements.txt (line 4)) (0.33.4)\r\n",
            "Requirement already satisfied: wrapt>=1.11.1 in /opt/conda/lib/python3.7/site-packages (from tensorflow==1.14.0->-r requirements.txt (line 4)) (1.11.2)\r\n",
            "Requirement already satisfied: astor>=0.6.0 in /opt/conda/lib/python3.7/site-packages (from tensorflow==1.14.0->-r requirements.txt (line 4)) (0.8.0)\r\n",
            "Requirement already satisfied: pyyaml in /opt/conda/lib/python3.7/site-packages (from keras==2.2.4->-r requirements.txt (line 5)) (5.1.1)\r\n",
            "Requirement already satisfied: h5py in /opt/conda/lib/python3.7/site-packages (from keras==2.2.4->-r requirements.txt (line 5)) (2.9.0)\r\n",
            "Requirement already satisfied: scipy>=0.14 in /opt/conda/lib/python3.7/site-packages (from keras==2.2.4->-r requirements.txt (line 5)) (1.3.0)\r\n",
            "Requirement already satisfied: setuptools in /opt/conda/lib/python3.7/site-packages (from protobuf>=3.6.1->tensorflow==1.14.0->-r requirements.txt (line 4)) (41.0.1)\r\n",
            "Requirement already satisfied: werkzeug>=0.11.15 in /opt/conda/lib/python3.7/site-packages (from tensorboard<1.15.0,>=1.14.0->tensorflow==1.14.0->-r requirements.txt (line 4)) (0.15.4)\r\n",
            "Requirement already satisfied: markdown>=2.6.8 in /opt/conda/lib/python3.7/site-packages (from tensorboard<1.15.0,>=1.14.0->tensorflow==1.14.0->-r requirements.txt (line 4)) (3.1.1)\r\n"
          ]
        }
      ],
      "source": [
        "# This cell is executed in a different context.\n",
        "# It specifically needs all the required dependecies and imports \n",
        "# to be declared here. We can do so by setting dependencies in \n",
        "# the requirements.txt file.\n",
        "!pip install -r requirements.txt\n",
        "\n",
        "import json\n",
        "import tensorflow as tf\n",
        "import numpy as np\n",
        "\n",
        "# Retrieve the model\n",
        "model = tf.keras.models.load_model(\"iris_classifier_model.hdf5\")\n",
        "\n",
        "def handle(event, **kwargs):\n",
        "    \"\"\" Method called by the serverless endpoint url with the data for prediction \"\"\"\n",
        "    \n",
        "    data = np.array([event])\n",
        "    \n",
        "    # Predict\n",
        "    prediction = model.predict(data)\n",
        "    \n",
        "    class_id = np.argmax(prediction)\n",
        "    probability = np.amax(prediction)\n",
        "    \n",
        "    return { \"class_id\": int(class_id), \"probability\": float(probability) }\n",
        "\n",
        "def test(**kwargs):\n",
        "    \"\"\" Test method can be called by Analitico to verify that model is working \"\"\"\n",
        "    \n",
        "    # sepal_length, sepal_width, petal_length, petal_width\n",
        "    data = [6.9, 3.1, 5.4, 2.1]\n",
        "    \n",
        "    results = handle(data)\n",
        "    print(json.dumps(results, indent=2))\n",
        "  \n",
        "    # we expect our prediction to be the iris Virginica (class 2)\n",
        "    print(\"\\nTest passed: \")\n",
        "    return results[\"class_id\"] == 2"
      ]
    },
    {
      "cell_type": "markdown",
      "metadata": {
        "papermill": {
          "duration": 0.042957,
          "end_time": "2019-10-11T13:56:15.685556",
          "exception": false,
          "start_time": "2019-10-11T13:56:15.642599",
          "status": "completed"
        },
        "tags": []
      },
      "source": [
        "## Test the endpoint\n",
        "\n",
        "Finally, let's test the endpoint with sample data."
      ]
    },
    {
      "cell_type": "code",
      "execution_count": 4,
      "metadata": {
        "papermill": {
          "duration": 0.079934,
          "end_time": "2019-10-11T13:56:15.808217",
          "exception": false,
          "start_time": "2019-10-11T13:56:15.728283",
          "status": "completed"
        },
        "tags": []
      },
      "outputs": [
        {
          "name": "stdout",
          "output_type": "stream",
          "text": [
            "{\n",
            "  \"class_id\": 2,\n",
            "  \"probability\": 0.6439485549926758\n",
            "}\n",
            "\n",
            "Test passed: \n"
          ]
        },
        {
          "data": {
            "text/plain": [
              "True"
            ]
          },
          "execution_count": 4,
          "metadata": {},
          "output_type": "execute_result"
        }
      ],
      "source": [
        "test()"
      ]
    },
    {
      "cell_type": "code",
      "execution_count": null,
      "metadata": {
        "papermill": {
          "duration": 0.042837,
          "end_time": "2019-10-11T13:56:15.893840",
          "exception": false,
          "start_time": "2019-10-11T13:56:15.851003",
          "status": "completed"
        },
        "tags": []
      },
      "outputs": [],
      "source": []
    }
  ],
  "metadata": {
    "colab": {
      "collapsed_sections": [],
      "name": "tensorflow_classification.ipynb",
      "provenance": [],
      "version": "0.3.2"
    },
    "kernelspec": {
      "display_name": "Python 3",
      "language": "python",
      "name": "python3"
    },
    "language_info": {
      "codemirror_mode": {
        "name": "ipython",
        "version": 3
      },
      "file_extension": ".py",
      "mimetype": "text/x-python",
      "name": "python",
      "nbconvert_exporter": "python",
      "pygments_lexer": "ipython3",
      "version": "3.7.3"
    },
    "papermill": {
      "duration": 9.179168,
      "end_time": "2019-10-11T13:56:16.441255",
      "environment_variables": {},
      "exception": null,
      "input_path": "/mnt/analitico-drive/recipes/rx_tensorflow_classification/notebook.ipynb",
      "output_path": "/mnt/analitico-drive/recipes/rx_tensorflow_classification/notebook.ipynb",
      "parameters": {},
      "start_time": "2019-10-11T13:56:07.262087",
      "version": "1.0.1"
    }
  },
  "nbformat": 4,
  "nbformat_minor": 1
}