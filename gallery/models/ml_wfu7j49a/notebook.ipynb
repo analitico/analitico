{
  "cells": [
    {
      "cell_type": "markdown",
      "metadata": {
        "papermill": {
          "duration": 0.014026,
          "end_time": "2019-10-10T10:46:28.181911",
          "exception": false,
          "start_time": "2019-10-10T10:46:28.167885",
          "status": "completed"
        },
        "tags": []
      },
      "source": [
        "# Hello world!\n",
        "\n",
        "From Machine Learning model to scalable deployment with Analitico.\n",
        "\n",
        "_Read the full documentation in the [Documents](https://analitico.ai/app/recipes/rx_helloworld/markdown/README.md) page._"
      ]
    },
    {
      "cell_type": "markdown",
      "metadata": {
        "papermill": {
          "duration": 0.012488,
          "end_time": "2019-10-10T10:46:28.207680",
          "exception": false,
          "start_time": "2019-10-10T10:46:28.195192",
          "status": "completed"
        },
        "tags": []
      },
      "source": [
        "## Model\n",
        "To keep things simple and comprehensive, we will use iris data-set to train a SVM classifier."
      ]
    },
    {
      "cell_type": "code",
      "execution_count": 1,
      "metadata": {
        "papermill": {
          "duration": 0.907738,
          "end_time": "2019-10-10T10:46:29.129483",
          "exception": false,
          "start_time": "2019-10-10T10:46:28.221745",
          "status": "completed"
        },
        "tags": []
      },
      "outputs": [
        {
          "name": "stdout",
          "output_type": "stream",
          "text": [
            "Model accuracy: 96.67%\n"
          ]
        }
      ],
      "source": [
        "import analitico\n",
        "import numpy\n",
        "import pickle\n",
        "from sklearn import svm, datasets\n",
        "from sklearn.model_selection import train_test_split, cross_val_score \n",
        "from sklearn.svm import SVC\n",
        "\n",
        "# import data to play with\n",
        "iris = datasets.load_iris()\n",
        "\n",
        "X = iris.data\n",
        "y = iris.target\n",
        "\n",
        "# split the data into train and test sets\n",
        "X_train, X_test, y_train, y_test = train_test_split(X, y, test_size=0.2, random_state=10)\n",
        "\n",
        "# using SVM classifier \n",
        "model = SVC(kernel='linear').fit(X_train, y_train)\n",
        "\n",
        "# calculate test prediction\n",
        "y_pred = model.predict(X_test)\n",
        "\n",
        "# save metrics for later training evaluation\n",
        "analitico.set_model_metrics(y_test, y_pred, model, is_classifier=True, target_names=iris.target_names)\n",
        "\n",
        "score = model.score(X_test,y_test.ravel())\n",
        "print(\"Model accuracy: {:.2%}\".format(score))\n",
        "\n",
        "# save the model\n",
        "pickle.dump(model, open('iris_svm_model.pkl', 'wb'))"
      ]
    },
    {
      "cell_type": "markdown",
      "metadata": {
        "papermill": {
          "duration": 0.008453,
          "end_time": "2019-10-10T10:46:29.152858",
          "exception": false,
          "start_time": "2019-10-10T10:46:29.144405",
          "status": "completed"
        },
        "tags": []
      },
      "source": [
        "## Analitico serverless handler\n",
        "\n",
        "The serverless endpoint is set to call the `handle(event, **kwargs)` method with a set of data required by the model.\n",
        "Here we load the model, execute the prediction with the input data and return the result."
      ]
    },
    {
      "cell_type": "code",
      "execution_count": 2,
      "metadata": {
        "papermill": {
          "duration": 0.020989,
          "end_time": "2019-10-10T10:46:29.182606",
          "exception": false,
          "start_time": "2019-10-10T10:46:29.161617",
          "status": "completed"
        },
        "tags": []
      },
      "outputs": [],
      "source": [
        "import json\n",
        "import numpy\n",
        "import pickle\n",
        "\n",
        "def handle(event, **kwargs):\n",
        "    \"\"\" Method called by the serverless endpoint url with the data for prediction \"\"\"\n",
        "  \n",
        "    data = []\n",
        "    data.append(list(event.values()))\n",
        "    \n",
        "    # load model\n",
        "    model = pickle.load(open('iris_svm_model.pkl', \"rb\"))\n",
        "    \n",
        "    y_pred = model.predict(numpy.array(data))\n",
        "    \n",
        "    return {\"prediction\": int(y_pred[0]) }\n",
        "  \n",
        "def test(**kwargs):\n",
        "    \"\"\" Test method can be called by Analitico to verify that model is working \"\"\"\n",
        "  \n",
        "    data = {\n",
        "      \"sepal_length\": 6.3,\n",
        "      \"sepal_width\": 2.3,\n",
        "      \"petal_length\": 4.4,\n",
        "      \"petal_width\": 1.3\n",
        "    }\n",
        "\n",
        "    results = handle(data)\n",
        "    print(json.dumps(results, indent=2))\n",
        "  \n",
        "    # we expect our prediction to be the iris Versicolour (class 1)\n",
        "    print(\"\\nTest passed: \")\n",
        "    return results[\"prediction\"] == 1"
      ]
    },
    {
      "cell_type": "markdown",
      "metadata": {
        "papermill": {
          "duration": 0.0082,
          "end_time": "2019-10-10T10:46:29.199523",
          "exception": false,
          "start_time": "2019-10-10T10:46:29.191323",
          "status": "completed"
        },
        "tags": []
      },
      "source": [
        "## Test the endpoint\n",
        "\n",
        "Finally, let's test the endpoint with sample data."
      ]
    },
    {
      "cell_type": "code",
      "execution_count": 3,
      "metadata": {
        "inputHidden": false,
        "outputHidden": false,
        "papermill": {
          "duration": 0.030134,
          "end_time": "2019-10-10T10:46:29.238291",
          "exception": false,
          "start_time": "2019-10-10T10:46:29.208157",
          "status": "completed"
        },
        "tags": []
      },
      "outputs": [
        {
          "name": "stdout",
          "output_type": "stream",
          "text": [
            "{\n",
            "  \"prediction\": 1\n",
            "}\n",
            "\n",
            "Test passed: \n"
          ]
        },
        {
          "data": {
            "text/plain": [
              "True"
            ]
          },
          "execution_count": 3,
          "metadata": {},
          "output_type": "execute_result"
        }
      ],
      "source": [
        "test()"
      ]
    }
  ],
  "metadata": {
    "celltoolbar": "Tags",
    "kernelspec": {
      "display_name": "Python 3",
      "language": "python",
      "name": "python3"
    },
    "language_info": {
      "codemirror_mode": {
        "name": "ipython",
        "version": 3
      },
      "file_extension": ".py",
      "mimetype": "text/x-python",
      "name": "python",
      "nbconvert_exporter": "python",
      "pygments_lexer": "ipython3",
      "version": "3.7.3"
    },
    "papermill": {
      "duration": 2.155228,
      "end_time": "2019-10-10T10:46:29.653062",
      "environment_variables": {},
      "exception": null,
      "input_path": "/mnt/analitico-drive/recipes/rx_helloworld/notebook.ipynb",
      "output_path": "/mnt/analitico-drive/recipes/rx_helloworld/notebook.ipynb",
      "parameters": {},
      "start_time": "2019-10-10T10:46:27.497834",
      "version": "1.0.1"
    }
  },
  "nbformat": 4,
  "nbformat_minor": 2
}