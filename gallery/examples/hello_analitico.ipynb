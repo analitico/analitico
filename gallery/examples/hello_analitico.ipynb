{
  "nbformat": 4,
  "nbformat_minor": 0,
  "metadata": {
    "colab": {
      "name": "Hello Analitico.ipynb",
      "version": "0.3.2",
      "provenance": [],
      "collapsed_sections": []
    },
    "kernelspec": {
      "name": "python3",
      "display_name": "Python 3"
    }
  },
  "cells": [
    {
      "metadata": {
        "id": "UOmhHL72zGj8",
        "colab_type": "code",
        "colab": {}
      },
      "cell_type": "code",
      "source": [
        "!pip install analitico==0.0.0.dev13\n",
        "import analitico"
      ],
      "execution_count": 0,
      "outputs": []
    },
    {
      "metadata": {
        "id": "EFjdtqylzJcq",
        "colab_type": "code",
        "colab": {}
      },
      "cell_type": "code",
      "source": [
        "# calls are enabled using a developer token\n",
        "api = analitico.authorize(\"tok_xxx\")\n",
        "api"
      ],
      "execution_count": 0,
      "outputs": []
    },
    {
      "metadata": {
        "id": "0UhEcqZczZFr",
        "colab_type": "code",
        "colab": {}
      },
      "cell_type": "code",
      "source": [
        "# get dataset from analitico service\n",
        "ds = api.get_dataset(\"ds_xxx\")\n",
        "ds"
      ],
      "execution_count": 0,
      "outputs": []
    },
    {
      "metadata": {
        "id": "7OJaaCb4zaCI",
        "colab_type": "code",
        "colab": {}
      },
      "cell_type": "code",
      "source": [
        "# get pandas dataframe from the dataset\n",
        "df = ds.get_dataframe()\n",
        "df"
      ],
      "execution_count": 0,
      "outputs": []
    }
  ]
}